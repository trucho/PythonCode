{
 "cells": [
  {
   "cell_type": "markdown",
   "metadata": {},
   "source": [
    "# [NAPARI](https://napari.org/)\n",
    "## attempting to make color-coded movies for calcium imaging data"
   ]
  },
  {
   "cell_type": "code",
   "execution_count": null,
   "metadata": {},
   "outputs": [],
   "source": [
    "import napari\n",
    "from magicgui import magicgui\n",
    "from enum import Enum\n",
    "from napari.utils import nbscreenshot\n",
    "from tifffile import imread\n",
    "import numpy as np\n",
    "from scipy import ndimage\n",
    "from scipy.stats import mannwhitneyu\n",
    "import skimage\n",
    "from skimage.io import imread\n",
    "from skimage.measure import regionprops_table\n",
    "import napari_nikon_nd2\n",
    "import os \n",
    "from magicgui import magicgui\n",
    "import pandas as pd\n",
    "import matplotlib\n",
    "import matplotlib.pyplot as plt\n",
    "import matplotlib.font_manager as font_manager\n",
    "import importlib\n",
    "import svgutils\n",
    "from svgutils.compose import *\n",
    "import ipywidgets\n",
    "from tqdm import tqdm\n",
    "import time\n",
    "import sys\n",
    "from plotParams import *\n",
    "\n",
    "\n",
    "pBGMenu = ipywidgets.Dropdown(options=['Light', 'Dark'],value='Dark',disabled=False, layout=ipywidgets.Layout(width='20%', height='40px'))\n",
    "pBGLabel = ipywidgets.widgets.Label('Select plotting style', layout=ipywidgets.Layout(width='20%', height='30px'))\n",
    "pBG = ipywidgets.widgets.VBox([pBGLabel,pBGMenu])\n",
    "pBG"
   ]
  },
  {
   "cell_type": "markdown",
   "metadata": {},
   "source": [
    "> using unix '!ls' command; do not have a Windows machine to test replacement"
   ]
  },
  {
   "cell_type": "code",
   "execution_count": null,
   "metadata": {},
   "outputs": [],
   "source": [
    "def loadMovie(dirPath,fString):\n",
    "    fList = !ls $dPath/*$gene*.tif\n",
    "    movie = np.asarray([imread(f) for f in fList])\n",
    "    # sciscan saves 12-bit images into 16-bit data files in the midrange\n",
    "    # so there should be 2^12 = 4096 levels of encoded signal and a lot of empty data\n",
    "    # but only half of the 12-bit range is used (positive values???) so that data is only 2048 levels?\n",
    "    # Empirically found that this works, but I don't understand exactly how the data is encoded\n",
    "    movie[movie==pow(2,16)]=0 # seems like the last bit of the 16-bit image is used to encode something else\n",
    "    movie = np.subtract(movie,pow(2,15)) # this should bring the data to span from 0 to 4096\n",
    "    movie[movie>=65000]=0 #HACK!!! There's some lingering data in final bits of image that don't belong anywhere\n",
    "    # really need to dig into what sci-scan does\n",
    "    return movie\n",
    "\n",
    "def removeLayer(viewer,lName):\n",
    "    lNames = []\n",
    "    for l in viewer.layers:\n",
    "        lNames.append(l.name)\n",
    "    if lName in lNames:\n",
    "        viewer.layers.remove(viewer.layers[lName])"
   ]
  },
  {
   "cell_type": "code",
   "execution_count": null,
   "metadata": {},
   "outputs": [],
   "source": [
    "applyPlotStyle(pBGMenu.value)\n",
    "viewer = napari.Viewer()"
   ]
  },
  {
   "cell_type": "code",
   "execution_count": null,
   "metadata": {},
   "outputs": [],
   "source": [
    "# viewer.close()"
   ]
  },
  {
   "cell_type": "markdown",
   "metadata": {},
   "source": [
    "***\n",
    "# Index <a id='Index'></a>\n",
    "***\n",
    "- [Baseline definition](#F0Extract)"
   ]
  },
  {
   "cell_type": "markdown",
   "metadata": {
    "tags": []
   },
   "source": [
    "***\n",
    "## Load movies to try to identify baseline<a id='F0Extract' name='F0Extract'>∮</a>\n",
    "***\n",
    "[Back to Index](#Index)"
   ]
  },
  {
   "cell_type": "code",
   "execution_count": null,
   "metadata": {},
   "outputs": [],
   "source": [
    "# path to directory that holds tif image sequence\n",
    "dPath = \"/Users/angueyraaristjm/Documents/eelImaging/2Pdata/20220615_5dpf_L02_01/\"\n",
    "fString = 'vamp2'\n",
    "# clear viewer\n",
    "viewer.layers.select_all(); viewer.layers.remove_selected()\n",
    "movie = loadMovie(dPath,fString)\n",
    "viewer.add_image(movie, contrast_limits=[0,2048])\n"
   ]
  },
  {
   "cell_type": "code",
   "execution_count": null,
   "metadata": {},
   "outputs": [],
   "source": [
    "tlims = [1,4]; # pick frames to be used for baseline (the 'F0')\n",
    "# removeLayer(viewer,'mean')\n",
    "l = viewer.layers['movie']\n",
    "# calculate mean of baseline and add to napari\n",
    "mean = l.data[tlims[0]:tlims[1]].mean(axis=0)\n",
    "viewer.add_image(mean, blending='additive', contrast_limits=[0,2048], colormap = l.colormap, name = \"mean\")\n",
    "\n",
    "# subtract baseline from entire movie (the 'deltaF')\n",
    "# removeLayer(viewer,'dF')\n",
    "dF = np.empty(movie.shape)\n",
    "for t in range(movie.shape[0]):\n",
    "    dF[t,:,:] = movie[t,:,:]-mean\n",
    "    \n",
    "viewer.add_image(dF, blending='additive', contrast_limits=[-2048,2048], colormap = 'twilight', name = \"dF\")"
   ]
  },
  {
   "cell_type": "code",
   "execution_count": null,
   "metadata": {},
   "outputs": [],
   "source": [
    "# Qiuxiang's paper recommends binning to smooth out.\n",
    "# Testing binning strategies to see if it's worth it\n",
    "# for time binning adjust first parameter of block_size=(time_bin, 1, 1)\n",
    "# the second and third parameters adjust binning in x and y block_size=(time_bin, x, y)\n",
    "viewer.layers.remove(viewer.layers['dF_binned'])\n",
    "dF_binned = skimage.measure.block_reduce(dF, block_size=(2, 1, 1), func=np.mean)\n",
    "viewer.add_image(dF_binned, blending='additive', colormap = 'twilight', name = \"dF_binned\")"
   ]
  }
 ],
 "metadata": {
  "kernelspec": {
   "display_name": "Python 3 (ipykernel)",
   "language": "python",
   "name": "python3"
  },
  "language_info": {
   "codemirror_mode": {
    "name": "ipython",
    "version": 3
   },
   "file_extension": ".py",
   "mimetype": "text/x-python",
   "name": "python",
   "nbconvert_exporter": "python",
   "pygments_lexer": "ipython3",
   "version": "3.9.7"
  },
  "toc-autonumbering": false,
  "toc-showcode": false,
  "toc-showmarkdowntxt": false,
  "toc-showtags": false
 },
 "nbformat": 4,
 "nbformat_minor": 4
}
