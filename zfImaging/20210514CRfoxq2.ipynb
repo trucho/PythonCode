{
 "cells": [
  {
   "cell_type": "markdown",
   "metadata": {},
   "source": [
    "# [NAPARI](https://napari.org/) testing\n",
    "## and adding [cellpose](https://cellpose-napari.readthedocs.io/en/latest/index.html) (installer [here](https://pypi.org/project/cellpose-napari/0.1.3/))\n",
    "\n",
    "To upgrade run in a cell:\n",
    "```python\n",
    "!pip install cellpose-napari==0.1.3\n",
    "!pip install cellpose --upgrade\n",
    "```\n",
    "\n",
    "```bash\n",
    "napari -w cellpose-napari\n",
    "```"
   ]
  },
  {
   "cell_type": "code",
   "execution_count": 4,
   "metadata": {},
   "outputs": [
    {
     "name": "stdout",
     "output_type": "stream",
     "text": [
      "Requirement already satisfied: cellpose-napari==0.1.3 in c:\\users\\pataklk\\anaconda3\\lib\\site-packages (0.1.3)\n",
      "Requirement already satisfied: imagecodecs in c:\\users\\pataklk\\anaconda3\\lib\\site-packages (from cellpose-napari==0.1.3) (2021.4.28)\n",
      "Requirement already satisfied: napari-plugin-engine>=0.1.4 in c:\\users\\pataklk\\anaconda3\\lib\\site-packages (from cellpose-napari==0.1.3) (0.1.9)\n",
      "Requirement already satisfied: cellpose>0.6.3 in c:\\users\\pataklk\\anaconda3\\lib\\site-packages (from cellpose-napari==0.1.3) (0.6.5)\n",
      "Requirement already satisfied: napari in c:\\users\\pataklk\\anaconda3\\lib\\site-packages (from cellpose-napari==0.1.3) (0.4.11)\n",
      "Requirement already satisfied: numpy>=1.15.1 in c:\\users\\pataklk\\anaconda3\\lib\\site-packages (from imagecodecs->cellpose-napari==0.1.3) (1.18.5)\n",
      "Requirement already satisfied: tifffile in c:\\users\\pataklk\\anaconda3\\lib\\site-packages (from cellpose>0.6.3->cellpose-napari==0.1.3) (2021.4.8)\n",
      "Requirement already satisfied: natsort in c:\\users\\pataklk\\anaconda3\\lib\\site-packages (from cellpose>0.6.3->cellpose-napari==0.1.3) (7.1.1)\n",
      "Requirement already satisfied: opencv-python-headless in c:\\users\\pataklk\\anaconda3\\lib\\site-packages (from cellpose>0.6.3->cellpose-napari==0.1.3) (4.5.1.48)\n",
      "Requirement already satisfied: scipy in c:\\users\\pataklk\\anaconda3\\lib\\site-packages (from cellpose>0.6.3->cellpose-napari==0.1.3) (1.5.0)\n",
      "Requirement already satisfied: torch>=1.6 in c:\\users\\pataklk\\anaconda3\\lib\\site-packages (from cellpose>0.6.3->cellpose-napari==0.1.3) (1.8.1)\n",
      "Requirement already satisfied: numba in c:\\users\\pataklk\\anaconda3\\lib\\site-packages (from cellpose>0.6.3->cellpose-napari==0.1.3) (0.50.1)\n",
      "Requirement already satisfied: tqdm in c:\\users\\pataklk\\anaconda3\\lib\\site-packages (from cellpose>0.6.3->cellpose-napari==0.1.3) (4.61.0)\n",
      "Requirement already satisfied: wrapt>=1.11.1 in c:\\users\\pataklk\\anaconda3\\lib\\site-packages (from napari->cellpose-napari==0.1.3) (1.11.2)\n",
      "Requirement already satisfied: dask[array]!=2.28.0,>=2.1.0 in c:\\users\\pataklk\\anaconda3\\lib\\site-packages (from napari->cellpose-napari==0.1.3) (2.20.0)\n",
      "Requirement already satisfied: napari-console>=0.0.4 in c:\\users\\pataklk\\anaconda3\\lib\\site-packages (from napari->cellpose-napari==0.1.3) (0.0.4)\n",
      "Requirement already satisfied: appdirs>=1.4.4 in c:\\users\\pataklk\\anaconda3\\lib\\site-packages (from napari->cellpose-napari==0.1.3) (1.4.4)\n",
      "Requirement already satisfied: napari-svg>=0.1.4 in c:\\users\\pataklk\\anaconda3\\lib\\site-packages (from napari->cellpose-napari==0.1.3) (0.1.5)\n",
      "Requirement already satisfied: psutil>=5.0 in c:\\users\\pataklk\\anaconda3\\lib\\site-packages (from napari->cellpose-napari==0.1.3) (5.7.0)\n",
      "Requirement already satisfied: typing-extensions in c:\\users\\pataklk\\anaconda3\\lib\\site-packages (from napari->cellpose-napari==0.1.3) (3.7.4.2)\n",
      "Requirement already satisfied: toolz>=0.10.0 in c:\\users\\pataklk\\anaconda3\\lib\\site-packages (from napari->cellpose-napari==0.1.3) (0.10.0)\n",
      "Requirement already satisfied: vispy!=0.8.0,>=0.6.4 in c:\\users\\pataklk\\anaconda3\\lib\\site-packages (from napari->cellpose-napari==0.1.3) (0.6.6)\n",
      "Requirement already satisfied: qtpy>=1.7.0 in c:\\users\\pataklk\\anaconda3\\lib\\site-packages (from napari->cellpose-napari==0.1.3) (1.9.0)\n",
      "Requirement already satisfied: imageio>=2.5.0 in c:\\users\\pataklk\\anaconda3\\lib\\site-packages (from napari->cellpose-napari==0.1.3) (2.9.0)\n",
      "Requirement already satisfied: numpydoc>=0.9.2 in c:\\users\\pataklk\\anaconda3\\lib\\site-packages (from napari->cellpose-napari==0.1.3) (1.1.0)\n",
      "Requirement already satisfied: jsonschema>=3.2.0 in c:\\users\\pataklk\\anaconda3\\lib\\site-packages (from napari->cellpose-napari==0.1.3) (3.2.0)\n",
      "Requirement already satisfied: pydantic>=1.8.1 in c:\\users\\pataklk\\anaconda3\\lib\\site-packages (from napari->cellpose-napari==0.1.3) (1.8.1)\n",
      "Requirement already satisfied: magicgui>=0.2.6 in c:\\users\\pataklk\\anaconda3\\lib\\site-packages (from napari->cellpose-napari==0.1.3) (0.2.9)\n",
      "Requirement already satisfied: Pillow!=7.1.0,!=7.1.1 in c:\\users\\pataklk\\anaconda3\\lib\\site-packages (from napari->cellpose-napari==0.1.3) (7.2.0)\n",
      "Requirement already satisfied: cachey>=0.2.1 in c:\\users\\pataklk\\anaconda3\\lib\\site-packages (from napari->cellpose-napari==0.1.3) (0.2.1)\n",
      "Requirement already satisfied: pint>=0.17 in c:\\users\\pataklk\\anaconda3\\lib\\site-packages (from napari->cellpose-napari==0.1.3) (0.17)\n",
      "Requirement already satisfied: PyOpenGL>=3.1.0 in c:\\users\\pataklk\\anaconda3\\lib\\site-packages (from napari->cellpose-napari==0.1.3) (3.1.5)\n",
      "Requirement already satisfied: superqt>=0.2.2 in c:\\users\\pataklk\\anaconda3\\lib\\site-packages (from napari->cellpose-napari==0.1.3) (0.2.3)\n",
      "Requirement already satisfied: PyYAML>=5.1 in c:\\users\\pataklk\\anaconda3\\lib\\site-packages (from napari->cellpose-napari==0.1.3) (5.3.1)\n",
      "Requirement already satisfied: llvmlite<0.34,>=0.33.0.dev0 in c:\\users\\pataklk\\anaconda3\\lib\\site-packages (from numba->cellpose>0.6.3->cellpose-napari==0.1.3) (0.33.0+1.g022ab0f)\n",
      "Requirement already satisfied: setuptools in c:\\users\\pataklk\\anaconda3\\lib\\site-packages (from numba->cellpose>0.6.3->cellpose-napari==0.1.3) (49.2.0.post20200714)\n",
      "Requirement already satisfied: ipykernel>=5.2.0 in c:\\users\\pataklk\\anaconda3\\lib\\site-packages (from napari-console>=0.0.4->napari->cellpose-napari==0.1.3) (5.3.2)\n",
      "Requirement already satisfied: IPython>=7.7.0 in c:\\users\\pataklk\\anaconda3\\lib\\site-packages (from napari-console>=0.0.4->napari->cellpose-napari==0.1.3) (7.16.1)\n",
      "Requirement already satisfied: qtconsole!=4.7.6,>=4.5.1 in c:\\users\\pataklk\\anaconda3\\lib\\site-packages (from napari-console>=0.0.4->napari->cellpose-napari==0.1.3) (4.7.5)\n",
      "Requirement already satisfied: freetype-py in c:\\users\\pataklk\\anaconda3\\lib\\site-packages (from vispy!=0.8.0,>=0.6.4->napari->cellpose-napari==0.1.3) (2.2.0)\n",
      "Requirement already satisfied: sphinx>=1.6.5 in c:\\users\\pataklk\\anaconda3\\lib\\site-packages (from numpydoc>=0.9.2->napari->cellpose-napari==0.1.3) (3.1.2)\n",
      "Requirement already satisfied: Jinja2>=2.3 in c:\\users\\pataklk\\anaconda3\\lib\\site-packages (from numpydoc>=0.9.2->napari->cellpose-napari==0.1.3) (2.11.2)\n",
      "Requirement already satisfied: pyrsistent>=0.14.0 in c:\\users\\pataklk\\anaconda3\\lib\\site-packages (from jsonschema>=3.2.0->napari->cellpose-napari==0.1.3) (0.16.0)\n",
      "Requirement already satisfied: attrs>=17.4.0 in c:\\users\\pataklk\\anaconda3\\lib\\site-packages (from jsonschema>=3.2.0->napari->cellpose-napari==0.1.3) (19.3.0)\n",
      "Requirement already satisfied: six>=1.11.0 in c:\\users\\pataklk\\anaconda3\\lib\\site-packages (from jsonschema>=3.2.0->napari->cellpose-napari==0.1.3) (1.15.0)\n",
      "Requirement already satisfied: docstring-parser in c:\\users\\pataklk\\anaconda3\\lib\\site-packages (from magicgui>=0.2.6->napari->cellpose-napari==0.1.3) (0.7.3)\n",
      "Requirement already satisfied: heapdict in c:\\users\\pataklk\\anaconda3\\lib\\site-packages (from cachey>=0.2.1->napari->cellpose-napari==0.1.3) (1.0.1)\n",
      "Requirement already satisfied: packaging in c:\\users\\pataklk\\anaconda3\\lib\\site-packages (from pint>=0.17->napari->cellpose-napari==0.1.3) (20.4)\n",
      "Requirement already satisfied: tornado>=4.2 in c:\\users\\pataklk\\anaconda3\\lib\\site-packages (from ipykernel>=5.2.0->napari-console>=0.0.4->napari->cellpose-napari==0.1.3) (6.0.4)\n",
      "Requirement already satisfied: jupyter-client in c:\\users\\pataklk\\anaconda3\\lib\\site-packages (from ipykernel>=5.2.0->napari-console>=0.0.4->napari->cellpose-napari==0.1.3) (6.1.6)\n",
      "Requirement already satisfied: traitlets>=4.1.0 in c:\\users\\pataklk\\anaconda3\\lib\\site-packages (from ipykernel>=5.2.0->napari-console>=0.0.4->napari->cellpose-napari==0.1.3) (4.3.3)\n",
      "Requirement already satisfied: jedi>=0.10 in c:\\users\\pataklk\\anaconda3\\lib\\site-packages (from IPython>=7.7.0->napari-console>=0.0.4->napari->cellpose-napari==0.1.3) (0.17.1)\n",
      "Requirement already satisfied: prompt-toolkit!=3.0.0,!=3.0.1,<3.1.0,>=2.0.0 in c:\\users\\pataklk\\anaconda3\\lib\\site-packages (from IPython>=7.7.0->napari-console>=0.0.4->napari->cellpose-napari==0.1.3) (3.0.5)\n",
      "Requirement already satisfied: colorama; sys_platform == \"win32\" in c:\\users\\pataklk\\anaconda3\\lib\\site-packages (from IPython>=7.7.0->napari-console>=0.0.4->napari->cellpose-napari==0.1.3) (0.4.3)\n",
      "Requirement already satisfied: pygments in c:\\users\\pataklk\\anaconda3\\lib\\site-packages (from IPython>=7.7.0->napari-console>=0.0.4->napari->cellpose-napari==0.1.3) (2.6.1)\n",
      "Requirement already satisfied: decorator in c:\\users\\pataklk\\anaconda3\\lib\\site-packages (from IPython>=7.7.0->napari-console>=0.0.4->napari->cellpose-napari==0.1.3) (4.4.2)\n",
      "Requirement already satisfied: pickleshare in c:\\users\\pataklk\\anaconda3\\lib\\site-packages (from IPython>=7.7.0->napari-console>=0.0.4->napari->cellpose-napari==0.1.3) (0.7.5)\n",
      "Requirement already satisfied: backcall in c:\\users\\pataklk\\anaconda3\\lib\\site-packages (from IPython>=7.7.0->napari-console>=0.0.4->napari->cellpose-napari==0.1.3) (0.2.0)\n",
      "Requirement already satisfied: jupyter-core in c:\\users\\pataklk\\anaconda3\\lib\\site-packages (from qtconsole!=4.7.6,>=4.5.1->napari-console>=0.0.4->napari->cellpose-napari==0.1.3) (4.6.3)\n",
      "Requirement already satisfied: ipython-genutils in c:\\users\\pataklk\\anaconda3\\lib\\site-packages (from qtconsole!=4.7.6,>=4.5.1->napari-console>=0.0.4->napari->cellpose-napari==0.1.3) (0.2.0)\n",
      "Requirement already satisfied: pyzmq>=17.1 in c:\\users\\pataklk\\anaconda3\\lib\\site-packages (from qtconsole!=4.7.6,>=4.5.1->napari-console>=0.0.4->napari->cellpose-napari==0.1.3) (19.0.1)\n",
      "Requirement already satisfied: sphinxcontrib-applehelp in c:\\users\\pataklk\\anaconda3\\lib\\site-packages (from sphinx>=1.6.5->numpydoc>=0.9.2->napari->cellpose-napari==0.1.3) (1.0.2)\n",
      "Requirement already satisfied: sphinxcontrib-qthelp in c:\\users\\pataklk\\anaconda3\\lib\\site-packages (from sphinx>=1.6.5->numpydoc>=0.9.2->napari->cellpose-napari==0.1.3) (1.0.3)\n",
      "Requirement already satisfied: sphinxcontrib-devhelp in c:\\users\\pataklk\\anaconda3\\lib\\site-packages (from sphinx>=1.6.5->numpydoc>=0.9.2->napari->cellpose-napari==0.1.3) (1.0.2)\n",
      "Requirement already satisfied: requests>=2.5.0 in c:\\users\\pataklk\\anaconda3\\lib\\site-packages (from sphinx>=1.6.5->numpydoc>=0.9.2->napari->cellpose-napari==0.1.3) (2.24.0)\n",
      "Requirement already satisfied: babel>=1.3 in c:\\users\\pataklk\\anaconda3\\lib\\site-packages (from sphinx>=1.6.5->numpydoc>=0.9.2->napari->cellpose-napari==0.1.3) (2.8.0)\n",
      "Requirement already satisfied: sphinxcontrib-serializinghtml in c:\\users\\pataklk\\anaconda3\\lib\\site-packages (from sphinx>=1.6.5->numpydoc>=0.9.2->napari->cellpose-napari==0.1.3) (1.1.4)\n",
      "Requirement already satisfied: imagesize in c:\\users\\pataklk\\anaconda3\\lib\\site-packages (from sphinx>=1.6.5->numpydoc>=0.9.2->napari->cellpose-napari==0.1.3) (1.2.0)\n",
      "Requirement already satisfied: alabaster<0.8,>=0.7 in c:\\users\\pataklk\\anaconda3\\lib\\site-packages (from sphinx>=1.6.5->numpydoc>=0.9.2->napari->cellpose-napari==0.1.3) (0.7.12)\n",
      "Requirement already satisfied: sphinxcontrib-htmlhelp in c:\\users\\pataklk\\anaconda3\\lib\\site-packages (from sphinx>=1.6.5->numpydoc>=0.9.2->napari->cellpose-napari==0.1.3) (1.0.3)\n",
      "Requirement already satisfied: sphinxcontrib-jsmath in c:\\users\\pataklk\\anaconda3\\lib\\site-packages (from sphinx>=1.6.5->numpydoc>=0.9.2->napari->cellpose-napari==0.1.3) (1.0.1)\n",
      "Requirement already satisfied: docutils>=0.12 in c:\\users\\pataklk\\anaconda3\\lib\\site-packages (from sphinx>=1.6.5->numpydoc>=0.9.2->napari->cellpose-napari==0.1.3) (0.16)\n",
      "Requirement already satisfied: snowballstemmer>=1.1 in c:\\users\\pataklk\\anaconda3\\lib\\site-packages (from sphinx>=1.6.5->numpydoc>=0.9.2->napari->cellpose-napari==0.1.3) (2.0.0)\n",
      "Requirement already satisfied: MarkupSafe>=0.23 in c:\\users\\pataklk\\anaconda3\\lib\\site-packages (from Jinja2>=2.3->numpydoc>=0.9.2->napari->cellpose-napari==0.1.3) (1.1.1)\n",
      "Requirement already satisfied: pyparsing>=2.0.2 in c:\\users\\pataklk\\anaconda3\\lib\\site-packages (from packaging->pint>=0.17->napari->cellpose-napari==0.1.3) (2.4.7)\n",
      "Requirement already satisfied: python-dateutil>=2.1 in c:\\users\\pataklk\\anaconda3\\lib\\site-packages (from jupyter-client->ipykernel>=5.2.0->napari-console>=0.0.4->napari->cellpose-napari==0.1.3) (2.8.1)\n",
      "Requirement already satisfied: parso<0.8.0,>=0.7.0 in c:\\users\\pataklk\\anaconda3\\lib\\site-packages (from jedi>=0.10->IPython>=7.7.0->napari-console>=0.0.4->napari->cellpose-napari==0.1.3) (0.7.0)\n",
      "Requirement already satisfied: wcwidth in c:\\users\\pataklk\\anaconda3\\lib\\site-packages (from prompt-toolkit!=3.0.0,!=3.0.1,<3.1.0,>=2.0.0->IPython>=7.7.0->napari-console>=0.0.4->napari->cellpose-napari==0.1.3) (0.2.5)\n",
      "Requirement already satisfied: pywin32>=1.0; sys_platform == \"win32\" in c:\\users\\pataklk\\anaconda3\\lib\\site-packages (from jupyter-core->qtconsole!=4.7.6,>=4.5.1->napari-console>=0.0.4->napari->cellpose-napari==0.1.3) (227)\n",
      "Requirement already satisfied: certifi>=2017.4.17 in c:\\users\\pataklk\\anaconda3\\lib\\site-packages (from requests>=2.5.0->sphinx>=1.6.5->numpydoc>=0.9.2->napari->cellpose-napari==0.1.3) (2020.6.20)\n",
      "Requirement already satisfied: idna<3,>=2.5 in c:\\users\\pataklk\\anaconda3\\lib\\site-packages (from requests>=2.5.0->sphinx>=1.6.5->numpydoc>=0.9.2->napari->cellpose-napari==0.1.3) (2.10)\n",
      "Requirement already satisfied: chardet<4,>=3.0.2 in c:\\users\\pataklk\\anaconda3\\lib\\site-packages (from requests>=2.5.0->sphinx>=1.6.5->numpydoc>=0.9.2->napari->cellpose-napari==0.1.3) (3.0.4)\n",
      "Requirement already satisfied: urllib3!=1.25.0,!=1.25.1,<1.26,>=1.21.1 in c:\\users\\pataklk\\anaconda3\\lib\\site-packages (from requests>=2.5.0->sphinx>=1.6.5->numpydoc>=0.9.2->napari->cellpose-napari==0.1.3) (1.25.9)\n",
      "Requirement already satisfied: pytz>=2015.7 in c:\\users\\pataklk\\anaconda3\\lib\\site-packages (from babel>=1.3->sphinx>=1.6.5->numpydoc>=0.9.2->napari->cellpose-napari==0.1.3) (2020.1)\n",
      "Requirement already up-to-date: cellpose in c:\\users\\pataklk\\anaconda3\\lib\\site-packages (0.6.5)\n",
      "Requirement already satisfied, skipping upgrade: natsort in c:\\users\\pataklk\\anaconda3\\lib\\site-packages (from cellpose) (7.1.1)\n",
      "Requirement already satisfied, skipping upgrade: numpy in c:\\users\\pataklk\\anaconda3\\lib\\site-packages (from cellpose) (1.18.5)\n",
      "Requirement already satisfied, skipping upgrade: tqdm in c:\\users\\pataklk\\anaconda3\\lib\\site-packages (from cellpose) (4.61.0)\n",
      "Requirement already satisfied, skipping upgrade: scipy in c:\\users\\pataklk\\anaconda3\\lib\\site-packages (from cellpose) (1.5.0)\n",
      "Requirement already satisfied, skipping upgrade: opencv-python-headless in c:\\users\\pataklk\\anaconda3\\lib\\site-packages (from cellpose) (4.5.1.48)\n",
      "Requirement already satisfied, skipping upgrade: torch>=1.6 in c:\\users\\pataklk\\anaconda3\\lib\\site-packages (from cellpose) (1.8.1)\n",
      "Requirement already satisfied, skipping upgrade: numba in c:\\users\\pataklk\\anaconda3\\lib\\site-packages (from cellpose) (0.50.1)\n",
      "Requirement already satisfied, skipping upgrade: tifffile in c:\\users\\pataklk\\anaconda3\\lib\\site-packages (from cellpose) (2021.4.8)\n",
      "Requirement already satisfied, skipping upgrade: typing-extensions in c:\\users\\pataklk\\anaconda3\\lib\\site-packages (from torch>=1.6->cellpose) (3.7.4.2)\n",
      "Requirement already satisfied, skipping upgrade: llvmlite<0.34,>=0.33.0.dev0 in c:\\users\\pataklk\\anaconda3\\lib\\site-packages (from numba->cellpose) (0.33.0+1.g022ab0f)\n",
      "Requirement already satisfied, skipping upgrade: setuptools in c:\\users\\pataklk\\anaconda3\\lib\\site-packages (from numba->cellpose) (49.2.0.post20200714)\n",
      "Requirement already up-to-date: napari[all] in c:\\users\\pataklk\\anaconda3\\lib\\site-packages (0.4.11)\n",
      "Requirement already satisfied, skipping upgrade: typing-extensions in c:\\users\\pataklk\\anaconda3\\lib\\site-packages (from napari[all]) (3.7.4.2)\n",
      "Requirement already satisfied, skipping upgrade: scipy>=1.2.0 in c:\\users\\pataklk\\anaconda3\\lib\\site-packages (from napari[all]) (1.5.0)\n",
      "Requirement already satisfied, skipping upgrade: superqt>=0.2.2 in c:\\users\\pataklk\\anaconda3\\lib\\site-packages (from napari[all]) (0.2.3)\n",
      "Requirement already satisfied, skipping upgrade: numpydoc>=0.9.2 in c:\\users\\pataklk\\anaconda3\\lib\\site-packages (from napari[all]) (1.1.0)\n",
      "Requirement already satisfied, skipping upgrade: napari-svg>=0.1.4 in c:\\users\\pataklk\\anaconda3\\lib\\site-packages (from napari[all]) (0.1.5)\n",
      "Requirement already satisfied, skipping upgrade: wrapt>=1.11.1 in c:\\users\\pataklk\\anaconda3\\lib\\site-packages (from napari[all]) (1.11.2)\n",
      "Requirement already satisfied, skipping upgrade: dask[array]!=2.28.0,>=2.1.0 in c:\\users\\pataklk\\anaconda3\\lib\\site-packages (from napari[all]) (2.20.0)\n",
      "Requirement already satisfied, skipping upgrade: cachey>=0.2.1 in c:\\users\\pataklk\\anaconda3\\lib\\site-packages (from napari[all]) (0.2.1)\n",
      "Requirement already satisfied, skipping upgrade: PyOpenGL>=3.1.0 in c:\\users\\pataklk\\anaconda3\\lib\\site-packages (from napari[all]) (3.1.5)\n",
      "Requirement already satisfied, skipping upgrade: qtpy>=1.7.0 in c:\\users\\pataklk\\anaconda3\\lib\\site-packages (from napari[all]) (1.9.0)\n",
      "Requirement already satisfied, skipping upgrade: psutil>=5.0 in c:\\users\\pataklk\\anaconda3\\lib\\site-packages (from napari[all]) (5.7.0)\n",
      "Requirement already satisfied, skipping upgrade: toolz>=0.10.0 in c:\\users\\pataklk\\anaconda3\\lib\\site-packages (from napari[all]) (0.10.0)\n",
      "Requirement already satisfied, skipping upgrade: numpy>=1.16.5 in c:\\users\\pataklk\\anaconda3\\lib\\site-packages (from napari[all]) (1.18.5)\n",
      "Requirement already satisfied, skipping upgrade: tqdm>=4.56.0 in c:\\users\\pataklk\\anaconda3\\lib\\site-packages (from napari[all]) (4.61.0)\n",
      "Requirement already satisfied, skipping upgrade: appdirs>=1.4.4 in c:\\users\\pataklk\\anaconda3\\lib\\site-packages (from napari[all]) (1.4.4)\n",
      "Requirement already satisfied, skipping upgrade: napari-console>=0.0.4 in c:\\users\\pataklk\\anaconda3\\lib\\site-packages (from napari[all]) (0.0.4)\n",
      "Requirement already satisfied, skipping upgrade: Pillow!=7.1.0,!=7.1.1 in c:\\users\\pataklk\\anaconda3\\lib\\site-packages (from napari[all]) (7.2.0)\n",
      "Requirement already satisfied, skipping upgrade: jsonschema>=3.2.0 in c:\\users\\pataklk\\anaconda3\\lib\\site-packages (from napari[all]) (3.2.0)\n",
      "Requirement already satisfied, skipping upgrade: PyYAML>=5.1 in c:\\users\\pataklk\\anaconda3\\lib\\site-packages (from napari[all]) (5.3.1)\n",
      "Requirement already satisfied, skipping upgrade: tifffile>=2020.2.16 in c:\\users\\pataklk\\anaconda3\\lib\\site-packages (from napari[all]) (2021.4.8)\n",
      "Requirement already satisfied, skipping upgrade: imageio>=2.5.0 in c:\\users\\pataklk\\anaconda3\\lib\\site-packages (from napari[all]) (2.9.0)\n",
      "Requirement already satisfied, skipping upgrade: pint>=0.17 in c:\\users\\pataklk\\anaconda3\\lib\\site-packages (from napari[all]) (0.17)\n",
      "Requirement already satisfied, skipping upgrade: vispy!=0.8.0,>=0.6.4 in c:\\users\\pataklk\\anaconda3\\lib\\site-packages (from napari[all]) (0.6.6)\n",
      "Requirement already satisfied, skipping upgrade: napari-plugin-engine>=0.1.9 in c:\\users\\pataklk\\anaconda3\\lib\\site-packages (from napari[all]) (0.1.9)\n",
      "Requirement already satisfied, skipping upgrade: magicgui>=0.2.6 in c:\\users\\pataklk\\anaconda3\\lib\\site-packages (from napari[all]) (0.2.9)\n",
      "Requirement already satisfied, skipping upgrade: pydantic>=1.8.1 in c:\\users\\pataklk\\anaconda3\\lib\\site-packages (from napari[all]) (1.8.1)\n",
      "Requirement already satisfied, skipping upgrade: scikit-image[data]; extra == \"all\" in c:\\users\\pataklk\\anaconda3\\lib\\site-packages (from napari[all]) (0.16.2)\n",
      "Requirement already satisfied, skipping upgrade: PyQt5!=5.15.0,>=5.12.3; extra == \"all\" in c:\\users\\pataklk\\anaconda3\\lib\\site-packages (from napari[all]) (5.15.4)\n",
      "Requirement already satisfied, skipping upgrade: Jinja2>=2.3 in c:\\users\\pataklk\\anaconda3\\lib\\site-packages (from numpydoc>=0.9.2->napari[all]) (2.11.2)\n",
      "Requirement already satisfied, skipping upgrade: sphinx>=1.6.5 in c:\\users\\pataklk\\anaconda3\\lib\\site-packages (from numpydoc>=0.9.2->napari[all]) (3.1.2)\n",
      "Requirement already satisfied, skipping upgrade: heapdict in c:\\users\\pataklk\\anaconda3\\lib\\site-packages (from cachey>=0.2.1->napari[all]) (1.0.1)\n",
      "Requirement already satisfied, skipping upgrade: IPython>=7.7.0 in c:\\users\\pataklk\\anaconda3\\lib\\site-packages (from napari-console>=0.0.4->napari[all]) (7.16.1)\n",
      "Requirement already satisfied, skipping upgrade: ipykernel>=5.2.0 in c:\\users\\pataklk\\anaconda3\\lib\\site-packages (from napari-console>=0.0.4->napari[all]) (5.3.2)\n",
      "Requirement already satisfied, skipping upgrade: qtconsole!=4.7.6,>=4.5.1 in c:\\users\\pataklk\\anaconda3\\lib\\site-packages (from napari-console>=0.0.4->napari[all]) (4.7.5)\n",
      "Requirement already satisfied, skipping upgrade: pyrsistent>=0.14.0 in c:\\users\\pataklk\\anaconda3\\lib\\site-packages (from jsonschema>=3.2.0->napari[all]) (0.16.0)\n",
      "Requirement already satisfied, skipping upgrade: attrs>=17.4.0 in c:\\users\\pataklk\\anaconda3\\lib\\site-packages (from jsonschema>=3.2.0->napari[all]) (19.3.0)\n",
      "Requirement already satisfied, skipping upgrade: six>=1.11.0 in c:\\users\\pataklk\\anaconda3\\lib\\site-packages (from jsonschema>=3.2.0->napari[all]) (1.15.0)\n",
      "Requirement already satisfied, skipping upgrade: setuptools in c:\\users\\pataklk\\anaconda3\\lib\\site-packages (from jsonschema>=3.2.0->napari[all]) (49.2.0.post20200714)\n",
      "Requirement already satisfied, skipping upgrade: packaging in c:\\users\\pataklk\\anaconda3\\lib\\site-packages (from pint>=0.17->napari[all]) (20.4)\n",
      "Requirement already satisfied, skipping upgrade: freetype-py in c:\\users\\pataklk\\anaconda3\\lib\\site-packages (from vispy!=0.8.0,>=0.6.4->napari[all]) (2.2.0)\n",
      "Requirement already satisfied, skipping upgrade: docstring-parser in c:\\users\\pataklk\\anaconda3\\lib\\site-packages (from magicgui>=0.2.6->napari[all]) (0.7.3)\n",
      "Requirement already satisfied, skipping upgrade: PyWavelets>=0.4.0 in c:\\users\\pataklk\\anaconda3\\lib\\site-packages (from scikit-image[data]; extra == \"all\"->napari[all]) (1.1.1)\n",
      "Requirement already satisfied, skipping upgrade: networkx>=2.0 in c:\\users\\pataklk\\anaconda3\\lib\\site-packages (from scikit-image[data]; extra == \"all\"->napari[all]) (2.4)\n",
      "Requirement already satisfied, skipping upgrade: matplotlib!=3.0.0,>=2.0.0 in c:\\users\\pataklk\\anaconda3\\lib\\site-packages (from scikit-image[data]; extra == \"all\"->napari[all]) (3.4.1)\n",
      "Requirement already satisfied, skipping upgrade: PyQt5-sip<13,>=12.8 in c:\\users\\pataklk\\anaconda3\\lib\\site-packages (from PyQt5!=5.15.0,>=5.12.3; extra == \"all\"->napari[all]) (12.8.1)\n",
      "Requirement already satisfied, skipping upgrade: PyQt5-Qt5>=5.15 in c:\\users\\pataklk\\anaconda3\\lib\\site-packages (from PyQt5!=5.15.0,>=5.12.3; extra == \"all\"->napari[all]) (5.15.2)\n",
      "Requirement already satisfied, skipping upgrade: MarkupSafe>=0.23 in c:\\users\\pataklk\\anaconda3\\lib\\site-packages (from Jinja2>=2.3->numpydoc>=0.9.2->napari[all]) (1.1.1)\n",
      "Requirement already satisfied, skipping upgrade: requests>=2.5.0 in c:\\users\\pataklk\\anaconda3\\lib\\site-packages (from sphinx>=1.6.5->numpydoc>=0.9.2->napari[all]) (2.24.0)\n",
      "Requirement already satisfied, skipping upgrade: babel>=1.3 in c:\\users\\pataklk\\anaconda3\\lib\\site-packages (from sphinx>=1.6.5->numpydoc>=0.9.2->napari[all]) (2.8.0)\n",
      "Requirement already satisfied, skipping upgrade: sphinxcontrib-qthelp in c:\\users\\pataklk\\anaconda3\\lib\\site-packages (from sphinx>=1.6.5->numpydoc>=0.9.2->napari[all]) (1.0.3)\n",
      "Requirement already satisfied, skipping upgrade: Pygments>=2.0 in c:\\users\\pataklk\\anaconda3\\lib\\site-packages (from sphinx>=1.6.5->numpydoc>=0.9.2->napari[all]) (2.6.1)\n",
      "Requirement already satisfied, skipping upgrade: sphinxcontrib-serializinghtml in c:\\users\\pataklk\\anaconda3\\lib\\site-packages (from sphinx>=1.6.5->numpydoc>=0.9.2->napari[all]) (1.1.4)\n",
      "Requirement already satisfied, skipping upgrade: imagesize in c:\\users\\pataklk\\anaconda3\\lib\\site-packages (from sphinx>=1.6.5->numpydoc>=0.9.2->napari[all]) (1.2.0)\n",
      "Requirement already satisfied, skipping upgrade: sphinxcontrib-jsmath in c:\\users\\pataklk\\anaconda3\\lib\\site-packages (from sphinx>=1.6.5->numpydoc>=0.9.2->napari[all]) (1.0.1)\n",
      "Requirement already satisfied, skipping upgrade: alabaster<0.8,>=0.7 in c:\\users\\pataklk\\anaconda3\\lib\\site-packages (from sphinx>=1.6.5->numpydoc>=0.9.2->napari[all]) (0.7.12)\n",
      "Requirement already satisfied, skipping upgrade: sphinxcontrib-devhelp in c:\\users\\pataklk\\anaconda3\\lib\\site-packages (from sphinx>=1.6.5->numpydoc>=0.9.2->napari[all]) (1.0.2)\n",
      "Requirement already satisfied, skipping upgrade: sphinxcontrib-applehelp in c:\\users\\pataklk\\anaconda3\\lib\\site-packages (from sphinx>=1.6.5->numpydoc>=0.9.2->napari[all]) (1.0.2)\n",
      "Requirement already satisfied, skipping upgrade: sphinxcontrib-htmlhelp in c:\\users\\pataklk\\anaconda3\\lib\\site-packages (from sphinx>=1.6.5->numpydoc>=0.9.2->napari[all]) (1.0.3)\n",
      "Requirement already satisfied, skipping upgrade: colorama>=0.3.5; sys_platform == \"win32\" in c:\\users\\pataklk\\anaconda3\\lib\\site-packages (from sphinx>=1.6.5->numpydoc>=0.9.2->napari[all]) (0.4.3)\n",
      "Requirement already satisfied, skipping upgrade: snowballstemmer>=1.1 in c:\\users\\pataklk\\anaconda3\\lib\\site-packages (from sphinx>=1.6.5->numpydoc>=0.9.2->napari[all]) (2.0.0)\n",
      "Requirement already satisfied, skipping upgrade: docutils>=0.12 in c:\\users\\pataklk\\anaconda3\\lib\\site-packages (from sphinx>=1.6.5->numpydoc>=0.9.2->napari[all]) (0.16)\n",
      "Requirement already satisfied, skipping upgrade: backcall in c:\\users\\pataklk\\anaconda3\\lib\\site-packages (from IPython>=7.7.0->napari-console>=0.0.4->napari[all]) (0.2.0)\n",
      "Requirement already satisfied, skipping upgrade: prompt-toolkit!=3.0.0,!=3.0.1,<3.1.0,>=2.0.0 in c:\\users\\pataklk\\anaconda3\\lib\\site-packages (from IPython>=7.7.0->napari-console>=0.0.4->napari[all]) (3.0.5)\n",
      "Requirement already satisfied, skipping upgrade: jedi>=0.10 in c:\\users\\pataklk\\anaconda3\\lib\\site-packages (from IPython>=7.7.0->napari-console>=0.0.4->napari[all]) (0.17.1)\n",
      "Requirement already satisfied, skipping upgrade: traitlets>=4.2 in c:\\users\\pataklk\\anaconda3\\lib\\site-packages (from IPython>=7.7.0->napari-console>=0.0.4->napari[all]) (4.3.3)\n",
      "Requirement already satisfied, skipping upgrade: decorator in c:\\users\\pataklk\\anaconda3\\lib\\site-packages (from IPython>=7.7.0->napari-console>=0.0.4->napari[all]) (4.4.2)\n",
      "Requirement already satisfied, skipping upgrade: pickleshare in c:\\users\\pataklk\\anaconda3\\lib\\site-packages (from IPython>=7.7.0->napari-console>=0.0.4->napari[all]) (0.7.5)\n",
      "Requirement already satisfied, skipping upgrade: jupyter-client in c:\\users\\pataklk\\anaconda3\\lib\\site-packages (from ipykernel>=5.2.0->napari-console>=0.0.4->napari[all]) (6.1.6)\n",
      "Requirement already satisfied, skipping upgrade: tornado>=4.2 in c:\\users\\pataklk\\anaconda3\\lib\\site-packages (from ipykernel>=5.2.0->napari-console>=0.0.4->napari[all]) (6.0.4)\n",
      "Requirement already satisfied, skipping upgrade: ipython-genutils in c:\\users\\pataklk\\anaconda3\\lib\\site-packages (from qtconsole!=4.7.6,>=4.5.1->napari-console>=0.0.4->napari[all]) (0.2.0)\n",
      "Requirement already satisfied, skipping upgrade: pyzmq>=17.1 in c:\\users\\pataklk\\anaconda3\\lib\\site-packages (from qtconsole!=4.7.6,>=4.5.1->napari-console>=0.0.4->napari[all]) (19.0.1)\n",
      "Requirement already satisfied, skipping upgrade: jupyter-core in c:\\users\\pataklk\\anaconda3\\lib\\site-packages (from qtconsole!=4.7.6,>=4.5.1->napari-console>=0.0.4->napari[all]) (4.6.3)\n",
      "Requirement already satisfied, skipping upgrade: pyparsing>=2.0.2 in c:\\users\\pataklk\\anaconda3\\lib\\site-packages (from packaging->pint>=0.17->napari[all]) (2.4.7)\n",
      "Requirement already satisfied, skipping upgrade: python-dateutil>=2.7 in c:\\users\\pataklk\\anaconda3\\lib\\site-packages (from matplotlib!=3.0.0,>=2.0.0->scikit-image[data]; extra == \"all\"->napari[all]) (2.8.1)\n",
      "Requirement already satisfied, skipping upgrade: cycler>=0.10 in c:\\users\\pataklk\\anaconda3\\lib\\site-packages (from matplotlib!=3.0.0,>=2.0.0->scikit-image[data]; extra == \"all\"->napari[all]) (0.10.0)\n",
      "Requirement already satisfied, skipping upgrade: kiwisolver>=1.0.1 in c:\\users\\pataklk\\anaconda3\\lib\\site-packages (from matplotlib!=3.0.0,>=2.0.0->scikit-image[data]; extra == \"all\"->napari[all]) (1.2.0)\n",
      "Requirement already satisfied, skipping upgrade: urllib3!=1.25.0,!=1.25.1,<1.26,>=1.21.1 in c:\\users\\pataklk\\anaconda3\\lib\\site-packages (from requests>=2.5.0->sphinx>=1.6.5->numpydoc>=0.9.2->napari[all]) (1.25.9)\n",
      "Requirement already satisfied, skipping upgrade: chardet<4,>=3.0.2 in c:\\users\\pataklk\\anaconda3\\lib\\site-packages (from requests>=2.5.0->sphinx>=1.6.5->numpydoc>=0.9.2->napari[all]) (3.0.4)\n",
      "Requirement already satisfied, skipping upgrade: certifi>=2017.4.17 in c:\\users\\pataklk\\anaconda3\\lib\\site-packages (from requests>=2.5.0->sphinx>=1.6.5->numpydoc>=0.9.2->napari[all]) (2020.6.20)\n",
      "Requirement already satisfied, skipping upgrade: idna<3,>=2.5 in c:\\users\\pataklk\\anaconda3\\lib\\site-packages (from requests>=2.5.0->sphinx>=1.6.5->numpydoc>=0.9.2->napari[all]) (2.10)\n",
      "Requirement already satisfied, skipping upgrade: pytz>=2015.7 in c:\\users\\pataklk\\anaconda3\\lib\\site-packages (from babel>=1.3->sphinx>=1.6.5->numpydoc>=0.9.2->napari[all]) (2020.1)\n",
      "Requirement already satisfied, skipping upgrade: wcwidth in c:\\users\\pataklk\\anaconda3\\lib\\site-packages (from prompt-toolkit!=3.0.0,!=3.0.1,<3.1.0,>=2.0.0->IPython>=7.7.0->napari-console>=0.0.4->napari[all]) (0.2.5)\n",
      "Requirement already satisfied, skipping upgrade: parso<0.8.0,>=0.7.0 in c:\\users\\pataklk\\anaconda3\\lib\\site-packages (from jedi>=0.10->IPython>=7.7.0->napari-console>=0.0.4->napari[all]) (0.7.0)\n",
      "Requirement already satisfied, skipping upgrade: pywin32>=1.0; sys_platform == \"win32\" in c:\\users\\pataklk\\anaconda3\\lib\\site-packages (from jupyter-core->qtconsole!=4.7.6,>=4.5.1->napari-console>=0.0.4->napari[all]) (227)\n"
     ]
    },
    {
     "name": "stderr",
     "output_type": "stream",
     "text": [
      "  WARNING: scikit-image 0.16.2 does not provide the extra 'data'\n"
     ]
    }
   ],
   "source": [
    "## to install\n",
    "#!pip install napari[all]\n",
    "#!pip install PyQt5 #i chnaged this. just qt wasnt working\n",
    "#!pip install napari[pyqt5]\n",
    "#!pip install cellpose-napari==0.1.3\n",
    "#!pip install napari-nikon-nd2\n",
    "#!pip install magicgui\n",
    "\n",
    "# for some reason if not signed into google drive, it doesnt woulnt open napari for me \n",
    "\n",
    "## to upgrade:\n",
    "!pip install cellpose-napari==0.1.3\n",
    "!pip install cellpose --upgrade\n",
    "!pip install napari[all] --upgrade"
   ]
  },
  {
   "cell_type": "markdown",
   "metadata": {},
   "source": [
    "### Basic usage:\n",
    "```python\n",
    "viewer = napari.view_image(data.astronaut(), rgb=True)\n",
    "nbscreenshot(viewer)\n",
    "viewer.close()\n",
    "```\n",
    "\n",
    "example notebooks [here](https://github.com/sofroniewn/napari-training-course/blob/master/lessons/)"
   ]
  },
  {
   "cell_type": "code",
   "execution_count": 5,
   "metadata": {},
   "outputs": [],
   "source": [
    "#from skimage import data\n",
    "%gui qt\n",
    "import napari\n",
    "import cellpose_napari\n",
    "from napari.utils import nbscreenshot\n",
    "from tifffile import imread\n",
    "import numpy as np\n",
    "from scipy import ndimage\n",
    "import matplotlib.pyplot as plt\n",
    "import napari_nikon_nd2\n",
    "import os \n",
    "from magicgui import magicgui"
   ]
  },
  {
   "cell_type": "code",
   "execution_count": 6,
   "metadata": {},
   "outputs": [],
   "source": [
    "viewer = napari.Viewer()"
   ]
  },
  {
   "cell_type": "markdown",
   "metadata": {},
   "source": [
    "### Extracting layers from z-stacks for batch analysis"
   ]
  },
  {
   "cell_type": "code",
   "execution_count": 4,
   "metadata": {},
   "outputs": [],
   "source": [
    "# clear viewer\n",
    "viewer.layers.select_all()\n",
    "viewer.layers.remove_selected()"
   ]
  },
  {
   "cell_type": "code",
   "execution_count": 4,
   "metadata": {},
   "outputs": [],
   "source": [
    "# clear viewer\n",
    "viewer.layers.select_all()\n",
    "viewer.layers.remove_selected()\n",
    "\n",
    "# analysis directory\n",
    "dAnalysis = \"C:/Users/pataklk/Documents/F0_Analysis/CRfoxq2F0/mw2Gs2C/\" #where results are stored - harddrive folder\n",
    "\n",
    "# open file\n",
    "dPath = \"G:/My Drive/Nikon A1R/Angueyra/zf/20210514_tbx2afoxq2F0/\" #directory for big folder of where everything is saved - just pulling from the google drive. organized by file name and went down from there \n",
    "#dPath = \"C:/Users/pataklk/Documents/test/\"\n",
    "\n",
    "\n",
    "########## uninjected mw2g_s2C: \n",
    "# PUT IN CORRECT ZLIMS\n",
    "#fPath = \"20210514_5dpf_mw2G_s2C_uninj_L14b\"; zlims = [44,60]; gene = 'wt';\n",
    "#fPath = \"20210514_5dpf_mw2G_s2C_uninj_L14d\"; zlims = [,]; gene = 'wt'; #lens up - cant analyze this. zoom in of the acute zone \n",
    "#fPath = \"20210514_5dpf_mw2G_s2C_uninj_L15b\"; zlims = [,]; gene = 'wt'; #lens up - cant analyze \n",
    "##fPath = \"20210514_5dpf_mw2G_s2C_uninj_L16b\"; zlims = [41,43]; gene = 'wt';\n",
    "#fPath = \"20210514_5dpf_mw2G_s2C_uninj_L17b\"; zlims = [40,45]; gene = 'wt';\n",
    "#fPath = \"20210514_5dpf_mw2G_s2C_uninj_L18b\"; zlims = [32,38]; gene = 'wt';\n",
    "#fPath = \"20210514_5dpf_mw2G_s2C_uninj_L19b\"; zlims = [38,43]; gene = 'wt'; #kind of curvy. hard to kind the perfect mip slices to get everything clearlt \n",
    "#fPath = \"20210514_5dpf_mw2G_s2C_uninj_L19d\"; zlims = [,]; gene = 'wt'; #lens up - did not analyze \n",
    "\n",
    "########## crfoxq2 mw2G_s2C:\n",
    "# PUT IN CORRECT ZLIMS\n",
    "#fPath = \"20210514_5dpf_mw2G_s2C_CRfoxq2_L09b\"; zlims = [29,32]; gene = 'foxq2'; # MIGHT BE S CONE NEAGATIVE. LITTLE TOUGH TO FIND THE PERFECT ZLIMS \n",
    "#fPath = \"20210514_5dpf_mw2G_s2C_CRfoxq2_L10b\"; zlims = [33,36]; gene = 'foxq2'; # MIGHT BE S-CONE NEG. sizes of a the gfp+ PR are very different. \n",
    "#fPath = \"20210514_5dpf_mw2G_s2C_CRfoxq2_L11b\"; zlims = [28,31]; gene = 'foxq2'; # m - cones look more normal here, i think s-cone neg\n",
    "#fPath = \"20210514_5dpf_mw2G_s2C_CRfoxq2_L11d\"; zlims = [41,44]; gene = 'foxq2';\n",
    "#fPath = \"20210514_5dpf_mw2G_s2C_CRfoxq2_L12b\"; zlims = [43,45]; gene = 'foxq2';\n",
    "#fPath = \"20210514_5dpf_mw2G_s2C_CRfoxq2_L13b\"; zlims = [30,33]; gene = 'foxq2';\n",
    "#fPath = \"20210514_5dpf_mw2G_s2C_CRfoxq2_L13d\"; zlims = [,]; gene = 'foxq2'; #lens up \n",
    "#fPath = \"20210514_5dpf_mw2G_s2C_CRfoxq2_L14b\"; zlims = [31,33]; gene = 'foxq2';\n",
    "#fPath = \"20210514_5dpf_mw2G_s2C_CRfoxq2_L15b\"; zlims = [42,47]; gene = 'foxq2';\n",
    "#fPath = \"20210514_5dpf_mw2G_s2C_CRfoxq2_L16b\"; zlims = [33,35]; gene = 'foxq2'; #def s-cone +\n",
    "#fPath = \"20210514_5dpf_mw2G_s2C_CRfoxq2_L16d\"; zlims = [33,54]; gene = 'foxq2'; #lots of blurring in this image &not very flat. going to see if thisd big mip will segment well \n",
    "#fPath = \"20210514_5dpf_mw2G_s2C_CRfoxq2_L17b\"; zlims = [25,28]; gene = 'foxq2'; # m cone neg. there is a single s-cone. do i even need to run cell pose? \n",
    "#fPath = \"20210514_5dpf_mw2G_s2C_CRfoxq2_L17d\"; zlims = [,]; gene = 'foxq2'; #lens up \n",
    "#fPath = \"20210514_5dpf_mw2G_s2C_CRfoxq2_L18b\"; zlims = [40,43]; gene = 'foxq2'; # m neg. 8 s-cones \n",
    "#fPath = \"20210514_5dpf_mw2G_s2C_CRfoxq2_L19b\"; zlims = [30,31]; gene = 'foxq2';  #s-cone neg\n",
    "#fPath = \"20210514_5dpf_mw2G_s2C_CRfoxq2_L20b001\"; zlims = [24,26]; gene = 'foxq2'; #m cone neg \n",
    "#fPath = \"20210514_5dpf_mw2G_s2C_CRfoxq2_L21b\"; zlims = [48,53]; gene = 'foxq2'; # double+\n",
    "#fPath = \"20210514_5dpf_mw2G_s2C_CRfoxq2_L22b\"; zlims = [29,36]; gene = 'foxq2'; # double +, colocalization of gfp and mcherry \n",
    "\n",
    "############################################# \n",
    "\n",
    "# uninjected mw2g_s2c imaging on 6/25 - had the zpr1 immuno but did not work well so only imaged the gfp and mcherry \n",
    "# fPath = \"20210514_5dpf_m2G_s2C_uninj_L28b\"; zlims = [32,34]; gene = 'wt';\n",
    "# fPath = \"20210514_5dpf_m2G_s2C_uninj_L29b\"; zlims = [36,38]; gene = 'wt';\n",
    "# fPath = \"20210514_5dpf_m2G_s2C_uninj_L29d\"; zlims = [36,37]; gene = 'wt'; # very curvy and going to be hard to segment well\n",
    "# fPath = \"20210514_5dpf_m2G_s2C_uninj_L30d\"; zlims = [26,28]; gene = 'wt'; # very blurry image \n",
    "# fPath = \"20210514_5dpf_m2G_s2C_uninj_L31b\"; zlims = [47,49]; gene = 'wt'; # again a lot of background \n",
    "# fPath = \"20210514_5dpf_m2G_s2C_uninj_L31d\"; zlims = [32,36]; gene = 'wt';\n",
    "\n",
    "\n",
    "# foxq2 injected mw2g_s2c imaging on 6/30 - had the zpr1 immuno but did not work well so only imaged the gfp and mcherry. these are also the ones that dont seem to be nalos \n",
    "fPath = \"20210514_5dpf_m2G_s2C_CRfoxq2_L36d\"; zlims = [38,42]; gene = 'foxq2'; # very big cells, looks weird \n",
    "# fPath = \"20210514_5dpf_m2G_s2C_CRfoxq2_L38b\"; zlims = [37,40]; gene = 'foxq2'; # the s-cones are super gfp+\n",
    "# fPath = \"20210514_5dpf_m2G_s2C_CRfoxq2_L38d\"; zlims = [38,40]; gene = 'foxq2'; # a lot of the s cones are also very gfp+\n",
    "# fPath = \"20210514_5dpf_m2G_s2C_CRfoxq2_L39b\"; zlims = [42,44]; gene = 'foxq2'; # looked more normal \n",
    "# fPath = \"20210514_5dpf_m2G_s2C_CRfoxq2_L39d\"; zlims = [30,32]; gene = 'foxq2';\n",
    "###fPath = \"\"; zlims = [29,32]; gene = 'foxq2';\n",
    "\n",
    "\n",
    "\n",
    "# create subdirectory for analysis - makes a folder if not already there \n",
    "dOut = dAnalysis + gene + '/' + fPath + '/' #got rid of the gene bc i wasnt separating my folders like that \n",
    "if (os.path.isdir(dOut)==False):\n",
    "    os.mkdir(dOut)\n"
   ]
  },
  {
   "cell_type": "code",
   "execution_count": 81,
   "metadata": {},
   "outputs": [
    {
     "name": "stdout",
     "output_type": "stream",
     "text": [
      "Loaded!\n"
     ]
    }
   ],
   "source": [
    "#### load whole stack to figure out best planes for cellpose\n",
    "# clear viewer\n",
    "viewer.layers.select_all()\n",
    "viewer.layers.remove_selected()\n",
    "\n",
    "viewer.open((dPath+fPath + \".nd2\"))\n",
    "viewer.layers.remove(viewer.layers[2]) # remove transmitted detector image\n",
    "#viewer.layers.remove(viewer.layers[0]) # remove dapi \n",
    "viewer.layers[0].colormap = 'green'\n",
    "viewer.layers[0].name = 'M' # change depending on the line used  \n",
    "viewer.layers[1].colormap = 'magenta'\n",
    "viewer.layers[1].name = 'S'\n",
    "viewer.layers.select_next();\n",
    "print('Loaded!') #to tell when its all done"
   ]
  },
  {
   "cell_type": "code",
   "execution_count": 82,
   "metadata": {},
   "outputs": [],
   "source": [
    "# make mips (and remove any previous ones)\n",
    "zlims = [30,32];\n",
    "if len(viewer.layers)>2:\n",
    "    for l in viewer.layers[2:]:\n",
    "        viewer.layers.remove(l)\n",
    "\n",
    "for l in [viewer.layers[0],viewer.layers[1]]:\n",
    "    l.visible = False\n",
    "#     viewer.layers.remove(l.name + '_mip')\n",
    "    viewer.add_image(l.data[zlims[0]:zlims[1]].max(axis=0), blending='additive', colormap = l.colormap, name = l.name + \"_mip\") #creating the max intensity "
   ]
  },
  {
   "cell_type": "code",
   "execution_count": 83,
   "metadata": {},
   "outputs": [
    {
     "data": {
      "text/plain": [
       "['C:\\\\Users\\\\pataklk\\\\Documents\\\\F0_Analysis\\\\CRfoxq2F0\\\\mw2Gs2C\\\\foxq2\\\\20210514_5dpf_m2G_s2C_CRfoxq2_L39d\\\\S_mip.tiff']"
      ]
     },
     "execution_count": 83,
     "metadata": {},
     "output_type": "execute_result"
    }
   ],
   "source": [
    "# when things look good, save in folder for batch cellpose analysis\n",
    "l = viewer.layers['M_mip']; l.save(dOut + l.name + '.tiff')\n",
    "l = viewer.layers['S_mip']; l.save(dOut + l.name + '.tiff')"
   ]
  },
  {
   "cell_type": "code",
   "execution_count": null,
   "metadata": {},
   "outputs": [],
   "source": []
  },
  {
   "cell_type": "markdown",
   "metadata": {},
   "source": [
    "#### Run cellpose one by one and modify parameters"
   ]
  },
  {
   "cell_type": "code",
   "execution_count": 125,
   "metadata": {},
   "outputs": [],
   "source": [
    "# clear viewer\n",
    "viewer.layers.select_all()\n",
    "viewer.layers.remove_selected()\n",
    "\n",
    "########## uninjected mw2g_s2C: \n",
    "# PUT IN CORRECT ZLIMS\n",
    "#fPath = \"20210514_5dpf_mw2G_s2C_uninj_L14b\"; zlims = [44,60]; gene = 'wt';\n",
    "#fPath = \"20210514_5dpf_mw2G_s2C_uninj_L14d\"; zlims = [,]; gene = 'wt'; #lens up - cant analyze this. zoom in of the acute zone \n",
    "#fPath = \"20210514_5dpf_mw2G_s2C_uninj_L15b\"; zlims = [,]; gene = 'wt'; #lens up - cant analyze \n",
    "#fPath = \"20210514_5dpf_mw2G_s2C_uninj_L16b\"; zlims = [41,43]; gene = 'wt';\n",
    "#fPath = \"20210514_5dpf_mw2G_s2C_uninj_L17b\"; zlims = [40,45]; gene = 'wt';\n",
    "#fPath = \"20210514_5dpf_mw2G_s2C_uninj_L18b\"; zlims = [32,38]; gene = 'wt';\n",
    "#fPath = \"20210514_5dpf_mw2G_s2C_uninj_L19b\"; zlims = [38,43]; gene = 'wt'; #kind of curvy. hard to kind the perfect mip slices to get everything clearlt \n",
    "#fPath = \"20210514_5dpf_mw2G_s2C_uninj_L19d\"; zlims = [,]; gene = 'wt'; #lens up - did not analyze \n",
    "\n",
    "\n",
    "########## crfoxq2 mw2G_s2C:\n",
    "# PUT IN CORRECT ZLIMS\n",
    "#fPath = \"20210514_5dpf_mw2G_s2C_CRfoxq2_L09b\"; zlims = [29,32]; gene = 'foxq2'; # MIGHT BE S CONE NEAGATIVE. LITTLE TOUGH TO FIND THE PERFECT ZLIMS \n",
    "#fPath = \"20210514_5dpf_mw2G_s2C_CRfoxq2_L10b\"; zlims = [33,36]; gene = 'foxq2'; # MIGHT BE S-CONE NEG. sizes of a the gfp+ PR are very different. \n",
    "#fPath = \"20210514_5dpf_mw2G_s2C_CRfoxq2_L11b\"; zlims = [28,31]; gene = 'foxq2'; # m - cones look more normal here, i think s-cone neg\n",
    "#fPath = \"20210514_5dpf_mw2G_s2C_CRfoxq2_L11d\"; zlims = [41,44]; gene = 'foxq2';\n",
    "#fPath = \"20210514_5dpf_mw2G_s2C_CRfoxq2_L12b\"; zlims = [43,45]; gene = 'foxq2';\n",
    "#fPath = \"20210514_5dpf_mw2G_s2C_CRfoxq2_L13b\"; zlims = [30,33]; gene = 'foxq2';\n",
    "#fPath = \"20210514_5dpf_mw2G_s2C_CRfoxq2_L13d\"; zlims = [,]; gene = 'foxq2'; #lens up \n",
    "#fPath = \"20210514_5dpf_mw2G_s2C_CRfoxq2_L14b\"; zlims = [31,33]; gene = 'foxq2';\n",
    "#fPath = \"20210514_5dpf_mw2G_s2C_CRfoxq2_L15b\"; zlims = [42,47]; gene = 'foxq2';\n",
    "#fPath = \"20210514_5dpf_mw2G_s2C_CRfoxq2_L16b\"; zlims = [33,35]; gene = 'foxq2'; #def s-cone +\n",
    "#fPath = \"20210514_5dpf_mw2G_s2C_CRfoxq2_L16d\"; zlims = [33,54]; gene = 'foxq2'; #lots of blurring in this image &not very flat. going to see if thisd big mip will segment well \n",
    "#fPath = \"20210514_5dpf_mw2G_s2C_CRfoxq2_L17b\"; zlims = [25,28]; gene = 'foxq2'; # m cone neg. there is a single s-cone. do i even need to run cell pose? \n",
    "#fPath = \"20210514_5dpf_mw2G_s2C_CRfoxq2_L17d\"; zlims = [,]; gene = 'foxq2'; #lens up \n",
    "#fPath = \"20210514_5dpf_mw2G_s2C_CRfoxq2_L18b\"; zlims = [40,43]; gene = 'foxq2'; # m neg. 8 s-cones \n",
    "#fPath = \"20210514_5dpf_mw2G_s2C_CRfoxq2_L19b\"; zlims = [30,31]; gene = 'foxq2';  #s-cone neg\n",
    "#fPath = \"20210514_5dpf_mw2G_s2C_CRfoxq2_L20b001\"; zlims = [24,26]; gene = 'foxq2'; #m cone neg \n",
    "#fPath = \"20210514_5dpf_mw2G_s2C_CRfoxq2_L21b\"; zlims = [48,53]; gene = 'foxq2'; # double+ cellpose not working for the five s-cones. \n",
    "#fPath = \"20210514_5dpf_mw2G_s2C_CRfoxq2_L22b\"; zlims = [29,36]; gene = 'foxq2'; # double +, colocalization of gfp and mcherry \n",
    "\n",
    "\n",
    "# uninjected mw2g_s2c imaging on 6/25 - had the zpr1 immuno but did not work well so only imaged the gfp and mcherry \n",
    "# fPath = \"20210514_5dpf_m2G_s2C_uninj_L28b\"; zlims = [32,34]; gene = 'wt';\n",
    "# fPath = \"20210514_5dpf_m2G_s2C_uninj_L29b\"; zlims = [36,38]; gene = 'wt';\n",
    "# fPath = \"20210514_5dpf_m2G_s2C_uninj_L29d\"; zlims = [36,37]; gene = 'wt'; # very curvy and going to be hard to segment well\n",
    "# fPath = \"20210514_5dpf_m2G_s2C_uninj_L30d\"; zlims = [26,28]; gene = 'wt'; # very blurry image \n",
    "# fPath = \"20210514_5dpf_m2G_s2C_uninj_L31b\"; zlims = [47,49]; gene = 'wt'; # again a lot of background \n",
    "# fPath = \"20210514_5dpf_m2G_s2C_uninj_L31d\"; zlims = [32,36]; gene = 'wt';\n",
    "\n",
    "\n",
    "# foxq2 injected mw2g_s2c imaging on 6/30 - had the zpr1 immuno but did not work well so only imaged the gfp and mcherry. these are also the ones that dont seem to be nalos \n",
    "# fPath = \"20210514_5dpf_m2G_s2C_CRfoxq2_L36d\"; zlims = [38,42]; gene = 'foxq2'; # very big cells, looks weird \n",
    "# fPath = \"20210514_5dpf_m2G_s2C_CRfoxq2_L38b\"; zlims = [37,40]; gene = 'foxq2'; # the s-cones are super gfp+\n",
    "# fPath = \"20210514_5dpf_m2G_s2C_CRfoxq2_L38d\"; zlims = [38,40]; gene = 'foxq2'; # a lot of the s cones are also very gfp+\n",
    "# fPath = \"20210514_5dpf_m2G_s2C_CRfoxq2_L39b\"; zlims = [42,44]; gene = 'foxq2'; # looked more normal \n",
    "# fPath = \"20210514_5dpf_m2G_s2C_CRfoxq2_L39d\"; zlims = [30,32]; gene = 'foxq2';\n",
    "\n",
    "\n",
    "# create subdirectory for analysis\n",
    "dOut = dAnalysis + gene + '/' + fPath + '/'\n"
   ]
  },
  {
   "cell_type": "code",
   "execution_count": 126,
   "metadata": {},
   "outputs": [
    {
     "name": "stdout",
     "output_type": "stream",
     "text": [
      "Loaded! Now run cellpose!!!!\n",
      "2021-07-13 16:02:31,373 [INFO] M_mip\n",
      "2021-07-13 16:02:31,373 [INFO] S_mip\n",
      "(1024, 1024)\n",
      "2021-07-13 16:02:31,390 [INFO] computing masks with cellprob_threshold=0.0, flow_threshold=0.6\n",
      "2021-07-13 16:02:31,392 [INFO] >>cyto2<< model set to be used\n",
      "2021-07-13 16:02:31,393 [INFO] TORCH CUDA version not installed/working.\n",
      "2021-07-13 16:02:31,394 [INFO] >>>> using CPU\n",
      "2021-07-13 16:03:42,498 [INFO] computing masks with cellprob_threshold=0.0, flow_threshold=0.5\n",
      "2021-07-13 16:03:44,395 [INFO] masks updated\n",
      "2021-07-13 16:03:50,204 [INFO] computing masks with cellprob_threshold=0.0, flow_threshold=0.6\n",
      "2021-07-13 16:03:51,429 [INFO] masks updated\n"
     ]
    }
   ],
   "source": [
    "#viewer.layers.select_all()\n",
    "#viewer.layers.remove_selected()\n",
    "\n",
    "# load mips\n",
    "viewer.open(dOut + 'M' + \"_mip.tiff\", plugin='builtins', colormap = 'green');\n",
    "viewer.open(dOut + 'S' + \"_mip.tiff\", plugin='builtins', colormap = 'magenta', blending='additive');\n",
    "print('Loaded! Now run cellpose!!!!')"
   ]
  },
  {
   "cell_type": "code",
   "execution_count": 127,
   "metadata": {},
   "outputs": [
    {
     "data": {
      "text/plain": [
       "['C:\\\\Users\\\\pataklk\\\\Documents\\\\F0_Analysis\\\\CRfoxq2F0\\\\mw2Gs2C\\\\foxq2\\\\20210514_5dpf_m2G_s2C_CRfoxq2_L39d\\\\M_flows.tiff']"
      ]
     },
     "execution_count": 127,
     "metadata": {},
     "output_type": "execute_result"
    },
    {
     "name": "stdout",
     "output_type": "stream",
     "text": [
      "2021-07-13 16:04:15,469 [INFO] M_mip\n",
      "2021-07-13 16:04:15,469 [INFO] S_mip\n",
      "2021-07-13 16:04:15,469 [INFO] M_flows\n",
      "2021-07-13 16:04:15,469 [INFO] M_prob\n",
      "2021-07-13 16:04:15,469 [INFO] M_outlines\n",
      "2021-07-13 16:04:15,469 [INFO] M_seg\n",
      "(1024, 1024)\n",
      "2021-07-13 16:04:15,495 [INFO] computing masks with cellprob_threshold=0.0, flow_threshold=0.6\n",
      "2021-07-13 16:04:15,495 [INFO] >>cyto2<< model set to be used\n",
      "2021-07-13 16:04:15,495 [INFO] TORCH CUDA version not installed/working.\n",
      "2021-07-13 16:04:15,495 [INFO] >>>> using CPU\n",
      "2021-07-13 16:04:43,207 [INFO] M_mip\n",
      "2021-07-13 16:04:43,223 [INFO] S_mip\n",
      "2021-07-13 16:04:43,223 [INFO] M_flows\n",
      "2021-07-13 16:04:43,224 [INFO] M_prob\n",
      "2021-07-13 16:04:43,224 [INFO] M_outlines\n",
      "2021-07-13 16:04:43,225 [INFO] M_seg\n",
      "2021-07-13 16:04:43,225 [INFO] S_mip_cp_flows_000\n",
      "2021-07-13 16:04:43,248 [INFO] S_mip_cp_cellprob_000\n",
      "2021-07-13 16:04:43,268 [INFO] S_mip_cp_outlines_000\n",
      "2021-07-13 16:04:43,288 [INFO] S_mip_cp_masks_000\n",
      "(1024, 1024)\n",
      "2021-07-13 16:04:43,342 [INFO] computing masks with cellprob_threshold=0.0, flow_threshold=0.4\n",
      "2021-07-13 16:04:43,345 [INFO] >>cyto2<< model set to be used\n",
      "2021-07-13 16:04:43,345 [INFO] TORCH CUDA version not installed/working.\n",
      "2021-07-13 16:04:43,346 [INFO] >>>> using CPU\n"
     ]
    }
   ],
   "source": [
    "# after running cellpose, rename cellpose images and save before manual curation:\n",
    "\n",
    "baseName = 'M'\n",
    "#baseName = 'S'\n",
    "lname = baseName + '_mip'\n",
    "viewer.layers[lname + '_cp_masks_000'].name = baseName + '_seg'\n",
    "viewer.layers[lname + '_cp_outlines_000'].name = baseName + '_outlines'\n",
    "viewer.layers[lname + '_cp_cellprob_000'].name = baseName + '_prob'\n",
    "viewer.layers[lname + '_cp_flows_000'].name = baseName + '_flows'\n",
    "\n",
    "l = viewer.layers[baseName + '_seg']; l.save(dOut + l.name + '.tiff')\n",
    "l = viewer.layers[baseName + '_outlines']; l.save(dOut + l.name + '.tiff')\n",
    "l = viewer.layers[baseName + '_prob']; l.save(dOut + l.name + '.tiff')\n",
    "l = viewer.layers[baseName + '_flows']; l.save(dOut + l.name + '.tiff')"
   ]
  },
  {
   "cell_type": "code",
   "execution_count": 128,
   "metadata": {},
   "outputs": [
    {
     "data": {
      "text/plain": [
       "['C:\\\\Users\\\\pataklk\\\\Documents\\\\F0_Analysis\\\\CRfoxq2F0\\\\mw2Gs2C\\\\foxq2\\\\20210514_5dpf_m2G_s2C_CRfoxq2_L39d\\\\S_flows.tiff']"
      ]
     },
     "execution_count": 128,
     "metadata": {},
     "output_type": "execute_result"
    }
   ],
   "source": [
    "# after running cellpose, rename cellpose images and save before manual curation:\n",
    "\n",
    "#baseName = 'M'\n",
    "baseName = 'S'\n",
    "lname = baseName + '_mip'\n",
    "viewer.layers[lname + '_cp_masks_000'].name = baseName + '_seg'\n",
    "viewer.layers[lname + '_cp_outlines_000'].name = baseName + '_outlines'\n",
    "viewer.layers[lname + '_cp_cellprob_000'].name = baseName + '_prob'\n",
    "viewer.layers[lname + '_cp_flows_000'].name = baseName + '_flows'\n",
    "\n",
    "l = viewer.layers[baseName + '_seg']; l.save(dOut + l.name + '.tiff')\n",
    "l = viewer.layers[baseName + '_outlines']; l.save(dOut + l.name + '.tiff')\n",
    "l = viewer.layers[baseName + '_prob']; l.save(dOut + l.name + '.tiff')\n",
    "l = viewer.layers[baseName + '_flows']; l.save(dOut + l.name + '.tiff')"
   ]
  },
  {
   "cell_type": "markdown",
   "metadata": {},
   "source": [
    "## Now manually fix segmentation after cellpose"
   ]
  },
  {
   "cell_type": "code",
   "execution_count": 35,
   "metadata": {},
   "outputs": [
    {
     "name": "stdout",
     "output_type": "stream",
     "text": [
      "Loaded  20210514_5dpf_m2G_s2C_CRfoxq2_L39d !\n",
      " Now fix it and save it!\n"
     ]
    }
   ],
   "source": [
    "viewer.layers.select_all()\n",
    "viewer.layers.remove_selected()\n",
    "\n",
    "# analysis directory\n",
    "dAnalysis = \"C:/Users/pataklk/Documents/F0_Analysis/CRfoxq2F0/mw2Gs2C/\" #where results are stored - harddrive folder\n",
    "\n",
    "# open file\n",
    "dPath = \"G:/My Drive/Nikon A1R/Angueyra/zf/20210514_tbx2afoxq2F0/\" #directory for big folder of where everything is saved - just pulling from the google drive. organized by file name and went down from there \n",
    "#dPath = \"C:/Users/pataklk/Documents/test/\"\n",
    "\n",
    "\n",
    "########## uninjected mw2g_s2C: \n",
    "# PUT IN CORRECT ZLIMS\n",
    "#fPath = \"20210514_5dpf_mw2G_s2C_uninj_L14b\"; zlims = [44,60]; gene = 'wt';\n",
    "#fPath = \"20210514_5dpf_mw2G_s2C_uninj_L14d\"; zlims = [,]; gene = 'wt'; #lens up - cant analyze this. zoom in of the acute zone \n",
    "#fPath = \"20210514_5dpf_mw2G_s2C_uninj_L15b\"; zlims = [,]; gene = 'wt'; #lens up - cant analyze \n",
    "#fPath = \"20210514_5dpf_mw2G_s2C_uninj_L16b\"; zlims = [41,43]; gene = 'wt';\n",
    "#fPath = \"20210514_5dpf_mw2G_s2C_uninj_L17b\"; zlims = [40,45]; gene = 'wt';\n",
    "#fPath = \"20210514_5dpf_mw2G_s2C_uninj_L18b\"; zlims = [32,38]; gene = 'wt';\n",
    "#fPath = \"20210514_5dpf_mw2G_s2C_uninj_L19b\"; zlims = [38,43]; gene = 'wt'; #kind of curvy. hard to kind the perfect mip slices to get everything clearlt \n",
    "#fPath = \"20210514_5dpf_mw2G_s2C_uninj_L19d\"; zlims = [,]; gene = 'wt'; #lens up - did not analyze \n",
    "\n",
    "########## crfoxq2 mw2G_s2C:\n",
    "# PUT IN CORRECT ZLIMS\n",
    "#fPath = \"20210514_5dpf_mw2G_s2C_CRfoxq2_L09b\"; zlims = [29,32]; gene = 'foxq2'; # MIGHT BE S CONE NEAGATIVE. LITTLE TOUGH TO FIND THE PERFECT ZLIMS \n",
    "#fPath = \"20210514_5dpf_mw2G_s2C_CRfoxq2_L10b\"; zlims = [33,36]; gene = 'foxq2'; # might need to recheck MIGHT BE S-CONE NEG. sizes of a the gfp+ PR are very different. \n",
    "#fPath = \"20210514_5dpf_mw2G_s2C_CRfoxq2_L11b\"; zlims = [28,31]; gene = 'foxq2'; # m - cones look more normal here, i think s-cone neg\n",
    "#fPath = \"20210514_5dpf_mw2G_s2C_CRfoxq2_L11d\"; zlims = [41,44]; gene = 'foxq2';\n",
    "##fPath = \"20210514_5dpf_mw2G_s2C_CRfoxq2_L12b\"; zlims = [43,45]; gene = 'foxq2'; # break in the retina in this image.*\n",
    "##fPath = \"20210514_5dpf_mw2G_s2C_CRfoxq2_L13b\"; zlims = [30,33]; gene = 'foxq2'; # little smooshed and had a lto of noise, so a little hard to segment \n",
    "#fPath = \"20210514_5dpf_mw2G_s2C_CRfoxq2_L13d\"; zlims = [,]; gene = 'foxq2'; #lens up \n",
    "##fPath = \"20210514_5dpf_mw2G_s2C_CRfoxq2_L14b\"; zlims = [31,33]; gene = 'foxq2'; # segmentation doesnt look great, image is a little smooshed \n",
    "##fPath = \"20210514_5dpf_mw2G_s2C_CRfoxq2_L15b\"; zlims = [42,47]; gene = 'foxq2';\n",
    "##fPath = \"20210514_5dpf_mw2G_s2C_CRfoxq2_L16b\"; zlims = [33,35]; gene = 'foxq2'; #def s-cone + very difficult to segment the m-cones\n",
    "##fPath = \"20210514_5dpf_mw2G_s2C_CRfoxq2_L16d\"; zlims = [33,54]; gene = 'foxq2'; #lots of blurring in this image &not very flat. going to see if thisd big mip will segment well - not great\n",
    "##fPath = \"20210514_5dpf_mw2G_s2C_CRfoxq2_L17b\"; zlims = [25,28]; gene = 'foxq2'; # m cone neg. there is a single s-cone. do i even need to run cell pose? \n",
    "#fPath = \"20210514_5dpf_mw2G_s2C_CRfoxq2_L17d\"; zlims = [,]; gene = 'foxq2'; #lens up \n",
    "##fPath = \"20210514_5dpf_mw2G_s2C_CRfoxq2_L18b\"; zlims = [40,43]; gene = 'foxq2'; # m neg. 7 s-cones (didnt do the segmentation on this)\n",
    "##fPath = \"20210514_5dpf_mw2G_s2C_CRfoxq2_L19b\"; zlims = [30,31]; gene = 'foxq2';  #s-cone neg. good example for the M cones, dim cells, but the image was good enough that the segmentation wasnt too bad\n",
    "##fPath = \"20210514_5dpf_mw2G_s2C_CRfoxq2_L20b001\"; zlims = [24,26]; gene = 'foxq2'; #s cone neg.small hole bottom left \n",
    "#fPath = \"20210514_5dpf_mw2G_s2C_CRfoxq2_L21b\"; zlims = [48,53]; gene = 'foxq2'; # double+ cellpose not working for the five s-cones. \n",
    "##fPath = \"20210514_5dpf_mw2G_s2C_CRfoxq2_L22b\"; zlims = [29,36]; gene = 'foxq2'; # double +, colocalization of gfp and mcherry \n",
    "\n",
    "# uninjected mw2g_s2c imaging on 6/25 - had the zpr1 immuno but did not work well so only imaged the gfp and mcherry \n",
    "##fPath = \"20210514_5dpf_m2G_s2C_uninj_L28b\"; zlims = [32,34]; gene = 'wt'; # this one is very difficult in the gfp bc a lot of background. could even be more m cones but it is so blurry\n",
    "##fPath = \"20210514_5dpf_m2G_s2C_uninj_L29b\"; zlims = [36,38]; gene = 'wt'; # so hard to segment. even the s-cones were not great. things very smoosehd and optic nerve head in the picture. some segmetns rae very long but i think it was because of how squished evyerhting is\n",
    "##fPath = \"20210514_5dpf_m2G_s2C_uninj_L29d\"; zlims = [36,37]; gene = 'wt'; # very curvy and going to be hard to segment well\n",
    "##fPath = \"20210514_5dpf_m2G_s2C_uninj_L30d\"; zlims = [26,28]; gene = 'wt'; # very blurry image - so bad. lot of dim cells in mcherry  \n",
    "##fPath = \"20210514_5dpf_m2G_s2C_uninj_L31b\"; zlims = [47,49]; gene = 'wt'; # again a lot of background. little better than the others. alot of double + cells \n",
    "##fPath = \"20210514_5dpf_m2G_s2C_uninj_L31d\"; zlims = [32,36]; gene = 'wt';\n",
    "\n",
    "\n",
    "# foxq2 injected mw2g_s2c imaging on 6/30 - had the zpr1 immuno but did not work well so only imaged the gfp and mcherry. these are also the ones that dont seem to be nalos \n",
    "##fPath = \"20210514_5dpf_m2G_s2C_CRfoxq2_L36d\"; zlims = [38,42]; gene = 'foxq2'; # very big cells, looks weird, some varible signal in the m cherry. seems like some of the s-cones are on varible levels. almost seems like there a different z layers of the cones \n",
    "##fPath = \"20210514_5dpf_m2G_s2C_CRfoxq2_L38b\"; zlims = [37,40]; gene = 'foxq2'; # the s-cones are super gfp+\n",
    "##fPath = \"20210514_5dpf_m2G_s2C_CRfoxq2_L38d\"; zlims = [38,40]; gene = 'foxq2'; # a lot of the s cones are also very gfp+\n",
    "##fPath = \"20210514_5dpf_m2G_s2C_CRfoxq2_L39b\"; zlims = [42,44]; gene = 'foxq2'; # looked more normal - 122 s -cones\n",
    "fPath = \"20210514_5dpf_m2G_s2C_CRfoxq2_L39d\"; zlims = [30,32]; gene = 'foxq2'; # PRETTY smooshed and everything is blending together. segmentation doesnt look great \n",
    "\n",
    "\n",
    "# subdirectory for analysis\n",
    "dOut = dAnalysis + gene + '/' + fPath + '/'\n",
    "\n",
    "# load mips\n",
    "viewer.open(dOut + 'M' + \"_mip.tiff\", plugin='builtins', colormap = 'green');\n",
    "viewer.open(dOut + 'S' + \"_mip.tiff\", plugin='builtins', colormap = 'magenta', blending='additive');\n",
    "viewer.open(dOut + 'M' + \"_seg.tiff\", plugin='builtins');\n",
    "viewer.open(dOut + 'S' + \"_seg.tiff\", plugin='builtins');\n",
    "viewer.layers['M_seg'].preserve_labels = True;\n",
    "viewer.layers['S_seg'].preserve_labels = True;\n",
    "\n",
    "viewer.layers['M_seg'].contour = 0\n",
    "viewer.layers['S_seg'].contour = 0\n",
    "\n",
    "viewer.layers['M_mip'].visible = False\n",
    "viewer.layers['S_seg'].visible = False\n",
    "\n",
    "\n",
    "print('Loaded  ' + fPath + ' !\\n Now fix it and save it!')"
   ]
  },
  {
   "cell_type": "code",
   "execution_count": 6,
   "metadata": {},
   "outputs": [],
   "source": [
    "## changing the shortcuts \n",
    "@viewer.bind_key('r', overwrite=True)\n",
    "def pickMode(viewer):\n",
    "    viewer.layers.selection.active.mode = 'pick'\n",
    "    \n",
    "@viewer.bind_key('w', overwrite=True)\n",
    "def paintMode(viewer):\n",
    "    viewer.layers.selection.active.mode = 'paint'\n",
    "\n",
    "layerindex = 4\n",
    "@viewer.bind_key('q', overwrite=True)\n",
    "def switchVis(viewer):\n",
    "    if (viewer.layers[layerindex].visible == False):\n",
    "        viewer.layers[layerindex].visible = True\n",
    "    elif (viewer.layers[layerindex].visible == True):\n",
    "        viewer.layers[layerindex].visible = False\n",
    "        \n",
    "@viewer.bind_key('t', overwrite=True)\n",
    "def switchVis2(viewer):\n",
    "    if (viewer.layers[0].visible == True):\n",
    "        viewer.layers[0].visible = False\n",
    "    elif (viewer.layers[0].visible == False):\n",
    "        viewer.layers[0].visible = True\n",
    "\n",
    "        \n",
    "@viewer.bind_key('y', overwrite=True)\n",
    "def switchVis2(viewer):\n",
    "    if (viewer.layers[1].visible == True):\n",
    "        viewer.layers[1].visible = False\n",
    "    elif (viewer.layers[1].visible == False):\n",
    "        viewer.layers[1].visible = True"
   ]
  },
  {
   "cell_type": "code",
   "execution_count": 36,
   "metadata": {},
   "outputs": [],
   "source": [
    "# to check back on the z stack: \n",
    "viewer.open((dPath+fPath + \".nd2\"))\n",
    "viewer.layers[2].visible = False\n",
    "viewer.layers[3].visible = False\n",
    "viewer.layers[4].visible = False\n",
    "viewer.layers[5].visible = False"
   ]
  },
  {
   "cell_type": "code",
   "execution_count": 39,
   "metadata": {},
   "outputs": [
    {
     "data": {
      "text/plain": [
       "['C:\\\\Users\\\\pataklk\\\\Documents\\\\F0_Analysis\\\\CRfoxq2F0\\\\mw2Gs2C\\\\foxq2\\\\20210514_5dpf_m2G_s2C_CRfoxq2_L39d\\\\M_seg_curated.tiff']"
      ]
     },
     "execution_count": 39,
     "metadata": {},
     "output_type": "execute_result"
    }
   ],
   "source": [
    "# resave curated segmentation after napari-ing around\n",
    "baseName = 'M'\n",
    "lname = baseName + '_seg'\n",
    "l = viewer.layers[baseName + '_seg']; l.save(dOut + l.name + '_curated.tiff')\n",
    "#viewer.layers['S_mip'].visible = True\n",
    "#viewer.layers['S_seg'].visible = True\n",
    "#viewer.layers['M_seg'].contour = 0"
   ]
  },
  {
   "cell_type": "code",
   "execution_count": 38,
   "metadata": {},
   "outputs": [
    {
     "data": {
      "text/plain": [
       "['C:\\\\Users\\\\pataklk\\\\Documents\\\\F0_Analysis\\\\CRfoxq2F0\\\\mw2Gs2C\\\\foxq2\\\\20210514_5dpf_m2G_s2C_CRfoxq2_L39d\\\\S_seg_curated.tiff']"
      ]
     },
     "execution_count": 38,
     "metadata": {},
     "output_type": "execute_result"
    }
   ],
   "source": [
    "# resave curated segmentation after napari-ing around\n",
    "baseName = 'S'\n",
    "lname = baseName + '_seg'\n",
    "l = viewer.layers[baseName + '_seg']; l.save(dOut + l.name + '_curated.tiff')"
   ]
  },
  {
   "cell_type": "code",
   "execution_count": 40,
   "metadata": {},
   "outputs": [],
   "source": [
    "# remove all except mips - if s cones are there need to change to 2 \n",
    "if len(viewer.layers)>2:\n",
    "    for l in viewer.layers[2:]:\n",
    "        viewer.layers.remove(l)"
   ]
  },
  {
   "cell_type": "code",
   "execution_count": 10,
   "metadata": {},
   "outputs": [],
   "source": [
    "# to go back and change the curated segmentation after it has already been done \n",
    "viewer.layers.select_all()\n",
    "viewer.layers.remove_selected()\n",
    "\n",
    "# analysis directory\n",
    "dAnalysis = \"C:/Users/pataklk/Documents/F0_Analysis/CRfoxq2F0/mw2Gs2C/\" #where results are stored - harddrive folder\n",
    "\n",
    "# open file\n",
    "dPath = \"G:/My Drive/Nikon A1R/Angueyra/zf/20210514_tbx2afoxq2F0/\" #directory for big folder of where everything is saved - just pulling from the google drive. organized by file name and went down from there \n",
    "#dPath = \"C:/Users/pataklk/Documents/test/\"\n",
    "\n",
    "\n",
    "########## uninjected mw2g_s2C: \n",
    "# PUT IN CORRECT ZLIMS\n",
    "#fPath = \"20210514_5dpf_mw2G_s2C_uninj_L14b\"; zlims = [44,60]; gene = 'wt';\n",
    "#fPath = \"20210514_5dpf_mw2G_s2C_uninj_L14d\"; zlims = [,]; gene = 'wt'; #lens up - cant analyze this. zoom in of the acute zone \n",
    "#fPath = \"20210514_5dpf_mw2G_s2C_uninj_L15b\"; zlims = [,]; gene = 'wt'; #lens up - cant analyze \n",
    "#fPath = \"20210514_5dpf_mw2G_s2C_uninj_L16b\"; zlims = [41,43]; gene = 'wt';\n",
    "#fPath = \"20210514_5dpf_mw2G_s2C_uninj_L17b\"; zlims = [40,45]; gene = 'wt';\n",
    "#fPath = \"20210514_5dpf_mw2G_s2C_uninj_L18b\"; zlims = [32,38]; gene = 'wt';\n",
    "#fPath = \"20210514_5dpf_mw2G_s2C_uninj_L19b\"; zlims = [38,43]; gene = 'wt'; #kind of curvy. hard to kind the perfect mip slices to get everything clearlt \n",
    "#fPath = \"20210514_5dpf_mw2G_s2C_uninj_L19d\"; zlims = [,]; gene = 'wt'; #lens up - did not analyze\n",
    "\n",
    "\n",
    "# fPath = \"20210514_5dpf_m2G_s2C_uninj_L28b\"\n",
    "\n",
    "# foxq2 injected mw2g_s2c imaging on 6/30 - had the zpr1 immuno but did not work well so only imaged the gfp and mcherry. these are also the ones that dont seem to be nalos \n",
    "fPath = \"20210514_5dpf_m2G_s2C_CRfoxq2_L36d\"; zlims = [38,42]; gene = 'foxq2'; # very big cells, looks weird, some varible signal in the m cherry. seems like some of the s-cones are on varible levels \n",
    "# fPath = \"20210514_5dpf_m2G_s2C_CRfoxq2_L38b\"; zlims = [37,40]; gene = 'foxq2'; # the s-cones are super gfp+\n",
    "# fPath = \"20210514_5dpf_m2G_s2C_CRfoxq2_L38d\"; zlims = [38,40]; gene = 'foxq2'; # a lot of the s cones are also very gfp+\n",
    "# fPath = \"20210514_5dpf_m2G_s2C_CRfoxq2_L39b\"; zlims = [42,44]; gene = 'foxq2'; # looked more normal \n",
    "# fPath = \"20210514_5dpf_m2G_s2C_CRfoxq2_L39d\"; zlims = [30,32]; gene = 'foxq2';\n",
    "\n",
    "\n",
    "\n",
    "# subdirectory for analysis\n",
    "dOut = dAnalysis + gene + '/' + fPath + '/'\n",
    "\n",
    "viewer.open(dOut + 'M' + \"_mip.tiff\", plugin='builtins', colormap = 'green');\n",
    "viewer.open(dOut + 'S' + \"_mip.tiff\", plugin='builtins', colormap = 'magenta', blending='additive');\n",
    "\n",
    "viewer.open(dOut + 'M' + \"_seg_curated.tiff\", plugin='builtins');\n",
    "viewer.open(dOut + 'S' + \"_seg_curated.tiff\", plugin='builtins');\n",
    "\n",
    "viewer.open((dPath+fPath + \".nd2\"))\n",
    "viewer.layers[2].visible = False\n",
    "viewer.layers[3].visible = False\n",
    "viewer.layers[4].visible = False\n",
    "viewer.layers[5].visible = False"
   ]
  },
  {
   "cell_type": "code",
   "execution_count": 12,
   "metadata": {},
   "outputs": [
    {
     "data": {
      "text/plain": [
       "['C:\\\\Users\\\\pataklk\\\\Documents\\\\F0_Analysis\\\\CRfoxq2F0\\\\mw2Gs2C\\\\foxq2\\\\20210514_5dpf_m2G_s2C_CRfoxq2_L36d\\\\M_seg_curated.tiff']"
      ]
     },
     "execution_count": 12,
     "metadata": {},
     "output_type": "execute_result"
    }
   ],
   "source": [
    "# resaving the curated ones after fixing them again \n",
    "\n",
    "baseName = 'M'\n",
    "lname = baseName + '_seg_curated'\n",
    "l = viewer.layers[baseName + '_seg_curated']; l.save(dOut + l.name + '.tiff')\n"
   ]
  },
  {
   "cell_type": "code",
   "execution_count": 11,
   "metadata": {},
   "outputs": [
    {
     "data": {
      "text/plain": [
       "['C:\\\\Users\\\\pataklk\\\\Documents\\\\F0_Analysis\\\\CRfoxq2F0\\\\mw2Gs2C\\\\foxq2\\\\20210514_5dpf_m2G_s2C_CRfoxq2_L36d\\\\S_seg_curated.tiff']"
      ]
     },
     "execution_count": 11,
     "metadata": {},
     "output_type": "execute_result"
    }
   ],
   "source": [
    "\n",
    "baseName = 'S'\n",
    "lname = baseName + '_seg_curated'\n",
    "l = viewer.layers[baseName + '_seg_curated']; l.save(dOut + l.name + '.tiff')"
   ]
  },
  {
   "cell_type": "code",
   "execution_count": 41,
   "metadata": {},
   "outputs": [
    {
     "name": "stdout",
     "output_type": "stream",
     "text": [
      "20210514_5dpf_m2G_s2C_CRfoxq2_L39d\n",
      "Image has 242 M cones\n",
      "Image has 74 S cones\n"
     ]
    }
   ],
   "source": [
    "# quantification code\n",
    "viewer.open(dOut + 'M' + \"_seg_curated.tiff\", name='M_seg', plugin='builtins');\n",
    "viewer.open(dOut + 'S' + \"_seg_curated.tiff\", name='S_seg', plugin='builtins');\n",
    "viewer.layers['S_seg'].contour = 5\n",
    "\n",
    "print(fPath)\n",
    "nM = len(np.unique(viewer.layers['M_seg'].data))-1\n",
    "print(\"Image has {0} M cones\".format(nM))\n",
    "nS = len(np.unique(viewer.layers['S_seg'].data))-1\n",
    "print(\"Image has {0} S cones\".format(nS))"
   ]
  },
  {
   "cell_type": "markdown",
   "metadata": {},
   "source": [
    "## Code to help with manual fixing:"
   ]
  },
  {
   "cell_type": "code",
   "execution_count": 120,
   "metadata": {},
   "outputs": [
    {
     "name": "stdout",
     "output_type": "stream",
     "text": [
      "Cut!\n"
     ]
    }
   ],
   "source": [
    "@viewer.bind_key('x', overwrite=True)\n",
    "def removeLabel(viewer):\n",
    "    lname = 'M_seg'\n",
    "#     lname = 'U_seg'\n",
    "    tempd = viewer.layers[lname].data\n",
    "    tempd[tempd == viewer.layers[lname].selected_label]=0\n",
    "    viewer.layers[lname].data = tempd\n",
    "    print('Cut!')"
   ]
  },
  {
   "cell_type": "code",
   "execution_count": 24,
   "metadata": {},
   "outputs": [
    {
     "name": "stdout",
     "output_type": "stream",
     "text": [
      "Merged!\n",
      "2021-06-18 15:06:44,396 [INFO] No OpenGL_accelerate module loaded: No module named 'OpenGL_accelerate'\n"
     ]
    }
   ],
   "source": [
    "# manual merging of labels\n",
    "mergeLabels = [91,93]\n",
    "lname = 'M_seg'\n",
    "# lname = 'U_seg'\n",
    "tempd = viewer.layers[lname].data\n",
    "tempd[tempd == mergeLabels[1]]=mergeLabels[0]\n",
    "viewer.layers[lname].data = tempd\n",
    "print('Merged!')"
   ]
  },
  {
   "cell_type": "code",
   "execution_count": null,
   "metadata": {},
   "outputs": [],
   "source": [
    "# manually delete label\n",
    "selLabel = 49\n",
    "lname = 'U_seg'\n",
    "tempd = viewer.layers[lname].data\n",
    "tempd[tempd == selLabel]=0\n",
    "viewer.layers[lname].data = tempd"
   ]
  },
  {
   "cell_type": "code",
   "execution_count": 88,
   "metadata": {},
   "outputs": [],
   "source": [
    "# to show only one selected label (contour must be 0)\n",
    "@viewer.bind_key('k', overwrite=True)\n",
    "def toggle_sel(viewer):\n",
    "    lname = 'M_seg'\n",
    "    if (viewer.layers[lname].show_selected_label == True):\n",
    "        viewer.layers[lname].show_selected_label = False\n",
    "    elif (viewer.layers[lname].show_selected_label == False):\n",
    "        viewer.layers[lname].show_selected_label = True"
   ]
  },
  {
   "cell_type": "code",
   "execution_count": null,
   "metadata": {},
   "outputs": [],
   "source": []
  },
  {
   "cell_type": "code",
   "execution_count": null,
   "metadata": {},
   "outputs": [],
   "source": []
  },
  {
   "cell_type": "markdown",
   "metadata": {},
   "source": [
    "## Would be nice here to export a png with mips and contours of curated segmentation\n",
    "> and set layers['X_seg'].contour = 3;"
   ]
  },
  {
   "cell_type": "code",
   "execution_count": 34,
   "metadata": {},
   "outputs": [
    {
     "name": "stdout",
     "output_type": "stream",
     "text": [
      "Loaded  20200821_5dpf_xOG_s1mCh_CRtbx2a_i07b !\n",
      " Now fix it and save it!\n"
     ]
    }
   ],
   "source": [
    "\n",
    "# analysis directory\n",
    "dAnalysis = \"/Users/angueyraaristjm/Documents/LiImaging/Analysis/CRtbx2F0s/xOGs1C/\"\n",
    "\n",
    "# open file\n",
    "dPath = \"/Volumes/zfSSD/LiImaging/A1R/zf/20201113_CRtbx2b/\"\n",
    "fPath = \"20201113_5dpf_xOG_s1mCh_uninj_i06b\"; zlims = [20,22]; gene = 'wt'; cp_t = 1; cp_mmt = 17.00;\n",
    "# fPath = \"20201113_5dpf_xOG_s1mCh_uninjected_i12b\"; zlims = [25,27]; gene = 'wt'; cp_t = 1; cp_mmt = 17.00;\n",
    "# fPath = \"20201113_5dpf_xOG_s1mCh_uninjected_i12d\"; zlims = [26,28]; gene = 'wt'; cp_t = 1; cp_mmt = 17.00;\n",
    "# fPath = \"20201113_5dpf_xOG_s1mCh_uninjected_i13b\"; zlims = [32,34]; gene = 'wt'; cp_t = 1; cp_mmt = 17.00;\n",
    "# fPath = \"20201113_5dpf_xOG_s1mCh_uninjected_i15b\"; zlims = [22,27]; gene = 'wt'; cp_t = 1; cp_mmt = 17.00; \n",
    "# fPath = \"20201113_5dpf_xOG_s1mCh_uninjected_i15d\"; zlims = [23,28]; gene = 'wt'; cp_t = 1; cp_mmt = 17.00;\n",
    "\n",
    "fPath = \"20201113_5dpf_xOG_s1mCh_CRtbx2b_i09b\"; zlims = [35,37]; gene = 'tbx2b'; cp_t = 1; cp_mmt = 17.00;\n",
    "#### fPath = \"20201113_5dpf_xOG_s1mCh_CRtbx2b_i09d\"; # lens-up zoom in. nice for side view of morphology\n",
    "fPath = \"20201113_5dpf_xOG_s1mCh_CRtbx2b_i10b\"; zlims = [30,33]; gene = 'tbx2b'; cp_t = 1; cp_mmt = 17.00;\n",
    "# fPath = \"20201113_5dpf_xOG_s1mCh_CRtbx2b_i10d\"; zlims = [30,32]; gene = 'tbx2b'; cp_t = 1; cp_mmt = 17.00;\n",
    "#### fPath = \"20201113_5dpf_xOG_s1mCh_CRtbx2b_i10e\"; # cool for looking at pedicles\n",
    "#### fPath = \"20201113_5dpf_xOG_s1mCh_CRtbx2b_i11b\"; # reimaged i10 by mistake\n",
    "# fPath = \"20201113_5dpf_xOG_s1mCh_CRtbx2b_i12b\"; zlims = [25,28]; gene = 'tbx2b'; cp_t = 1; cp_mmt = 17.00;\n",
    "# fPath = \"20201113_5dpf_xOG_s1mCh_CRtbx2b_i12d\"; zlims = [32,34]; gene = 'tbx2b'; cp_t = 1; cp_mmt = 17.00;\n",
    "#### fPath = \"20201113_5dpf_xOG_s1mCh_CRtbx2b_i12e\"; # cone with 2 pedicles???\n",
    "# fPath = \"20201113_5dpf_xOG_s1mCh_CRtbx2b_i13b\"; zlims = [27,32]; gene = 'tbx2b'; cp_t = 1; cp_mmt = 17.00;\n",
    "# fPath = \"20201113_5dpf_xOG_s1mCh_CRtbx2b_i13d\"; zlims = [30.36]; gene = 'tbx2b'; cp_t = 1; cp_mmt = 17.00;\n",
    "fPath = \"20201113_5dpf_xOG_s1mCh_CRtbx2b_i14b\"; zlims = [24,26]; gene = 'tbx2b'; cp_t = 1; cp_mmt = 17.00;\n",
    "#### fPath = \"20201113_5dpf_xOG_s1mCh_CRtbx2b_i14b2\"; # piece of detached retina, could be best side view for lor\n",
    "#### fPath = \"20201113_5dpf_xOG_s1mCh_CRtbx2b_i14d\"; # curved region with a gash\n",
    "\n",
    "\n",
    "# fPath = \"20200821_5dpf_xOG_s1mCh_uninj_i05b\"; zlims = [47,50]; gene = 'wt'; cp_t = 1; cp_mmt = 17.00; \n",
    "# #### fPath = \"20200821_5dpf_xOG_s1mCh_uninj_i05d\"; zlims = [25,27]; gene = 'wt'; cp_t = 1; cp_mmt = 17.00; #side view from lens up eye\n",
    "\n",
    "\n",
    "fPath = \"20200821_5dpf_xOG_s1mCh_CRtbx2a_i05b\"; zlims = [57,60]; gene = 'tbx2a'; cp_t = 1; cp_mmt = 17.00;\n",
    "# fPath = \"20200821_5dpf_xOG_s1mCh_CRtbx2a_i05d\"; zlims = [67,70]; gene = 'tbx2a'; cp_t = 1; cp_mmt = 17.00;\n",
    "# fPath = \"20200821_5dpf_xOG_s1mCh_CRtbx2a_i06b\"; zlims = [45,48]; gene = 'tbx2a'; cp_t = 1; cp_mmt = 17.00; \n",
    "# fPath = \"20200821_5dpf_xOG_s1mCh_CRtbx2a_i06d\"; zlims = [50,52]; gene = 'tbx2a'; cp_t = 1; cp_mmt = 17.00;\n",
    "fPath = \"20200821_5dpf_xOG_s1mCh_CRtbx2a_i07b\"; zlims = [59,63]; gene = 'tbx2a'; cp_t = 1; cp_mmt = 17.00;\n",
    "# fPath = \"20200821_5dpf_xOG_s1mCh_CRtbx2a_i07d\"; zlims = [50,54]; gene = 'tbx2a'; cp_t = 1; cp_mmt = 17.00; \n",
    "# fPath = \"20200821_5dpf_xOG_s1mCh_CRtbx2a_i08b\"; zlims = [50,54]; gene = 'tbx2a'; cp_t = 1; cp_mmt = 17.00;\n",
    "# fPath = \"20200821_5dpf_xOG_s1mCh_CRtbx2a_i08d\"; zlims = [43,47]; gene = 'tbx2a'; cp_t = 1; cp_mmt = 17.00;\n",
    "# fPath = \"20200821_5dpf_xOG_s1mCh_CRtbx2a_i09b\"; zlims = [30,34]; gene = 'tbx2a'; cp_t = 1; cp_mmt = 17.00;\n",
    "# fPath = \"20200821_5dpf_xOG_s1mCh_CRtbx2a_i09d\"; zlims = [46,50]; gene = 'tbx2a'; cp_t = 1; cp_mmt = 17.00; \n",
    "# fPath = \"20200821_5dpf_xOG_s1mCh_CRtbx2a_i10b\"; zlims = [36,40]; gene = 'tbx2a'; cp_t = 1; cp_mmt = 17.00;\n",
    "# fPath = \"20200821_5dpf_xOG_s1mCh_CRtbx2a_i10d\"; zlims = [40,50]; gene = 'tbx2a'; cp_t = 1; cp_mmt = 17.00;\n",
    "# fPath = \"20200821_5dpf_xOG_s1mCh_CRtbx2a_i11b\"; zlims = [54,70]; gene = 'tbx2a'; cp_t = 1; cp_mmt = 17.00;\n",
    "# fPath = \"20200821_5dpf_xOG_s1mCh_CRtbx2a_i11d\"; zlims = [25,27]; gene = 'tbx2a'; cp_t = 1; cp_mmt = 17.00;\n",
    "\n",
    "\n",
    "# subdirectory for analysis\n",
    "dOut = dAnalysis + gene + '/' + fPath + '/'\n",
    "\n",
    "# clear viewer\n",
    "viewer.layers.select_all()\n",
    "viewer.layers.remove_selected()\n",
    "# clear key binds\n",
    "@viewer.bind_key('k', overwrite=True)\n",
    "def toggle_sel(viewer):\n",
    "    ...\n",
    "@viewer.bind_key('Shift-x', overwrite=True)\n",
    "def removeLabel(viewer):\n",
    "    ...\n",
    "\n",
    "# load mips\n",
    "viewer.open(dOut + 'R' + \"_mip.tiff\", plugin='builtins', colormap = 'green');\n",
    "viewer.open(dOut + 'U' + \"_mip.tiff\", plugin='builtins', colormap = 'magenta', blending='additive');\n",
    "viewer.open(dOut + 'R' + \"_seg_curated.tiff\", name='R_seg', plugin='builtins');\n",
    "viewer.open(dOut + 'U' + \"_seg_curated.tiff\", name='U_seg', plugin='builtins');\n",
    "viewer.layers['R_seg'].preserve_labels = True;\n",
    "viewer.layers['U_seg'].preserve_labels = True;\n",
    "\n",
    "viewer.layers['R_seg'].contour = 0\n",
    "viewer.layers['U_seg'].contour = 3\n",
    "\n",
    "\n",
    "print('Loaded  ' + fPath + ' !\\n Now fix it and save it!')"
   ]
  },
  {
   "cell_type": "code",
   "execution_count": null,
   "metadata": {},
   "outputs": [],
   "source": []
  },
  {
   "cell_type": "code",
   "execution_count": null,
   "metadata": {},
   "outputs": [],
   "source": []
  },
  {
   "cell_type": "code",
   "execution_count": null,
   "metadata": {},
   "outputs": [],
   "source": []
  },
  {
   "cell_type": "code",
   "execution_count": 35,
   "metadata": {},
   "outputs": [],
   "source": [
    "viewer.close()"
   ]
  },
  {
   "cell_type": "markdown",
   "metadata": {},
   "source": [
    "## Testing segmentation\n",
    "1. Load single plane image from zoon in into larval eye, L cones only\n",
    "2. Run cellpose\n",
    "3. Count number of "
   ]
  },
  {
   "cell_type": "code",
   "execution_count": null,
   "metadata": {},
   "outputs": [],
   "source": [
    "viewer = napari.Viewer()"
   ]
  },
  {
   "cell_type": "code",
   "execution_count": null,
   "metadata": {},
   "outputs": [],
   "source": [
    "# clear viewer\n",
    "viewer.layers.select_all()\n",
    "viewer.layers.remove_selected()"
   ]
  },
  {
   "cell_type": "code",
   "execution_count": null,
   "metadata": {},
   "outputs": [],
   "source": [
    "dPath = \"/Users/angueyraaristjm/Documents/LiImaging/A1R/zf_partial/20201009_CRtbx2a/\"\n",
    "fPathL = \"20201009_i06b_L\"\n",
    "fPathM = \"20201009_i06b_M\"\n",
    "# load the image data and inspect its shape\n",
    "zfL = imread(dPath+fPathL + \".tiff\")\n",
    "zfM = imread(dPath+fPathM + \".tiff\")\n",
    "viewer.add_image(zfL, colormap='magenta')#, contrast_limits=[196,5860]);\n",
    "viewer.add_image(zfM, colormap='green', blending='additive')#, contrast_limits=[223,6721]);\n",
    "viewer.open(dPath+fPathL + \"_seg.tiff\", name='zfL_seg', plugin='builtins');\n",
    "viewer.open(dPath+fPathM + \"_seg.tiff\", name='zfM_seg', plugin='builtins');\n",
    "# nbscreenshot(viewer)"
   ]
  },
  {
   "cell_type": "code",
   "execution_count": null,
   "metadata": {},
   "outputs": [],
   "source": [
    "nL = len(np.unique(viewer.layers['zfL_seg'].data))-1\n",
    "print(\"Image has {0} L cones\".format(nL))\n",
    "nM = len(np.unique(viewer.layers['zfM_seg'].data))-1\n",
    "print(\"Image has {0} M cones\".format(nM))\n",
    "\n",
    "dL = viewer.layers['zfL_seg'].data\n",
    "dM = viewer.layers['zfM_seg'].data"
   ]
  },
  {
   "cell_type": "markdown",
   "metadata": {},
   "source": [
    "Not sure how to normalize across images...\n",
    "1. average GFP instensity inside M-cones? &rarr; difficult in CRISPants\n",
    "1. max GFP intensity? &rarr; could be ok"
   ]
  },
  {
   "cell_type": "code",
   "execution_count": null,
   "metadata": {},
   "outputs": [],
   "source": [
    "# eroding segmentation because it too generous with ROIs and I want to exclude GFP diffraction\n",
    "viewer.layers['zfL_seg'].data = ndimage.grey_erosion(dL, size=(8,8))\n",
    "viewer.layers['zfM_seg'].data = ndimage.grey_erosion(dM, size=(8,8))\n",
    "\n",
    "L_avgG = np.zeros([nL,1])\n",
    "L_avgR = np.zeros([nL,1])\n",
    "# calculate mean GFP intensity inside each L cone (normalized and baseline subtracted)\n",
    "maxM = viewer.layers['zfM'].data[viewer.layers['zfL_seg'].data == 0].max()\n",
    "maxL = viewer.layers['zfL'].data[viewer.layers['zfL_seg'].data == 1].max()\n",
    "minM = viewer.layers['zfM'].data[viewer.layers['zfL_seg'].data == 0].min()\n",
    "minL = viewer.layers['zfL'].data[viewer.layers['zfL_seg'].data == 0].min()\n",
    "for roi in range(nL):\n",
    "    tempROI = viewer.layers['zfL_seg'].data == roi\n",
    "    L_avgG[roi] = (viewer.layers['zfM'].data[tempROI].mean()-minM)/(maxM-minM)\n",
    "    L_avgR[roi] = (viewer.layers['zfL'].data[tempROI].mean()-minL)/(maxL-minL)\n",
    "\n",
    "M_avgG = np.zeros([nM,1])\n",
    "M_avgR = np.zeros([nM,1])\n",
    "# calculate mean GFP intensity inside each M cone (normalized and baseline subtracted)\n",
    "for roi in range(nM):\n",
    "    tempROI = viewer.layers['zfM_seg'].data == roi\n",
    "    M_avgG[roi] = (viewer.layers['zfM'].data[tempROI].mean()-minM)/(maxM-minM)\n",
    "    M_avgR[roi] = (viewer.layers['zfL'].data[tempROI].mean()-minL)/(maxL-minL)\n",
    "\n",
    "    \n",
    "nbins = 20\n",
    "denseFlag = True\n",
    "    \n",
    "plt.figure(figsize=(8,6))\n",
    "plt.hist(L_avgG, bins=np.divide(range(0,nbins+1),nbins), density = denseFlag, color = (1.0,0.5,0.0,0.5), label=\"L_GFP\")\n",
    "plt.hist(L_avgR, bins=np.divide(range(0,nbins+1),nbins), density = denseFlag, color = (1.0,0.0,0.0,0.5), label=\"L_tdT\")\n",
    "\n",
    "plt.hist(M_avgG, bins=np.divide(range(0,nbins+1),nbins), density = denseFlag, color = (0.0,1.0,0.0,0.5), label=\"M_GFP\")\n",
    "plt.hist(M_avgR, bins=np.divide(range(0,nbins+1),nbins), density = denseFlag, color = (0.5,1.0,0.0,0.5), label=\"M_tdT\")\n",
    "\n",
    "plt.xlabel(\"Normalized intensity\", size=14)\n",
    "plt.ylabel(\"Probability\", size=14)\n",
    "plt.title(\"\")\n",
    "plt.legend(loc='upper right')\n",
    "# plt.savefig(\"overlapping_histograms_with_matplotlib_Python.png\")"
   ]
  },
  {
   "cell_type": "code",
   "execution_count": null,
   "metadata": {},
   "outputs": [],
   "source": [
    "# viewer.layers['zfM_seg'].data = dM\n",
    "viewer.layers['zfL_seg'].data = ndimage.grey_erosion(viewer.layers['zfL_seg'].data, size=(10,10))"
   ]
  },
  {
   "cell_type": "code",
   "execution_count": null,
   "metadata": {},
   "outputs": [],
   "source": [
    "@viewer.bind_key('k')\n",
    "def toggle_sel(viewer):\n",
    "    if (viewer.layers['zfM_seg'].show_selected_label == True):\n",
    "        viewer.layers['zfM_seg'].show_selected_label = False\n",
    "    elif (viewer.layers['zfM_seg'].show_selected_label == False):\n",
    "        viewer.layers['zfM_seg'].show_selected_label = True"
   ]
  },
  {
   "cell_type": "code",
   "execution_count": null,
   "metadata": {},
   "outputs": [],
   "source": [
    "viewer.layers['zfM_seg'].show_selected_label=False"
   ]
  },
  {
   "cell_type": "code",
   "execution_count": null,
   "metadata": {},
   "outputs": [],
   "source": [
    "viewer.layers['zfM_seg'].data"
   ]
  },
  {
   "cell_type": "code",
   "execution_count": null,
   "metadata": {},
   "outputs": [],
   "source": []
  }
 ],
 "metadata": {
  "kernelspec": {
   "display_name": "Python 3 (ipykernel)",
   "language": "python",
   "name": "python3"
  },
  "language_info": {
   "codemirror_mode": {
    "name": "ipython",
    "version": 3
   },
   "file_extension": ".py",
   "mimetype": "text/x-python",
   "name": "python",
   "nbconvert_exporter": "python",
   "pygments_lexer": "ipython3",
   "version": "3.9.12"
  }
 },
 "nbformat": 4,
 "nbformat_minor": 4
}
