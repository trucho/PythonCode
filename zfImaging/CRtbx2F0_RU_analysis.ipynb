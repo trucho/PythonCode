{
 "cells": [
  {
   "cell_type": "markdown",
   "metadata": {},
   "source": [
    "# [NAPARI](https://napari.org/) testing\n",
    "## and adding [cellpose](https://cellpose-napari.readthedocs.io/en/latest/index.html) (installer [here](https://pypi.org/project/cellpose-napari/0.1.3/))\n",
    "\n",
    "To upgrade run in a cell:\n",
    "```python\n",
    "!pip install cellpose-napari==0.1.3\n",
    "!pip install cellpose --upgrade\n",
    "```\n",
    "\n",
    "```bash\n",
    "napari -w cellpose-napari\n",
    "```"
   ]
  },
  {
   "cell_type": "code",
   "execution_count": null,
   "metadata": {},
   "outputs": [],
   "source": [
    "## to install\n",
    "# !pip install napari[all]\n",
    "# !pip install QT\n",
    "# !pip install napari[pyqt5]\n",
    "# !pip install cellpose-napari==0.1.3\n",
    "# !pip install napari-nikon-nd2\n",
    "# !pip install magicgui\n",
    "\n",
    "## to upgrade:\n",
    "# !pip install cellpose-napari==0.1.3\n",
    "# !pip install cellpose --upgrade\n",
    "# !pip install napari[all] --upgrade"
   ]
  },
  {
   "cell_type": "markdown",
   "metadata": {},
   "source": [
    "### Basic usage:\n",
    "```python\n",
    "viewer = napari.view_image(data.astronaut(), rgb=True)\n",
    "nbscreenshot(viewer)\n",
    "viewer.close()\n",
    "```\n",
    "\n",
    "example notebooks [here](https://github.com/sofroniewn/napari-training-course/blob/master/lessons/)"
   ]
  },
  {
   "cell_type": "code",
   "execution_count": 1,
   "metadata": {},
   "outputs": [
    {
     "name": "stdout",
     "output_type": "stream",
     "text": [
      "2021-10-07 14:54:18,208 [INFO] WRITING LOG OUTPUT TO /Users/angueyraaristjm/.cellpose/run.log\n"
     ]
    }
   ],
   "source": [
    "import napari\n",
    "import cellpose_napari\n",
    "from napari.utils import nbscreenshot\n",
    "from tifffile import imread\n",
    "import numpy as np\n",
    "from scipy import ndimage\n",
    "import matplotlib.pyplot as plt\n",
    "import napari_nikon_nd2\n",
    "import os \n",
    "from magicgui import magicgui"
   ]
  },
  {
   "cell_type": "code",
   "execution_count": 2,
   "metadata": {},
   "outputs": [
    {
     "name": "stderr",
     "output_type": "stream",
     "text": [
      "[INFO] Resource 'XMLSchema.xsd' is already loaded\n"
     ]
    },
    {
     "name": "stdout",
     "output_type": "stream",
     "text": [
      "2021-10-07 14:54:21,460 [INFO] Resource 'XMLSchema.xsd' is already loaded\n"
     ]
    }
   ],
   "source": [
    "viewer = napari.Viewer()"
   ]
  },
  {
   "cell_type": "markdown",
   "metadata": {},
   "source": [
    "### Extracting layers from z-stacks for batch analysis"
   ]
  },
  {
   "cell_type": "code",
   "execution_count": null,
   "metadata": {},
   "outputs": [],
   "source": [
    "# clear viewer\n",
    "viewer.layers.select_all()\n",
    "viewer.layers.remove_selected()"
   ]
  },
  {
   "cell_type": "code",
   "execution_count": null,
   "metadata": {},
   "outputs": [],
   "source": [
    "# clear viewer\n",
    "viewer.layers.select_all()\n",
    "viewer.layers.remove_selected()\n",
    "\n",
    "# analysis directory\n",
    "dAnalysis = \"/Users/angueyraaristjm/Documents/LiImaging/Analysis/CRtbx2F0s/xOGs1C/\"\n",
    "\n",
    "# open file\n",
    "dPath = \"/Volumes/zfSSD/LiImaging/A1R/zf/20201113_CRtbx2b/\"\n",
    "# fPath = \"20201113_5dpf_xOG_s1mCh_uninj_i06b\"; zlims = [20,22]; gene = 'wt'; cp_t = 1; cp_mmt = 17.00;\n",
    "fPath = \"20201113_5dpf_xOG_s1mCh_uninjected_i12b\"; zlims = [25,27]; gene = 'wt'; cp_t = 1; cp_mmt = 17.00;\n",
    "# fPath = \"20201113_5dpf_xOG_s1mCh_uninjected_i12d\"; zlims = [26,28]; gene = 'wt'; cp_t = 1; cp_mmt = 17.00;\n",
    "# fPath = \"20201113_5dpf_xOG_s1mCh_uninjected_i13b\"; zlims = [32,34]; gene = 'wt'; cp_t = 1; cp_mmt = 17.00;\n",
    "# fPath = \"20201113_5dpf_xOG_s1mCh_uninjected_i15b\"; zlims = [22,27]; gene = 'wt'; cp_t = 1; cp_mmt = 17.00;\n",
    "# fPath = \"20201113_5dpf_xOG_s1mCh_uninjected_i15d\"; zlims = [23,28]; gene = 'wt'; cp_t = 1; cp_mmt = 17.00;\n",
    "\n",
    "# fPath = \"20201113_5dpf_xOG_s1mCh_CRtbx2b_i09b\"; zlims = [35,37]; gene = 'tbx2b'; cp_t = 1; cp_mmt = 17.00;\n",
    "#### fPath = \"20201113_5dpf_xOG_s1mCh_CRtbx2b_i09d\"; # lens-up zoom in. nice for side view of morphology\n",
    "# fPath = \"20201113_5dpf_xOG_s1mCh_CRtbx2b_i10b\"; zlims = [30,33]; gene = 'tbx2b'; cp_t = 1; cp_mmt = 17.00;\n",
    "fPath = \"20201113_5dpf_xOG_s1mCh_CRtbx2b_i10d\"; zlims = [30,32]; gene = 'tbx2b'; cp_t = 1; cp_mmt = 17.00;\n",
    "#### fPath = \"20201113_5dpf_xOG_s1mCh_CRtbx2b_i10e\"; # cool for looking at pedicles\n",
    "#### fPath = \"20201113_5dpf_xOG_s1mCh_CRtbx2b_i11b\"; # reimaged i10 by mistake\n",
    "# fPath = \"20201113_5dpf_xOG_s1mCh_CRtbx2b_i12b\"; zlims = [25,28]; gene = 'tbx2b'; cp_t = 1; cp_mmt = 17.00;\n",
    "# fPath = \"20201113_5dpf_xOG_s1mCh_CRtbx2b_i12d\"; zlims = [32,34]; gene = 'tbx2b'; cp_t = 1; cp_mmt = 17.00;\n",
    "#### fPath = \"20201113_5dpf_xOG_s1mCh_CRtbx2b_i12e\"; # cone with 2 pedicles???\n",
    "# fPath = \"20201113_5dpf_xOG_s1mCh_CRtbx2b_i13b\"; zlims = [27,32]; gene = 'tbx2b'; cp_t = 1; cp_mmt = 17.00;\n",
    "# fPath = \"20201113_5dpf_xOG_s1mCh_CRtbx2b_i13d\"; zlims = [30.36]; gene = 'tbx2b'; cp_t = 1; cp_mmt = 17.00;\n",
    "# fPath = \"20201113_5dpf_xOG_s1mCh_CRtbx2b_i14b\"; zlims = [24,26]; gene = 'tbx2b'; cp_t = 1; cp_mmt = 17.00;\n",
    "#### fPath = \"20201113_5dpf_xOG_s1mCh_CRtbx2b_i14b2\"; # piece of detached retina, could be best side view for lor\n",
    "#### fPath = \"20201113_5dpf_xOG_s1mCh_CRtbx2b_i14d\"; # curved region with a gash\n",
    "\n",
    "dPath = \"/Volumes/angueyraNEI/LiImaging/A1R/zf2021onwards/20200821_tbx2a_reImage/\"\n",
    "\n",
    "# fPath = \"20200821_5dpf_xOG_s1mCh_uninj_i05b\"; zlims = [47,50]; gene = 'wt'; cp_t = 1; cp_mmt = 17.00;\n",
    "#### fPath = \"20200821_5dpf_xOG_s1mCh_uninj_i05d\"; zlims = [25,27]; gene = 'wt'; cp_t = 1; cp_mmt = 17.00; #side view from lens up eye\n",
    "fPath = \"20200821_5dpf_xOG_s1mCh_uninj_i06b.nd2\"; zlims=[00,00]; gene = 'wt'; # still not done !!!!! (July 2021)\n",
    "fPath = \"20200821_5dpf_xOG_s1mCh_uninj_i06d.nd2\"; zlims=[00,00]; gene = 'wt'; # still not done !!!!! (July 2021)\n",
    "fPath = \"20200821_5dpf_xOG_s1mCh_uninj_i101b.nd2\"; zlims=[00,00]; gene = 'wt'; # still not done !!!!! (July 2021)\n",
    "fPath = \"20200821_5dpf_xOG_s1mCh_uninj_i101d.nd2\"; zlims=[00,00]; gene = 'wt'; # still not done !!!!! (July 2021)\n",
    "fPath = \"20200821_5dpf_xOG_s1mCh_uninj_i102b.nd2\"; zlims=[00,00]; gene = 'wt'; # still not done !!!!! (July 2021)\n",
    "fPath = \"20200821_5dpf_xOG_s1mCh_uninj_i103b.nd2\"; zlims=[00,00]; gene = 'wt'; # still not done !!!!! (July 2021)\n",
    "fPath = \"20200821_5dpf_xOG_s1mCh_uninj_i104b.nd2\"; zlims=[00,00]; gene = 'wt'; # still not done !!!!! (July 2021)\n",
    "fPath = \"20200821_5dpf_xOG_s1mCh_uninj_i104d.nd2\"; zlims=[00,00]; gene = 'wt'; # still not done !!!!! (July 2021)\n",
    "\n",
    "# fPath = \"20200821_5dpf_xOG_s1mCh_CRtbx2a_i05b\"; zlims = [57,60]; gene = 'tbx2a'; cp_t = 1; cp_mmt = 17.00;\n",
    "# fPath = \"20200821_5dpf_xOG_s1mCh_CRtbx2a_i05d\"; zlims = [67,70]; gene = 'tbx2a'; cp_t = 1; cp_mmt = 17.00;\n",
    "# fPath = \"20200821_5dpf_xOG_s1mCh_CRtbx2a_i06b\"; zlims = [45,48]; gene = 'tbx2a'; cp_t = 1; cp_mmt = 17.00;\n",
    "# fPath = \"20200821_5dpf_xOG_s1mCh_CRtbx2a_i06d\"; zlims = [50,52]; gene = 'tbx2a'; cp_t = 1; cp_mmt = 17.00;\n",
    "# fPath = \"20200821_5dpf_xOG_s1mCh_CRtbx2a_i07b\"; zlims = [59,63]; gene = 'tbx2a'; cp_t = 1; cp_mmt = 17.00;\n",
    "# fPath = \"20200821_5dpf_xOG_s1mCh_CRtbx2a_i07d\"; zlims = [50,54]; gene = 'tbx2a'; cp_t = 1; cp_mmt = 17.00;\n",
    "# fPath = \"20200821_5dpf_xOG_s1mCh_CRtbx2a_i08b\"; zlims = [50,54]; gene = 'tbx2a'; cp_t = 1; cp_mmt = 17.00;\n",
    "# fPath = \"20200821_5dpf_xOG_s1mCh_CRtbx2a_i08d\"; zlims = [43,47]; gene = 'tbx2a'; cp_t = 1; cp_mmt = 17.00;\n",
    "# fPath = \"20200821_5dpf_xOG_s1mCh_CRtbx2a_i09b\"; zlims = [30,34]; gene = 'tbx2a'; cp_t = 1; cp_mmt = 17.00;\n",
    "# fPath = \"20200821_5dpf_xOG_s1mCh_CRtbx2a_i09d\"; zlims = [46,50]; gene = 'tbx2a'; cp_t = 1; cp_mmt = 17.00;\n",
    "# fPath = \"20200821_5dpf_xOG_s1mCh_CRtbx2a_i10b\"; zlims = [36,40]; gene = 'tbx2a'; cp_t = 1; cp_mmt = 17.00;\n",
    "# fPath = \"20200821_5dpf_xOG_s1mCh_CRtbx2a_i10d\"; zlims = [40,50]; gene = 'tbx2a'; cp_t = 1; cp_mmt = 17.00;\n",
    "# fPath = \"20200821_5dpf_xOG_s1mCh_CRtbx2a_i11b\"; zlims = [54,70]; gene = 'tbx2a'; cp_t = 1; cp_mmt = 17.00;\n",
    "# fPath = \"20200821_5dpf_xOG_s1mCh_CRtbx2a_i11d\"; zlims = [25,27]; gene = 'tbx2a'; cp_t = 1; cp_mmt = 17.00;\n",
    "\n",
    "\n",
    "\n",
    "\n",
    "\n",
    "# create subdirectory for analysis\n",
    "dOut = dAnalysis + gene + '/' + fPath + '/'\n",
    "if (os.path.isdir(dOut)==False):\n",
    "    os.mkdir(dOut)\n"
   ]
  },
  {
   "cell_type": "code",
   "execution_count": null,
   "metadata": {},
   "outputs": [],
   "source": [
    "# load whole stack to figure out best planes for cellpose\n",
    "viewer.open((dPath+fPath + \".nd2\"))\n",
    "viewer.layers.remove(viewer.layers[2]) # remove transmitted detector image\n",
    "viewer.layers[0].colormap = 'green'\n",
    "viewer.layers[0].name = 'R'\n",
    "viewer.layers[1].colormap = 'magenta'\n",
    "viewer.layers[1].name = 'U'\n",
    "viewer.layers.select_next();\n",
    "print('Loaded!')"
   ]
  },
  {
   "cell_type": "code",
   "execution_count": null,
   "metadata": {},
   "outputs": [],
   "source": [
    "# make mips (and remove any previous ones)\n",
    "zlims = [25,27];\n",
    "if len(viewer.layers)>2:\n",
    "    for l in viewer.layers[2:]:\n",
    "        viewer.layers.remove(l)\n",
    "\n",
    "for l in [viewer.layers[0],viewer.layers[1]]:\n",
    "    l.visible = False\n",
    "#     viewer.layers.remove(l.name + '_mip')\n",
    "    viewer.add_image(l.data[zlims[0]:zlims[1]].max(axis=0), blending='additive', colormap = l.colormap, name = l.name + \"_mip\")"
   ]
  },
  {
   "cell_type": "code",
   "execution_count": null,
   "metadata": {},
   "outputs": [],
   "source": [
    "# when things look good, save in folder for batch cellpose analysis\n",
    "l = viewer.layers['R_mip']; l.save(dOut + l.name + '.tiff')\n",
    "l = viewer.layers['U_mip']; l.save(dOut + l.name + '.tiff')"
   ]
  },
  {
   "cell_type": "code",
   "execution_count": null,
   "metadata": {},
   "outputs": [],
   "source": []
  },
  {
   "cell_type": "code",
   "execution_count": null,
   "metadata": {},
   "outputs": [],
   "source": []
  },
  {
   "cell_type": "code",
   "execution_count": 3,
   "metadata": {},
   "outputs": [],
   "source": [
    "# viewer.close()"
   ]
  },
  {
   "cell_type": "markdown",
   "metadata": {},
   "source": [
    "#### Run cellpose one by one and modify parameters"
   ]
  },
  {
   "cell_type": "code",
   "execution_count": null,
   "metadata": {},
   "outputs": [],
   "source": [
    "# clear viewer\n",
    "viewer.layers.select_all()\n",
    "viewer.layers.remove_selected()\n",
    "\n",
    "# analysis directory\n",
    "dAnalysis = \"/Users/angueyraaristjm/Documents/LiImaging/Analysis/CRtbx2F0s/xOGs1C/\"\n",
    "\n",
    "# open file\n",
    "dPath = \"/Volumes/zfSSD/LiImaging/A1R/zf/20201113_CRtbx2b/\"\n",
    "# fPath = \"20201113_5dpf_xOG_s1mCh_uninj_i06b\"; zlims = [20,22]; gene = 'wt'; cp_t = 1; cp_mmt = 17.00;\n",
    "# fPath = \"20201113_5dpf_xOG_s1mCh_uninjected_i12b\"; zlims = [25,27]; gene = 'wt'; cp_t = 1; cp_mmt = 17.00;\n",
    "fPath = \"20201113_5dpf_xOG_s1mCh_uninjected_i12d\"; zlims = [26,28]; gene = 'wt'; cp_t = 1; cp_mmt = 17.00;\n",
    "fPath = \"20201113_5dpf_xOG_s1mCh_uninjected_i13b\"; zlims = [32,34]; gene = 'wt'; cp_t = 1; cp_mmt = 17.00;\n",
    "fPath = \"20201113_5dpf_xOG_s1mCh_uninjected_i15b\"; zlims = [22,27]; gene = 'wt'; cp_t = 1; cp_mmt = 17.00;\n",
    "fPath = \"20201113_5dpf_xOG_s1mCh_uninjected_i15d\"; zlims = [23,28]; gene = 'wt'; cp_t = 1; cp_mmt = 17.00;\n",
    "\n",
    "# fPath = \"20201113_5dpf_xOG_s1mCh_CRtbx2b_i09b\"; zlims = [35,37]; gene = 'tbx2b'; cp_t = 1; cp_mmt = 17.00;\n",
    "#### fPath = \"20201113_5dpf_xOG_s1mCh_CRtbx2b_i09d\"; # lens-up zoom in. nice for side view of morphology\n",
    "# fPath = \"20201113_5dpf_xOG_s1mCh_CRtbx2b_i10b\"; zlims = [30,33]; gene = 'tbx2b'; cp_t = 1; cp_mmt = 17.00;\n",
    "# fPath = \"20201113_5dpf_xOG_s1mCh_CRtbx2b_i10d\"; zlims = [30,32]; gene = 'tbx2b'; cp_t = 1; cp_mmt = 17.00;\n",
    "#### fPath = \"20201113_5dpf_xOG_s1mCh_CRtbx2b_i10e\"; # cool for looking at pedicles\n",
    "#### fPath = \"20201113_5dpf_xOG_s1mCh_CRtbx2b_i11b\"; # reimaged i10 by mistake\n",
    "# fPath = \"20201113_5dpf_xOG_s1mCh_CRtbx2b_i12b\"; zlims = [25,28]; gene = 'tbx2b'; cp_t = 1; cp_mmt = 17.00;\n",
    "# fPath = \"20201113_5dpf_xOG_s1mCh_CRtbx2b_i12d\"; zlims = [32,34]; gene = 'tbx2b'; cp_t = 1; cp_mmt = 17.00;\n",
    "#### fPath = \"20201113_5dpf_xOG_s1mCh_CRtbx2b_i12e\"; # cone with 2 pedicles???\n",
    "# fPath = \"20201113_5dpf_xOG_s1mCh_CRtbx2b_i13b\"; zlims = [27,32]; gene = 'tbx2b'; cp_t = 1; cp_mmt = 17.00;\n",
    "# fPath = \"20201113_5dpf_xOG_s1mCh_CRtbx2b_i13d\"; zlims = [30.36]; gene = 'tbx2b'; cp_t = 1; cp_mmt = 17.00;\n",
    "fPath = \"20201113_5dpf_xOG_s1mCh_CRtbx2b_i14b\"; zlims = [24,26]; gene = 'tbx2b'; cp_t = 1; cp_mmt = 17.00;\n",
    "#### fPath = \"20201113_5dpf_xOG_s1mCh_CRtbx2b_i14b2\"; # piece of detached retina, could be best side view for lor\n",
    "#### fPath = \"20201113_5dpf_xOG_s1mCh_CRtbx2b_i14d\"; # curved region with a gash\n",
    "\n",
    "\n",
    "fPath = \"20200821_5dpf_xOG_s1mCh_uninj_i05b\"; zlims = [47,50]; gene = 'wt'; cp_t = 1; cp_mmt = 17.00;\n",
    "#### fPath = \"20200821_5dpf_xOG_s1mCh_uninj_i05d\"; zlims = [25,27]; gene = 'wt'; cp_t = 1; cp_mmt = 17.00; #side view from lens up eye\n",
    "\n",
    "\n",
    "fPath = \"20200821_5dpf_xOG_s1mCh_CRtbx2a_i05b\"; zlims = [57,60]; gene = 'tbx2a'; cp_t = 1; cp_mmt = 17.00;\n",
    "fPath = \"20200821_5dpf_xOG_s1mCh_CRtbx2a_i05d\"; zlims = [67,70]; gene = 'tbx2a'; cp_t = 1; cp_mmt = 17.00;\n",
    "fPath = \"20200821_5dpf_xOG_s1mCh_CRtbx2a_i06b\"; zlims = [45,48]; gene = 'tbx2a'; cp_t = 1; cp_mmt = 17.00;\n",
    "fPath = \"20200821_5dpf_xOG_s1mCh_CRtbx2a_i06d\"; zlims = [50,52]; gene = 'tbx2a'; cp_t = 1; cp_mmt = 17.00;\n",
    "fPath = \"20200821_5dpf_xOG_s1mCh_CRtbx2a_i07b\"; zlims = [59,63]; gene = 'tbx2a'; cp_t = 1; cp_mmt = 17.00;\n",
    "fPath = \"20200821_5dpf_xOG_s1mCh_CRtbx2a_i07d\"; zlims = [50,54]; gene = 'tbx2a'; cp_t = 1; cp_mmt = 17.00;\n",
    "fPath = \"20200821_5dpf_xOG_s1mCh_CRtbx2a_i08b\"; zlims = [50,54]; gene = 'tbx2a'; cp_t = 1; cp_mmt = 17.00;\n",
    "fPath = \"20200821_5dpf_xOG_s1mCh_CRtbx2a_i08d\"; zlims = [43,47]; gene = 'tbx2a'; cp_t = 1; cp_mmt = 17.00;\n",
    "fPath = \"20200821_5dpf_xOG_s1mCh_CRtbx2a_i09b\"; zlims = [30,34]; gene = 'tbx2a'; cp_t = 1; cp_mmt = 17.00;\n",
    "fPath = \"20200821_5dpf_xOG_s1mCh_CRtbx2a_i09d\"; zlims = [46,50]; gene = 'tbx2a'; cp_t = 1; cp_mmt = 17.00;\n",
    "fPath = \"20200821_5dpf_xOG_s1mCh_CRtbx2a_i10b\"; zlims = [36,40]; gene = 'tbx2a'; cp_t = 1; cp_mmt = 17.00;\n",
    "fPath = \"20200821_5dpf_xOG_s1mCh_CRtbx2a_i10d\"; zlims = [40,50]; gene = 'tbx2a'; cp_t = 1; cp_mmt = 17.00;\n",
    "fPath = \"20200821_5dpf_xOG_s1mCh_CRtbx2a_i11b\"; zlims = [54,70]; gene = 'tbx2a'; cp_t = 1; cp_mmt = 17.00;\n",
    "fPath = \"20200821_5dpf_xOG_s1mCh_CRtbx2a_i11d\"; zlims = [25,27]; gene = 'tbx2a'; cp_t = 1; cp_mmt = 17.00;\n",
    "\n",
    "\n",
    "# create subdirectory for analysis\n",
    "dOut = dAnalysis + gene + '/' + fPath + '/'\n"
   ]
  },
  {
   "cell_type": "code",
   "execution_count": null,
   "metadata": {},
   "outputs": [],
   "source": [
    "viewer.layers.select_all()\n",
    "viewer.layers.remove_selected()\n",
    "\n",
    "# load mips\n",
    "viewer.open(dOut + 'R' + \"_mip.tiff\", plugin='builtins', colormap = 'green');\n",
    "viewer.open(dOut + 'U' + \"_mip.tiff\", plugin='builtins', colormap = 'magenta', blending='additive');\n",
    "print('Loaded! Now run cellpose!!!!')"
   ]
  },
  {
   "cell_type": "code",
   "execution_count": null,
   "metadata": {},
   "outputs": [],
   "source": [
    "# after running cellpose, rename cellpose images and save before manual curation:\n",
    "baseName = 'R'\n",
    "# baseName = 'U'\n",
    "lname = baseName + '_mip'\n",
    "viewer.layers[lname + '_cp_masks_000'].name = baseName + '_seg'\n",
    "viewer.layers[lname + '_cp_outlines_000'].name = baseName + '_outlines'\n",
    "viewer.layers[lname + '_cp_cellprob_000'].name = baseName + '_prob'\n",
    "viewer.layers[lname + '_cp_flows_000'].name = baseName + '_flows'\n",
    "\n",
    "l = viewer.layers[baseName + '_seg']; l.save(dOut + l.name + '.tiff')\n",
    "l = viewer.layers[baseName + '_outlines']; l.save(dOut + l.name + '.tiff')\n",
    "l = viewer.layers[baseName + '_prob']; l.save(dOut + l.name + '.tiff')\n",
    "l = viewer.layers[baseName + '_flows']; l.save(dOut + l.name + '.tiff')"
   ]
  },
  {
   "cell_type": "markdown",
   "metadata": {},
   "source": [
    "## Now manually fix segmentation after cellpose"
   ]
  },
  {
   "cell_type": "code",
   "execution_count": null,
   "metadata": {},
   "outputs": [],
   "source": [
    "\n",
    "# analysis directory\n",
    "dAnalysis = \"/Users/angueyraaristjm/Documents/LiImaging/Analysis/CRtbx2F0s/xOGs1C/\"\n",
    "\n",
    "# open file\n",
    "dPath = \"/Volumes/zfSSD/LiImaging/A1R/zf/20201113_CRtbx2b/\"\n",
    "# fPath = \"20201113_5dpf_xOG_s1mCh_uninj_i06b\"; zlims = [20,22]; gene = 'wt'; cp_t = 1; cp_mmt = 17.00;\n",
    "# fPath = \"20201113_5dpf_xOG_s1mCh_uninjected_i12b\"; zlims = [25,27]; gene = 'wt'; cp_t = 1; cp_mmt = 17.00;\n",
    "# fPath = \"20201113_5dpf_xOG_s1mCh_uninjected_i12d\"; zlims = [26,28]; gene = 'wt'; cp_t = 1; cp_mmt = 17.00;\n",
    "# fPath = \"20201113_5dpf_xOG_s1mCh_uninjected_i13b\"; zlims = [32,34]; gene = 'wt'; cp_t = 1; cp_mmt = 17.00;\n",
    "# fPath = \"20201113_5dpf_xOG_s1mCh_uninjected_i15b\"; zlims = [22,27]; gene = 'wt'; cp_t = 1; cp_mmt = 17.00; \n",
    "# fPath = \"20201113_5dpf_xOG_s1mCh_uninjected_i15d\"; zlims = [23,28]; gene = 'wt'; cp_t = 1; cp_mmt = 17.00;\n",
    "\n",
    "# fPath = \"20201113_5dpf_xOG_s1mCh_CRtbx2b_i09b\"; zlims = [35,37]; gene = 'tbx2b'; cp_t = 1; cp_mmt = 17.00;\n",
    "#### fPath = \"20201113_5dpf_xOG_s1mCh_CRtbx2b_i09d\"; # lens-up zoom in. nice for side view of morphology\n",
    "# fPath = \"20201113_5dpf_xOG_s1mCh_CRtbx2b_i10b\"; zlims = [30,33]; gene = 'tbx2b'; cp_t = 1; cp_mmt = 17.00;\n",
    "# fPath = \"20201113_5dpf_xOG_s1mCh_CRtbx2b_i10d\"; zlims = [30,32]; gene = 'tbx2b'; cp_t = 1; cp_mmt = 17.00;\n",
    "#### fPath = \"20201113_5dpf_xOG_s1mCh_CRtbx2b_i10e\"; # cool for looking at pedicles\n",
    "#### fPath = \"20201113_5dpf_xOG_s1mCh_CRtbx2b_i11b\"; # reimaged i10 by mistake\n",
    "# fPath = \"20201113_5dpf_xOG_s1mCh_CRtbx2b_i12b\"; zlims = [25,28]; gene = 'tbx2b'; cp_t = 1; cp_mmt = 17.00;\n",
    "# fPath = \"20201113_5dpf_xOG_s1mCh_CRtbx2b_i12d\"; zlims = [32,34]; gene = 'tbx2b'; cp_t = 1; cp_mmt = 17.00;\n",
    "#### fPath = \"20201113_5dpf_xOG_s1mCh_CRtbx2b_i12e\"; # cone with 2 pedicles???\n",
    "# fPath = \"20201113_5dpf_xOG_s1mCh_CRtbx2b_i13b\"; zlims = [27,32]; gene = 'tbx2b'; cp_t = 1; cp_mmt = 17.00;\n",
    "# fPath = \"20201113_5dpf_xOG_s1mCh_CRtbx2b_i13d\"; zlims = [30.36]; gene = 'tbx2b'; cp_t = 1; cp_mmt = 17.00;\n",
    "# fPath = \"20201113_5dpf_xOG_s1mCh_CRtbx2b_i14b\"; zlims = [24,26]; gene = 'tbx2b'; cp_t = 1; cp_mmt = 17.00;\n",
    "#### fPath = \"20201113_5dpf_xOG_s1mCh_CRtbx2b_i14b2\"; # piece of detached retina, could be best side view for lor\n",
    "#### fPath = \"20201113_5dpf_xOG_s1mCh_CRtbx2b_i14d\"; # curved region with a gash\n",
    "\n",
    "\n",
    "# fPath = \"20200821_5dpf_xOG_s1mCh_uninj_i05b\"; zlims = [47,50]; gene = 'wt'; cp_t = 1; cp_mmt = 17.00; \n",
    "# #### fPath = \"20200821_5dpf_xOG_s1mCh_uninj_i05d\"; zlims = [25,27]; gene = 'wt'; cp_t = 1; cp_mmt = 17.00; #side view from lens up eye\n",
    "\n",
    "\n",
    "# fPath = \"20200821_5dpf_xOG_s1mCh_CRtbx2a_i05b\"; zlims = [57,60]; gene = 'tbx2a'; cp_t = 1; cp_mmt = 17.00;\n",
    "# fPath = \"20200821_5dpf_xOG_s1mCh_CRtbx2a_i05d\"; zlims = [67,70]; gene = 'tbx2a'; cp_t = 1; cp_mmt = 17.00;\n",
    "# fPath = \"20200821_5dpf_xOG_s1mCh_CRtbx2a_i06b\"; zlims = [45,48]; gene = 'tbx2a'; cp_t = 1; cp_mmt = 17.00; \n",
    "# fPath = \"20200821_5dpf_xOG_s1mCh_CRtbx2a_i06d\"; zlims = [50,52]; gene = 'tbx2a'; cp_t = 1; cp_mmt = 17.00;\n",
    "# fPath = \"20200821_5dpf_xOG_s1mCh_CRtbx2a_i07b\"; zlims = [59,63]; gene = 'tbx2a'; cp_t = 1; cp_mmt = 17.00;\n",
    "# fPath = \"20200821_5dpf_xOG_s1mCh_CRtbx2a_i07d\"; zlims = [50,54]; gene = 'tbx2a'; cp_t = 1; cp_mmt = 17.00; \n",
    "# fPath = \"20200821_5dpf_xOG_s1mCh_CRtbx2a_i08b\"; zlims = [50,54]; gene = 'tbx2a'; cp_t = 1; cp_mmt = 17.00;\n",
    "# fPath = \"20200821_5dpf_xOG_s1mCh_CRtbx2a_i08d\"; zlims = [43,47]; gene = 'tbx2a'; cp_t = 1; cp_mmt = 17.00;\n",
    "# fPath = \"20200821_5dpf_xOG_s1mCh_CRtbx2a_i09b\"; zlims = [30,34]; gene = 'tbx2a'; cp_t = 1; cp_mmt = 17.00;\n",
    "# fPath = \"20200821_5dpf_xOG_s1mCh_CRtbx2a_i09d\"; zlims = [46,50]; gene = 'tbx2a'; cp_t = 1; cp_mmt = 17.00; \n",
    "# fPath = \"20200821_5dpf_xOG_s1mCh_CRtbx2a_i10b\"; zlims = [36,40]; gene = 'tbx2a'; cp_t = 1; cp_mmt = 17.00;\n",
    "# fPath = \"20200821_5dpf_xOG_s1mCh_CRtbx2a_i10d\"; zlims = [40,50]; gene = 'tbx2a'; cp_t = 1; cp_mmt = 17.00;\n",
    "# fPath = \"20200821_5dpf_xOG_s1mCh_CRtbx2a_i11b\"; zlims = [54,70]; gene = 'tbx2a'; cp_t = 1; cp_mmt = 17.00;\n",
    "fPath = \"20200821_5dpf_xOG_s1mCh_CRtbx2a_i11d\"; zlims = [25,27]; gene = 'tbx2a'; cp_t = 1; cp_mmt = 17.00;\n",
    "\n",
    "\n",
    "# subdirectory for analysis\n",
    "dOut = dAnalysis + gene + '/' + fPath + '/'\n",
    "\n",
    "# clear viewer\n",
    "viewer.layers.select_all()\n",
    "viewer.layers.remove_selected()\n",
    "# clear key binds\n",
    "@viewer.bind_key('k', overwrite=True)\n",
    "def toggle_sel(viewer):\n",
    "    ...\n",
    "@viewer.bind_key('Shift-x', overwrite=True)\n",
    "def removeLabel(viewer):\n",
    "    ...\n",
    "\n",
    "# load mips\n",
    "viewer.open(dOut + 'R' + \"_mip.tiff\", plugin='builtins', colormap = 'green');\n",
    "viewer.open(dOut + 'U' + \"_mip.tiff\", plugin='builtins', colormap = 'magenta', blending='additive');\n",
    "viewer.open(dOut + 'R' + \"_seg.tiff\", plugin='builtins');\n",
    "viewer.open(dOut + 'U' + \"_seg.tiff\", plugin='builtins');\n",
    "viewer.layers['R_seg'].preserve_labels = True;\n",
    "viewer.layers['U_seg'].preserve_labels = True;\n",
    "\n",
    "viewer.layers['R_seg'].contour = 5\n",
    "viewer.layers['U_seg'].contour = 5\n",
    "\n",
    "viewer.layers['U_mip'].visible = False\n",
    "viewer.layers['U_seg'].visible = False\n",
    "\n",
    "\n",
    "print('Loaded  ' + fPath + ' !\\n Now fix it and save it!')"
   ]
  },
  {
   "cell_type": "code",
   "execution_count": null,
   "metadata": {},
   "outputs": [],
   "source": [
    "# resave curated segmentation after napari-ing around\n",
    "baseName = 'R'\n",
    "lname = baseName + '_seg'\n",
    "l = viewer.layers[baseName + '_seg']; l.save(dOut + l.name + '_curated.tiff')\n",
    "viewer.layers['U_mip'].visible = True\n",
    "viewer.layers['U_seg'].visible = True\n",
    "viewer.layers['R_seg'].contour = 0"
   ]
  },
  {
   "cell_type": "code",
   "execution_count": null,
   "metadata": {},
   "outputs": [],
   "source": [
    "# resave curated segmentation after napari-ing around\n",
    "baseName = 'U'\n",
    "lname = baseName + '_seg'\n",
    "l = viewer.layers[baseName + '_seg']; l.save(dOut + l.name + '_curated.tiff')"
   ]
  },
  {
   "cell_type": "code",
   "execution_count": null,
   "metadata": {},
   "outputs": [],
   "source": []
  },
  {
   "cell_type": "code",
   "execution_count": null,
   "metadata": {},
   "outputs": [],
   "source": []
  },
  {
   "cell_type": "code",
   "execution_count": null,
   "metadata": {},
   "outputs": [],
   "source": [
    "# remove all except mips\n",
    "if len(viewer.layers)>2:\n",
    "    for l in viewer.layers[2:]:\n",
    "        viewer.layers.remove(l)"
   ]
  },
  {
   "cell_type": "code",
   "execution_count": null,
   "metadata": {},
   "outputs": [],
   "source": [
    "viewer.open(dOut + 'R' + \"_seg_curated.tiff\", name='R_seg', plugin='builtins');\n",
    "viewer.open(dOut + 'U' + \"_seg_curated.tiff\", name='U_seg', plugin='builtins');\n",
    "viewer.layers['U_seg'].contour = 5\n",
    "\n",
    "print(fPath)\n",
    "nR = len(np.unique(viewer.layers['R_seg'].data))-1\n",
    "print(\"Image has {0} Rods\".format(nR))\n",
    "nU = len(np.unique(viewer.layers['U_seg'].data))-1\n",
    "print(\"Image has {0} UV cones\".format(nU))"
   ]
  },
  {
   "cell_type": "code",
   "execution_count": null,
   "metadata": {},
   "outputs": [],
   "source": [
    "print(fPath)\n",
    "nR = len(np.unique(viewer.layers['R_seg'].data))-1\n",
    "print(\"Image has {0} Rods\".format(nR))\n",
    "nU = len(np.unique(viewer.layers['U_seg'].data))-1\n",
    "print(\"Image has {0} UV cones\".format(nU))"
   ]
  },
  {
   "cell_type": "code",
   "execution_count": null,
   "metadata": {},
   "outputs": [],
   "source": []
  },
  {
   "cell_type": "code",
   "execution_count": null,
   "metadata": {},
   "outputs": [],
   "source": [
    "@viewer.bind_key('Shift-x', overwrite=True)\n",
    "def removeLabel(viewer):\n",
    "    lname = 'R_seg'\n",
    "#     lname = 'U_seg'\n",
    "    tempd = viewer.layers[lname].data\n",
    "    tempd[tempd == viewer.layers[lname].selected_label]=0\n",
    "    viewer.layers[lname].data = tempd\n",
    "    print('Cut!')"
   ]
  },
  {
   "cell_type": "code",
   "execution_count": null,
   "metadata": {},
   "outputs": [],
   "source": [
    "# manual merging of labels\n",
    "mergeLabels = [15,17]\n",
    "lname = 'R_seg'\n",
    "# lname = 'U_seg'\n",
    "tempd = viewer.layers[lname].data\n",
    "tempd[tempd == mergeLabels[1]]=mergeLabels[0]\n",
    "viewer.layers[lname].data = tempd\n",
    "print('Merged!')"
   ]
  },
  {
   "cell_type": "code",
   "execution_count": null,
   "metadata": {},
   "outputs": [],
   "source": [
    "# manually delete label\n",
    "selLabel = 49\n",
    "lname = 'U_seg'\n",
    "tempd = viewer.layers[lname].data\n",
    "tempd[tempd == selLabel]=0\n",
    "viewer.layers[lname].data = tempd"
   ]
  },
  {
   "cell_type": "code",
   "execution_count": null,
   "metadata": {},
   "outputs": [],
   "source": [
    "@viewer.bind_key('k', overwrite=True)\n",
    "def toggle_sel(viewer):\n",
    "    lname = 'R_seg'\n",
    "    if (viewer.layers[lname].show_selected_label == True):\n",
    "        viewer.layers[lname].show_selected_label = False\n",
    "    elif (viewer.layers[lname].show_selected_label == False):\n",
    "        viewer.layers[lname].show_selected_label = True"
   ]
  },
  {
   "cell_type": "code",
   "execution_count": null,
   "metadata": {},
   "outputs": [],
   "source": []
  },
  {
   "cell_type": "code",
   "execution_count": null,
   "metadata": {},
   "outputs": [],
   "source": []
  },
  {
   "cell_type": "markdown",
   "metadata": {},
   "source": [
    "## Would be nice here to export a png with mips and contours of curated segmentation\n",
    "> and set layers['X_seg'].contour = 3;"
   ]
  },
  {
   "cell_type": "code",
   "execution_count": null,
   "metadata": {},
   "outputs": [],
   "source": [
    "\n",
    "# analysis directory\n",
    "dAnalysis = \"/Users/angueyraaristjm/Documents/LiImaging/Analysis/CRtbx2F0s/xOGs1C/\"\n",
    "\n",
    "# open file\n",
    "dPath = \"/Volumes/zfSSD/LiImaging/A1R/zf/20201113_CRtbx2b/\"\n",
    "# fPath = \"20201113_5dpf_xOG_s1mCh_uninj_i06b\"; zlims = [20,22]; gene = 'wt'; cp_t = 1; cp_mmt = 17.00;\n",
    "# fPath = \"20201113_5dpf_xOG_s1mCh_uninjected_i12b\"; zlims = [25,27]; gene = 'wt'; cp_t = 1; cp_mmt = 17.00;\n",
    "# fPath = \"20201113_5dpf_xOG_s1mCh_uninjected_i12d\"; zlims = [26,28]; gene = 'wt'; cp_t = 1; cp_mmt = 17.00;\n",
    "# fPath = \"20201113_5dpf_xOG_s1mCh_uninjected_i13b\"; zlims = [32,34]; gene = 'wt'; cp_t = 1; cp_mmt = 17.00;\n",
    "fPath = \"20201113_5dpf_xOG_s1mCh_uninjected_i15b\"; zlims = [22,27]; gene = 'wt'; cp_t = 1; cp_mmt = 17.00; \n",
    "# fPath = \"20201113_5dpf_xOG_s1mCh_uninjected_i15d\"; zlims = [23,28]; gene = 'wt'; cp_t = 1; cp_mmt = 17.00;\n",
    "\n",
    "# fPath = \"20201113_5dpf_xOG_s1mCh_CRtbx2b_i09b\"; zlims = [35,37]; gene = 'tbx2b'; cp_t = 1; cp_mmt = 17.00;\n",
    "### fPath = \"20201113_5dpf_xOG_s1mCh_CRtbx2b_i09d\"; # lens-up zoom in. nice for side view of morphology\n",
    "# fPath = \"20201113_5dpf_xOG_s1mCh_CRtbx2b_i10b\"; zlims = [30,33]; gene = 'tbx2b'; cp_t = 1; cp_mmt = 17.00;\n",
    "# fPath = \"20201113_5dpf_xOG_s1mCh_CRtbx2b_i10d\"; zlims = [30,32]; gene = 'tbx2b'; cp_t = 1; cp_mmt = 17.00;\n",
    "#### fPath = \"20201113_5dpf_xOG_s1mCh_CRtbx2b_i10e\"; # cool for looking at pedicles\n",
    "#### fPath = \"20201113_5dpf_xOG_s1mCh_CRtbx2b_i11b\"; # reimaged i10 by mistake\n",
    "# fPath = \"20201113_5dpf_xOG_s1mCh_CRtbx2b_i12b\"; zlims = [25,28]; gene = 'tbx2b'; cp_t = 1; cp_mmt = 17.00;\n",
    "# fPath = \"20201113_5dpf_xOG_s1mCh_CRtbx2b_i12d\"; zlims = [32,34]; gene = 'tbx2b'; cp_t = 1; cp_mmt = 17.00;\n",
    "#### fPath = \"20201113_5dpf_xOG_s1mCh_CRtbx2b_i12e\"; # cone with 2 pedicles???\n",
    "# fPath = \"20201113_5dpf_xOG_s1mCh_CRtbx2b_i13b\"; zlims = [27,32]; gene = 'tbx2b'; cp_t = 1; cp_mmt = 17.00;\n",
    "# fPath = \"20201113_5dpf_xOG_s1mCh_CRtbx2b_i13d\"; zlims = [30.36]; gene = 'tbx2b'; cp_t = 1; cp_mmt = 17.00;\n",
    "# fPath = \"20201113_5dpf_xOG_s1mCh_CRtbx2b_i14b\"; zlims = [24,26]; gene = 'tbx2b'; cp_t = 1; cp_mmt = 17.00;\n",
    "#### fPath = \"20201113_5dpf_xOG_s1mCh_CRtbx2b_i14b2\"; # piece of detached retina, could be best side view for lor\n",
    "#### fPath = \"20201113_5dpf_xOG_s1mCh_CRtbx2b_i14d\"; # curved region with a gash\n",
    "\n",
    "\n",
    "# fPath = \"20200821_5dpf_xOG_s1mCh_uninj_i05b\"; zlims = [47,50]; gene = 'wt'; cp_t = 1; cp_mmt = 17.00; \n",
    "# #### fPath = \"20200821_5dpf_xOG_s1mCh_uninj_i05d\"; zlims = [25,27]; gene = 'wt'; cp_t = 1; cp_mmt = 17.00; #side view from lens up eye\n",
    "\n",
    "\n",
    "# fPath = \"20200821_5dpf_xOG_s1mCh_CRtbx2a_i05b\"; zlims = [57,60]; gene = 'tbx2a'; cp_t = 1; cp_mmt = 17.00;\n",
    "# fPath = \"20200821_5dpf_xOG_s1mCh_CRtbx2a_i05d\"; zlims = [67,70]; gene = 'tbx2a'; cp_t = 1; cp_mmt = 17.00;\n",
    "# fPath = \"20200821_5dpf_xOG_s1mCh_CRtbx2a_i06b\"; zlims = [45,48]; gene = 'tbx2a'; cp_t = 1; cp_mmt = 17.00; \n",
    "# fPath = \"20200821_5dpf_xOG_s1mCh_CRtbx2a_i06d\"; zlims = [50,52]; gene = 'tbx2a'; cp_t = 1; cp_mmt = 17.00;\n",
    "fPath = \"20200821_5dpf_xOG_s1mCh_CRtbx2a_i07b\"; zlims = [59,63]; gene = 'tbx2a'; cp_t = 1; cp_mmt = 17.00;\n",
    "# fPath = \"20200821_5dpf_xOG_s1mCh_CRtbx2a_i07d\"; zlims = [50,54]; gene = 'tbx2a'; cp_t = 1; cp_mmt = 17.00; \n",
    "# fPath = \"20200821_5dpf_xOG_s1mCh_CRtbx2a_i08b\"; zlims = [50,54]; gene = 'tbx2a'; cp_t = 1; cp_mmt = 17.00;\n",
    "# fPath = \"20200821_5dpf_xOG_s1mCh_CRtbx2a_i08d\"; zlims = [43,47]; gene = 'tbx2a'; cp_t = 1; cp_mmt = 17.00;\n",
    "# fPath = \"20200821_5dpf_xOG_s1mCh_CRtbx2a_i09b\"; zlims = [30,34]; gene = 'tbx2a'; cp_t = 1; cp_mmt = 17.00;\n",
    "# fPath = \"20200821_5dpf_xOG_s1mCh_CRtbx2a_i09d\"; zlims = [46,50]; gene = 'tbx2a'; cp_t = 1; cp_mmt = 17.00; \n",
    "# fPath = \"20200821_5dpf_xOG_s1mCh_CRtbx2a_i10b\"; zlims = [36,40]; gene = 'tbx2a'; cp_t = 1; cp_mmt = 17.00;\n",
    "# fPath = \"20200821_5dpf_xOG_s1mCh_CRtbx2a_i10d\"; zlims = [40,50]; gene = 'tbx2a'; cp_t = 1; cp_mmt = 17.00;\n",
    "# fPath = \"20200821_5dpf_xOG_s1mCh_CRtbx2a_i11b\"; zlims = [54,70]; gene = 'tbx2a'; cp_t = 1; cp_mmt = 17.00;\n",
    "# fPath = \"20200821_5dpf_xOG_s1mCh_CRtbx2a_i11d\"; zlims = [25,27]; gene = 'tbx2a'; cp_t = 1; cp_mmt = 17.00;\n",
    "\n",
    "\n",
    "# subdirectory for analysis\n",
    "dOut = dAnalysis + gene + '/' + fPath + '/'\n",
    "\n",
    "# clear viewer\n",
    "viewer.layers.select_all()\n",
    "viewer.layers.remove_selected()\n",
    "# clear key binds\n",
    "@viewer.bind_key('k', overwrite=True)\n",
    "def toggle_sel(viewer):\n",
    "    ...\n",
    "@viewer.bind_key('Shift-x', overwrite=True)\n",
    "def removeLabel(viewer):\n",
    "    ...\n",
    "\n",
    "# load mips\n",
    "viewer.open(dOut + 'R' + \"_mip.tiff\", plugin='builtins', colormap = 'green');\n",
    "viewer.open(dOut + 'U' + \"_mip.tiff\", plugin='builtins', colormap = 'magenta', blending='additive');\n",
    "viewer.open(dOut + 'R' + \"_seg_curated.tiff\", name='R_seg', plugin='builtins');\n",
    "viewer.open(dOut + 'U' + \"_seg_curated.tiff\", name='U_seg', plugin='builtins');\n",
    "viewer.layers['R_seg'].preserve_labels = True;\n",
    "viewer.layers['U_seg'].preserve_labels = True;\n",
    "\n",
    "viewer.layers['R_seg'].contour = 11\n",
    "viewer.layers['U_seg'].contour = 3\n",
    "\n",
    "\n",
    "print('Loaded  ' + fPath + ' !\\n Now fix it and save it!')"
   ]
  },
  {
   "cell_type": "code",
   "execution_count": null,
   "metadata": {},
   "outputs": [],
   "source": []
  },
  {
   "cell_type": "code",
   "execution_count": null,
   "metadata": {},
   "outputs": [],
   "source": []
  },
  {
   "cell_type": "code",
   "execution_count": null,
   "metadata": {},
   "outputs": [],
   "source": []
  },
  {
   "cell_type": "code",
   "execution_count": null,
   "metadata": {},
   "outputs": [],
   "source": [
    "viewer.close()"
   ]
  },
  {
   "cell_type": "markdown",
   "metadata": {},
   "source": [
    "## Testing segmentation\n",
    "1. Load single plane image from zoon in into larval eye, L cones only\n",
    "2. Run cellpose\n",
    "3. Count number of "
   ]
  },
  {
   "cell_type": "code",
   "execution_count": null,
   "metadata": {},
   "outputs": [],
   "source": [
    "viewer = napari.Viewer()"
   ]
  },
  {
   "cell_type": "code",
   "execution_count": null,
   "metadata": {},
   "outputs": [],
   "source": [
    "# clear viewer\n",
    "viewer.layers.select_all()\n",
    "viewer.layers.remove_selected()"
   ]
  },
  {
   "cell_type": "code",
   "execution_count": null,
   "metadata": {},
   "outputs": [],
   "source": [
    "dPath = \"/Users/angueyraaristjm/Documents/LiImaging/A1R/zf_partial/20201009_CRtbx2a/\"\n",
    "fPathL = \"20201009_i06b_L\"\n",
    "fPathM = \"20201009_i06b_M\"\n",
    "# load the image data and inspect its shape\n",
    "zfL = imread(dPath+fPathL + \".tiff\")\n",
    "zfM = imread(dPath+fPathM + \".tiff\")\n",
    "viewer.add_image(zfL, colormap='magenta')#, contrast_limits=[196,5860]);\n",
    "viewer.add_image(zfM, colormap='green', blending='additive')#, contrast_limits=[223,6721]);\n",
    "viewer.open(dPath+fPathL + \"_seg.tiff\", name='zfL_seg', plugin='builtins');\n",
    "viewer.open(dPath+fPathM + \"_seg.tiff\", name='zfM_seg', plugin='builtins');\n",
    "# nbscreenshot(viewer)"
   ]
  },
  {
   "cell_type": "code",
   "execution_count": null,
   "metadata": {},
   "outputs": [],
   "source": [
    "nL = len(np.unique(viewer.layers['zfL_seg'].data))-1\n",
    "print(\"Image has {0} L cones\".format(nL))\n",
    "nM = len(np.unique(viewer.layers['zfM_seg'].data))-1\n",
    "print(\"Image has {0} M cones\".format(nM))\n",
    "\n",
    "dL = viewer.layers['zfL_seg'].data\n",
    "dM = viewer.layers['zfM_seg'].data"
   ]
  },
  {
   "cell_type": "markdown",
   "metadata": {},
   "source": [
    "Not sure how to normalize across images...\n",
    "1. average GFP instensity inside M-cones? &rarr; difficult in CRISPants\n",
    "1. max GFP intensity? &rarr; could be ok"
   ]
  },
  {
   "cell_type": "code",
   "execution_count": null,
   "metadata": {},
   "outputs": [],
   "source": [
    "# eroding segmentation because it too generous with ROIs and I want to exclude GFP diffraction\n",
    "viewer.layers['zfL_seg'].data = ndimage.grey_erosion(dL, size=(8,8))\n",
    "viewer.layers['zfM_seg'].data = ndimage.grey_erosion(dM, size=(8,8))\n",
    "\n",
    "L_avgG = np.zeros([nL,1])\n",
    "L_avgR = np.zeros([nL,1])\n",
    "# calculate mean GFP intensity inside each L cone (normalized and baseline subtracted)\n",
    "maxM = viewer.layers['zfM'].data[viewer.layers['zfL_seg'].data == 0].max()\n",
    "maxL = viewer.layers['zfL'].data[viewer.layers['zfL_seg'].data == 1].max()\n",
    "minM = viewer.layers['zfM'].data[viewer.layers['zfL_seg'].data == 0].min()\n",
    "minL = viewer.layers['zfL'].data[viewer.layers['zfL_seg'].data == 0].min()\n",
    "for roi in range(nL):\n",
    "    tempROI = viewer.layers['zfL_seg'].data == roi\n",
    "    L_avgG[roi] = (viewer.layers['zfM'].data[tempROI].mean()-minM)/(maxM-minM)\n",
    "    L_avgR[roi] = (viewer.layers['zfL'].data[tempROI].mean()-minL)/(maxL-minL)\n",
    "\n",
    "M_avgG = np.zeros([nM,1])\n",
    "M_avgR = np.zeros([nM,1])\n",
    "# calculate mean GFP intensity inside each M cone (normalized and baseline subtracted)\n",
    "for roi in range(nM):\n",
    "    tempROI = viewer.layers['zfM_seg'].data == roi\n",
    "    M_avgG[roi] = (viewer.layers['zfM'].data[tempROI].mean()-minM)/(maxM-minM)\n",
    "    M_avgR[roi] = (viewer.layers['zfL'].data[tempROI].mean()-minL)/(maxL-minL)\n",
    "\n",
    "    \n",
    "nbins = 20\n",
    "denseFlag = True\n",
    "    \n",
    "plt.figure(figsize=(8,6))\n",
    "plt.hist(L_avgG, bins=np.divide(range(0,nbins+1),nbins), density = denseFlag, color = (1.0,0.5,0.0,0.5), label=\"L_GFP\")\n",
    "plt.hist(L_avgR, bins=np.divide(range(0,nbins+1),nbins), density = denseFlag, color = (1.0,0.0,0.0,0.5), label=\"L_tdT\")\n",
    "\n",
    "plt.hist(M_avgG, bins=np.divide(range(0,nbins+1),nbins), density = denseFlag, color = (0.0,1.0,0.0,0.5), label=\"M_GFP\")\n",
    "plt.hist(M_avgR, bins=np.divide(range(0,nbins+1),nbins), density = denseFlag, color = (0.5,1.0,0.0,0.5), label=\"M_tdT\")\n",
    "\n",
    "plt.xlabel(\"Normalized intensity\", size=14)\n",
    "plt.ylabel(\"Probability\", size=14)\n",
    "plt.title(\"\")\n",
    "plt.legend(loc='upper right')\n",
    "# plt.savefig(\"overlapping_histograms_with_matplotlib_Python.png\")"
   ]
  },
  {
   "cell_type": "code",
   "execution_count": null,
   "metadata": {},
   "outputs": [],
   "source": [
    "# viewer.layers['zfM_seg'].data = dM\n",
    "viewer.layers['zfL_seg'].data = ndimage.grey_erosion(viewer.layers['zfL_seg'].data, size=(10,10))"
   ]
  },
  {
   "cell_type": "code",
   "execution_count": null,
   "metadata": {},
   "outputs": [],
   "source": [
    "@viewer.bind_key('k')\n",
    "def toggle_sel(viewer):\n",
    "    if (viewer.layers['zfM_seg'].show_selected_label == True):\n",
    "        viewer.layers['zfM_seg'].show_selected_label = False\n",
    "    elif (viewer.layers['zfM_seg'].show_selected_label == False):\n",
    "        viewer.layers['zfM_seg'].show_selected_label = True"
   ]
  },
  {
   "cell_type": "code",
   "execution_count": null,
   "metadata": {},
   "outputs": [],
   "source": [
    "viewer.layers['zfM_seg'].show_selected_label=False"
   ]
  },
  {
   "cell_type": "code",
   "execution_count": null,
   "metadata": {},
   "outputs": [],
   "source": [
    "viewer.layers['zfM_seg'].data"
   ]
  },
  {
   "cell_type": "code",
   "execution_count": null,
   "metadata": {},
   "outputs": [],
   "source": []
  }
 ],
 "metadata": {
  "kernelspec": {
   "display_name": "Python 3",
   "language": "python",
   "name": "python3"
  },
  "language_info": {
   "codemirror_mode": {
    "name": "ipython",
    "version": 3
   },
   "file_extension": ".py",
   "mimetype": "text/x-python",
   "name": "python",
   "nbconvert_exporter": "python",
   "pygments_lexer": "ipython3",
   "version": "3.7.4"
  }
 },
 "nbformat": 4,
 "nbformat_minor": 4
}
