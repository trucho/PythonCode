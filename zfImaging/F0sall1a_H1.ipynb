{
 "cells": [
  {
   "cell_type": "markdown",
   "metadata": {},
   "source": [
    "# F0[_sall1a_] in _lhx1a_:GFP"
   ]
  },
  {
   "cell_type": "code",
   "execution_count": 1,
   "metadata": {},
   "outputs": [
    {
     "data": {
      "application/vnd.jupyter.widget-view+json": {
       "model_id": "7cdfb543d515414fac98b0b8ae93c9aa",
       "version_major": 2,
       "version_minor": 0
      },
      "text/plain": [
       "VBox(children=(Label(value='Select plotting style', layout=Layout(height='30px', width='20%')), Dropdown(layou…"
      ]
     },
     "metadata": {},
     "output_type": "display_data"
    }
   ],
   "source": [
    "import napari\n",
    "from magicgui import magicgui\n",
    "from enum import Enum\n",
    "import cellpose_napari\n",
    "import cellpose\n",
    "from cellpose import models\n",
    "from napari.utils import nbscreenshot\n",
    "from tifffile import imread\n",
    "import numpy as np\n",
    "from scipy import ndimage\n",
    "from scipy.stats import mannwhitneyu, kruskal\n",
    "from skimage.measure import label, regionprops, regionprops_table\n",
    "import napari_nikon_nd2\n",
    "import os \n",
    "from magicgui import magicgui\n",
    "import pandas as pd\n",
    "import matplotlib\n",
    "import matplotlib.pyplot as plt\n",
    "import matplotlib.font_manager as font_manager\n",
    "import importlib\n",
    "import svgutils\n",
    "from svgutils.compose import *\n",
    "from tqdm.notebook import tqdm, trange\n",
    "import time\n",
    "import sys\n",
    "import ipywidgets\n",
    "from plotParams import *\n",
    "from juanNapariFx import *\n",
    "\n",
    "\n",
    "pBGMenu = ipywidgets.Dropdown(options=['Light', 'Dark'],value='Light',disabled=False, layout=ipywidgets.Layout(width='20%', height='40px'))\n",
    "pBGLabel = ipywidgets.widgets.Label('Select plotting style', layout=ipywidgets.Layout(width='20%', height='30px'))\n",
    "pBG = ipywidgets.widgets.VBox([pBGLabel,pBGMenu])\n",
    "pBG"
   ]
  },
  {
   "cell_type": "code",
   "execution_count": 2,
   "metadata": {},
   "outputs": [
    {
     "name": "stdout",
     "output_type": "stream",
     "text": [
      "Plotting style is Dark\n",
      "Assistant skips harvesting pyclesperanto as it's not installed.\n"
     ]
    },
    {
     "name": "stderr",
     "output_type": "stream",
     "text": [
      "/Users/angueyraaristjm/opt/anaconda3/lib/python3.9/site-packages/napari_tools_menu/__init__.py:168: FutureWarning: Public access to Window.qt_viewer is deprecated and will be removed in\n",
      "v0.5.0. It is considered an \"implementation detail\" of the napari\n",
      "application, not part of the napari viewer model. If your use case\n",
      "requires access to qt_viewer, please open an issue to discuss.\n",
      "  self.tools_menu = ToolsMenu(self, self.qt_viewer.viewer)\n"
     ]
    }
   ],
   "source": [
    "applyPlotStyle(pBGMenu.value)\n",
    "viewer = napari.Viewer()"
   ]
  },
  {
   "cell_type": "code",
   "execution_count": 3,
   "metadata": {},
   "outputs": [],
   "source": [
    "# viewer.close()"
   ]
  },
  {
   "cell_type": "markdown",
   "metadata": {},
   "source": [
    "***\n",
    "# Index <a id='Index'></a>\n",
    "***\n",
    "- [Extraction of z planes for analysis](#zExtract)\n",
    "- [Segmentation with cellpose](#cellSeg)\n",
    "- [Manual correction of segmentation](#manualCuration)\n",
    "- [Create thumbnails _WIP_](#thumbnails)\n",
    "- [Quantification](#quantification)"
   ]
  },
  {
   "cell_type": "markdown",
   "metadata": {
    "tags": []
   },
   "source": [
    "***\n",
    "## Extract layers from z-stacks<a id='zExtract' name='zExtract'>∮</a>\n",
    "***\n",
    "[Back to Index](#Index)"
   ]
  },
  {
   "cell_type": "code",
   "execution_count": 16,
   "metadata": {},
   "outputs": [
    {
     "name": "stdout",
     "output_type": "stream",
     "text": [
      "fPath = \"20221209_3dpf_lhx1aGFP_wt_L01_002\"; gene = 'wt'; \n",
      "fPath = \"20221209_3dpf_lhx1aGFP_wt_L01_004\"; gene = 'wt'; \n",
      "fPath = \"20221209_3dpf_lhx1aGFP_wt_L02_002\"; gene = 'wt'; \n",
      "fPath = \"20221209_3dpf_lhx1aGFP_wt_L02_004\"; gene = 'wt'; \n",
      "fPath = \"20221209_3dpf_lhx1aGFP_wt_L03_002\"; gene = 'wt'; \n",
      "fPath = \"20221209_3dpf_lhx1aGFP_wt_L03_004\"; gene = 'wt'; \n",
      "fPath = \"20221209_3dpf_lhx1aGFP_wt_L04_002\"; gene = 'wt'; \n",
      "fPath = \"20221209_3dpf_lhx1aGFP_wt_L04_004\"; gene = 'wt'; \n",
      "fPath = \"20221209_3dpf_lhx1aGFP_wt_L05_002\"; gene = 'wt'; \n",
      "fPath = \"20221209_3dpf_lhx1aGFP_wt_L05_004\"; gene = 'wt'; \n",
      "fPath = \"20221209_3dpf_lhx1aGFP_wt_L06_002\"; gene = 'wt'; \n"
     ]
    }
   ],
   "source": [
    "# getting list of files\n",
    "dPath = '/Volumes/zfSSD/LiImaging/A1R/zf/20221209_F0sall1a/'\n",
    "gene = 'wt'\n",
    "#### !ls $dPath/*$gene*[002,004].nd2\n",
    "# fList = !ls $dPath/*$gene*[002,004].nd2\n",
    "# fList = !ls $dPath/*5dpf*$gene*[002,004]*mip.nd2\n",
    "fList = !ls $dPath/*3dpf*$gene*[002,004].nd2\n",
    "fList = list(map(lambda st: str.replace(st, dPath + '/', 'fPath = \\\"'), fList))\n",
    "fList = list(map(lambda st: str.replace(st, '.nd2', '\\\"; gene = \\'' + gene + '\\'; '), fList))\n",
    "print(*fList, sep = \"\\n\")"
   ]
  },
  {
   "cell_type": "code",
   "execution_count": null,
   "metadata": {},
   "outputs": [],
   "source": [
    "# clear viewer\n",
    "viewer.layers.select_all(); viewer.layers.remove_selected()"
   ]
  },
  {
   "cell_type": "code",
   "execution_count": 214,
   "metadata": {},
   "outputs": [
    {
     "name": "stdout",
     "output_type": "stream",
     "text": [
      "Canvas clear\n",
      "Loading files...\n",
      "Loaded: 20221209_5dpf_lhx1aGFP_1D4Cy3_sall1a647_F0sall1a_L20_002\n"
     ]
    }
   ],
   "source": [
    "# clear viewer\n",
    "viewer.layers.select_all(); viewer.layers.remove_selected()\n",
    "\n",
    "# analysis directory\n",
    "dAnalysis = \"/Users/angueyraaristjm/Documents/eelImaging/tempAnalysis/F0sall1a/h1G/\"\n",
    "\n",
    "# open file\n",
    "dPath = '/Volumes/zfSSD/LiImaging/A1R/zf/20221209_F0sall1a/'\n",
    "\n",
    "\n",
    "# 5 dpf + immuno\n",
    "### In notes: 1D4 labeling did not work in any sample; sall1a labels OS\n",
    "fPath = \"20221209_5dpf_lhx1aGFP_1D4Cy3_sall1a647_wt_L12_002\"; gene = 'wt'; zlims = [17,19]; zlims2 = [30,42]; zlims3 = [8,12];# very dim GFP; sclera+\n",
    "fPath = \"20221209_5dpf_lhx1aGFP_1D4Cy3_sall1a647_wt_L13_002\"; gene = 'wt'; zlims = [10,16]; zlims2 = [29,37]; zlims3 = [7,13]; # dim GFP; sclera+\n",
    "#### fPath = \"20221209_5dpf_lhx1aGFP_1D4Cy3_sall1a647_wt_L14_002\"; gene = 'wt'; # side-view; not bad\n",
    "fPath = \"20221209_5dpf_lhx1aGFP_1D4Cy3_sall1a647_wt_L15_002\"; gene = 'wt'; zlims = [24,26]; zlims2 = [35,50]; zlims3 = [19,24]; #ok-ish\n",
    "fPath = \"20221209_5dpf_lhx1aGFP_1D4Cy3_sall1a647_wt_L15_004\"; gene = 'wt'; zlims = [17,19]; zlims2 = [26,44]; zlims3 = [13,16]; #ok-ish\n",
    "fPath = \"20221209_5dpf_lhx1aGFP_1D4Cy3_sall1a647_wt_L16_002\"; gene = 'wt'; zlims = [15,17]; zlims2 = [23,41]; zlims3 = [7,12]; #ok-ish\n",
    "#### fPath = \"20221209_5dpf_lhx1aGFP_1D4Cy3_sall1a647_wt_L16_004\"; gene = 'wt'; # side-view; not bad \n",
    "fPath = \"20221209_5dpf_lhx1aGFP_1D4Cy3_sall1a647_wt_L17_002\"; gene = 'wt'; zlims = [22,25]; zlims2 = [34,51]; zlims3 = [15,21]; # looks difficult to segment\n",
    "#### fPath = \"20221209_5dpf_lhx1aGFP_1D4Cy3_sall1a647_wt_L17_004\"; gene = 'wt';  # side-view; EXAMPLE?\n",
    "\n",
    "fPath = \"20221209_5dpf_lhx1aGFP_1D4Cy3_sall1a647_F0sall1a_L19_002\"; gene = 'sall1a'; zlims = [18,21]; zlims2 = [21,36]; zlims3 = [9,13];# dim Sall1 labeling; GFP will be hard to segment\n",
    "#### fPath = \"20221209_5dpf_lhx1aGFP_1D4Cy3_sall1a647_F0sall1a_L19_004\"; gene = 'sall1a'; # side-view\n",
    "fPath = \"20221209_5dpf_lhx1aGFP_1D4Cy3_sall1a647_F0sall1a_L20_002\"; gene = 'sall1a'; zlims = [16,19]; zlims2 = [33,42]; zlims3 = [11,14]; #Sall1+; good GFP\n",
    "# fPath = \"20221209_5dpf_lhx1aGFP_1D4Cy3_sall1a647_F0sall1a_L21_002\"; gene = 'sall1a'; zlims = [24,27]; zlims2 = [35,47]; zlims3 = [17,20]; # good GFP; Sall1 seems negative\n",
    "#### fPath = \"20221209_5dpf_lhx1aGFP_1D4Cy3_sall1a647_F0sall1a_L21_004\"; gene = 'sall1a'; #side-view; good\n",
    "# fPath = \"20221209_5dpf_lhx1aGFP_1D4Cy3_sall1a647_F0sall1a_L22_002\"; gene = 'sall1a'; zlims = [10,13]; zlims2 = [26,41]; zlims3 = [3,11]; # good GFP\n",
    "#### fPath = \"20221209_5dpf_lhx1aGFP_1D4Cy3_sall1a647_F0sall1a_L22_004\"; gene = 'sall1a'; # side-view; Sall1a is dim but there?\n",
    "# fPath = \"20221209_5dpf_lhx1aGFP_1D4Cy3_sall1a647_F0sall1a_L23_002\"; gene = 'sall1a'; zlims = [10,12]; zlims2 = [25,36]; zlims3 = [5,10];\n",
    "#### fPath = \"20221209_5dpf_lhx1aGFP_1D4Cy3_sall1a647_F0sall1a_L23_004\"; gene = 'sall1a'; #side-view; in all of these, RPE is bright in 647 channel\n",
    "# fPath = \"20221209_5dpf_lhx1aGFP_1D4Cy3_sall1a647_F0sall1a_L24_002\"; gene = 'sall1a'; zlims = [16,18]; zlims2 = [34,47]; zlims3 = [9,14];\n",
    "#### fPath = \"20221209_5dpf_lhx1aGFP_1D4Cy3_sall1a647_F0sall1a_L24_004\"; gene = 'sall1a'; # side-view\n",
    "\n",
    "# # 3 dpf\n",
    "# fPath = \"20221209_3dpf_lhx1aGFP_wt_L01_002\"; gene = 'wt'; zlims = [16,18]; zlims2 = [25,48]; # curvy; bad for DAPI but good for GFP\n",
    "# #### fPath = \"20221209_3dpf_lhx1aGFP_wt_L01_004\"; gene = 'wt'; #side-view; really nice\n",
    "# fPath = \"20221209_3dpf_lhx1aGFP_wt_L02_002\"; gene = 'wt'; zlims = [23,26]; zlims2 = [34,52];\n",
    "# #### fPath = \"20221209_3dpf_lhx1aGFP_wt_L02_004\"; gene = 'wt'; #side-view; really nice\n",
    "# fPath = \"20221209_3dpf_lhx1aGFP_wt_L03_002\"; gene = 'wt'; zlims = [10,15]; zlims2 = [23,48]; # curvy\n",
    "# #### fPath = \"20221209_3dpf_lhx1aGFP_wt_L03_004\"; gene = 'wt'; # side-view; DAPI did not penetrate to INL\n",
    "# fPath = \"20221209_3dpf_lhx1aGFP_wt_L04_002\"; gene = 'wt'; zlims = [18,22]; zlims2 = [45,57]; # nice\n",
    "# #### fPath = \"20221209_3dpf_lhx1aGFP_wt_L04_004\"; gene = 'wt'; # side-view; DAPI did not penetrate to INL\n",
    "# fPath = \"20221209_3dpf_lhx1aGFP_wt_L05_002\"; gene = 'wt'; zlims = [25,27]; zlims2 = [45,57];\n",
    "# #### fPath = \"20221209_3dpf_lhx1aGFP_wt_L05_004\"; gene = 'wt'; # side-view; better DAPI\n",
    "# fPath = \"20221209_3dpf_lhx1aGFP_wt_L06_002\"; gene = 'wt'; zlims = [2,3]; zlims2 = [7,10];\n",
    "\n",
    "# fPath = \"20221209_3dpf_lhx1aGFP_F0sall1a_L01_002\"; gene = 'sall1a'; zlims = [12,15]; zlims2 = [32,48];\n",
    "# # #### fPath = \"20221209_3dpf_lhx1aGFP_F0sall1a_L01_004\"; gene = 'sall1a'; #side-view; really nice\n",
    "# fPath = \"20221209_3dpf_lhx1aGFP_F0sall1a_L02_002\"; gene = 'sall1a'; zlims = [7,10]; zlims2 = [26,41];\n",
    "# # #### fPath = \"20221209_3dpf_lhx1aGFP_F0sall1a_L02_004\"; gene = 'sall1a'; #side-view\n",
    "# fPath = \"20221209_3dpf_lhx1aGFP_F0sall1a_L03_002\"; gene = 'sall1a'; zlims = [14,17]; zlims2 = [31,44];\n",
    "# fPath = \"20221209_3dpf_lhx1aGFP_F0sall1a_L04_002\"; gene = 'sall1a'; zlims = [6,11]; zlims2 = [18,33]; # this retina is not layered yet; very different from rest\n",
    "# # #### fPath = \"20221209_3dpf_lhx1aGFP_F0sall1a_L04_004\"; gene = 'sall1a'; #side-view; layers are there but more immature than expected for this age\n",
    "\n",
    "# create subdirectory for analysis\n",
    "dOut = dAnalysis + gene + '/' + fPath + '/'\n",
    "if (os.path.isdir(dOut)==False):\n",
    "    os.mkdir(dOut)\n",
    "    print('Created output directory')\n",
    "\n",
    "print('Canvas clear')\n",
    "\n",
    "\n",
    "# load whole stack to figure out best planes for cellpose\n",
    "print('Loading files...')\n",
    "viewer.open((dPath+fPath + \".nd2\"))\n",
    "viewer.layers.remove(viewer.layers[len(viewer.layers)-1]) # remove transmitted detector image\n",
    "viewer.layers.select_next();\n",
    "\n",
    "# if len(viewer.layers)==2: # no DAPI, GFP and RFP\n",
    "#     nChannels = 2\n",
    "#     viewer.layers[0].colormap = 'green'\n",
    "#     viewer.layers[0].name = 'R'\n",
    "#     viewer.layers[1].colormap = 'magenta'\n",
    "#     viewer.layers[1].name = 'U'\n",
    "if len(viewer.layers)==2: # DAPI and GFP channel (no RFP or Cy5)\n",
    "    nChannels = 2\n",
    "    viewer.layers[0].colormap = 'gray'\n",
    "    viewer.layers[0].name = 'N'\n",
    "    viewer.layers[0].opacity = 1.00\n",
    "    viewer.layers[1].colormap = 'green'\n",
    "    viewer.layers[1].name = 'H'\n",
    "elif len(viewer.layers)==3: #DAPI\n",
    "    nChannels = 3\n",
    "    viewer.layers[0].colormap = 'gray'\n",
    "    viewer.layers[0].name = 'N'\n",
    "    viewer.layers[0].opacity = 1.00\n",
    "    viewer.layers[1].colormap = 'green'\n",
    "    viewer.layers[1].name = 'H'\n",
    "    viewer.layers[2].colormap = 'magenta'\n",
    "    viewer.layers[2].name = '1D4'\n",
    "elif len(viewer.layers)==4: #DAPI\n",
    "    nChannels = 4\n",
    "    viewer.layers[0].colormap = 'gray'\n",
    "    viewer.layers[0].name = 'N'\n",
    "    viewer.layers[0].opacity = 1.00\n",
    "    viewer.layers[1].colormap = 'green'\n",
    "    viewer.layers[1].name = 'H'\n",
    "    viewer.layers[2].colormap = 'magenta'\n",
    "    viewer.layers[2].name = '1D4'\n",
    "    viewer.layers[3].colormap = 'bop orange'\n",
    "    viewer.layers[3].name = 'sall1a'\n",
    "    \n",
    "print('Loaded: ' + fPath)"
   ]
  },
  {
   "cell_type": "markdown",
   "metadata": {},
   "source": [
    "---"
   ]
  },
  {
   "cell_type": "code",
   "execution_count": 215,
   "metadata": {},
   "outputs": [],
   "source": [
    "# for 3 dpf\n",
    "# make mips (and remove any previous ones)\n",
    "# zlims = [2,3]; zlims2 = [7,10];\n",
    "# if len(viewer.layers)>nChannels:\n",
    "#     for l in viewer.layers[nChannels:]:\n",
    "#         viewer.layers.remove(l)\n",
    "\n",
    "# # for l in [viewer.layers[0],viewer.layers[1],viewer.layers[2],viewer.layers[3]]: # save all channels including immunos\n",
    "# for l in [viewer.layers['N']]:\n",
    "#     l.visible = False\n",
    "#     viewer.add_image(l.data[zlims[0]:zlims[1]].max(axis=0), blending='additive', colormap = l.colormap, name = l.name + \"_mip\")\n",
    "\n",
    "# for l in [viewer.layers['H']]:\n",
    "#     l.visible = False\n",
    "#     viewer.add_image(l.data[zlims2[0]:zlims2[1]].max(axis=0), blending='additive', colormap = l.colormap, name = l.name + \"_mip\")\n",
    "\n",
    "# # for 5 dpf\n",
    "# make mips (and remove any previous ones)\n",
    "# zlims = [16,18]; zlims2 = [34,47]; zlims3 = [9,14];\n",
    "if len(viewer.layers)>nChannels:\n",
    "    for l in viewer.layers[nChannels:]:\n",
    "        viewer.layers.remove(l)\n",
    "\n",
    "# for l in [viewer.layers[0],viewer.layers[1],viewer.layers[2],viewer.layers[3]]: # save all channels including immunos\n",
    "for l in [viewer.layers['N']]:\n",
    "    l.visible = False\n",
    "    viewer.add_image(l.data[zlims[0]:zlims[1]].max(axis=0), blending='additive', colormap = l.colormap, name = l.name + \"_mip\")\n",
    "\n",
    "for l in [viewer.layers['H']]:\n",
    "    l.visible = False\n",
    "    viewer.add_image(l.data[zlims2[0]:zlims2[1]].max(axis=0), blending='additive', colormap = l.colormap, name = l.name + \"_mip\")\n",
    "    \n",
    "for l in [viewer.layers['sall1a'],viewer.layers['1D4']]:\n",
    "    l.visible = False\n",
    "    viewer.add_image(l.data[zlims3[0]:zlims3[1]].max(axis=0), blending='additive', colormap = l.colormap, name = l.name + \"_mip\")"
   ]
  },
  {
   "cell_type": "code",
   "execution_count": 216,
   "metadata": {},
   "outputs": [
    {
     "name": "stdout",
     "output_type": "stream",
     "text": [
      "MIP layers saved for 20221209_5dpf_lhx1aGFP_1D4Cy3_sall1a647_F0sall1a_L20_002\n"
     ]
    }
   ],
   "source": [
    "# when things look good, save in folder for batch cellpose analysis\n",
    "l = viewer.layers['H_mip']; l.save(dOut + l.name + '.tiff')\n",
    "l = viewer.layers['N_mip']; l.save(dOut + l.name + '.tiff')\n",
    "# l = viewer.layers['sall1a_mip']; l.save(dOut + l.name + '.tiff')\n",
    "# l = viewer.layers['1D4_mip']; l.save(dOut + l.name + '.tiff')\n",
    "print('MIP layers saved for ' + fPath)"
   ]
  },
  {
   "cell_type": "markdown",
   "metadata": {},
   "source": [
    "### Establish landmarks in whole-eye MIP\n",
    "- Use eyeMarks layer to mark:\n",
    "        - Landmark #1: Center of FOV (where zoom in is centered)\n",
    "        - Landmark #2: Center of Optic Nerve Head \n",
    "        - Landmark #3: Dorsal edge of eye\n",
    "        - Landmark #4: Ventral edge of eye\n",
    "        - Landmark #5: Temporal edge of eye (strike zone side)\n",
    "        - Landmark #6: Nasal edge of eye\n",
    "- Decide if stack should be excluded (and stop analysis here and make note in csv summary file)"
   ]
  },
  {
   "cell_type": "code",
   "execution_count": 147,
   "metadata": {},
   "outputs": [
    {
     "name": "stdout",
     "output_type": "stream",
     "text": [
      "Loading eye mip...\n",
      "Loaded: 20221209_3dpf_lhx1aGFP_wt_L06_002\n",
      "Make 6 landmark points then click button to save\n"
     ]
    },
    {
     "data": {
      "application/vnd.jupyter.widget-view+json": {
       "model_id": "61f6bc83879547a7a50402743c0811db",
       "version_major": 2,
       "version_minor": 0
      },
      "text/plain": [
       "VBox(children=(Button(description='Save eyeMarks', layout=Layout(height='100px', width='200px'), style=ButtonS…"
      ]
     },
     "metadata": {},
     "output_type": "display_data"
    }
   ],
   "source": [
    "# nMIP = 4 * 2\n",
    "# viewer.layers['H_mip'].scale = [1.5/8,1.5/8]; viewer.layers['H_mip'].translate = [0,+(512-1024*1.5/(8*2))]\n",
    "# viewer.layers['N_mip'].scale = [1.5/8,1.5/8]; viewer.layers['N_mip'].translate = [0,+(512-1024*1.5/(8*2))]\n",
    "# viewer.layers['N_mip'].visible = False;\n",
    "# viewer.layers['sall1a_mip'].scale = [1.5/8,1.5/8]; viewer.layers['sall1a_mip'].translate = [0,+(512-1024*1.5/(8*2))]\n",
    "# viewer.layers['sall1a_mip'].visible = False;\n",
    "# viewer.layers['1D4_mip'].scale = [1.5/8,1.5/8]; viewer.layers['1D4_mip'].translate = [0,+(512-1024*1.5/(8*2))]\n",
    "# viewer.layers['1D4_mip'].visible = False;\n",
    "\n",
    "\n",
    "nMIP = 2 * 2\n",
    "viewer.layers['H_mip'].scale = [1.5/8,1.5/8]; viewer.layers['H_mip'].translate = [0,+(512-1024*1.5/(8*2))]\n",
    "viewer.layers['N_mip'].scale = [1.5/8,1.5/8]; viewer.layers['N_mip'].translate = [0,+(512-1024*1.5/(8*2))]\n",
    "viewer.layers['N_mip'].visible = False;\n",
    "\n",
    "# Load whole-eye MIP to establish landmarks\n",
    "print('Loading eye mip...')\n",
    "if str.endswith(fPath,'002'):\n",
    "    mipPath = fPath[:-1] + \"1_mip\";\n",
    "elif str.endswith(fPath,'004'):\n",
    "    mipPath = fPath[:-1] + \"3_mip\";\n",
    "viewer.open((dPath+mipPath + \".nd2\"))\n",
    "\n",
    "viewer.layers.remove(viewer.layers[len(viewer.layers)-1]) # remove transmitted detector image\n",
    "viewer.layers.select_next();\n",
    "\n",
    "if len(viewer.layers)==2+nMIP: # DAPI and GFP\n",
    "    nChannels = 2\n",
    "    viewer.layers[nMIP].colormap = 'gray'\n",
    "    viewer.layers[nMIP].name = 'eyeN'\n",
    "    viewer.layers[nMIP+1].colormap = 'green'\n",
    "    viewer.layers[nMIP+1].name = 'eyeH'\n",
    "# if len(viewer.layers)==2+nMIP: # DAPI and RFP channel (single positive larvae with bad immunos)\n",
    "#     nChannels = 2\n",
    "#     viewer.layers[nMIP+0].colormap = 'green'\n",
    "#     viewer.layers[nMIP+0].name = 'eyeUH\n",
    "#     viewer.layers[nMIP+0].opacity = 0.66\n",
    "#     viewer.layers[nMIP+1].colormap = 'magenta'\n",
    "#     viewer.layers[nMIP+1].name = 'eyeL'\n",
    "elif len(viewer.layers)==3+nMIP: #DAPI\n",
    "    nChannels = 3\n",
    "    viewer.layers[nMIP+0].colormap = 'gray'\n",
    "    viewer.layers[nMIP+0].name = 'eyeN'\n",
    "    viewer.layers[nMIP+0].opacity = 0.33\n",
    "    viewer.layers[nMIP+1].colormap = 'green'\n",
    "    viewer.layers[nMIP+1].name = 'eyeH'\n",
    "    viewer.layers[nMIP+2].colormap = 'magenta'\n",
    "    viewer.layers[nMIP+2].name = 'eyePNA'\n",
    "elif len(viewer.layers)==4+nMIP: #DAPI\n",
    "    nChannels = 4\n",
    "    viewer.layers[nMIP+0].colormap = 'gray'\n",
    "    viewer.layers[nMIP+0].name = 'eyeN'\n",
    "    viewer.layers[nMIP+0].opacity = 0.33\n",
    "    viewer.layers[nMIP+0].visible = False;\n",
    "    viewer.layers[nMIP+1].colormap = 'green'\n",
    "    viewer.layers[nMIP+1].name = 'eyeH'\n",
    "    viewer.layers[nMIP+2].colormap = 'magenta'\n",
    "    viewer.layers[nMIP+2].name = 'eye1D4'\n",
    "    viewer.layers[nMIP+2].visible = False;\n",
    "    viewer.layers[nMIP+3].colormap = 'bop orange'\n",
    "    viewer.layers[nMIP+3].name = 'eyeSall1a'\n",
    "    \n",
    "\n",
    "print('Loaded: ' + fPath)\n",
    "eyeMarks = viewer.add_points(size=20, name = 'eyeMarks', symbol=\"cross\", face_color='#ffffff80')\n",
    "viewer.layers.select_next();\n",
    "\n",
    "# Save eye landmarks\n",
    "eyeMarksButton = ipywidgets.Button(description='Save eyeMarks', layout=ipywidgets.Layout(width='200px', height='100px'))\n",
    "out = ipywidgets.Output()\n",
    "def eyeMClick(_):\n",
    "    with out:\n",
    "        l = viewer.layers['eyeMarks']; l.save(dOut + l.name + '.csv');\n",
    "        print('eyeMarks layers saved for ' + fPath)\n",
    "    # clear viewer\n",
    "    viewer.layers.select_all()\n",
    "    viewer.layers.remove_selected()\n",
    "    eyeMarksButton.disabled = True # to prevent double clicking warnings. All sales are final!\n",
    "    \n",
    "eyeMarksButton.on_click(eyeMClick)\n",
    "\n",
    "print(\"Make 6 landmark points then click button to save\")\n",
    "\n",
    "ipywidgets.VBox([eyeMarksButton,out])"
   ]
  },
  {
   "cell_type": "markdown",
   "metadata": {},
   "source": [
    "### [Go back and run next one &uarr;](#zExtract)\n",
    "---"
   ]
  },
  {
   "cell_type": "markdown",
   "metadata": {},
   "source": [
    "***\n",
    "## Segmentation using cellpose<a id='cellSeg'>∮</a>\n",
    "***\n",
    "[Back to Index](#Index)"
   ]
  },
  {
   "cell_type": "markdown",
   "metadata": {},
   "source": [
    "## Run cellpose as batch analysis\n",
    "Usually good parameters are :\n",
    "1. xOPS:GFP: diameter = 20; flow_threshold = 0.4 and mask_threshold = 0.0\n",
    "1. sws1:mCherry: diameter = 40; flow_threshold = 0.4 and mask_threshold = 0.0\n",
    "1. sws2:mCherry:\n",
    "1. mws2:GFP:\n",
    "1. thrb:tdTomato:\n",
    "    \n",
    "flow_threshold = 0.6 will give more ROIs"
   ]
  },
  {
   "cell_type": "code",
   "execution_count": 54,
   "metadata": {},
   "outputs": [],
   "source": [
    "# clear viewer\n",
    "viewer.layers.select_all(); viewer.layers.remove_selected()"
   ]
  },
  {
   "cell_type": "code",
   "execution_count": 217,
   "metadata": {},
   "outputs": [],
   "source": [
    "# analysis directory\n",
    "dAnalysis = \"/Users/angueyraaristjm/Documents/eelImaging/tempAnalysis/F0sall1a/h1G/\"\n",
    "\n",
    "\n",
    "### collect file paths\n",
    "wt_gene = 'wt';\n",
    "wt_fPaths = [\n",
    "# 5 dpf\n",
    "# '20221209_5dpf_lhx1aGFP_1D4Cy3_sall1a647_wt_L12_002',\n",
    "# '20221209_5dpf_lhx1aGFP_1D4Cy3_sall1a647_wt_L13_002',\n",
    "# '20221209_5dpf_lhx1aGFP_1D4Cy3_sall1a647_wt_L15_002',\n",
    "# '20221209_5dpf_lhx1aGFP_1D4Cy3_sall1a647_wt_L15_004',\n",
    "# '20221209_5dpf_lhx1aGFP_1D4Cy3_sall1a647_wt_L16_002',\n",
    "# '20221209_5dpf_lhx1aGFP_1D4Cy3_sall1a647_wt_L17_002',\n",
    "# # 3 dpf\n",
    "# '20221209_3dpf_lhx1aGFP_wt_L01_002',\n",
    "# '20221209_3dpf_lhx1aGFP_wt_L02_002',\n",
    "# '20221209_3dpf_lhx1aGFP_wt_L03_002',\n",
    "# '20221209_3dpf_lhx1aGFP_wt_L04_002',\n",
    "# '20221209_3dpf_lhx1aGFP_wt_L05_002',\n",
    "# '20221209_3dpf_lhx1aGFP_wt_L06_002',\n",
    "]\n",
    "\n",
    "# ### collect file paths\n",
    "cr_gene = 'sall1a';\n",
    "cr_fPaths = [\n",
    "# 5 dpf\n",
    "# '20221209_5dpf_lhx1aGFP_1D4Cy3_sall1a647_F0sall1a_L19_002',\n",
    "'20221209_5dpf_lhx1aGFP_1D4Cy3_sall1a647_F0sall1a_L20_002',\n",
    "# '20221209_5dpf_lhx1aGFP_1D4Cy3_sall1a647_F0sall1a_L21_002',\n",
    "# '20221209_5dpf_lhx1aGFP_1D4Cy3_sall1a647_F0sall1a_L22_002',\n",
    "# '20221209_5dpf_lhx1aGFP_1D4Cy3_sall1a647_F0sall1a_L23_002',\n",
    "# '20221209_5dpf_lhx1aGFP_1D4Cy3_sall1a647_F0sall1a_L24_002',\n",
    "# 3 dpf\n",
    "# '20221209_3dpf_lhx1aGFP_F0sall1a_L01_002',\n",
    "# '20221209_3dpf_lhx1aGFP_F0sall1a_L02_002',\n",
    "# '20221209_3dpf_lhx1aGFP_F0sall1a_L03_002',\n",
    "# '20221209_3dpf_lhx1aGFP_F0sall1a_L04_002',\n",
    "]\n",
    "\n",
    "\n",
    "# define cellpose params\n",
    "cpParams = {\n",
    "    'model' : 'cyto2', # default is 'cyto' or 'cyto2'\n",
    "    'net_avg' : True,\n",
    "    'channels' : [0,0], #single channel without nucleus info\n",
    "    'diameterR' : 25,\n",
    "    'diameterC' : 40,\n",
    "    'diameterH' : 100,\n",
    "    'flow_threshold' : 0.5,\n",
    "    'cellprob_threshold' : 0.0\n",
    "}\n",
    "\n",
    "# define model to use (e.g. 'cyto2')\n",
    "model = models.Cellpose(gpu=False, model_type=cpParams['model'])"
   ]
  },
  {
   "cell_type": "code",
   "execution_count": 218,
   "metadata": {},
   "outputs": [
    {
     "name": "stdout",
     "output_type": "stream",
     "text": [
      "Starting analysis:\n",
      "\n"
     ]
    },
    {
     "data": {
      "application/vnd.jupyter.widget-view+json": {
       "model_id": "4fd59bd27b8c465b96af41593fff7831",
       "version_major": 2,
       "version_minor": 0
      },
      "text/plain": [
       "0it [00:00, ?it/s]"
      ]
     },
     "metadata": {},
     "output_type": "display_data"
    },
    {
     "name": "stdout",
     "output_type": "stream",
     "text": [
      "\n",
      "Finished cellpose batch analysis\n",
      "Starting analysis:\n",
      "\n"
     ]
    },
    {
     "data": {
      "application/vnd.jupyter.widget-view+json": {
       "model_id": "bc2c9201579545ada057a61b11ecf4fd",
       "version_major": 2,
       "version_minor": 0
      },
      "text/plain": [
       "  0%|          | 0/1 [00:00<?, ?it/s]"
      ]
     },
     "metadata": {},
     "output_type": "display_data"
    },
    {
     "name": "stdout",
     "output_type": "stream",
     "text": [
      "\n",
      "20221209_5dpf_lhx1aGFP_1D4Cy3_sall1a647_F0sall1a_L20_002\n",
      "\t H1s\n",
      "\t Time elapsed: 20 s\n",
      "\n",
      "\n",
      "Finished cellpose batch analysis\n"
     ]
    }
   ],
   "source": [
    "print('Starting analysis:\\n')\n",
    "with tqdm(total=len(wt_fPaths)*1, file=sys.stdout) as progBar:\n",
    "    for fPath in wt_fPaths:\n",
    "        print('\\n' + fPath)\n",
    "        print('\\t H1s')\n",
    "        startTime = time.time()\n",
    "        dOut = dAnalysis + wt_gene + '/' + fPath + '/' + 'H_mip.tiff'\n",
    "        img = cellpose.io.imread(dOut)\n",
    "        masks, flows, styles, diams = model.eval(img, \n",
    "                                                 diameter=cpParams['diameterH'], channels=cpParams['channels'],\n",
    "                                                 do_3D=False, net_avg = cpParams['net_avg'], interp = True,\n",
    "                                                 flow_threshold = cpParams['flow_threshold'], cellprob_threshold = cpParams['cellprob_threshold'])\n",
    "        cellpose.io.masks_flows_to_seg(img, masks, flows, diams, dOut, cpParams['channels']) # save results\n",
    "        endTime = time.time()\n",
    "        print ('\\t Time elapsed: {elapsedTime} s\\n'.format(elapsedTime = int(endTime - startTime)))\n",
    "        progBar.update(1)\n",
    "        \n",
    "#         dOut = dAnalysis + wt_gene + '/' + fPath + '/' + 'L_mip.tiff'\n",
    "#         img = cellpose.io.imread(dOut)\n",
    "#         masks, flows, styles, diams = model.eval(img, \n",
    "#                                                  diameter=cpParams['diameterC'], channels=cpParams['channels'],\n",
    "#                                                  do_3D=False, net_avg = cpParams['net_avg'], interp = True,\n",
    "#                                                  flow_threshold = cpParams['flow_threshold'], cellprob_threshold = cpParams['cellprob_threshold'])\n",
    "#         cellpose.io.masks_flows_to_seg(img, masks, flows, diams, dOut, cpParams['channels']) # save results\n",
    "#         endTime = time.time()\n",
    "#         print ('\\t Time elapsed: {elapsedTime} s\\n'.format(elapsedTime = int(endTime - startTime)))\n",
    "#         progBar.update(1)\n",
    "        \n",
    "#         dOut = dAnalysis + wt_gene + '/' + fPath + '/' + 'N_mip.tiff'\n",
    "#         img = cellpose.io.imread(dOut)\n",
    "#         masks, flows, styles, diams = model.eval(img, \n",
    "#                                                  diameter=cpParams['diameterC'], channels=cpParams['channels'],\n",
    "#                                                  do_3D=False, net_avg = cpParams['net_avg'], interp = True,\n",
    "#                                                  flow_threshold = cpParams['flow_threshold'], cellprob_threshold = cpParams['cellprob_threshold'])\n",
    "#         cellpose.io.masks_flows_to_seg(img, masks, flows, diams, dOut, cpParams['channels']) # save results\n",
    "#         endTime = time.time()\n",
    "#         print ('\\t Time elapsed: {elapsedTime} s\\n'.format(elapsedTime = int(endTime - startTime)))\n",
    "#         progBar.update(1)\n",
    "    \n",
    "print('\\nFinished cellpose batch analysis')\n",
    "\n",
    "print('Starting analysis:\\n')\n",
    "with tqdm(total=len(cr_fPaths)*1, file=sys.stdout) as progBar:\n",
    "    for fPath in cr_fPaths:\n",
    "        print('\\n' + fPath)\n",
    "        print('\\t H1s')\n",
    "        startTime = time.time()\n",
    "        dOut = dAnalysis + cr_gene + '/' + fPath + '/' + 'H_mip.tiff'\n",
    "        img = cellpose.io.imread(dOut)\n",
    "        masks, flows, styles, diams = model.eval(img, \n",
    "                                                 diameter=cpParams['diameterH'], channels=cpParams['channels'],\n",
    "                                                 do_3D=False, net_avg = cpParams['net_avg'], interp = True,\n",
    "                                                 flow_threshold = cpParams['flow_threshold'], cellprob_threshold = cpParams['cellprob_threshold'])\n",
    "        cellpose.io.masks_flows_to_seg(img, masks, flows, diams, dOut, cpParams['channels']) # save results\n",
    "        endTime = time.time()\n",
    "        print ('\\t Time elapsed: {elapsedTime} s\\n'.format(elapsedTime = int(endTime - startTime)))\n",
    "        progBar.update(1)\n",
    "        \n",
    "#         dOut = dAnalysis + cr_gene + '/' + fPath + '/' + 'L_mip.tiff'\n",
    "#         img = cellpose.io.imread(dOut)\n",
    "#         masks, flows, styles, diams = model.eval(img, \n",
    "#                                                  diameter=cpParams['diameterC'], channels=cpParams['channels'],\n",
    "#                                                  do_3D=False, net_avg = cpParams['net_avg'], interp = True,\n",
    "#                                                  flow_threshold = cpParams['flow_threshold'], cellprob_threshold = cpParams['cellprob_threshold'])\n",
    "#         cellpose.io.masks_flows_to_seg(img, masks, flows, diams, dOut, cpParams['channels']) # save results\n",
    "#         endTime = time.time()\n",
    "#         print ('\\t Time elapsed: {elapsedTime} s\\n'.format(elapsedTime = int(endTime - startTime)))\n",
    "#         progBar.update(1)\n",
    "        \n",
    "#         dOut = dAnalysis + cr_gene + '/' + fPath + '/' + 'N_mip.tiff'\n",
    "#         img = cellpose.io.imread(dOut)\n",
    "#         masks, flows, styles, diams = model.eval(img, \n",
    "#                                                  diameter=cpParams['diameterC'], channels=cpParams['channels'],\n",
    "#                                                  do_3D=False, net_avg = cpParams['net_avg'], interp = True,\n",
    "#                                                  flow_threshold = cpParams['flow_threshold'], cellprob_threshold = cpParams['cellprob_threshold'])\n",
    "#         cellpose.io.masks_flows_to_seg(img, masks, flows, diams, dOut, cpParams['channels']) # save results\n",
    "#         endTime = time.time()\n",
    "#         print ('\\t Time elapsed: {elapsedTime} s\\n'.format(elapsedTime = int(endTime - startTime)))\n",
    "#         progBar.update(1)\n",
    "\n",
    "        \n",
    "print('\\nFinished cellpose batch analysis')"
   ]
  },
  {
   "cell_type": "markdown",
   "metadata": {},
   "source": [
    "***\n",
    "## Manual correction of cellpose segmentation<a id='manualCuration'>∮</a>\n",
    "***\n",
    "[Back to Index](#Index)"
   ]
  },
  {
   "cell_type": "code",
   "execution_count": null,
   "metadata": {},
   "outputs": [],
   "source": [
    "# viewer = napari.Viewer()"
   ]
  },
  {
   "cell_type": "code",
   "execution_count": 266,
   "metadata": {},
   "outputs": [
    {
     "name": "stdout",
     "output_type": "stream",
     "text": [
      "Viewer cleared...\n",
      "Loaded  20221209_5dpf_lhx1aGFP_1D4Cy3_sall1a647_F0sall1a_L22_002 !\n",
      " Now fix it and save it!\n",
      "removeLabel on H_seg (\"Shift-X\")\n",
      "toggle H_seg preserve_labels (\"k\")\n",
      "toggle N_mip visibility (\"B\")\n",
      "toggle H_mip visibility (\"N\")\n",
      "Add new label in H_seg visibility (\"+\"|\"M\")\n"
     ]
    }
   ],
   "source": [
    "# clear viewer\n",
    "viewer.layers.select_all(); viewer.layers.remove_selected()\n",
    "\n",
    "\n",
    "# analysis directory\n",
    "dAnalysis = \"/Users/angueyraaristjm/Documents/eelImaging/tempAnalysis/F0sall1a/h1G/\"\n",
    "\n",
    "# open file\n",
    "dPath = '/Volumes/zfSSD/LiImaging/A1R/zf/20221209_F0sall1a/'\n",
    "\n",
    "\n",
    "# 5 dpf + immuno\n",
    "fPath = \"20221209_5dpf_lhx1aGFP_1D4Cy3_sall1a647_wt_L12_002\"; gene = 'wt'; # very dim GFP; sclera+\n",
    "fPath = \"20221209_5dpf_lhx1aGFP_1D4Cy3_sall1a647_wt_L13_002\"; gene = 'wt'; # dim GFP; sclera+\n",
    "fPath = \"20221209_5dpf_lhx1aGFP_1D4Cy3_sall1a647_wt_L15_002\"; gene = 'wt'; #ok-ish\n",
    "fPath = \"20221209_5dpf_lhx1aGFP_1D4Cy3_sall1a647_wt_L15_004\"; gene = 'wt'; #ok-ish; bad segmentation\n",
    "fPath = \"20221209_5dpf_lhx1aGFP_1D4Cy3_sall1a647_wt_L16_002\"; gene = 'wt'; #ok-ish\n",
    "fPath = \"20221209_5dpf_lhx1aGFP_1D4Cy3_sall1a647_wt_L17_002\"; gene = 'wt'; # looks difficult to segment\n",
    "\n",
    "fPath = \"20221209_5dpf_lhx1aGFP_1D4Cy3_sall1a647_F0sall1a_L19_002\"; gene = 'sall1a'; # dim Sall1 labeling; GFP will be hard to segment\n",
    "fPath = \"20221209_5dpf_lhx1aGFP_1D4Cy3_sall1a647_F0sall1a_L20_002\"; gene = 'sall1a'; #Sall1+; good GFP can be EXAMPLE\n",
    "fPath = \"20221209_5dpf_lhx1aGFP_1D4Cy3_sall1a647_F0sall1a_L21_002\"; gene = 'sall1a'; # good GFP; Sall1 seems negative\n",
    "fPath = \"20221209_5dpf_lhx1aGFP_1D4Cy3_sall1a647_F0sall1a_L22_002\"; gene = 'sall1a'; # good GFP\n",
    "\n",
    "# fPath = \"20221209_5dpf_lhx1aGFP_1D4Cy3_sall1a647_F0sall1a_L23_002\"; gene = 'sall1a'; \n",
    "# fPath = \"20221209_5dpf_lhx1aGFP_1D4Cy3_sall1a647_F0sall1a_L24_002\"; gene = 'sall1a'; \n",
    "\n",
    "# # 3 dpf\n",
    "# segmentation curated for all these\n",
    "# fPath = \"20221209_3dpf_lhx1aGFP_wt_L01_002\"; gene = 'wt'; # curvy; bad for DAPI but good for GFP\n",
    "# fPath = \"20221209_3dpf_lhx1aGFP_wt_L02_002\"; gene = 'wt'; # done\n",
    "# fPath = \"20221209_3dpf_lhx1aGFP_wt_L03_002\"; gene = 'wt'; # curvy\n",
    "# fPath = \"20221209_3dpf_lhx1aGFP_wt_L04_002\"; gene = 'wt'; # EXAMPLE\n",
    "# fPath = \"20221209_3dpf_lhx1aGFP_wt_L05_002\"; gene = 'wt'; \n",
    "# fPath = \"20221209_3dpf_lhx1aGFP_wt_L06_002\"; gene = 'wt'; # EXAMPLE too although it's lowest count\n",
    "\n",
    "# fPath = \"20221209_3dpf_lhx1aGFP_F0sall1a_L01_002\"; gene = 'sall1a'; \n",
    "# fPath = \"20221209_3dpf_lhx1aGFP_F0sall1a_L02_002\"; gene = 'sall1a'; \n",
    "# fPath = \"20221209_3dpf_lhx1aGFP_F0sall1a_L03_002\"; gene = 'sall1a'; \n",
    "# fPath = \"20221209_3dpf_lhx1aGFP_F0sall1a_L04_002\"; gene = 'sall1a'; # this retina is not layered yet; very different from rest\n",
    "\n",
    "\n",
    "# define subdirectory for analysis\n",
    "dOut = dAnalysis + gene + '/' + fPath + '/'\n",
    "print('Viewer cleared...')\n",
    "\n",
    "# clear key binds\n",
    "@viewer.bind_key('k', overwrite=True)\n",
    "def toggle_sel(viewer):\n",
    "    ...\n",
    "@viewer.bind_key('b', overwrite=True)\n",
    "def toggle_sel(viewer):\n",
    "    ...\n",
    "@viewer.bind_key('Shift-x', overwrite=True)\n",
    "def removeLabel(viewer):\n",
    "    ...\n",
    "\n",
    "# load mips\n",
    "mipO = 0.99\n",
    "viewer.open(dOut + 'H' + \"_mip.tiff\", plugin='builtins', colormap = 'gray', blending='additive', opacity=mipO);\n",
    "viewer.open(dOut + 'N' + \"_mip.tiff\", plugin='builtins', colormap = 'bop blue', blending='additive', opacity=mipO);\n",
    "\n",
    "# load segmentation\n",
    "segData = np.load(dOut + 'H' + \"_mip\" + \"_seg.npy\", allow_pickle=True).item()\n",
    "viewer.add_labels(segData['masks'], name='H_seg',blending='additive');\n",
    "viewer.layers['H_seg'].preserve_labels = True;\n",
    "# tweak display to help with segmentation\n",
    "# viewer.layers['H_mip'].opacity=mipO;viewer.layers['H_mip'].gamma=1.0;viewer.layers['H_mip'].contrast_limits=[150,2000]\n",
    "\n",
    "viewer.layers['N_mip'].visible = False;\n",
    "\n",
    "print('Loaded  ' + fPath + ' !\\n Now fix it and save it!')\n",
    "\n",
    "#define useful keyboard shortcuts\n",
    "\n",
    "@viewer.bind_key('Shift-x', overwrite=True)\n",
    "def removeLabel(viewer):\n",
    "    lname = 'H_seg'\n",
    "    tempd = viewer.layers[lname].data\n",
    "    tempd[tempd == viewer.layers[lname].selected_label]=0\n",
    "    viewer.layers[lname].data = tempd\n",
    "    print('Cut!')\n",
    "print('removeLabel on H_seg (\"Shift-X\")')\n",
    "\n",
    "@viewer.bind_key('k', overwrite=True)\n",
    "def toggle_sel(viewer):\n",
    "    lname = 'H_seg'\n",
    "    if (viewer.layers[lname].preserve_labels == True):\n",
    "        viewer.layers[lname].preserve_labels = False\n",
    "    elif (viewer.layers[lname].preserve_labels == False):\n",
    "        viewer.layers[lname].preserve_labels = True\n",
    "print('toggle H_seg preserve_labels (\"k\")')\n",
    "        \n",
    "@viewer.bind_key('b', overwrite=True)\n",
    "def toggle_sel(viewer):\n",
    "    lname = 'N_mip'\n",
    "    if (viewer.layers[lname].visible == True):\n",
    "        viewer.layers[lname].visible = False\n",
    "    elif (viewer.layers[lname].visible == False):\n",
    "        viewer.layers[lname].visible = True\n",
    "print('toggle N_mip visibility (\"B\")')\n",
    "\n",
    "@viewer.bind_key('n', overwrite=True)\n",
    "def toggle_sel(viewer):\n",
    "    lname = 'H_mip'\n",
    "    if (viewer.layers[lname].visible == True):\n",
    "        viewer.layers[lname].visible = False\n",
    "    elif (viewer.layers[lname].visible == False):\n",
    "        viewer.layers[lname].visible = True\n",
    "print('toggle H_mip visibility (\"N\")')\n",
    "\n",
    "@viewer.bind_key('+', overwrite=True)\n",
    "def new_label(viewer):\n",
    "    \"\"\"Set the currently selected label to the largest used label plus one.\"\"\"\n",
    "    lname = 'H_seg'\n",
    "    viewer.layers[lname].selected_label = viewer.layers[lname].data.max() + 1\n",
    "print('Add new label in H_seg visibility (\"+\"|\"M\")')"
   ]
  },
  {
   "cell_type": "markdown",
   "metadata": {},
   "source": [
    "#### reload z-stack if needed to fix segmentation"
   ]
  },
  {
   "cell_type": "code",
   "execution_count": 267,
   "metadata": {},
   "outputs": [
    {
     "name": "stdout",
     "output_type": "stream",
     "text": [
      "Loading files...\n",
      "Loaded: 20221209_5dpf_lhx1aGFP_1D4Cy3_sall1a647_F0sall1a_L22_002\n",
      "Cut!\n",
      "Cut!\n",
      "Cut!\n"
     ]
    }
   ],
   "source": [
    "# load whole stack to figure out best planes for cellpose\n",
    "print('Loading files...')\n",
    "nMips = len(viewer.layers)\n",
    "viewer.open((dPath+fPath + \".nd2\"))\n",
    "viewer.layers.remove(viewer.layers[len(viewer.layers)-1]) # remove transmitted detector image\n",
    "viewer.layers.select_next();\n",
    "\n",
    "if len(viewer.layers)==2: # DAPI and GFP channel (no RFP or Cy5)\n",
    "    nChannels = 2\n",
    "    viewer.layers[0].colormap = 'gray'\n",
    "    viewer.layers[0].name = 'N'\n",
    "    viewer.layers[0].opacity = 1.00\n",
    "    viewer.layers[1].colormap = 'green'\n",
    "    viewer.layers[1].name = 'H'\n",
    "elif len(viewer.layers)==3: #DAPI\n",
    "    nChannels = 3\n",
    "    viewer.layers[0].colormap = 'gray'\n",
    "    viewer.layers[0].name = 'N'\n",
    "    viewer.layers[0].opacity = 1.00\n",
    "    viewer.layers[1].colormap = 'green'\n",
    "    viewer.layers[1].name = 'H'\n",
    "    viewer.layers[2].colormap = 'magenta'\n",
    "    viewer.layers[2].name = '1D4'\n",
    "elif len(viewer.layers)==4: #DAPI\n",
    "    nChannels = 4\n",
    "    viewer.layers[0].colormap = 'gray'\n",
    "    viewer.layers[0].name = 'N'\n",
    "    viewer.layers[0].opacity = 1.00\n",
    "    viewer.layers[1].colormap = 'green'\n",
    "    viewer.layers[1].name = 'H'\n",
    "    viewer.layers[2].colormap = 'magenta'\n",
    "    viewer.layers[2].name = '1D4'\n",
    "    viewer.layers[3].colormap = 'bop orange'\n",
    "    viewer.layers[3].name = 'sall1a'\n",
    "\n",
    "print('Loaded: ' + fPath)"
   ]
  },
  {
   "cell_type": "markdown",
   "metadata": {
    "jp-MarkdownHeadingCollapsed": true,
    "tags": []
   },
   "source": [
    "---"
   ]
  },
  {
   "cell_type": "markdown",
   "metadata": {
    "tags": []
   },
   "source": [
    "#### resave curated segmentation after napari-ing around (H_mip only)"
   ]
  },
  {
   "cell_type": "code",
   "execution_count": 268,
   "metadata": {},
   "outputs": [
    {
     "name": "stdout",
     "output_type": "stream",
     "text": [
      "Done with H_seg for 20221209_5dpf_lhx1aGFP_1D4Cy3_sall1a647_F0sall1a_L22_002\n"
     ]
    }
   ],
   "source": [
    "baseName = 'H'\n",
    "lname = baseName + '_seg'\n",
    "l = viewer.layers[baseName + '_seg']; l.save(dOut + l.name + '_curated.tiff')\n",
    "print('Done with ' + lname + ' for ' + fPath)"
   ]
  },
  {
   "cell_type": "markdown",
   "metadata": {},
   "source": [
    "### Reload curated segmentations after saving"
   ]
  },
  {
   "cell_type": "code",
   "execution_count": 269,
   "metadata": {},
   "outputs": [
    {
     "name": "stdout",
     "output_type": "stream",
     "text": [
      "20221209_5dpf_lhx1aGFP_1D4Cy3_sall1a647_F0sall1a_L22_002\n",
      "Image has 59 H1s\n"
     ]
    }
   ],
   "source": [
    "# remove all except mips\n",
    "# viewer.layers.remove(viewer.layers['Points'])\n",
    "n_mips = 2;\n",
    "if len(viewer.layers)>n_mips:\n",
    "    for l in viewer.layers[n_mips:]:\n",
    "        viewer.layers.remove(l)\n",
    "\n",
    "viewer.open(dOut + 'H' + \"_seg_curated.tiff\", name='H_seg', plugin='builtins',blending='additive');\n",
    "viewer.layers['H_mip'].visible = True\n",
    "\n",
    "print(fPath)\n",
    "nH = len(np.unique(viewer.layers['H_seg'].data))-1\n",
    "print(\"Image has {0} H1s\".format(nH))\n"
   ]
  },
  {
   "cell_type": "markdown",
   "metadata": {},
   "source": [
    "### [Go back and run next one &uarr;](#manualCuration)\n",
    "---"
   ]
  },
  {
   "cell_type": "markdown",
   "metadata": {},
   "source": [
    "### reload mip and eye marks in case there are doubts"
   ]
  },
  {
   "cell_type": "code",
   "execution_count": null,
   "metadata": {},
   "outputs": [],
   "source": []
  },
  {
   "cell_type": "code",
   "execution_count": null,
   "metadata": {},
   "outputs": [],
   "source": []
  },
  {
   "cell_type": "code",
   "execution_count": null,
   "metadata": {},
   "outputs": [],
   "source": []
  },
  {
   "cell_type": "code",
   "execution_count": null,
   "metadata": {},
   "outputs": [],
   "source": []
  },
  {
   "cell_type": "code",
   "execution_count": null,
   "metadata": {},
   "outputs": [],
   "source": []
  },
  {
   "cell_type": "code",
   "execution_count": null,
   "metadata": {},
   "outputs": [],
   "source": []
  },
  {
   "cell_type": "code",
   "execution_count": null,
   "metadata": {},
   "outputs": [],
   "source": []
  },
  {
   "cell_type": "markdown",
   "metadata": {},
   "source": [
    "***\n",
    "## Quantification<a id='quantification'></a>\n",
    "***\n",
    "[Back to Index](#Index)"
   ]
  },
  {
   "cell_type": "markdown",
   "metadata": {
    "tags": []
   },
   "source": [
    "### Read csv created during analysis and create bar plot"
   ]
  },
  {
   "cell_type": "code",
   "execution_count": null,
   "metadata": {},
   "outputs": [],
   "source": [
    "#gene Colors\n",
    "zfC = {\n",
    "    'R'  : '#7d7d7d',\n",
    "    'U' : '#B73AB9',\n",
    "    'S' : '#4364F6',\n",
    "    'M' : '#59CB3B',\n",
    "    'L' : '#CE2A22',\n",
    "}\n",
    "\n",
    "zfG = {\n",
    "    'wt' : '#000000',\n",
    "    'tbx2a' : '#ab266b',\n",
    "    'tbx2b' : '#421f8e',\n",
    "    'foxq2' : '#001dd6',\n",
    "    'nr2e3' : '#7d7d7d',\n",
    "}\n",
    "\n",
    "zfGm = {\n",
    "    'wt' : 'o',\n",
    "    'tbx2a' : 'P',\n",
    "    'tbx2b' : 'X',\n",
    "    'nr2e3' : '+',\n",
    "    \n",
    "}\n",
    "\n",
    "prLabel = {\n",
    "    'R'  : 'Rods',\n",
    "    'U' : 'UV',\n",
    "    'S' : 'S',\n",
    "    'M' : 'M',\n",
    "    'L' : 'L',\n",
    "}\n",
    "\n",
    "\n",
    "def formatFigureMain(figH, axH, plotH):\n",
    "#     font_path = 'C:/Users/pataklk/Documents/Frag_Analysis_Code/Avenir.ttc'\n",
    "    font_path = '/System/Library/Fonts/Avenir.ttc'\n",
    "    fontTicks = font_manager.FontProperties(fname=font_path, size=30) # was 18\n",
    "    fontLabels = font_manager.FontProperties(fname=font_path, size=36) # was 22\n",
    "    fontTitle = font_manager.FontProperties(fname=font_path, size=30) # was 28 \n",
    "    axH.set_xscale('linear')\n",
    "    axH.spines['top'].set_visible(False)\n",
    "    axH.spines['right'].set_visible(False)\n",
    "    \n",
    "    for label in (axH.get_xticklabels() + axH.get_yticklabels()):\n",
    "        label.set_fontproperties(fontTicks)\n",
    "    axH.set_xlabel(axH.get_xlabel(), fontproperties = fontTicks)\n",
    "    axH.set_ylabel(axH.get_ylabel(), fontproperties = fontTicks)\n",
    "    return fontLabels\n",
    "\n",
    "def formatFigure(figH, axH, plotH):\n",
    "    fontLabels = formatFigureMain(figH, axH, plotH)\n",
    "#     axH.set_xlabel('wt vs. cr', fontproperties=fontLabels)\n",
    "    axH.set_ylabel('cells per 64 x 64 $\\mu$m$^2$', fontproperties=fontLabels)\n",
    "    axH.xaxis.set_tick_params(rotation=45)\n",
    "\n",
    "def formatFigureRvU(figH, axH, plotH):\n",
    "    fontLabels = formatFigureMain(figH, axH, plotH)\n",
    "    axH.set_xlabel('Rods per 64 x 64 $\\mu$m$^2$', fontproperties=fontLabels)\n",
    "    axH.set_ylabel('UV cones per 64 x 64 $\\mu$m$^2$', fontproperties=fontLabels)\n",
    "    axH.xaxis.set_tick_params(rotation=45)\n",
    "    \n",
    "def formatFigureMvS(figH, axH, plotH):\n",
    "    fontLabels = formatFigureMain(figH, axH, plotH)\n",
    "    axH.set_xlabel('M cones per 64 x 64 $\\mu$m$^2$', fontproperties=fontLabels)\n",
    "    axH.set_ylabel('S cones per 64 x 64 $\\mu$m$^2$', fontproperties=fontLabels)\n",
    "    axH.xaxis.set_tick_params(rotation=45)\n",
    "\n",
    "    \n",
    "def lighten_color(color, amount=0.5):\n",
    "    \"\"\"\n",
    "    Lightens the given color by multiplying (1-luminosity) by the given amount.\n",
    "    Input can be matplotlib color string, hex string, or RGB tuple.\n",
    "\n",
    "    Examples:\n",
    "    >> lighten_color('g', 0.3)\n",
    "    >> lighten_color('#F034A3', 0.6)\n",
    "    >> lighten_color((.3,.55,.1), 0.5)\n",
    "    \"\"\"\n",
    "    import colorsys\n",
    "    try:\n",
    "        c = matplotlib.colors.cnames[color]\n",
    "    except:\n",
    "        c = color\n",
    "    c = colorsys.rgb_to_hls(*matplotlib.colors.to_rgb(c))\n",
    "    return matplotlib.colors.rgb2hex(colorsys.hls_to_rgb(c[0], 1 - amount * (1 - c[1]), c[2]))\n",
    "\n",
    "def estimateJitter(dataArray):\n",
    "    \"\"\" creates random jitter scaled by local density of points\"\"\"\n",
    "    from scipy.stats import gaussian_kde\n",
    "    kde = gaussian_kde(dataArray)\n",
    "    density = kde(dataArray)\n",
    "    jitter = np.random.randn(len(dataArray))*density\n",
    "    return jitter\n",
    "pBGMenu"
   ]
  },
  {
   "cell_type": "code",
   "execution_count": null,
   "metadata": {},
   "outputs": [],
   "source": [
    "#reapply plotting style\n",
    "applyPlotStyle(pBGMenu.value)"
   ]
  },
  {
   "cell_type": "code",
   "execution_count": null,
   "metadata": {},
   "outputs": [],
   "source": [
    "# Created csv manually during analysis\n",
    "dPath = \"/Users/angueyraaristjm/Documents/eelImaging/tempAnalysis/CRnr2e3F0s/xOGaCT/\"\n",
    "fName = \"CRnr2e3F0s_xOGaCT_Counts.csv\"\n",
    "\n",
    "dPath = \"/Users/angueyraaristjm/Library/CloudStorage/OneDrive-NationalInstitutesofHealth/zf/Analysis/CRnr2e3F0s/\"\n",
    "# dPath = \"/Users/angueyraaristjm/Documents/eelImaging/tempAnalysis/CRnr2e3F0s/m2Gs2C/\"\n",
    "fName = \"CRnr2e3F0s_combinedCounts.csv\"\n",
    "\n",
    "df = pd.read_csv(dPath + fName)\n",
    "df"
   ]
  },
  {
   "cell_type": "code",
   "execution_count": null,
   "metadata": {},
   "outputs": [],
   "source": [
    "geneList = ['wt','nr2e3']\n",
    "nGenes = np.size(geneList)\n",
    "photoreceptors = ['R','U','S','M','L']\n",
    "# photoreceptors = ['S','M']\n",
    "\n",
    "plotname = ''\n",
    "fH, axH = plt.subplots(figsize= [12,8])\n",
    "\n",
    "barW = nGenes+2; # bar width\n",
    "barD = nGenes+1; # bar distance whitin 1 photoreceptor subtype\n",
    "barP = -nGenes+1; # position in x-axis\n",
    "barStep = 0.9; # distance between photoreceptor groups\n",
    "barPos = []; #array to save bar positions\n",
    "\n",
    "\n",
    "j=barP;\n",
    "for gene in geneList:\n",
    "    i=0;\n",
    "    j=j+1;\n",
    "    for pr in photoreceptors:\n",
    "        i = i+barStep;\n",
    "        countData = df[(df['genotype']==gene) & (df['excludeFlag']==False)][pr]\n",
    "        jitter = np.random.randn(len(countData))*0.03\n",
    "#         textindent = 1/(2.5*barD);\n",
    "        textindent = 0.10;\n",
    "        pH = plt.bar([i+j/barD], np.mean(countData), width=1/barW, color=lighten_color(zfC[pr],1), linewidth = 2, edgecolor = lighten_color(zfC[pr],1)); #color=zfC[pr], \n",
    "#         pH = plt.bar([i+j/barD], np.mean(countData), yerr = sem(df[(df['CRgene']==gene) & (df['Genotype']==geno)][pr][~np.isnan(df[(df['CRgene']==gene) & (df['Genotype']==geno)][pr])], ddof = 0), align='center', ecolor='black', capsize=10, width=1/barW, color=zfC[pr], edgecolor = zfC[pr]);\n",
    "#         pH = plt.bar([i+j/barD], np.mean(countData), yerr = np.std(df[(df['CRgene']==gene) & (df['Genotype']==geno)][pr][~np.isnan(df[(df['CRgene']==gene) & (df['Genotype']==geno)][pr])], ddof = 0), align='center', ecolor='black', capsize=10, width=1/barW, color=zfC[pr], edgecolor = zfC[pr]);\n",
    "       # pH = plt.bar([i+j/barD], np.mean(df[(df['CRgene']==gene) & (df['Genotype']==geno)][pr]), yerr = np.std(df[(df['CRgene']==gene) & (df['Genotype']==geno)][pr]), ecolor=lighten_color(zfC[pr],1.2), capsize=10, width=1/barW, color=zfC[pr], edgecolor = zfC[pr]);\n",
    "        #pH = plt.errorbar([i+j/barD], np.mean(df[(df['CRgene']==gene) & (df['Genotype']==geno)][pr]), yerr = np.std(df[(df['CRgene']==gene) & (df['Genotype']==geno)][pr]), ecolor=lighten_color(zfC[pr],1.1), elinewidth=2, capsize=5, capthick=2, barsabove= True)\n",
    "#         pH = plt.scatter(np.ones(len(countData))*[i+j/barD]+jitter, countData, color=lighten_color(zfC[pr],2/3), zorder=2, marker = zfGm[gene], edgecolor='#ffffff', linewidth=0.5, alpha = 0.4);\n",
    "        pH = plt.errorbar(i+j/barD, np.mean(countData), yerr = [[0],[np.std(countData)]], ecolor=lighten_color(zfC[pr],1), elinewidth=3, capsize=8, capthick=3, zorder=9)\n",
    "        # plt.text((i+j/barD)-textindent, 3, prLabel[pr], font_properties=font_prop, fontsize=20, ha='left', alpha=0.6)\n",
    "        pH = plt.scatter(np.ones(len(countData))*[i+j/barD]+jitter, countData, color='#ffffff', zorder=8, marker = 'o', s=50, edgecolor='#ffffff', linewidth=0.5, alpha = .6);\n",
    "        barPos = np.append(barPos,(i+j/barD))\n",
    "\n",
    "formatFigure(fH, axH, pH)\n",
    "axH.set_xticks(np.sort(barPos));\n",
    "\n",
    "axH.set_xticklabels(geneList * len(photoreceptors));\n",
    "# axH.set_ylim([0,500]); # this was 400\n",
    "\n",
    "# savePath = 'C:/Users/pataklk/OneDrive - National Institutes of Health/zf/F0_Analysis/CRfoxq2F0/'\n",
    "# savePath = \"/Users/angueyraaristjm/OneDrive - National Institutes of Health/zf/F0_Analysis/CRfoxq2F0/\"\n",
    "# savePath = \"/Users/angueyraaristjm/Documents/LiLab/Presentations/revealjs/resources/20211008_UCLA/\"\n",
    "# plt.savefig(savePath + \"Counts_foxq2.png\", transparent=True, format=\"png\", bbox_inches = \"tight\")\n",
    "# plt.savefig(savePath + \"Counts_foxq2_B.svg\", transparent=True, format=\"svg\", bbox_inches = \"tight\")"
   ]
  },
  {
   "cell_type": "markdown",
   "metadata": {},
   "source": [
    "### Stats"
   ]
  },
  {
   "cell_type": "markdown",
   "metadata": {},
   "source": [
    "### Read csv created during analysis and create bar plot"
   ]
  },
  {
   "cell_type": "code",
   "execution_count": null,
   "metadata": {},
   "outputs": [],
   "source": [
    "geneList = ['wt','nr2e3']\n",
    "photoreceptors = ['R','U','S','M','L']\n",
    "\n",
    "print('{0} vs. {1}:'.format(geneList[0],geneList[1]))\n",
    "\n",
    "for pr in photoreceptors:\n",
    "    # get counts for each photoreceptor subtype and exclude NaNs\n",
    "    wtCount = df[(df['genotype']==(geneList[0]))&(df['excludeFlag']==False)][pr]\n",
    "    wtCount = wtCount[~np.isnan(wtCount)]\n",
    "    \n",
    "    crCount = df[(df['genotype']==(geneList[1]))&(df['excludeFlag']==False)][pr]\n",
    "    crCount = crCount[~np.isnan(crCount)]\n",
    "    \n",
    "    u, p = mannwhitneyu(wtCount, crCount)\n",
    "    print('\\t{0}:'.format(pr))\n",
    "    print('\\t\\tU = {0:.3f}, p = {1:.5f}, nEyes: wt = {2:.0f}; cr = {3:.0f}'.format(u,p,len(wtCount),len(crCount)))\n"
   ]
  },
  {
   "cell_type": "code",
   "execution_count": null,
   "metadata": {},
   "outputs": [],
   "source": []
  },
  {
   "cell_type": "code",
   "execution_count": null,
   "metadata": {},
   "outputs": [],
   "source": []
  },
  {
   "cell_type": "code",
   "execution_count": null,
   "metadata": {},
   "outputs": [],
   "source": [
    "#gene Colors\n",
    "zfC = {\n",
    "    'R'  : '#7d7d7d',\n",
    "    'U' : '#B73AB9',\n",
    "    'S' : '#4364F6',\n",
    "    'M' : '#59CB3B',\n",
    "    'L' : '#CE2A22',\n",
    "}\n",
    "\n",
    "zfG = {\n",
    "    'wt' : '#000000',\n",
    "    'tbx2a' : '#ab266b',\n",
    "    'tbx2b' : '#421f8e',\n",
    "    'foxq2' : '#001dd6',\n",
    "    'nr2e3' : '#7d7d7d',\n",
    "}\n",
    "\n",
    "zfGm = {\n",
    "    'wt' : 'o',\n",
    "    'tbx2a' : 'P',\n",
    "    'tbx2b' : 'X',\n",
    "    'nr2e3' : '+',\n",
    "    \n",
    "}\n",
    "\n",
    "prLabel = {\n",
    "    'R'  : 'Rods',\n",
    "    'U' : 'UV',\n",
    "    'S' : 'S',\n",
    "    'M' : 'M',\n",
    "    'L' : 'L',\n",
    "}\n",
    "\n",
    "\n",
    "def formatFigureMain(figH, axH, plotH):\n",
    "#     font_path = 'C:/Users/pataklk/Documents/Frag_Analysis_Code/Avenir.ttc'\n",
    "    font_path = '/System/Library/Fonts/Avenir.ttc'\n",
    "    fontTicks = font_manager.FontProperties(fname=font_path, size=30) # was 18\n",
    "    fontLabels = font_manager.FontProperties(fname=font_path, size=36) # was 22\n",
    "    fontTitle = font_manager.FontProperties(fname=font_path, size=30) # was 28 \n",
    "    axH.set_xscale('linear')\n",
    "    axH.spines['top'].set_visible(False)\n",
    "    axH.spines['right'].set_visible(False)\n",
    "    \n",
    "    for label in (axH.get_xticklabels() + axH.get_yticklabels()):\n",
    "        label.set_fontproperties(fontTicks)\n",
    "    axH.set_xlabel(axH.get_xlabel(), fontproperties = fontTicks)\n",
    "    axH.set_ylabel(axH.get_ylabel(), fontproperties = fontTicks)\n",
    "    return fontLabels\n",
    "\n",
    "def formatFigure(figH, axH, plotH):\n",
    "    fontLabels = formatFigureMain(figH, axH, plotH)\n",
    "#     axH.set_xlabel('wt vs. cr', fontproperties=fontLabels)\n",
    "    axH.set_ylabel('cells per 64 x 64 $\\mu$m$^2$', fontproperties=fontLabels)\n",
    "    axH.xaxis.set_tick_params(rotation=45)\n",
    "\n",
    "def formatFigureRvU(figH, axH, plotH):\n",
    "    fontLabels = formatFigureMain(figH, axH, plotH)\n",
    "    axH.set_xlabel('Rods per 64 x 64 $\\mu$m$^2$', fontproperties=fontLabels)\n",
    "    axH.set_ylabel('UV cones per 64 x 64 $\\mu$m$^2$', fontproperties=fontLabels)\n",
    "    axH.xaxis.set_tick_params(rotation=45)\n",
    "    \n",
    "def formatFigureMvS(figH, axH, plotH):\n",
    "    fontLabels = formatFigureMain(figH, axH, plotH)\n",
    "    axH.set_xlabel('M cones per 64 x 64 $\\mu$m$^2$', fontproperties=fontLabels)\n",
    "    axH.set_ylabel('S cones per 64 x 64 $\\mu$m$^2$', fontproperties=fontLabels)\n",
    "    axH.xaxis.set_tick_params(rotation=45)\n",
    "\n",
    "    \n",
    "def lighten_color(color, amount=0.5):\n",
    "    \"\"\"\n",
    "    Lightens the given color by multiplying (1-luminosity) by the given amount.\n",
    "    Input can be matplotlib color string, hex string, or RGB tuple.\n",
    "\n",
    "    Examples:\n",
    "    >> lighten_color('g', 0.3)\n",
    "    >> lighten_color('#F034A3', 0.6)\n",
    "    >> lighten_color((.3,.55,.1), 0.5)\n",
    "    \"\"\"\n",
    "    import colorsys\n",
    "    try:\n",
    "        c = matplotlib.colors.cnames[color]\n",
    "    except:\n",
    "        c = color\n",
    "    c = colorsys.rgb_to_hls(*matplotlib.colors.to_rgb(c))\n",
    "    return matplotlib.colors.rgb2hex(colorsys.hls_to_rgb(c[0], 1 - amount * (1 - c[1]), c[2]))\n",
    "\n",
    "def estimateJitter(dataArray):\n",
    "    \"\"\" creates random jitter scaled by local density of points\"\"\"\n",
    "    from scipy.stats import gaussian_kde\n",
    "    kde = gaussian_kde(dataArray)\n",
    "    density = kde(dataArray)\n",
    "    jitter = np.random.randn(len(dataArray))*density\n",
    "    return jitter\n",
    "pBGMenu"
   ]
  },
  {
   "cell_type": "code",
   "execution_count": null,
   "metadata": {},
   "outputs": [],
   "source": [
    "#reapply plotting style\n",
    "applyPlotStyle(pBGMenu.value)"
   ]
  },
  {
   "cell_type": "code",
   "execution_count": null,
   "metadata": {},
   "outputs": [],
   "source": [
    "# Created csv manually during analysis\n",
    "dPath = \"/Users/angueyraaristjm/Documents/eelImaging/tempAnalysis/CRnr2e3F0s/xOGaCT/\"\n",
    "fName = \"CRnr2e3F0s_xOGaCT_Counts.csv\"\n",
    "\n",
    "dPath = \"/Users/angueyraaristjm/Library/CloudStorage/OneDrive-NationalInstitutesofHealth/zf/Analysis/CRnr2e3F0s/m2Gs2C/\"\n",
    "dPath = \"/Users/angueyraaristjm/Documents/eelImaging/tempAnalysis/CRnr2e3F0s/m2Gs2C/\"\n",
    "fName = \"CRnr2e3F0s_m2Gs2C_Counts.csv\"\n",
    "\n",
    "df = pd.read_csv(dPath + fName)\n",
    "df"
   ]
  },
  {
   "cell_type": "code",
   "execution_count": null,
   "metadata": {},
   "outputs": [],
   "source": [
    "geneList = ['wt','nr2e3']\n",
    "nGenes = np.size(geneList)\n",
    "# photoreceptors = ['R','U','S','M','L']\n",
    "photoreceptors = ['S','M']\n",
    "\n",
    "plotname = ''\n",
    "fH, axH = plt.subplots(figsize= [12,8])\n",
    "\n",
    "barW = nGenes+2; # bar width\n",
    "barD = nGenes+1; # bar distance whitin 1 photoreceptor subtype\n",
    "barP = -nGenes+1; # position in x-axis\n",
    "barStep = 0.9; # distance between photoreceptor groups\n",
    "barPos = []; #array to save bar positions\n",
    "\n",
    "\n",
    "j=barP;\n",
    "for gene in geneList:\n",
    "    i=0;\n",
    "    j=j+1;\n",
    "    for pr in photoreceptors:\n",
    "        i = i+barStep;\n",
    "        countData = df[(df['genotype']==gene) & (df['excludeFlag']==False)][pr]\n",
    "        jitter = np.random.randn(len(countData))*0.01\n",
    "#         textindent = 1/(2.5*barD);\n",
    "        textindent = 0.10;\n",
    "        pH = plt.bar([i+j/barD], np.mean(countData), width=1/barW, color=lighten_color(zfC[pr],1), linewidth = 2, edgecolor = lighten_color(zfC[pr],1)); #color=zfC[pr], \n",
    "#         pH = plt.bar([i+j/barD], np.mean(countData), yerr = sem(df[(df['CRgene']==gene) & (df['Genotype']==geno)][pr][~np.isnan(df[(df['CRgene']==gene) & (df['Genotype']==geno)][pr])], ddof = 0), align='center', ecolor='black', capsize=10, width=1/barW, color=zfC[pr], edgecolor = zfC[pr]);\n",
    "#         pH = plt.bar([i+j/barD], np.mean(countData), yerr = np.std(df[(df['CRgene']==gene) & (df['Genotype']==geno)][pr][~np.isnan(df[(df['CRgene']==gene) & (df['Genotype']==geno)][pr])], ddof = 0), align='center', ecolor='black', capsize=10, width=1/barW, color=zfC[pr], edgecolor = zfC[pr]);\n",
    "       # pH = plt.bar([i+j/barD], np.mean(df[(df['CRgene']==gene) & (df['Genotype']==geno)][pr]), yerr = np.std(df[(df['CRgene']==gene) & (df['Genotype']==geno)][pr]), ecolor=lighten_color(zfC[pr],1.2), capsize=10, width=1/barW, color=zfC[pr], edgecolor = zfC[pr]);\n",
    "        #pH = plt.errorbar([i+j/barD], np.mean(df[(df['CRgene']==gene) & (df['Genotype']==geno)][pr]), yerr = np.std(df[(df['CRgene']==gene) & (df['Genotype']==geno)][pr]), ecolor=lighten_color(zfC[pr],1.1), elinewidth=2, capsize=5, capthick=2, barsabove= True)\n",
    "#         pH = plt.scatter(np.ones(len(countData))*[i+j/barD]+jitter, countData, color=lighten_color(zfC[pr],2/3), zorder=2, marker = zfGm[gene], edgecolor='#ffffff', linewidth=0.5, alpha = 0.4);\n",
    "        pH = plt.errorbar(i+j/barD, np.mean(countData), yerr = [[0],[np.std(countData)]], ecolor=lighten_color(zfC[pr],1), elinewidth=3, capsize=8, capthick=3, zorder=9)\n",
    "        # plt.text((i+j/barD)-textindent, 3, prLabel[pr], font_properties=font_prop, fontsize=20, ha='left', alpha=0.6)\n",
    "        pH = plt.scatter(np.ones(len(countData))*[i+j/barD]+jitter, countData, color='#ffffff', zorder=8, marker = 'o', s=50, edgecolor='#ffffff', linewidth=0.5, alpha = .6);\n",
    "        barPos = np.append(barPos,(i+j/barD))\n",
    "\n",
    "formatFigure(fH, axH, pH)\n",
    "axH.set_xticks(np.sort(barPos));\n",
    "\n",
    "axH.set_xticklabels(geneList * len(photoreceptors));\n",
    "# axH.set_ylim([0,500]); # this was 400\n",
    "\n",
    "# savePath = 'C:/Users/pataklk/OneDrive - National Institutes of Health/zf/F0_Analysis/CRfoxq2F0/'\n",
    "# savePath = \"/Users/angueyraaristjm/OneDrive - National Institutes of Health/zf/F0_Analysis/CRfoxq2F0/\"\n",
    "# savePath = \"/Users/angueyraaristjm/Documents/LiLab/Presentations/revealjs/resources/20211008_UCLA/\"\n",
    "# plt.savefig(savePath + \"Counts_foxq2.png\", transparent=True, format=\"png\")\n",
    "# plt.savefig(savePath + \"Counts_foxq2_B.svg\", transparent=True, format=\"svg\")"
   ]
  },
  {
   "cell_type": "code",
   "execution_count": null,
   "metadata": {},
   "outputs": [],
   "source": []
  }
 ],
 "metadata": {
  "kernelspec": {
   "display_name": "Python 3 (ipykernel)",
   "language": "python",
   "name": "python3"
  },
  "language_info": {
   "codemirror_mode": {
    "name": "ipython",
    "version": 3
   },
   "file_extension": ".py",
   "mimetype": "text/x-python",
   "name": "python",
   "nbconvert_exporter": "python",
   "pygments_lexer": "ipython3",
   "version": "3.9.7"
  },
  "toc-autonumbering": false,
  "toc-showcode": false,
  "toc-showmarkdowntxt": false,
  "toc-showtags": false
 },
 "nbformat": 4,
 "nbformat_minor": 4
}
