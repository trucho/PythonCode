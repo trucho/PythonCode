{
 "cells": [
  {
   "cell_type": "markdown",
   "metadata": {},
   "source": [
    "# [NAPARI](https://napari.org/)\n",
    "## and [cellpose](https://cellpose-napari.readthedocs.io/en/latest/index.html) (installer [here](https://pypi.org/project/cellpose-napari/0.1.3/))"
   ]
  },
  {
   "cell_type": "code",
   "execution_count": null,
   "metadata": {},
   "outputs": [],
   "source": [
    "## to install\n",
    "# !pip install napari[all]\n",
    "# !pip install QT\n",
    "# !pip install napari[pyqt5]\n",
    "# !pip install cellpose-napari==0.1.4\n",
    "# !pip install napari-nikon-nd2\n",
    "# !pip install magicgui\n",
    "# !pip install napari-pyclesperanto-assistant\n",
    "# !pip install napari-clusters-plotter #hdbscan failed\n",
    "# !pip install napari-plot-profile\n",
    "# !pip install napari-brightness-contrast\n",
    "# !pip install napari-curtain\n",
    "# !pip install napari-3d-ortho-viewer\n",
    "# !pip install napari-manual-split-and-merge-labels\n",
    "# !pip install napari-crop\n",
    "# !pip install napari-stl-exporter\n",
    "\n",
    "# !conda install -c conda-forge ipywidgets\n",
    "\n",
    "## to upgrade:\n",
    "# !pip install cellpose-napari==0.1.4\n",
    "# !pip install cellpose-napari --upgrade\n",
    "# !pip install cellpose --upgrade\n",
    "# !pip install napari --upgrade\n",
    "# !pip install mxnet-mkl"
   ]
  },
  {
   "cell_type": "code",
   "execution_count": 1,
   "metadata": {},
   "outputs": [
    {
     "data": {
      "application/vnd.jupyter.widget-view+json": {
       "model_id": "89cc80ba1e0447e6a2203507d6b0b8dd",
       "version_major": 2,
       "version_minor": 0
      },
      "text/plain": [
       "VBox(children=(Label(value='Select plotting style', layout=Layout(height='30px', width='20%')), Dropdown(index…"
      ]
     },
     "metadata": {},
     "output_type": "display_data"
    }
   ],
   "source": [
    "import napari\n",
    "from magicgui import magicgui\n",
    "from enum import Enum\n",
    "import cellpose_napari\n",
    "import cellpose\n",
    "from cellpose import models\n",
    "from napari.utils import nbscreenshot\n",
    "from tifffile import imread\n",
    "import numpy as np\n",
    "from scipy import ndimage\n",
    "from scipy.stats import mannwhitneyu\n",
    "import napari_nikon_nd2\n",
    "import os \n",
    "from magicgui import magicgui\n",
    "import pandas as pd\n",
    "import matplotlib\n",
    "import matplotlib.pyplot as plt\n",
    "import matplotlib.font_manager as font_manager\n",
    "import importlib\n",
    "import svgutils\n",
    "from svgutils.compose import *\n",
    "import ipywidgets\n",
    "from tqdm import tqdm\n",
    "import time\n",
    "import sys\n",
    "from plotParams import *\n",
    "\n",
    "\n",
    "pBGMenu = ipywidgets.Dropdown(options=['Light', 'Dark'],value='Dark',disabled=False, layout=ipywidgets.Layout(width='20%', height='40px'))\n",
    "pBGLabel = ipywidgets.widgets.Label('Select plotting style', layout=ipywidgets.Layout(width='20%', height='30px'))\n",
    "pBG = ipywidgets.widgets.VBox([pBGLabel,pBGMenu])\n",
    "pBG"
   ]
  },
  {
   "cell_type": "code",
   "execution_count": 2,
   "metadata": {},
   "outputs": [
    {
     "name": "stdout",
     "output_type": "stream",
     "text": [
      "Plotting style is Dark\n",
      "Assistant skips harvesting pyclesperanto as it's not installed.\n"
     ]
    },
    {
     "name": "stderr",
     "output_type": "stream",
     "text": [
      "/Users/angueyraaristjm/opt/anaconda3/lib/python3.9/site-packages/napari_tools_menu/__init__.py:168: FutureWarning: Public access to Window.qt_viewer is deprecated and will be removed in\n",
      "v0.5.0. It is considered an \"implementation detail\" of the napari\n",
      "application, not part of the napari viewer model. If your use case\n",
      "requires access to qt_viewer, please open an issue to discuss.\n",
      "  self.tools_menu = ToolsMenu(self, self.qt_viewer.viewer)\n"
     ]
    }
   ],
   "source": [
    "applyPlotStyle(pBGMenu.value)\n",
    "viewer = napari.Viewer()"
   ]
  },
  {
   "cell_type": "code",
   "execution_count": null,
   "metadata": {},
   "outputs": [],
   "source": [
    "# viewer.close()"
   ]
  },
  {
   "cell_type": "code",
   "execution_count": null,
   "metadata": {},
   "outputs": [],
   "source": [
    "np.shape(viewer.layers[0].data)"
   ]
  },
  {
   "cell_type": "code",
   "execution_count": null,
   "metadata": {},
   "outputs": [],
   "source": [
    "np.power(2,16)"
   ]
  },
  {
   "cell_type": "code",
   "execution_count": null,
   "metadata": {},
   "outputs": [],
   "source": []
  },
  {
   "cell_type": "code",
   "execution_count": null,
   "metadata": {},
   "outputs": [],
   "source": []
  },
  {
   "cell_type": "markdown",
   "metadata": {},
   "source": [
    "***\n",
    "# Index <a id='Index'></a>\n",
    "***\n",
    "- [Extraction of z planes for analysis](#zExtract)\n",
    "- [Segmentation with cellpose](#cellSeg)\n",
    "- [Manual correction of segmentation](#manualCuration)\n",
    "- [Create thumbnails _WIP_](#thumbnails)\n",
    "- [Quantification](#quantification)"
   ]
  },
  {
   "cell_type": "markdown",
   "metadata": {
    "tags": []
   },
   "source": [
    "***\n",
    "## Extract layers from z-stacks<a id='zExtract' name='zExtract'>∮</a>\n",
    "***\n",
    "[Back to Index](#Index)"
   ]
  },
  {
   "cell_type": "code",
   "execution_count": null,
   "metadata": {},
   "outputs": [],
   "source": [
    "# getting list of files\n",
    "dPath = \"/Volumes/angueyraNEI/LiImaging/zf/20211215_lrrfip1aF0_m2G_s2C/\"\n",
    "gene = 'lrrfip1a'\n",
    "#### !ls $dPath/*$gene*[002,004].nd2\n",
    "fList = !ls $dPath/*$gene*[002,004].nd2\n",
    "fList = list(map(lambda st: str.replace(st, dPath + '/', 'fPath = \\\"'), fList))\n",
    "fList = list(map(lambda st: str.replace(st, '.nd2', '\\\"; gene = \\'' + gene + '\\'; '), fList))\n",
    "# print(*fList, sep = \"\\n\")"
   ]
  },
  {
   "cell_type": "code",
   "execution_count": null,
   "metadata": {},
   "outputs": [],
   "source": [
    "# clear viewer\n",
    "viewer.layers.select_all(); viewer.layers.remove_selected()"
   ]
  },
  {
   "cell_type": "code",
   "execution_count": 11,
   "metadata": {},
   "outputs": [
    {
     "name": "stdout",
     "output_type": "stream",
     "text": [
      "Canvas clear\n"
     ]
    }
   ],
   "source": [
    "# clear viewer\n",
    "viewer.layers.select_all(); viewer.layers.remove_selected()\n",
    "\n",
    "# analysis directory\n",
    "dAnalysis = \"/Users/angueyraaristjm/Documents/eelImaging/tempAnalysis/test/\"\n",
    "\n",
    "# open file\n",
    "dPath = \"/Volumes/angueyra04/LiImaging/20230116_nr2e3nr2f1bF0s_m2G_s2C/\"\n",
    "\n",
    "fPath = \"20230116_m2G_s2C_F0nr2e3nr2f1b_L01_004\"; gene = 'wt'; zlims = [7,9];\n",
    "\n",
    "\n",
    "photoreceptors = ['M','S']\n",
    "\n",
    "# create subdirectory for analysis\n",
    "dOut = dAnalysis + gene + '/' + fPath + '/'\n",
    "if (os.path.isdir(dOut)==False):\n",
    "    os.mkdir(dOut)\n",
    "    print('Created output directory')\n",
    "\n",
    "print('Canvas clear')"
   ]
  },
  {
   "cell_type": "code",
   "execution_count": 12,
   "metadata": {},
   "outputs": [
    {
     "name": "stdout",
     "output_type": "stream",
     "text": [
      "Loading files...\n",
      "Loaded: 20230116_m2G_s2C_F0nr2e3nr2f1b_L01_004\n"
     ]
    }
   ],
   "source": [
    "# load whole stack to figure out best planes for cellpose\n",
    "print('Loading files...')\n",
    "viewer.open((dPath+fPath + \".nd2\"))\n",
    "viewer.layers.remove(viewer.layers[len(viewer.layers)-1]); viewer.layers.select_next(); # remove transmitted detector image\n",
    "\n",
    "if len(viewer.layers)==2: # GFP and RFP channel (no DAPI)\n",
    "    nChannels = 2\n",
    "    viewer.layers[0].colormap = 'green'; viewer.layers[0].name = photoreceptors[0]; viewer.layers[0].opacity = 1.00\n",
    "    viewer.layers[1].colormap = 'magenta'; viewer.layers[1].name = photoreceptors[1]; viewer.layers[1].opacity = 1.00\n",
    "elif len(viewer.layers)==3: #DAPI\n",
    "    nChannels = 3\n",
    "    viewer.layers[0].colormap = 'bop blue'; viewer.layers[0].name = 'N'; viewer.layers[0].opacity = 1.00\n",
    "    viewer.layers[1].colormap = 'green'; viewer.layers[1].name = photoreceptors[0];\n",
    "    viewer.layers[2].colormap = 'magenta'; viewer.layers[2].name = photoreceptors[1]\n",
    "\n",
    "print('Loaded: ' + fPath)"
   ]
  },
  {
   "cell_type": "code",
   "execution_count": null,
   "metadata": {},
   "outputs": [],
   "source": [
    "# make mips (and remove any previous ones)\n",
    "zlims = [7,9];\n",
    "# zlims = [2,13];\n",
    "if len(viewer.layers)>nChannels:\n",
    "    for l in viewer.layers[nChannels:]:\n",
    "        viewer.layers.remove(l)\n",
    "\n",
    "for l in [viewer.layers[0],viewer.layers[1],viewer.layers[2]]: # DAPI and FP channels\n",
    "    l.visible = False\n",
    "    viewer.add_image(l.data[zlims[0]:zlims[1]].max(axis=0), blending='additive', colormap = l.colormap, name = l.name + \"_mip\")"
   ]
  },
  {
   "cell_type": "code",
   "execution_count": null,
   "metadata": {},
   "outputs": [],
   "source": [
    "# when things look good, save in folder for batch cellpose analysis\n",
    "for pr in photoreceptors:\n",
    "    l = viewer.layers[pr + '_mip']; l.save(dOut + l.name + '.tiff')\n",
    "l = viewer.layers['N_mip']; l.save(dOut + l.name + '.tiff')\n",
    "print('MIP layers saved for ' + fPath)"
   ]
  },
  {
   "cell_type": "markdown",
   "metadata": {},
   "source": [
    "### Establish landmarks in whole-eye MIP"
   ]
  },
  {
   "cell_type": "code",
   "execution_count": null,
   "metadata": {},
   "outputs": [],
   "source": [
    "nMIP = 3 * 2\n",
    "for pr in photoreceptors:\n",
    "    viewer.layers[pr + '_mip'].scale = [1.5/8,1.5/8]; viewer.layers[pr + '_mip'].translate = [0,1024-(1024*1.5/8)]\n",
    "viewer.layers['N_mip'].visible = False;\n",
    "\n",
    "# Load whole-eye MIP to establish landmarks\n",
    "print('Loading eye mip...')\n",
    "if str.endswith(fPath,'002'):\n",
    "    mipPath = fPath[:-1] + \"1_mip\";\n",
    "elif str.endswith(fPath,'004'):\n",
    "    mipPath = fPath[:-1] + \"3_mip\";\n",
    "viewer.open((dPath+mipPath + \".nd2\"))\n",
    "\n",
    "viewer.layers.remove(viewer.layers[len(viewer.layers)-1]) # remove transmitted detector image\n",
    "viewer.layers.select_next();\n",
    "\n",
    "if len(viewer.layers)==2+nMIP: # no DAPI, GFP and RFP\n",
    "    nChannels = 2\n",
    "    viewer.layers[nMIP].colormap = 'green'\n",
    "    viewer.layers[nMIP].name = 'eyeGreen'\n",
    "    viewer.layers[nMIP+1].colormap = 'magenta'\n",
    "    viewer.layers[nMIP+1].name = 'eyeRed'\n",
    "if len(viewer.layers)==2+nMIP: # DAPI and RFP channel (single positive larvae with bad immunos)\n",
    "    nChannels = 2\n",
    "    viewer.layers[nMIP+0].colormap = 'green'\n",
    "    viewer.layers[nMIP+0].name = 'eyeGreen'\n",
    "    viewer.layers[nMIP+0].opacity = 0.66\n",
    "    viewer.layers[nMIP+1].colormap = 'magenta'\n",
    "    viewer.layers[nMIP+1].name = 'eyeRed'\n",
    "elif len(viewer.layers)==3+nMIP: #DAPI\n",
    "    nChannels = 3\n",
    "    viewer.layers[nMIP+0].colormap = 'bop blue'\n",
    "    viewer.layers[nMIP+0].name = 'eyeN'\n",
    "    viewer.layers[nMIP+0].opacity = 0.33\n",
    "    viewer.layers[nMIP+1].colormap = 'green'\n",
    "    viewer.layers[nMIP+1].name = 'eyeGreen'\n",
    "    viewer.layers[nMIP+2].colormap = 'magenta'\n",
    "    viewer.layers[nMIP+2].name = 'eyeRed'\n",
    "\n",
    "\n",
    "print('Loaded: ' + fPath)\n",
    "eyeMarks = viewer.add_points(size=20, name = 'eyeMarks', symbol=\"cross\", face_color='#ffffff80')\n",
    "viewer.layers.select_next();\n",
    "\n",
    "# Save eye landmarks\n",
    "eyeMarksButton = ipywidgets.Button(description='Save eyeMarks', layout=ipywidgets.Layout(width='200px', height='100px'))\n",
    "out = ipywidgets.Output()\n",
    "def eyeMClick(_):\n",
    "    with out:\n",
    "        l = viewer.layers['eyeMarks']; l.save(dOut + l.name + '.csv');\n",
    "        print('eyeMarks layers saved for ' + fPath)\n",
    "    # clear viewer\n",
    "    viewer.layers.select_all()\n",
    "    viewer.layers.remove_selected()\n",
    "    eyeMarksButton.disabled = True # to prevent double clicking warnings. All sales are final!\n",
    "    \n",
    "eyeMarksButton.on_click(eyeMClick)\n",
    "\n",
    "print(\"Make 6 landmark points then click button to save\")\n",
    "\n",
    "ipywidgets.VBox([eyeMarksButton,out])"
   ]
  },
  {
   "cell_type": "markdown",
   "metadata": {},
   "source": [
    "- Use eyeMarks layer to mark:\n",
    "        - Landmark #1: Center of FOV (where zoom in is centered)\n",
    "        - Landmark #2: Center of Optic Nerve Head \n",
    "        - Landmark #3: Dorsal edge of eye\n",
    "        - Landmark #4: Ventral edge of eye\n",
    "        - Landmark #5: Temporal edge of eye (strike zone side)\n",
    "        - Landmark #6: Nasal edge of eye\n",
    "- Decide if stack should be excluded (and stop analysis here and make note in csv summary file)"
   ]
  },
  {
   "cell_type": "markdown",
   "metadata": {},
   "source": [
    "### [Go back and run next one &uarr;](#zExtract)\n",
    "---"
   ]
  },
  {
   "cell_type": "markdown",
   "metadata": {},
   "source": [
    "***\n",
    "## Segmentation using cellpose<a id='cellSeg'>∮</a>\n",
    "***\n",
    "[Back to Index](#Index)"
   ]
  },
  {
   "cell_type": "markdown",
   "metadata": {},
   "source": [
    "## Run cellpose as batch analysis\n",
    "Usually good parameters are :\n",
    "1. xOPS:GFP: diameter = 20; flow_threshold = 0.4 and mask_threshold = 0.0\n",
    "1. sws1:mCherry: diameter = 40; flow_threshold = 0.4 and mask_threshold = 0.0\n",
    "1. sws2:mCherry:\n",
    "1. mws2:GFP:\n",
    "1. thrb:tdTomato:\n",
    "    \n",
    "flow_threshold = 0.6 will give more ROIs"
   ]
  },
  {
   "cell_type": "code",
   "execution_count": null,
   "metadata": {},
   "outputs": [],
   "source": [
    "# clear viewer\n",
    "viewer.layers.select_all(); viewer.layers.remove_selected()"
   ]
  },
  {
   "cell_type": "code",
   "execution_count": 13,
   "metadata": {},
   "outputs": [],
   "source": [
    "\n",
    "# # analysis directory\n",
    "# dAnalysis = \"/Users/angueyraaristjm/Documents/eelImaging/tempAnalysis/test/\"\n",
    "\n",
    "# # open file\n",
    "# dPath = \"/Volumes/angueyra04/LiImaging/20230116_nr2e3nr2f1bF0s_m2G_s2C/\"\n",
    "\n",
    "\n",
    "### collect file paths\n",
    "wt_gene = 'wt';\n",
    "wt_fPaths = [\n",
    "    '20230116_m2G_s2C_F0nr2e3nr2f1b_L01_004',\n",
    "\n",
    "]\n",
    "\n",
    "# define cellpose params\n",
    "cpParams = {\n",
    "    'model' : 'cyto2', # default is 'cyto' or 'cyto2'\n",
    "    'net_avg' : True,\n",
    "    'channels' : [0,0], #single channel without nucleus info\n",
    "    'diameterR' : 25,\n",
    "    'diameterC' : 40,\n",
    "    'flow_threshold' : 0.5,\n",
    "    'cellprob_threshold' : 0.0\n",
    "}\n",
    "\n",
    "# define model to use (e.g. 'cyto2')\n",
    "model = models.Cellpose(gpu=False, model_type=cpParams['model'])"
   ]
  },
  {
   "cell_type": "code",
   "execution_count": 15,
   "metadata": {},
   "outputs": [
    {
     "name": "stdout",
     "output_type": "stream",
     "text": [
      "Starting analysis:\n",
      "\n",
      "  0%|                                                                       | 0/3 [00:00<?, ?it/s]\n",
      "20230116_m2G_s2C_F0nr2e3nr2f1b_L01_004\n",
      "\t S cones\n",
      "\t Time elapsed: 23 s\n",
      "\n",
      " 33%|█████████████████████                                          | 1/3 [00:23<00:47, 23.73s/it]\t Time elapsed: 39 s\n",
      "\n",
      " 67%|██████████████████████████████████████████                     | 2/3 [00:39<00:19, 19.31s/it]\t Time elapsed: 60 s\n",
      "\n",
      "100%|███████████████████████████████████████████████████████████████| 3/3 [01:00<00:00, 20.32s/it]\n",
      "\n",
      "Finished cellpose batch analysis\n"
     ]
    }
   ],
   "source": [
    "print('Starting analysis:\\n')\n",
    "with tqdm(total=len(wt_fPaths)*3, file=sys.stdout) as progBar:\n",
    "    for fPath in wt_fPaths:\n",
    "        print('\\n' + fPath)\n",
    "        print('\\t S cones')\n",
    "        startTime = time.time()\n",
    "        dOut = dAnalysis + wt_gene + '/' + fPath + '/' + 'S_mip.tiff'\n",
    "        img = cellpose.io.imread(dOut)\n",
    "        masks, flows, styles, diams = model.eval(img, \n",
    "                                                 diameter=cpParams['diameterR'], channels=cpParams['channels'],\n",
    "                                                 do_3D=False, net_avg = cpParams['net_avg'], interp = True,\n",
    "                                                 flow_threshold = cpParams['flow_threshold'], cellprob_threshold = cpParams['cellprob_threshold'])\n",
    "        cellpose.io.masks_flows_to_seg(img, masks, flows, diams, dOut, cpParams['channels']) # save results\n",
    "        endTime = time.time()\n",
    "        print ('\\t Time elapsed: {elapsedTime} s\\n'.format(elapsedTime = int(endTime - startTime)))\n",
    "        progBar.update(1)\n",
    "        \n",
    "        dOut = dAnalysis + wt_gene + '/' + fPath + '/' + 'M_mip.tiff'\n",
    "        img = cellpose.io.imread(dOut)\n",
    "        masks, flows, styles, diams = model.eval(img, \n",
    "                                                 diameter=cpParams['diameterC'], channels=cpParams['channels'],\n",
    "                                                 do_3D=False, net_avg = cpParams['net_avg'], interp = True,\n",
    "                                                 flow_threshold = cpParams['flow_threshold'], cellprob_threshold = cpParams['cellprob_threshold'])\n",
    "        cellpose.io.masks_flows_to_seg(img, masks, flows, diams, dOut, cpParams['channels']) # save results\n",
    "        endTime = time.time()\n",
    "        print ('\\t Time elapsed: {elapsedTime} s\\n'.format(elapsedTime = int(endTime - startTime)))\n",
    "        progBar.update(1)\n",
    "        \n",
    "        dOut = dAnalysis + wt_gene + '/' + fPath + '/' + 'N_mip.tiff'\n",
    "        img = cellpose.io.imread(dOut)\n",
    "        masks, flows, styles, diams = model.eval(img, \n",
    "                                                 diameter=cpParams['diameterC'], channels=cpParams['channels'],\n",
    "                                                 do_3D=False, net_avg = cpParams['net_avg'], interp = True,\n",
    "                                                 flow_threshold = cpParams['flow_threshold'], cellprob_threshold = cpParams['cellprob_threshold'])\n",
    "        cellpose.io.masks_flows_to_seg(img, masks, flows, diams, dOut, cpParams['channels']) # save results\n",
    "        endTime = time.time()\n",
    "        print ('\\t Time elapsed: {elapsedTime} s\\n'.format(elapsedTime = int(endTime - startTime)))\n",
    "        progBar.update(1)\n",
    "    \n",
    "print('\\nFinished cellpose batch analysis')\n",
    "\n",
    "# print('Starting analysis:\\n')\n",
    "# with tqdm(total=len(cr_fPaths)*3, file=sys.stdout) as progBar:\n",
    "#     for fPath in cr_fPaths:\n",
    "#         print('\\n' + fPath)\n",
    "#         print('\\t S cones')\n",
    "#         startTime = time.time()\n",
    "#         dOut = dAnalysis + cr_gene + '/' + fPath + '/' + 'S_mip.tiff'\n",
    "#         img = cellpose.io.imread(dOut)\n",
    "#         masks, flows, styles, diams = model.eval(img, \n",
    "#                                                  diameter=cpParams['diameterR'], channels=cpParams['channels'],\n",
    "#                                                  do_3D=False, net_avg = cpParams['net_avg'], interp = True,\n",
    "#                                                  flow_threshold = cpParams['flow_threshold'], cellprob_threshold = cpParams['cellprob_threshold'])\n",
    "#         cellpose.io.masks_flows_to_seg(img, masks, flows, diams, dOut, cpParams['channels']) # save results\n",
    "#         endTime = time.time()\n",
    "#         print ('\\t Time elapsed: {elapsedTime} s\\n'.format(elapsedTime = int(endTime - startTime)))\n",
    "#         progBar.update(1)\n",
    "        \n",
    "#         dOut = dAnalysis + cr_gene + '/' + fPath + '/' + 'M_mip.tiff'\n",
    "#         img = cellpose.io.imread(dOut)\n",
    "#         masks, flows, styles, diams = model.eval(img, \n",
    "#                                                  diameter=cpParams['diameterC'], channels=cpParams['channels'],\n",
    "#                                                  do_3D=False, net_avg = cpParams['net_avg'], interp = True,\n",
    "#                                                  flow_threshold = cpParams['flow_threshold'], cellprob_threshold = cpParams['cellprob_threshold'])\n",
    "#         cellpose.io.masks_flows_to_seg(img, masks, flows, diams, dOut, cpParams['channels']) # save results\n",
    "#         endTime = time.time()\n",
    "#         print ('\\t Time elapsed: {elapsedTime} s\\n'.format(elapsedTime = int(endTime - startTime)))\n",
    "#         progBar.update(1)\n",
    "        \n",
    "#         dOut = dAnalysis + cr_gene + '/' + fPath + '/' + 'N_mip.tiff'\n",
    "#         img = cellpose.io.imread(dOut)\n",
    "#         masks, flows, styles, diams = model.eval(img, \n",
    "#                                                  diameter=cpParams['diameterC'], channels=cpParams['channels'],\n",
    "#                                                  do_3D=False, net_avg = cpParams['net_avg'], interp = True,\n",
    "#                                                  flow_threshold = cpParams['flow_threshold'], cellprob_threshold = cpParams['cellprob_threshold'])\n",
    "#         cellpose.io.masks_flows_to_seg(img, masks, flows, diams, dOut, cpParams['channels']) # save results\n",
    "#         endTime = time.time()\n",
    "#         print ('\\t Time elapsed: {elapsedTime} s\\n'.format(elapsedTime = int(endTime - startTime)))\n",
    "#         progBar.update(1)\n",
    "    \n",
    "# print('\\nFinished cellpose batch analysis')"
   ]
  },
  {
   "cell_type": "markdown",
   "metadata": {},
   "source": [
    "***\n",
    "## Manual correction of cellpose segmentation<a id='manualCuration'>∮</a>\n",
    "***\n",
    "[Back to Index](#Index)"
   ]
  },
  {
   "cell_type": "code",
   "execution_count": null,
   "metadata": {},
   "outputs": [],
   "source": [
    "# viewer = napari.Viewer()\n",
    "viewer.layers.select_all(); viewer.layers.remove_selected()"
   ]
  },
  {
   "cell_type": "code",
   "execution_count": 16,
   "metadata": {},
   "outputs": [
    {
     "name": "stdout",
     "output_type": "stream",
     "text": [
      "Viewer cleared...\n",
      "Loaded  20230116_m2G_s2C_F0nr2e3nr2f1b_L01_004 !\n",
      " Now fix it and save it!\n",
      "removeLabel on M_seg (\"Shift-X\")\n",
      "toggle M_seg preserve_labels (\"k\")\n",
      "toggle S_mip visibility (\"B\")\n",
      "toggle M_mip visibility (\"N\")\n",
      "Add new label in M_seg visibility (\"+\"|\"M\")\n"
     ]
    },
    {
     "name": "stderr",
     "output_type": "stream",
     "text": [
      "Traceback (most recent call last):\n",
      "  File \"/Users/angueyraaristjm/opt/anaconda3/lib/python3.9/site-packages/napari/_qt/layer_controls/qt_labels_controls.py\", line 357, in changeSelection\n",
      "    self.layer.selected_label = value\n",
      "  File \"/Users/angueyraaristjm/opt/anaconda3/lib/python3.9/site-packages/napari/layers/labels/labels.py\", line 610, in selected_label\n",
      "    self._selected_color = self.get_color(selected_label)\n",
      "  File \"/Users/angueyraaristjm/opt/anaconda3/lib/python3.9/site-packages/napari/layers/labels/labels.py\", line 978, in get_color\n",
      "    val = self._raw_to_displayed(np.array([label]))\n",
      "  File \"/Users/angueyraaristjm/opt/anaconda3/lib/python3.9/site-packages/napari/layers/labels/labels.py\", line 946, in _raw_to_displayed\n",
      "    image = self._color_lookup_func(raw_modified, self._selected_label)\n",
      "  File \"/Users/angueyraaristjm/opt/anaconda3/lib/python3.9/site-packages/napari/layers/labels/labels.py\", line 818, in _lookup_with_index\n",
      "    colors[selected_label] = low_discrepancy_image(\n",
      "IndexError: index 133 is out of bounds for axis 0 with size 133\n"
     ]
    }
   ],
   "source": [
    "# clear viewer\n",
    "viewer.layers.select_all(); viewer.layers.remove_selected()\n",
    "\n",
    "\n",
    "# # analysis directory\n",
    "# dAnalysis = \"/Users/angueyraaristjm/Documents/eelImaging/tempAnalysis/test/\"\n",
    "\n",
    "# # open file\n",
    "# dPath = \"/Volumes/angueyra04/LiImaging/20230116_nr2e3nr2f1bF0s_m2G_s2C/\"\n",
    "\n",
    "\n",
    "\n",
    "fPath = \"20230116_m2G_s2C_F0nr2e3nr2f1b_L01_004\"; gene = 'wt'; # ok\n",
    "\n",
    "\n",
    "# define subdirectory for analysis\n",
    "dOut = dAnalysis + gene + '/' + fPath + '/'\n",
    "print('Viewer cleared...')\n",
    "\n",
    "# clear key binds\n",
    "@viewer.bind_key('k', overwrite=True)\n",
    "def toggle_sel(viewer):\n",
    "    ...\n",
    "@viewer.bind_key('b', overwrite=True)\n",
    "def toggle_sel(viewer):\n",
    "    ...\n",
    "@viewer.bind_key('Shift-x', overwrite=True)\n",
    "def removeLabel(viewer):\n",
    "    ...\n",
    "\n",
    "photoreceptors = ['M','S','N']\n",
    "colorList = ['green','magenta','bop blue','orange']\n",
    "\n",
    "# load mips\n",
    "mipO = 0.65\n",
    "for pr,cl in zip(photoreceptors,colorList):\n",
    "    viewer.open(dOut + pr + \"_mip.tiff\", plugin='builtins', colormap = cl, blending='additive', opacity=mipO);\n",
    "\n",
    "# load segmentations\n",
    "for pr in photoreceptors:\n",
    "    segData = np.load(dOut + pr + '_mip' + '_seg.npy', allow_pickle=True).item()\n",
    "    viewer.add_labels(segData['masks'], name = pr + '_seg',blending='additive');\n",
    "    viewer.layers[pr + '_seg'].preserve_labels = True;\n",
    "\n",
    "# tweak display to help with segmentation\n",
    "pr = photoreceptors[0]\n",
    "# viewer.layers[pr + '_mip'].opacity=0.40;viewer.layers[pr + '_mip'].gamma=1.3;viewer.layers[pr + '_mip'].contrast_limits=[150,2000]\n",
    "\n",
    "pr = photoreceptors[1]\n",
    "viewer.layers[pr + '_mip'].visible = True; viewer.layers[pr + '_seg'].visible = False;\n",
    "pr = photoreceptors[2]\n",
    "viewer.layers[pr + '_mip'].visible = False; viewer.layers[pr + '_seg'].visible = False;\n",
    "\n",
    "print('Loaded  ' + fPath + ' !\\n Now fix it and save it!')\n",
    "\n",
    "#define useful keyboard shortcuts\n",
    "\n",
    "pr = photoreceptors[0]\n",
    "@viewer.bind_key('Shift-x', overwrite=True)\n",
    "def removeLabel(viewer):\n",
    "    lname = pr + '_seg'\n",
    "    tempd = viewer.layers[lname].data\n",
    "    tempd[tempd == viewer.layers[lname].selected_label]=0\n",
    "    viewer.layers[lname].data = tempd\n",
    "    print('Cut!')\n",
    "print('removeLabel on {0}_seg (\"Shift-X\")'.format(photoreceptors[0]))\n",
    "\n",
    "@viewer.bind_key('k', overwrite=True)\n",
    "def toggle_sel(viewer):\n",
    "    lname = pr + '_seg'\n",
    "    if (viewer.layers[lname].preserve_labels == True):\n",
    "        viewer.layers[lname].preserve_labels = False\n",
    "    elif (viewer.layers[lname].preserve_labels == False):\n",
    "        viewer.layers[lname].preserve_labels = True\n",
    "print('toggle {0}_seg preserve_labels (\"k\")'.format(pr))\n",
    "        \n",
    "@viewer.bind_key('b', overwrite=True)\n",
    "def toggle_sel(viewer):\n",
    "    lname = photoreceptors[1] + '_mip'\n",
    "    if (viewer.layers[lname].visible == True):\n",
    "        viewer.layers[lname].visible = False\n",
    "    elif (viewer.layers[lname].visible == False):\n",
    "        viewer.layers[lname].visible = True\n",
    "print('toggle {0}_mip visibility (\"B\")'.format(photoreceptors[1]))\n",
    "\n",
    "@viewer.bind_key('n', overwrite=True)\n",
    "def toggle_sel(viewer):\n",
    "    lname = pr + '_mip'\n",
    "    if (viewer.layers[lname].visible == True):\n",
    "        viewer.layers[lname].visible = False\n",
    "    elif (viewer.layers[lname].visible == False):\n",
    "        viewer.layers[lname].visible = True\n",
    "print('toggle {0}_mip visibility (\"N\")'.format(pr))\n",
    "\n",
    "@viewer.bind_key('+', overwrite=True)\n",
    "def new_label(viewer):\n",
    "    \"\"\"Set the currently selected label to the largest used label plus one.\"\"\"\n",
    "    lname = pr + '_seg'\n",
    "    viewer.layers[lname].selected_label = viewer.layers[lname].data.max() + 1\n",
    "print('Add new label in {0}_seg visibility (\"+\"|\"M\")'.format(pr))"
   ]
  },
  {
   "cell_type": "markdown",
   "metadata": {
    "jp-MarkdownHeadingCollapsed": true,
    "tags": []
   },
   "source": [
    "---"
   ]
  },
  {
   "cell_type": "markdown",
   "metadata": {
    "tags": []
   },
   "source": [
    "### resave curated segmentation after napari-ing around (M_mip first)"
   ]
  },
  {
   "cell_type": "code",
   "execution_count": null,
   "metadata": {},
   "outputs": [],
   "source": [
    "# Doing 2 channel segmentation\n",
    "baseName = photoreceptors[0]\n",
    "lname = baseName + '_seg'\n",
    "l = viewer.layers[baseName + '_seg']; l.save(dOut + l.name + '_curated.tiff')\n",
    "print('Done with ' + lname + ' for ' + fPath)\n",
    "\n",
    "viewer.layers[photoreceptors[1] + '_mip'].visible = True\n",
    "viewer.layers[photoreceptors[1] + '_seg'].visible = True\n",
    "viewer.layers[photoreceptors[1] + '_seg'].contour = 0\n",
    "viewer.layers[photoreceptors[0] + '_mip'].visible = False\n",
    "viewer.layers[photoreceptors[0] + '_seg'].visible = False\n",
    "# viewer.layers['N_mip'].visible = True\n",
    "\n",
    "viewer.add_points(size=10, name = 'U_missing', symbol=\"o\", face_color='#B73AB9', edge_color='#FFFFFF')\n",
    "viewer.add_points(size=10, name = 'L_missing', symbol=\"o\", face_color='#CE2A22', edge_color='#FFFFFF')\n",
    "\n",
    "\n",
    "@viewer.bind_key('Shift-x', overwrite=True)\n",
    "def removeLabel(viewer):\n",
    "    lname = photoreceptors[1] + '_seg'\n",
    "    tempd = viewer.layers[lname].data\n",
    "    tempd[tempd == viewer.layers[lname].selected_label]=0\n",
    "    viewer.layers[lname].data = tempd\n",
    "    print('Cut!')\n",
    "print('removeLabel on {0}_seg (\"Shift-X\")'.format(photoreceptors[1]))\n",
    "\n",
    "@viewer.bind_key('k', overwrite=True)\n",
    "def toggle_sel(viewer):\n",
    "    lname = photoreceptors[1] + '_seg'\n",
    "    if (viewer.layers[lname].preserve_labels == True):\n",
    "        viewer.layers[lname].preserve_labels = False\n",
    "    elif (viewer.layers[lname].preserve_labels == False):\n",
    "        viewer.layers[lname].preserve_labels = True\n",
    "print('toggle {0}_seg preserve_labels (\"k\")'.format(photoreceptors[1]))\n",
    "\n",
    "@viewer.bind_key('b', overwrite=True)\n",
    "def toggle_sel(viewer):\n",
    "    lname = photoreceptors[0] + '_mip'\n",
    "    if (viewer.layers[lname].visible == True):\n",
    "        viewer.layers[lname].visible = False\n",
    "    elif (viewer.layers[lname].visible == False):\n",
    "        viewer.layers[lname].visible = True\n",
    "print('toggle {0}_mip visibility (\"B\")'.format(photoreceptors[0]))\n",
    "\n",
    "        \n",
    "@viewer.bind_key('n', overwrite=True)\n",
    "def toggle_sel(viewer):\n",
    "    lname = photoreceptors[1] + '_mip'\n",
    "    if (viewer.layers[lname].visible == True):\n",
    "        viewer.layers[lname].visible = False\n",
    "    elif (viewer.layers[lname].visible == False):\n",
    "        viewer.layers[lname].visible = True\n",
    "print('toggle {0}_mip visibility (\"N\")'.format(photoreceptors[1]))\n",
    "\n",
    "@viewer.bind_key('+', overwrite=True)\n",
    "def new_label(viewer):\n",
    "    \"\"\"Set the currently selected label to the largest used label plus one.\"\"\"\n",
    "    lname = photoreceptors[1] + '_seg'\n",
    "    viewer.layers[lname].selected_label = viewer.layers[lname].data.max() + 1\n",
    "print('Add new label in {0}_seg visibility (\"+\"|\"M\")'.format(photoreceptors[1]))"
   ]
  },
  {
   "cell_type": "markdown",
   "metadata": {},
   "source": [
    "### Save S-cone segmentation (and UV-cone nuclei if possible)"
   ]
  },
  {
   "cell_type": "code",
   "execution_count": null,
   "metadata": {},
   "outputs": [],
   "source": [
    "baseName = photoreceptors[1]\n",
    "lname = baseName + '_seg'\n",
    "l = viewer.layers[baseName + '_seg']; l.save(dOut + l.name + '_curated.tiff')\n",
    "print('Done with ' + lname + ' for ' + fPath)\n",
    "\n",
    "# If NUCS mip revealed UV cones\n",
    "baseName = 'U'\n",
    "lname = baseName + '_missing'\n",
    "l = viewer.layers[lname]; l.save(dOut + lname);\n",
    "print(\"Image has {0} {1}-cone nuclei\".format(len(viewer.layers[lname].data),baseName))\n",
    "\n",
    "# If NUCS mip also revealed L cones\n",
    "baseName = 'L'\n",
    "lname = baseName + '_missing'\n",
    "l = viewer.layers[lname]; l.save(dOut + lname);\n",
    "print(\"Image has {0} {1}-cone nuclei\".format(len(viewer.layers[lname].data),baseName))"
   ]
  },
  {
   "cell_type": "markdown",
   "metadata": {},
   "source": [
    "### Reload curated segmentations after saving"
   ]
  },
  {
   "cell_type": "code",
   "execution_count": null,
   "metadata": {},
   "outputs": [],
   "source": [
    "# remove all except mips\n",
    "viewer.layers.remove(viewer.layers['U_missing'])\n",
    "viewer.layers.remove(viewer.layers['L_missing'])\n",
    "\n",
    "n_mips = 3;\n",
    "if len(viewer.layers)>n_mips:\n",
    "    for l in viewer.layers[n_mips:]:\n",
    "        viewer.layers.remove(l)\n",
    "\n",
    "viewer.open(dOut + photoreceptors[0] + '_seg_curated.tiff', name=photoreceptors[0] + '_seg', plugin='builtins',blending='additive');\n",
    "viewer.layers[photoreceptors[0] + '_seg'].contour = 5\n",
    "viewer.layers[photoreceptors[0] + '_mip'].visible = True\n",
    "viewer.open(dOut + photoreceptors[1] + '_seg_curated.tiff', name=photoreceptors[1] + '_seg', plugin='builtins',blending='additive');\n",
    "\n",
    "print(fPath)\n",
    "nGreen = len(np.unique(viewer.layers[photoreceptors[0] + '_seg'].data))-1\n",
    "print(\"Image has {0} {1} cones\".format(nGreen,photoreceptors[0]))\n",
    "nRed = len(np.unique(viewer.layers[photoreceptors[1] + '_seg'].data))-1\n",
    "print(\"Image has {0} {1} cones\".format(nRed,photoreceptors[1]))"
   ]
  },
  {
   "cell_type": "markdown",
   "metadata": {},
   "source": [
    "### [Go back and run next one &uarr;](#manualCuration)\n",
    "---"
   ]
  },
  {
   "cell_type": "markdown",
   "metadata": {},
   "source": [
    "### reload mip and eye marks in case there are doubts"
   ]
  },
  {
   "cell_type": "code",
   "execution_count": null,
   "metadata": {},
   "outputs": [],
   "source": [
    "\n",
    "nMIP = 3 + 1\n",
    "viewer.layers['R_seg'].visible = False;\n",
    "viewer.layers['R_mip'].visible = False;\n",
    "viewer.layers['N_mip'].visible = False;\n",
    "viewer.layers['C_mip'].visible = False;\n",
    "\n",
    "# Load whole-eye MIP to establish landmarks\n",
    "print('Loading eye mip...')\n",
    "if str.endswith(fPath,'002'):\n",
    "    mipPath = fPath[:-1] + \"1_mip\";\n",
    "elif str.endswith(fPath,'004'):\n",
    "    mipPath = fPath[:-1] + \"3_mip\";\n",
    "viewer.open((dPath+mipPath + \".nd2\"))\n",
    "\n",
    "viewer.layers.remove(viewer.layers[len(viewer.layers)-1]) # remove transmitted detector image\n",
    "viewer.layers.select_next();\n",
    "\n",
    "if len(viewer.layers)==2+nMIP: # no DAPI, GFP and RFP\n",
    "    nChannels = 2\n",
    "    viewer.layers[nMIP].colormap = 'green'\n",
    "    viewer.layers[nMIP].name = 'eyeR'\n",
    "    viewer.layers[nMIP+1].colormap = 'magenta'\n",
    "    viewer.layers[nMIP+1].name = 'eyeC'\n",
    "if len(viewer.layers)==2+nMIP: # DAPI and RFP channel (single positive larvae with bad immunos)\n",
    "    nChannels = 2\n",
    "    viewer.layers[nMIP+0].colormap = 'green'\n",
    "    viewer.layers[nMIP+0].name = 'eyeR'\n",
    "    viewer.layers[nMIP+0].opacity = 0.66\n",
    "    viewer.layers[nMIP+1].colormap = 'magenta'\n",
    "    viewer.layers[nMIP+1].name = 'eyeC'\n",
    "elif len(viewer.layers)==3+nMIP: #DAPI\n",
    "    nChannels = 3\n",
    "    viewer.layers[nMIP+0].colormap = 'gray'\n",
    "    viewer.layers[nMIP+0].name = 'eyeN'\n",
    "    viewer.layers[nMIP+0].opacity = 0.33\n",
    "    viewer.layers[nMIP+1].colormap = 'green'\n",
    "    viewer.layers[nMIP+1].name = 'eyeR'\n",
    "    viewer.layers[nMIP+2].colormap = 'magenta'\n",
    "    viewer.layers[nMIP+2].name = 'eyeC'\n",
    "\n",
    "eyeMarksData  = np.loadtxt(dOut + 'eyeMarks.csv',delimiter=',',skiprows=1,usecols=[1,2])\n",
    "eyeMarks = viewer.add_points(eyeMarksData,size=20, name = 'eyeMarks', symbol=\"cross\", face_color='#ffffff80')"
   ]
  },
  {
   "cell_type": "code",
   "execution_count": null,
   "metadata": {},
   "outputs": [],
   "source": [
    "# # manual merging of labels\n",
    "# mergeLabels = [167,168]\n",
    "# # lname = 'M_seg'\n",
    "# lname = 'L_seg'\n",
    "# if viewer.layers[lname].visible == False:\n",
    "#     print('Layer not active')\n",
    "# else:\n",
    "#     tempd = viewer.layers[lname].data\n",
    "#     tempd[tempd == mergeLabels[1]]=mergeLabels[0]\n",
    "#     viewer.layers[lname].data = tempd\n",
    "#     print('Merged in ' + lname)"
   ]
  },
  {
   "cell_type": "code",
   "execution_count": null,
   "metadata": {},
   "outputs": [],
   "source": []
  },
  {
   "cell_type": "code",
   "execution_count": null,
   "metadata": {},
   "outputs": [],
   "source": [
    "# # manually delete label\n",
    "# selLabel = 49\n",
    "# lname = 'L_seg'\n",
    "# tempd = viewer.layers[lname].data\n",
    "# tempd[tempd == selLabel]=0\n",
    "# viewer.layers[lname].data = tempd\n",
    "\n",
    "# for selLabel in np.arange(15,300):\n",
    "#     lname = 'L_seg'\n",
    "#     tempd = viewer.layers[lname].data\n",
    "#     tempd[tempd == selLabel]=0\n",
    "#     viewer.layers[lname].data = tempd"
   ]
  },
  {
   "cell_type": "code",
   "execution_count": null,
   "metadata": {},
   "outputs": [],
   "source": []
  },
  {
   "cell_type": "code",
   "execution_count": null,
   "metadata": {},
   "outputs": [],
   "source": []
  },
  {
   "cell_type": "code",
   "execution_count": null,
   "metadata": {},
   "outputs": [],
   "source": []
  },
  {
   "cell_type": "markdown",
   "metadata": {},
   "source": [
    "***\n",
    "## Quantification<a id='quantification'></a>\n",
    "***\n",
    "[Back to Index](#Index)"
   ]
  },
  {
   "cell_type": "markdown",
   "metadata": {
    "tags": []
   },
   "source": [
    "### Read csv created during analysis and create bar plot"
   ]
  },
  {
   "cell_type": "code",
   "execution_count": null,
   "metadata": {},
   "outputs": [],
   "source": [
    "pBGMenu"
   ]
  },
  {
   "cell_type": "code",
   "execution_count": null,
   "metadata": {},
   "outputs": [],
   "source": [
    "#reapply plotting style\n",
    "applyPlotStyle(pBGMenu.value)"
   ]
  },
  {
   "cell_type": "code",
   "execution_count": null,
   "metadata": {},
   "outputs": [],
   "source": [
    "# Created csv manually during analysis\n",
    "dPath = \"/Users/angueyraaristjm/Documents/eelImaging/tempAnalysis/CRnr2e3F0s/xOGaCT/\"\n",
    "fName = \"CRnr2e3F0s_xOGaCT_Counts.csv\"\n",
    "\n",
    "dPath = \"/Users/angueyraaristjm/Library/CloudStorage/OneDrive-NationalInstitutesofHealth/zf/Analysis/CRnr2e3F0s/\"\n",
    "# dPath = \"/Users/angueyraaristjm/Documents/eelImaging/tempAnalysis/CRnr2e3F0s/m2Gs2C/\"\n",
    "dPath = '/Users/angueyraaristjm/Library/CloudStorage/OneDrive-NationalInstitutesofHealth/zf/Analysis/CRlrrfip1aF0s/'\n",
    "fName = \"CRlrrfip1aF0s_combinedCounts.csv\"\n",
    "\n",
    "df = pd.read_csv(dPath + fName)\n",
    "df"
   ]
  },
  {
   "cell_type": "code",
   "execution_count": null,
   "metadata": {},
   "outputs": [],
   "source": [
    "geneList = ['wt','lrrfip1a']\n",
    "nGenes = np.size(geneList)\n",
    "photoreceptors = ['R','U','S','M','L']\n",
    "# photoreceptors = ['S','M']\n",
    "\n",
    "plotname = ''\n",
    "fH, axH = plt.subplots(figsize= [12,8])\n",
    "\n",
    "barW = nGenes+2; # bar width\n",
    "barD = nGenes+1; # bar distance whitin 1 photoreceptor subtype\n",
    "barP = -nGenes+1; # position in x-axis\n",
    "barStep = 0.9; # distance between photoreceptor groups\n",
    "barPos = []; #array to save bar positions\n",
    "\n",
    "\n",
    "j=barP;\n",
    "for gene in geneList:\n",
    "    i=0;\n",
    "    j=j+1;\n",
    "    for pr in photoreceptors:\n",
    "        i = i+barStep;\n",
    "        countData = df[(df['genotype']==gene) & (df['excludeFlag']==False)][pr]\n",
    "        jitter = np.random.randn(len(countData))*0.03\n",
    "#         textindent = 1/(2.5*barD);\n",
    "        textindent = 0.10;\n",
    "        pH = plt.bar([i+j/barD], np.mean(countData), width=1/barW, color=lighten_color(zfC[pr],1), linewidth = 2, edgecolor = lighten_color(zfC[pr],1)); #color=zfC[pr], \n",
    "#         pH = plt.bar([i+j/barD], np.mean(countData), yerr = sem(df[(df['CRgene']==gene) & (df['Genotype']==geno)][pr][~np.isnan(df[(df['CRgene']==gene) & (df['Genotype']==geno)][pr])], ddof = 0), align='center', ecolor='black', capsize=10, width=1/barW, color=zfC[pr], edgecolor = zfC[pr]);\n",
    "#         pH = plt.bar([i+j/barD], np.mean(countData), yerr = np.std(df[(df['CRgene']==gene) & (df['Genotype']==geno)][pr][~np.isnan(df[(df['CRgene']==gene) & (df['Genotype']==geno)][pr])], ddof = 0), align='center', ecolor='black', capsize=10, width=1/barW, color=zfC[pr], edgecolor = zfC[pr]);\n",
    "       # pH = plt.bar([i+j/barD], np.mean(df[(df['CRgene']==gene) & (df['Genotype']==geno)][pr]), yerr = np.std(df[(df['CRgene']==gene) & (df['Genotype']==geno)][pr]), ecolor=lighten_color(zfC[pr],1.2), capsize=10, width=1/barW, color=zfC[pr], edgecolor = zfC[pr]);\n",
    "        #pH = plt.errorbar([i+j/barD], np.mean(df[(df['CRgene']==gene) & (df['Genotype']==geno)][pr]), yerr = np.std(df[(df['CRgene']==gene) & (df['Genotype']==geno)][pr]), ecolor=lighten_color(zfC[pr],1.1), elinewidth=2, capsize=5, capthick=2, barsabove= True)\n",
    "#         pH = plt.scatter(np.ones(len(countData))*[i+j/barD]+jitter, countData, color=lighten_color(zfC[pr],2/3), zorder=2, marker = zfGm[gene], edgecolor='#ffffff', linewidth=0.5, alpha = 0.4);\n",
    "        pH = plt.errorbar(i+j/barD, np.mean(countData), yerr = [[0],[np.std(countData)]], ecolor=lighten_color(zfC[pr],1), elinewidth=3, capsize=8, capthick=3, zorder=9)\n",
    "        # plt.text((i+j/barD)-textindent, 3, prLabel[pr], font_properties=font_prop, fontsize=20, ha='left', alpha=0.6)\n",
    "        pH = plt.scatter(np.ones(len(countData))*[i+j/barD]+jitter, countData, color='#ffffff', zorder=8, marker = 'o', s=50, edgecolor='#ffffff', linewidth=0.5, alpha = .6);\n",
    "        barPos = np.append(barPos,(i+j/barD))\n",
    "\n",
    "formatFigure(fH, axH, pH)\n",
    "axH.set_xticks(np.sort(barPos));\n",
    "\n",
    "axH.set_xticklabels(geneList * len(photoreceptors));\n",
    "# axH.set_ylim([0,500]); # this was 400\n",
    "\n",
    "# savePath = 'C:/Users/pataklk/OneDrive - National Institutes of Health/zf/F0_Analysis/CRfoxq2F0/'\n",
    "# savePath = \"/Users/angueyraaristjm/OneDrive - National Institutes of Health/zf/F0_Analysis/CRfoxq2F0/\"\n",
    "# savePath = \"/Users/angueyraaristjm/Documents/LiLab/Presentations/revealjs/resources/20211008_UCLA/\"\n",
    "# plt.savefig(savePath + \"Counts_foxq2.png\", transparent=True, format=\"png\", bbox_inches = \"tight\")\n",
    "# plt.savefig(savePath + \"Counts_foxq2_B.svg\", transparent=True, format=\"svg\", bbox_inches = \"tight\")"
   ]
  },
  {
   "cell_type": "markdown",
   "metadata": {},
   "source": [
    "### Stats"
   ]
  },
  {
   "cell_type": "markdown",
   "metadata": {},
   "source": [
    "### Read csv created during analysis and create bar plot"
   ]
  },
  {
   "cell_type": "code",
   "execution_count": null,
   "metadata": {},
   "outputs": [],
   "source": [
    "geneList = ['wt','lrrfip1a']\n",
    "photoreceptors = ['R','U','S','M']\n",
    "\n",
    "print('{0} vs. {1}:'.format(geneList[0],geneList[1]))\n",
    "\n",
    "for pr in photoreceptors:\n",
    "    # get counts for each photoreceptor subtype and exclude NaNs\n",
    "    wtCount = df[(df['genotype']==(geneList[0]))&(df['excludeFlag']==False)][pr]\n",
    "    wtCount = wtCount[~np.isnan(wtCount)]\n",
    "    \n",
    "    crCount = df[(df['genotype']==(geneList[1]))&(df['excludeFlag']==False)][pr]\n",
    "    crCount = crCount[~np.isnan(crCount)]\n",
    "    \n",
    "    u, p = mannwhitneyu(wtCount, crCount)\n",
    "    print('\\t{0}:'.format(pr))\n",
    "    print('\\t\\tU = {0:.3f}, p = {1:.5f}, nEyes: wt = {2:.0f}; cr = {3:.0f}'.format(u,p,len(wtCount),len(crCount)))\n"
   ]
  },
  {
   "cell_type": "code",
   "execution_count": null,
   "metadata": {},
   "outputs": [],
   "source": []
  },
  {
   "cell_type": "code",
   "execution_count": null,
   "metadata": {},
   "outputs": [],
   "source": []
  },
  {
   "cell_type": "code",
   "execution_count": null,
   "metadata": {},
   "outputs": [],
   "source": [
    "#gene Colors\n",
    "zfC = {\n",
    "    'R'  : '#7d7d7d',\n",
    "    'U' : '#B73AB9',\n",
    "    'S' : '#4364F6',\n",
    "    'M' : '#59CB3B',\n",
    "    'L' : '#CE2A22',\n",
    "}\n",
    "\n",
    "zfG = {\n",
    "    'wt' : '#000000',\n",
    "    'tbx2a' : '#ab266b',\n",
    "    'tbx2b' : '#421f8e',\n",
    "    'foxq2' : '#001dd6',\n",
    "    'nr2e3' : '#7d7d7d',\n",
    "}\n",
    "\n",
    "zfGm = {\n",
    "    'wt' : 'o',\n",
    "    'tbx2a' : 'P',\n",
    "    'tbx2b' : 'X',\n",
    "    'nr2e3' : '+',\n",
    "    \n",
    "}\n",
    "\n",
    "prLabel = {\n",
    "    'R'  : 'Rods',\n",
    "    'U' : 'UV',\n",
    "    'S' : 'S',\n",
    "    'M' : 'M',\n",
    "    'L' : 'L',\n",
    "}\n",
    "\n",
    "\n",
    "def formatFigureMain(figH, axH, plotH):\n",
    "#     font_path = 'C:/Users/pataklk/Documents/Frag_Analysis_Code/Avenir.ttc'\n",
    "    font_path = '/System/Library/Fonts/Avenir.ttc'\n",
    "    fontTicks = font_manager.FontProperties(fname=font_path, size=30) # was 18\n",
    "    fontLabels = font_manager.FontProperties(fname=font_path, size=36) # was 22\n",
    "    fontTitle = font_manager.FontProperties(fname=font_path, size=30) # was 28 \n",
    "    axH.set_xscale('linear')\n",
    "    axH.spines['top'].set_visible(False)\n",
    "    axH.spines['right'].set_visible(False)\n",
    "    \n",
    "    for label in (axH.get_xticklabels() + axH.get_yticklabels()):\n",
    "        label.set_fontproperties(fontTicks)\n",
    "    axH.set_xlabel(axH.get_xlabel(), fontproperties = fontTicks)\n",
    "    axH.set_ylabel(axH.get_ylabel(), fontproperties = fontTicks)\n",
    "    return fontLabels\n",
    "\n",
    "def formatFigure(figH, axH, plotH):\n",
    "    fontLabels = formatFigureMain(figH, axH, plotH)\n",
    "#     axH.set_xlabel('wt vs. cr', fontproperties=fontLabels)\n",
    "    axH.set_ylabel('cells per 64 x 64 $\\mu$m$^2$', fontproperties=fontLabels)\n",
    "    axH.xaxis.set_tick_params(rotation=45)\n",
    "\n",
    "def formatFigureRvU(figH, axH, plotH):\n",
    "    fontLabels = formatFigureMain(figH, axH, plotH)\n",
    "    axH.set_xlabel('Rods per 64 x 64 $\\mu$m$^2$', fontproperties=fontLabels)\n",
    "    axH.set_ylabel('UV cones per 64 x 64 $\\mu$m$^2$', fontproperties=fontLabels)\n",
    "    axH.xaxis.set_tick_params(rotation=45)\n",
    "    \n",
    "def formatFigureMvS(figH, axH, plotH):\n",
    "    fontLabels = formatFigureMain(figH, axH, plotH)\n",
    "    axH.set_xlabel('M cones per 64 x 64 $\\mu$m$^2$', fontproperties=fontLabels)\n",
    "    axH.set_ylabel('S cones per 64 x 64 $\\mu$m$^2$', fontproperties=fontLabels)\n",
    "    axH.xaxis.set_tick_params(rotation=45)\n",
    "\n",
    "    \n",
    "def lighten_color(color, amount=0.5):\n",
    "    \"\"\"\n",
    "    Lightens the given color by multiplying (1-luminosity) by the given amount.\n",
    "    Input can be matplotlib color string, hex string, or RGB tuple.\n",
    "\n",
    "    Examples:\n",
    "    >> lighten_color('g', 0.3)\n",
    "    >> lighten_color('#F034A3', 0.6)\n",
    "    >> lighten_color((.3,.55,.1), 0.5)\n",
    "    \"\"\"\n",
    "    import colorsys\n",
    "    try:\n",
    "        c = matplotlib.colors.cnames[color]\n",
    "    except:\n",
    "        c = color\n",
    "    c = colorsys.rgb_to_hls(*matplotlib.colors.to_rgb(c))\n",
    "    return matplotlib.colors.rgb2hex(colorsys.hls_to_rgb(c[0], 1 - amount * (1 - c[1]), c[2]))\n",
    "\n",
    "def estimateJitter(dataArray):\n",
    "    \"\"\" creates random jitter scaled by local density of points\"\"\"\n",
    "    from scipy.stats import gaussian_kde\n",
    "    kde = gaussian_kde(dataArray)\n",
    "    density = kde(dataArray)\n",
    "    jitter = np.random.randn(len(dataArray))*density\n",
    "    return jitter\n",
    "pBGMenu"
   ]
  },
  {
   "cell_type": "code",
   "execution_count": null,
   "metadata": {},
   "outputs": [],
   "source": [
    "#reapply plotting style\n",
    "applyPlotStyle(pBGMenu.value)"
   ]
  },
  {
   "cell_type": "code",
   "execution_count": null,
   "metadata": {},
   "outputs": [],
   "source": [
    "# Created csv manually during analysis\n",
    "dPath = \"/Users/angueyraaristjm/Documents/eelImaging/tempAnalysis/CRnr2e3F0s/xOGaCT/\"\n",
    "fName = \"CRnr2e3F0s_xOGaCT_Counts.csv\"\n",
    "\n",
    "dPath = \"/Users/angueyraaristjm/Library/CloudStorage/OneDrive-NationalInstitutesofHealth/zf/Analysis/CRnr2e3F0s/m2Gs2C/\"\n",
    "dPath = \"/Users/angueyraaristjm/Documents/eelImaging/tempAnalysis/CRnr2e3F0s/m2Gs2C/\"\n",
    "fName = \"CRnr2e3F0s_m2Gs2C_Counts.csv\"\n",
    "\n",
    "df = pd.read_csv(dPath + fName)\n",
    "df"
   ]
  },
  {
   "cell_type": "code",
   "execution_count": null,
   "metadata": {},
   "outputs": [],
   "source": [
    "geneList = ['wt','nr2e3']\n",
    "nGenes = np.size(geneList)\n",
    "# photoreceptors = ['R','U','S','M','L']\n",
    "photoreceptors = ['S','M']\n",
    "\n",
    "plotname = ''\n",
    "fH, axH = plt.subplots(figsize= [12,8])\n",
    "\n",
    "barW = nGenes+2; # bar width\n",
    "barD = nGenes+1; # bar distance whitin 1 photoreceptor subtype\n",
    "barP = -nGenes+1; # position in x-axis\n",
    "barStep = 0.9; # distance between photoreceptor groups\n",
    "barPos = []; #array to save bar positions\n",
    "\n",
    "\n",
    "j=barP;\n",
    "for gene in geneList:\n",
    "    i=0;\n",
    "    j=j+1;\n",
    "    for pr in photoreceptors:\n",
    "        i = i+barStep;\n",
    "        countData = df[(df['genotype']==gene) & (df['excludeFlag']==False)][pr]\n",
    "        jitter = np.random.randn(len(countData))*0.01\n",
    "#         textindent = 1/(2.5*barD);\n",
    "        textindent = 0.10;\n",
    "        pH = plt.bar([i+j/barD], np.mean(countData), width=1/barW, color=lighten_color(zfC[pr],1), linewidth = 2, edgecolor = lighten_color(zfC[pr],1)); #color=zfC[pr], \n",
    "#         pH = plt.bar([i+j/barD], np.mean(countData), yerr = sem(df[(df['CRgene']==gene) & (df['Genotype']==geno)][pr][~np.isnan(df[(df['CRgene']==gene) & (df['Genotype']==geno)][pr])], ddof = 0), align='center', ecolor='black', capsize=10, width=1/barW, color=zfC[pr], edgecolor = zfC[pr]);\n",
    "#         pH = plt.bar([i+j/barD], np.mean(countData), yerr = np.std(df[(df['CRgene']==gene) & (df['Genotype']==geno)][pr][~np.isnan(df[(df['CRgene']==gene) & (df['Genotype']==geno)][pr])], ddof = 0), align='center', ecolor='black', capsize=10, width=1/barW, color=zfC[pr], edgecolor = zfC[pr]);\n",
    "       # pH = plt.bar([i+j/barD], np.mean(df[(df['CRgene']==gene) & (df['Genotype']==geno)][pr]), yerr = np.std(df[(df['CRgene']==gene) & (df['Genotype']==geno)][pr]), ecolor=lighten_color(zfC[pr],1.2), capsize=10, width=1/barW, color=zfC[pr], edgecolor = zfC[pr]);\n",
    "        #pH = plt.errorbar([i+j/barD], np.mean(df[(df['CRgene']==gene) & (df['Genotype']==geno)][pr]), yerr = np.std(df[(df['CRgene']==gene) & (df['Genotype']==geno)][pr]), ecolor=lighten_color(zfC[pr],1.1), elinewidth=2, capsize=5, capthick=2, barsabove= True)\n",
    "#         pH = plt.scatter(np.ones(len(countData))*[i+j/barD]+jitter, countData, color=lighten_color(zfC[pr],2/3), zorder=2, marker = zfGm[gene], edgecolor='#ffffff', linewidth=0.5, alpha = 0.4);\n",
    "        pH = plt.errorbar(i+j/barD, np.mean(countData), yerr = [[0],[np.std(countData)]], ecolor=lighten_color(zfC[pr],1), elinewidth=3, capsize=8, capthick=3, zorder=9)\n",
    "        # plt.text((i+j/barD)-textindent, 3, prLabel[pr], font_properties=font_prop, fontsize=20, ha='left', alpha=0.6)\n",
    "        pH = plt.scatter(np.ones(len(countData))*[i+j/barD]+jitter, countData, color='#ffffff', zorder=8, marker = 'o', s=50, edgecolor='#ffffff', linewidth=0.5, alpha = .6);\n",
    "        barPos = np.append(barPos,(i+j/barD))\n",
    "\n",
    "formatFigure(fH, axH, pH)\n",
    "axH.set_xticks(np.sort(barPos));\n",
    "\n",
    "axH.set_xticklabels(geneList * len(photoreceptors));\n",
    "# axH.set_ylim([0,500]); # this was 400\n",
    "\n",
    "# savePath = 'C:/Users/pataklk/OneDrive - National Institutes of Health/zf/F0_Analysis/CRfoxq2F0/'\n",
    "# savePath = \"/Users/angueyraaristjm/OneDrive - National Institutes of Health/zf/F0_Analysis/CRfoxq2F0/\"\n",
    "# savePath = \"/Users/angueyraaristjm/Documents/LiLab/Presentations/revealjs/resources/20211008_UCLA/\"\n",
    "# plt.savefig(savePath + \"Counts_foxq2.png\", transparent=True, format=\"png\")\n",
    "# plt.savefig(savePath + \"Counts_foxq2_B.svg\", transparent=True, format=\"svg\")"
   ]
  },
  {
   "cell_type": "code",
   "execution_count": null,
   "metadata": {},
   "outputs": [],
   "source": []
  }
 ],
 "metadata": {
  "kernelspec": {
   "display_name": "Python 3 (ipykernel)",
   "language": "python",
   "name": "python3"
  },
  "language_info": {
   "codemirror_mode": {
    "name": "ipython",
    "version": 3
   },
   "file_extension": ".py",
   "mimetype": "text/x-python",
   "name": "python",
   "nbconvert_exporter": "python",
   "pygments_lexer": "ipython3",
   "version": "3.9.7"
  },
  "toc-autonumbering": false,
  "toc-showcode": false,
  "toc-showmarkdowntxt": false,
  "toc-showtags": false
 },
 "nbformat": 4,
 "nbformat_minor": 4
}
