{
 "cells": [
  {
   "cell_type": "code",
   "execution_count": null,
   "id": "caad28ee-d9ab-4ab6-9956-5e50a61adc08",
   "metadata": {},
   "outputs": [],
   "source": []
  },
  {
   "cell_type": "markdown",
   "id": "213158ff-8d3c-43e2-9e51-9ee31ab50e0c",
   "metadata": {},
   "source": [
    "### Establish landmarks in whole-eye MIP\n",
    "- Use eyeMarks layer to mark:\n",
    "        - Landmark #1: Center of FOV (where zoom in is centered)\n",
    "        - Landmark #2: Center of Optic Nerve Head \n",
    "        - Landmark #3: Dorsal edge of eye\n",
    "        - Landmark #4: Ventral edge of eye\n",
    "        - Landmark #5: Temporal edge of eye (strike zone side)\n",
    "        - Landmark #6: Nasal edge of eye\n",
    "- Decide if stack should be excluded (and stop analysis here and make note in csv summary file)"
   ]
  },
  {
   "cell_type": "code",
   "execution_count": 118,
   "id": "39819e91-a05d-49f4-a62f-12cb77a4d549",
   "metadata": {},
   "outputs": [
    {
     "name": "stdout",
     "output_type": "stream",
     "text": [
      "Loading eye mip...\n",
      "Loaded: 20220121_5dpf_xOG_aCT_wt_L03_002\n",
      "Make 6 landmark points then click button to save\n"
     ]
    },
    {
     "name": "stderr",
     "output_type": "stream",
     "text": [
      "/Users/angueyraaristjm/opt/anaconda3/lib/python3.9/site-packages/numpy/core/numeric.py:2453: FutureWarning: elementwise comparison failed; returning scalar instead, but in the future will perform elementwise comparison\n",
      "  return bool(asarray(a1 == a2).all())\n"
     ]
    },
    {
     "data": {
      "application/vnd.jupyter.widget-view+json": {
       "model_id": "da41cd0c3914491d805d6cc2509f528f",
       "version_major": 2,
       "version_minor": 0
      },
      "text/plain": [
       "VBox(children=(Button(description='Save eyeMarks', layout=Layout(height='100px', width='200px'), style=ButtonS…"
      ]
     },
     "metadata": {},
     "output_type": "display_data"
    }
   ],
   "source": [
    "nMIP = 3 * 2\n",
    "viewer.layers['C_mip'].scale = [1.5/8,1.5/8]; viewer.layers['C_mip'].translate = [0,+(512-1024*1.5/(8*2))]\n",
    "viewer.layers['R_mip'].scale = [1.5/8,1.5/8]; viewer.layers['R_mip'].translate = [0,+(512-1024*1.5/(8*2))]\n",
    "viewer.layers['N_mip'].scale = [1.5/8,1.5/8]; viewer.layers['N_mip'].translate = [0,+(512-1024*1.5/(8*2))]\n",
    "\n",
    "# Load whole-eye MIP to establish landmarks\n",
    "print('Loading eye mip...')\n",
    "if str.endswith(fPath,'002'):\n",
    "    mipPath = fPath[:-1] + \"1_mip\";\n",
    "elif str.endswith(fPath,'004'):\n",
    "    mipPath = fPath[:-1] + \"3_mip\";\n",
    "viewer.open((dPath+mipPath + \".nd2\"))\n",
    "\n",
    "viewer.layers.remove(viewer.layers[len(viewer.layers)-1]) # remove transmitted detector image\n",
    "viewer.layers.select_next();\n",
    "\n",
    "if len(viewer.layers)==2+nMIP: # no DAPI, GFP and RFP\n",
    "    nChannels = 2\n",
    "    viewer.layers[nMIP].colormap = 'green'\n",
    "    viewer.layers[nMIP].name = 'eyeR'\n",
    "    viewer.layers[nMIP+1].colormap = 'magenta'\n",
    "    viewer.layers[nMIP+1].name = 'eyeC'\n",
    "if len(viewer.layers)==2+nMIP: # DAPI and RFP channel (single positive larvae with bad immunos)\n",
    "    nChannels = 2\n",
    "    viewer.layers[nMIP+0].colormap = 'green'\n",
    "    viewer.layers[nMIP+0].name = 'eyeR'\n",
    "    viewer.layers[nMIP+0].opacity = 0.66\n",
    "    viewer.layers[nMIP+1].colormap = 'magenta'\n",
    "    viewer.layers[nMIP+1].name = 'eyeC'\n",
    "elif len(viewer.layers)==3+nMIP: #DAPI\n",
    "    nChannels = 3\n",
    "    viewer.layers[nMIP+0].colormap = 'gray'\n",
    "    viewer.layers[nMIP+0].name = 'eyeN'\n",
    "    viewer.layers[nMIP+0].opacity = 0.33\n",
    "    viewer.layers[nMIP+1].colormap = 'green'\n",
    "    viewer.layers[nMIP+1].name = 'eyeR'\n",
    "    viewer.layers[nMIP+2].colormap = 'magenta'\n",
    "    viewer.layers[nMIP+2].name = 'eyeC'\n",
    "\n",
    "\n",
    "print('Loaded: ' + fPath)\n",
    "\n",
    "eyeMarks = viewer.add_points(size=20, name = 'eyeMarks', symbol=\"cross\", face_color='#ffffff80')\n",
    "viewer.layers.select_next();\n",
    "\n",
    "# Save eye landmarks\n",
    "eyeMarksButton = ipywidgets.Button(description='Save eyeMarks', layout=ipywidgets.Layout(width='200px', height='100px'))\n",
    "out = ipywidgets.Output()\n",
    "def eyeMClick(_):\n",
    "    with out:\n",
    "        l = viewer.layers['eyeMarks']; l.save(dOut + l.name + '.csv');\n",
    "        print('eyeMarks layers saved for ' + fPath)\n",
    "eyeMarksButton.on_click(eyeMClick)\n",
    "\n",
    "print(\"Make 6 landmark points then click button to save\")\n",
    "\n",
    "ipywidgets.VBox([eyeMarksButton,out])"
   ]
  }
 ],
 "metadata": {
  "kernelspec": {
   "display_name": "Python 3 (ipykernel)",
   "language": "python",
   "name": "python3"
  },
  "language_info": {
   "codemirror_mode": {
    "name": "ipython",
    "version": 3
   },
   "file_extension": ".py",
   "mimetype": "text/x-python",
   "name": "python",
   "nbconvert_exporter": "python",
   "pygments_lexer": "ipython3",
   "version": "3.9.7"
  }
 },
 "nbformat": 4,
 "nbformat_minor": 5
}
