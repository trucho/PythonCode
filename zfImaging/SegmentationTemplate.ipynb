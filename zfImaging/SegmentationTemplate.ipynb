{
 "cells": [
  {
   "cell_type": "markdown",
   "metadata": {},
   "source": [
    "# Photoreceptor segmentation using [napari](https://napari.org/) and [cellpose](https://cellpose-napari.readthedocs.io/en/latest/index.html)\n",
    "\n",
    "## This notebook still has some junk code"
   ]
  },
  {
   "cell_type": "markdown",
   "metadata": {},
   "source": [
    "### Basic usage:\n",
    "```python\n",
    "viewer = napari.Viewer()\n",
    "nbscreenshot(viewer)\n",
    "viewer.close()\n",
    "```\n",
    "\n",
    "example notebooks [here](https://github.com/sofroniewn/napari-training-course/blob/master/lessons/)"
   ]
  },
  {
   "cell_type": "code",
   "execution_count": null,
   "metadata": {},
   "outputs": [],
   "source": [
    "## to install\n",
    "# !pip install napari[all]\n",
    "# !pip install QT\n",
    "# !pip install napari[pyqt5]\n",
    "# !pip install cellpose-napari==0.1.4\n",
    "# !pip install napari-nikon-nd2\n",
    "# !pip install magicgui\n",
    "# !pip install napari-pyclesperanto-assistant\n",
    "# !pip install napari-clusters-plotter #hdbscan failed\n",
    "# !pip install napari-plot-profile\n",
    "# !pip install napari-brightness-contrast\n",
    "# !pip install napari-curtain\n",
    "# !pip install napari-3d-ortho-viewer\n",
    "# !pip install napari-manual-split-and-merge-labels\n",
    "# !pip install napari-crop\n",
    "# !pip install napari-stl-exporter\n",
    "\n",
    "## to upgrade:\n",
    "# !pip install cellpose-napari==0.1.4\n",
    "# !pip install cellpose-napari --upgrade\n",
    "# !pip install cellpose --upgrade\n",
    "# !pip install napari --upgrade\n",
    "# !pip install mxnet-mkl"
   ]
  },
  {
   "cell_type": "code",
   "execution_count": 11,
   "metadata": {},
   "outputs": [],
   "source": [
    "import napari\n",
    "import cellpose_napari\n",
    "import cellpose\n",
    "from cellpose import models\n",
    "from napari.utils import nbscreenshot\n",
    "from tifffile import imread\n",
    "import numpy as np\n",
    "from scipy import ndimage\n",
    "from scipy.stats import mannwhitneyu\n",
    "import napari_nikon_nd2\n",
    "import os \n",
    "from magicgui import magicgui\n",
    "import matplotlib\n",
    "import matplotlib.pyplot as plt\n",
    "import matplotlib.font_manager as font_manager\n",
    "import importlib\n",
    "import svgutils\n",
    "from svgutils.compose import *\n",
    "from cmcrameri import cm #colormaps"
   ]
  },
  {
   "cell_type": "code",
   "execution_count": 6,
   "metadata": {},
   "outputs": [
    {
     "name": "stdout",
     "output_type": "stream",
     "text": [
      "Opened viewer; plot style is dark\n"
     ]
    }
   ],
   "source": [
    "plotStyle = 'dark';\n",
    "# plotStyle = 'light';\n",
    "\n",
    "\n",
    "batlow = cm.vik(range(255))\n",
    "batlow = batlow[0:255:int(np.floor(255/8)),:]\n",
    "matplotlib.rcParams['axes.prop_cycle'] = matplotlib.cycler(color=batlow) \n",
    "\n",
    "#gene Colors\n",
    "zfC = {\n",
    "    'rho'  : '#7d7d7d',\n",
    "    'sws1' : '#B73AB9',\n",
    "    'sws2' : '#4364F6',\n",
    "    'mws1' : '#59CB3B',\n",
    "    'mws2' : '#59CB3B',\n",
    "    'mws3' : '#59CB3B',\n",
    "    'mws4' : '#59CB3B',\n",
    "    'lws1' : '#CE2A22',\n",
    "    'lws2' : '#CE2A22',\n",
    "    'actb2': '#926645',\n",
    "    'tbx2a': '#c92675',\n",
    "    'tbx2b': '#7526c9',\n",
    "    'six7' : '#d6ab00',\n",
    "}\n",
    "\n",
    "zfG = {\n",
    "    'wt' : '#000000',\n",
    "    'tbx2a' : '#ab266b',\n",
    "    'tbx2b' : '#421f8e',\n",
    "    'foxq2' : '#001dd6',\n",
    "    'skor1a' : '#5456A5',\n",
    "    'lrrfip1a': '#c7ff5a',\n",
    "    'xbp1': '#B73AB9',\n",
    "}\n",
    "\n",
    "zfGm = {\n",
    "    'wt' : 'o',\n",
    "    'tbx2a' : 'P',\n",
    "    'tbx2b' : 'X',\n",
    "    'foxq2' : '^',\n",
    "    'skor1a' : 'h',\n",
    "    'lrrfip1a' : 'h',\n",
    "    'xbp1' : 'h',\n",
    "}\n",
    "\n",
    "prLabel = {\n",
    "    'R'  : 'R',\n",
    "    'U' : 'UV',\n",
    "    'S' : 'S',\n",
    "    'M' : 'M',\n",
    "    'L' : 'L',\n",
    "}\n",
    "\n",
    "if plotStyle=='dark':\n",
    "    # dark background\n",
    "    params = {\"ytick.color\" : \"w\",\n",
    "              \"xtick.color\" : \"w\",\n",
    "              \"axes.labelcolor\" : \"w\",\n",
    "              \"axes.edgecolor\" : \"w\",\n",
    "             \"axes.linewidth\" : 3,\n",
    "             \"xtick.major.width\" : 3,\n",
    "             \"ytick.major.width\" : 3,\n",
    "             \"xtick.major.size\" : 8,\n",
    "             \"ytick.major.size\" : 8,\n",
    "             \"text.color\" : \"w\"}\n",
    "    plt.rcParams.update(params)\n",
    "elif plotStyle=='light':\n",
    "    # white background\n",
    "    params = {\"ytick.color\" : \"k\",\n",
    "              \"xtick.color\" : \"k\",\n",
    "              \"axes.labelcolor\" : \"k\",\n",
    "              \"axes.edgecolor\" : \"k\",\n",
    "             \"axes.linewidth\" : 3,\n",
    "             \"xtick.major.width\" : 3,\n",
    "             \"ytick.major.width\" : 3,\n",
    "             \"xtick.major.size\" : 8,\n",
    "             \"ytick.major.size\" : 8,\n",
    "             \"text.color\" : \"k\"}\n",
    "    plt.rcParams.update(params)\n",
    "font_prop = font_manager.FontProperties(fname='/System/Library/Fonts/Avenir.ttc')\n",
    "\n",
    "\n",
    "def formatFigureMain(figH, axH, plotH):\n",
    "    font_path = '/System/Library/Fonts/Avenir.ttc'\n",
    "    fontTicks = font_manager.FontProperties(fname=font_path, size=30)\n",
    "    fontLabels = font_manager.FontProperties(fname=font_path, size=36)\n",
    "    fontTitle = font_manager.FontProperties(fname=font_path, size=32)\n",
    "    axH.set_xscale('linear')\n",
    "    axH.spines['top'].set_visible(False)\n",
    "    axH.spines['right'].set_visible(False)\n",
    "    \n",
    "    for label in (axH.get_xticklabels() + axH.get_yticklabels()):\n",
    "        label.set_fontproperties(fontTicks)\n",
    "    axH.set_xlabel(axH.get_xlabel(), fontproperties = fontTicks)\n",
    "    axH.set_ylabel(axH.get_ylabel(), fontproperties = fontTicks)\n",
    "    return fontLabels\n",
    "\n",
    "def lighten_color(color, amount=0.5):\n",
    "    \"\"\"\n",
    "    Lightens the given color by multiplying (1-luminosity) by the given amount.\n",
    "    Input can be matplotlib color string, hex string, or RGB tuple.\n",
    "\n",
    "    Examples:\n",
    "    >> lighten_color('g', 0.3)\n",
    "    >> lighten_color('#F034A3', 0.6)\n",
    "    >> lighten_color((.3,.55,.1), 0.5)\n",
    "    \"\"\"\n",
    "    import colorsys\n",
    "    try:\n",
    "        c = matplotlib.colors.cnames[color]\n",
    "    except:\n",
    "        c = color\n",
    "    c = colorsys.rgb_to_hls(*matplotlib.colors.to_rgb(c))\n",
    "    return matplotlib.colors.rgb2hex(colorsys.hls_to_rgb(c[0], 1 - amount * (1 - c[1]), c[2]))\n",
    "\n",
    "def estimateJitter(dataArray):\n",
    "    \"\"\" creates random jitter scaled by local density of points\"\"\"\n",
    "    from scipy.stats import gaussian_kde\n",
    "    kde = gaussian_kde(dataArray)\n",
    "    density = kde(dataArray)\n",
    "    jitter = np.random.randn(len(dataArray))*density\n",
    "    return jitter\n",
    "\n",
    "# viewer = napari.Viewer()\n",
    "\n",
    "print('Opened viewer; plot style is ' + plotStyle)"
   ]
  },
  {
   "cell_type": "code",
   "execution_count": 7,
   "metadata": {},
   "outputs": [
    {
     "name": "stdout",
     "output_type": "stream",
     "text": [
      "2022-01-11 14:20:48,194 [INFO] Note: NumExpr detected 12 cores but \"NUMEXPR_MAX_THREADS\" not set, so enforcing safe limit of 8.\n",
      "2022-01-11 14:20:48,195 [INFO] NumExpr defaulting to 8 threads.\n",
      "Warning: QApplication was created before pyqtgraph was imported; there may be problems (to avoid bugs, call QApplication.setGraphicsSystem(\"raster\") before the QApplication is created).\n"
     ]
    },
    {
     "name": "stderr",
     "output_type": "stream",
     "text": [
      "[INFO] Resource 'XMLSchema.xsd' is already loaded\n"
     ]
    },
    {
     "name": "stdout",
     "output_type": "stream",
     "text": [
      "2022-01-11 14:20:49,373 [INFO] Resource 'XMLSchema.xsd' is already loaded\n"
     ]
    }
   ],
   "source": [
    "viewer = napari.Viewer()"
   ]
  },
  {
   "cell_type": "code",
   "execution_count": null,
   "metadata": {},
   "outputs": [],
   "source": [
    "# viewer.close()"
   ]
  },
  {
   "cell_type": "markdown",
   "metadata": {},
   "source": [
    "***\n",
    "# Index <a id='Index'></a>\n",
    "***\n",
    "- [Extraction of z planes for analysis](#zExtract)\n",
    "- [Segmentation with cellpose](#cellSeg)\n",
    "- [Manual correction of segmentation](#manualCuration)\n",
    "- [Create thumbnails _WIP_](#thumbnails)\n",
    "- [Quantification](#quantification)"
   ]
  },
  {
   "cell_type": "markdown",
   "metadata": {
    "tags": []
   },
   "source": [
    "***\n",
    "## Extract layers from z-stacks<a id='zExtract'>∮</a>\n",
    "***\n",
    "[Back to Index](#Index)"
   ]
  },
  {
   "cell_type": "code",
   "execution_count": null,
   "metadata": {},
   "outputs": [],
   "source": [
    "# getting list of files\n",
    "dPath = \"/Volumes/angueyraNEI/LiImaging/zf/20211129_skor1aF0_xOG_aCtdT/\"\n",
    "!ls $dPath/*[002,004].nd2"
   ]
  },
  {
   "cell_type": "code",
   "execution_count": null,
   "metadata": {},
   "outputs": [],
   "source": [
    "# clear viewer\n",
    "viewer.layers.select_all()\n",
    "viewer.layers.remove_selected()"
   ]
  },
  {
   "cell_type": "code",
   "execution_count": null,
   "metadata": {},
   "outputs": [],
   "source": [
    "# clear viewer\n",
    "viewer.layers.select_all()\n",
    "viewer.layers.remove_selected()\n",
    "\n",
    "# analysis directory\n",
    "dAnalysis = \"/Users/angueyraaristjm/Documents/LiImaging/Analysis/CRskor1aF0s/xOGaCT/\"\n",
    "\n",
    "# open file\n",
    "\n",
    "# uninjected\n",
    "# dPath = \"/Volumes/angueyraNEI/LiImaging/zf/20211129_skor1aF0_xOG_aCtdT/\" # bad imaging: did not configure A1R properly, so there's bleedthrough from GFP into RFP channel\n",
    "# fPath = \"20211129_5dpf_xOG_aCtdT_wt_L07_002\"; gene = 'wt'; zlims = [31,33];\n",
    "\n",
    "# F0[skor1a]\n",
    "dPath = \"/Volumes/angueyraNEI/LiImaging/zf/20211129_skor1aF0_xOG_aCtdT/\" # bad imaging: did not configure A1R properly, so there's bleedthrough from GFP into RFP channel\n",
    "# fPath = \"20211129_5dpf_xOG_aCtdT_skor1aF0_L07_002\"; gene = 'skor1a'; zlims = [29,30];\n",
    "\n",
    "\n",
    "# create subdirectory for analysis\n",
    "dOut = dAnalysis + gene + '/' + fPath + '/'\n",
    "if (os.path.isdir(dOut)==False):\n",
    "    os.mkdir(dOut)\n",
    "    print('Created output directory')\n",
    "\n",
    "print('Canvas clear')"
   ]
  },
  {
   "cell_type": "code",
   "execution_count": null,
   "metadata": {},
   "outputs": [],
   "source": [
    "# load whole stack to figure out best planes for cellpose\n",
    "viewer.open((dPath+fPath + \".nd2\"))\n",
    "viewer.layers.remove(viewer.layers[2]) # remove transmitted detector image\n",
    "viewer.layers[0].colormap = 'green'\n",
    "viewer.layers[0].name = 'R'\n",
    "viewer.layers[1].colormap = 'magenta'\n",
    "viewer.layers[1].name = 'C'\n",
    "viewer.layers.select_next();\n",
    "print('Loaded!')"
   ]
  },
  {
   "cell_type": "code",
   "execution_count": null,
   "metadata": {},
   "outputs": [],
   "source": [
    "# make mips (and remove any previous ones)\n",
    "# # code for eyes without immuno\n",
    "zlims = [30,31];\n",
    "if len(viewer.layers)>2:\n",
    "    for l in viewer.layers[2:]:\n",
    "        viewer.layers.remove(l)\n",
    "\n",
    "for l in [viewer.layers[0],viewer.layers[1]]:\n",
    "    l.visible = False\n",
    "#     viewer.layers.remove(l.name + '_mip')\n",
    "    viewer.add_image(l.data[zlims[0]:zlims[1]].max(axis=0), blending='additive', colormap = l.colormap, name = l.name + \"_mip\")\n",
    "    \n",
    "    \n",
    "# # for FPs ------- # for OSs # code for eyes with 1D4 immuno\n",
    "# zlims = [28,30]; zlims2 = [14,18];\n",
    "# if len(viewer.layers)>3:\n",
    "#     for l in viewer.layers[3:]:\n",
    "#         viewer.layers.remove(l)\n",
    "\n",
    "# for l in [viewer.layers[0],viewer.layers[1]]:\n",
    "#     l.visible = False\n",
    "# #     viewer.layers.remove(l.name + '_mip')\n",
    "#     viewer.add_image(l.data[zlims[0]:zlims[1]].max(axis=0), blending='additive', colormap = l.colormap, name = l.name + \"_mip\")\n",
    "    \n",
    "# for l in [viewer.layers[2]]:\n",
    "#     l.visible = False\n",
    "# #     viewer.layers.remove(l.name + '_mip')\n",
    "#     viewer.add_image(l.data[zlims2[0]:zlims2[1]].max(axis=0), blending='additive', colormap = l.colormap, name = l.name + \"_mip\")"
   ]
  },
  {
   "cell_type": "code",
   "execution_count": null,
   "metadata": {},
   "outputs": [],
   "source": [
    "# when things look good, save in folder for batch cellpose analysis\n",
    "l = viewer.layers['C_mip']; l.save(dOut + l.name + '.tiff')\n",
    "l = viewer.layers['R_mip']; l.save(dOut + l.name + '.tiff')\n",
    "print('MIP layers saved')\n",
    "# l = viewer.layers['LWS_mip']; l.save(dOut + l.name + '.tiff')"
   ]
  },
  {
   "cell_type": "markdown",
   "metadata": {},
   "source": [
    "### [Go back and run next one &uarr;](#zExtract)"
   ]
  },
  {
   "cell_type": "markdown",
   "metadata": {},
   "source": [
    "***\n",
    "## Segmentation using cellpose<a id='cellSeg'>∮</a>\n",
    "***\n",
    "[Back to Index](#Index)"
   ]
  },
  {
   "cell_type": "markdown",
   "metadata": {},
   "source": [
    "## Run cellpose in napari GUI and identify good parameters.\n",
    "Usually for:\n",
    "1. xOPS:GFP: diameter = 17; flow_threshold = 0.4 and mask_threshold = 0.0\n",
    "1. sws1:mCherry:\n",
    "1. sws2:mCherry:\n",
    "1. mws2:GFP:\n",
    "1. thrb:tdTomato:\n",
    "    "
   ]
  },
  {
   "cell_type": "code",
   "execution_count": null,
   "metadata": {},
   "outputs": [],
   "source": [
    "# clear viewer\n",
    "viewer.layers.select_all()\n",
    "viewer.layers.remove_selected()\n",
    "\n",
    "# define analysis directory\n",
    "dAnalysis = \"/Users/angueyraaristjm/Documents/LiImaging/Analysis/CRskor1aF0s/xOGaCT/\"\n",
    "\n",
    "# open example file\n",
    "# uninjected\n",
    "dPath = \"/Volumes/angueyraNEI/LiImaging/zf/20211129_skor1aF0_xOG_aCtdT/\" # bad imaging: did not configure A1R properly, so there's bleedthrough from GFP into RFP channel\n",
    "fPath = \"20211129_5dpf_xOG_aCtdT_wt_L07_002\"; gene = 'wt';\n",
    "\n",
    "# redefine analysis subdirectory\n",
    "dOut = dAnalysis + gene + '/' + fPath + '/'\n",
    "print('Viewer cleared...')"
   ]
  },
  {
   "cell_type": "markdown",
   "metadata": {},
   "source": [
    "## Cellpose: batch analysis\n",
    "#### Define parameters and files"
   ]
  },
  {
   "cell_type": "code",
   "execution_count": 15,
   "metadata": {},
   "outputs": [
    {
     "name": "stdout",
     "output_type": "stream",
     "text": [
      "2022-01-11 14:23:29,508 [INFO] >>>> using CPU\n"
     ]
    }
   ],
   "source": [
    "# define analysis directory\n",
    "dAnalysis = \"/Users/angueyraaristjm/Documents/LiImaging/Analysis/CRtest/\"\n",
    "\n",
    "# collect file paths\n",
    "gene = 'wt'\n",
    "fPaths = [\n",
    "#     \"20211129_5dpf_xOG_aCtdT_wt_L07_002\",\n",
    "#     \"20211129_5dpf_xOG_aCtdT_wt_L07_004\",\n",
    "    \"20211129_5dpf_xOG_aCtdT_wt_L09_002\",\n",
    "    \"20211129_5dpf_xOG_aCtdT_wt_L09_004\",\n",
    "         ]\n",
    "\n",
    "# define cellpose params\n",
    "cpParams = {\n",
    "    'model' : 'cyto2', # default is 'cyto' or 'cyto2'\n",
    "    'net_avg' : False,\n",
    "    'channels' : [0,0], #single channel without nucleaus info\n",
    "    'diameter' : 17,\n",
    "    'flow_threshold' : 0.4,\n",
    "    'mask_threshold' : 0.0\n",
    "}\n",
    "\n",
    "# define model to use (e.g. 'cyto2')\n",
    "model = models.Cellpose(gpu=False, model_type=cpParams['model'])"
   ]
  },
  {
   "cell_type": "markdown",
   "metadata": {},
   "source": [
    "#### Run in loop to track progress and automatically save results\n",
    "> In Jan 2022: ~4 minutes per 1024 x 1024 image (4 nets). "
   ]
  },
  {
   "cell_type": "code",
   "execution_count": 18,
   "metadata": {},
   "outputs": [
    {
     "name": "stdout",
     "output_type": "stream",
     "text": [
      "Starting analysis:\n",
      "\t/Users/angueyraaristjm/Documents/LiImaging/Analysis/CRtest/wt/20211129_5dpf_xOG_aCtdT_wt_L09_002/R_mip.tiff\n",
      "2022-01-11 14:27:30,525 [INFO] ~~~ FINDING MASKS ~~~\n",
      "2022-01-11 14:28:30,706 [INFO] >>>> TOTAL TIME 60.18 sec\n",
      "\t/Users/angueyraaristjm/Documents/LiImaging/Analysis/CRtest/wt/20211129_5dpf_xOG_aCtdT_wt_L09_004/R_mip.tiff\n",
      "2022-01-11 14:28:31,017 [INFO] ~~~ FINDING MASKS ~~~\n",
      "2022-01-11 14:29:31,581 [INFO] >>>> TOTAL TIME 60.56 sec\n",
      "Finished cellpose batch analysis\n"
     ]
    }
   ],
   "source": [
    "print('Starting analysis:')\n",
    "for fPath in fPaths:\n",
    "    dOut = dAnalysis + gene + '/' + fPath + '/' + 'R_mip.tiff'\n",
    "    print('\\t' + dOut)\n",
    "    img = cellpose.io.imread(dOut)\n",
    "#     imgplot = plt.imshow(img)\n",
    "    masks, flows, styles, diams = model.eval(img, \n",
    "                                             diameter=cpParams['diameter'], channels=cpParams['channels'],\n",
    "                                             do_3D=False, net_avg = cpParams['net_avg'], interp = True,\n",
    "                                             flow_threshold = cpParams['flow_threshold'], mask_threshold = cpParams['mask_threshold'])\n",
    "    cellpose.io.masks_flows_to_seg(img, masks, flows, diams, dOut, cpParams['channels']) # save results \n",
    "    \n",
    "print('Finished cellpose batch analysis')"
   ]
  },
  {
   "cell_type": "markdown",
   "metadata": {
    "tags": []
   },
   "source": [
    "### Old code: running cellpose through cellpose-napari"
   ]
  },
  {
   "cell_type": "code",
   "execution_count": null,
   "metadata": {},
   "outputs": [],
   "source": [
    "# # after running cellpose, rename cellpose images and save before manual curation:\n",
    "# baseName = 'R'\n",
    "# lname = baseName + '_mip'\n",
    "# viewer.layers[lname + '_cp_masks_000'].name = baseName + '_seg'\n",
    "# viewer.layers[lname + '_cp_outlines_000'].name = baseName + '_outlines'\n",
    "# viewer.layers[lname + '_cp_cellprob_000'].name = baseName + '_prob'\n",
    "# viewer.layers[lname + '_cp_flows_000'].name = baseName + '_flows'\n",
    "\n",
    "# l = viewer.layers[baseName + '_seg']; l.save(dOut + l.name + '.tiff')\n",
    "# l = viewer.layers[baseName + '_outlines']; l.save(dOut + l.name + '.tiff')\n",
    "# l = viewer.layers[baseName + '_prob']; l.save(dOut + l.name + '.tiff')\n",
    "# l = viewer.layers[baseName + '_flows']; l.save(dOut + l.name + '.tiff')"
   ]
  },
  {
   "cell_type": "code",
   "execution_count": null,
   "metadata": {},
   "outputs": [],
   "source": [
    "# # after running cellpose, rename cellpose images and save before manual curation:\n",
    "# baseName = 'C'\n",
    "# lname = baseName + '_mip'\n",
    "# viewer.layers[lname + '_cp_masks_000'].name = baseName + '_seg'\n",
    "# viewer.layers[lname + '_cp_outlines_000'].name = baseName + '_outlines'\n",
    "# viewer.layers[lname + '_cp_cellprob_000'].name = baseName + '_prob'\n",
    "# viewer.layers[lname + '_cp_flows_000'].name = baseName + '_flows'\n",
    "\n",
    "# l = viewer.layers[baseName + '_seg']; l.save(dOut + l.name + '.tiff')\n",
    "# l = viewer.layers[baseName + '_outlines']; l.save(dOut + l.name + '.tiff')\n",
    "# l = viewer.layers[baseName + '_prob']; l.save(dOut + l.name + '.tiff')\n",
    "# l = viewer.layers[baseName + '_flows']; l.save(dOut + l.name + '.tiff')"
   ]
  },
  {
   "cell_type": "markdown",
   "metadata": {},
   "source": [
    "***\n",
    "## Manual correction of cellpose segmentation<a id='manualCuration'>∮</a>\n",
    "***\n",
    "[Back to Index](#Index)"
   ]
  },
  {
   "cell_type": "code",
   "execution_count": null,
   "metadata": {},
   "outputs": [],
   "source": [
    "# clear viewer\n",
    "viewer.layers.select_all()\n",
    "viewer.layers.remove_selected()\n",
    "\n",
    "\n",
    "# analysis directory\n",
    "dAnalysis = \"/Users/angueyraaristjm/Documents/LiImaging/Analysis/CRtest/\"\n",
    "\n",
    "# open file\n",
    "# uninjected\n",
    "dPath = \"/Volumes/angueyraNEI/LiImaging/zf/20211129_skor1aF0_xOG_aCtdT/\" # bad imaging: did not configure A1R properly, so there's bleedthrough from GFP into RFP channel\n",
    "# fPath = \"20211129_5dpf_xOG_aCtdT_wt_L07_002\"; gene = 'wt'; zlims = [31,33];\n",
    "# fPath = \"20211129_5dpf_xOG_aCtdT_wt_L07_004\"; gene = 'wt'; zlims = [28,30];\n",
    "fPath = \"20211129_5dpf_xOG_aCtdT_wt_L09_002\"; gene = 'wt'; zlims = [37,38];\n",
    "# fPath = \"20211129_5dpf_xOG_aCtdT_wt_L09_004\"; gene = 'wt'; zlims = [25,26]; # weird one; almost no rods...\n",
    "\n",
    "\n",
    "# define subdirectory for analysis\n",
    "dOut = dAnalysis + gene + '/' + fPath + '/'\n",
    "print('Viewer cleared...')\n",
    "\n",
    "# clear key binds\n",
    "@viewer.bind_key('k', overwrite=True)\n",
    "def toggle_sel(viewer):\n",
    "    ...\n",
    "@viewer.bind_key('b', overwrite=True)\n",
    "def toggle_sel(viewer):\n",
    "    ...\n",
    "@viewer.bind_key('Shift-x', overwrite=True)\n",
    "def removeLabel(viewer):\n",
    "    ...\n",
    "\n",
    "# load mips\n",
    "viewer.open(dOut + 'R' + \"_mip.tiff\", plugin='builtins', colormap = 'green', blending='additive');\n",
    "# viewer.open(dOut + 'C' + \"_mip.tiff\", plugin='builtins', colormap = 'magenta', blending='additive');\n",
    "# viewer.layers['C_mip'].visible = True\n",
    "\n",
    "# load segmentation\n",
    "segData = np.load(dOut + 'R' + \"_mip\" + \"_seg.npy\", allow_pickle=True).item()\n",
    "viewer.add_labels(segData['masks'], name='R_seg',blending='additive');\n",
    "# viewer.layers['R_seg'].preserve_labels = True;\n",
    "\n",
    "# segData = np.load(dOut + 'C' + \"_mip\" + \"_seg.npy\", allow_pickle=True).item()\n",
    "# viewer.add_labels(segData['masks'], name='C_seg',blending='additive');\n",
    "# viewer.layers['C_seg'].visible = False\n",
    "# viewer.layers['C_seg'].preserve_labels = True;\n",
    "\n",
    "# viewer.layers['R_seg'].contour = 5\n",
    "# viewer.layers['C_seg'].contour = 5\n",
    "\n",
    "print('Loaded  ' + fPath + ' !\\n Now fix it and save it!')\n",
    "\n",
    "#define useful keyboard shortcuts\n",
    "\n",
    "@viewer.bind_key('Shift-x', overwrite=True)\n",
    "def removeLabel(viewer):\n",
    "    lname = 'R_seg'\n",
    "    tempd = viewer.layers[lname].data\n",
    "    tempd[tempd == viewer.layers[lname].selected_label]=0\n",
    "    viewer.layers[lname].data = tempd\n",
    "    print('Cut!')\n",
    "\n",
    "print('removeLabel on R_seg (\"Shift-X\")')\n",
    "\n",
    "@viewer.bind_key('k', overwrite=True)\n",
    "def toggle_sel(viewer):\n",
    "    lname = 'R_seg'\n",
    "    if (viewer.layers[lname].preserve_labels == True):\n",
    "        viewer.layers[lname].preserve_labels = False\n",
    "    elif (viewer.layers[lname].preserve_labels == False):\n",
    "        viewer.layers[lname].preserve_labels = True\n",
    "print('toggle R_seg preserve_labels (\"k\")')\n",
    "        \n",
    "@viewer.bind_key('b', overwrite=True)\n",
    "def toggle_sel(viewer):\n",
    "    lname = 'C_mip'\n",
    "    if (viewer.layers[lname].visible == True):\n",
    "        viewer.layers[lname].visible = False\n",
    "    elif (viewer.layers[lname].visible == False):\n",
    "        viewer.layers[lname].visible = True\n",
    "print('toggle C_mip visibility (\"B\")')\n",
    "\n",
    "@viewer.bind_key('n', overwrite=True)\n",
    "def toggle_sel(viewer):\n",
    "    lname = 'R_mip'\n",
    "    if (viewer.layers[lname].visible == True):\n",
    "        viewer.layers[lname].visible = False\n",
    "    elif (viewer.layers[lname].visible == False):\n",
    "        viewer.layers[lname].visible = True\n",
    "print('toggle R_mip visibility (\"N\")')"
   ]
  },
  {
   "cell_type": "code",
   "execution_count": null,
   "metadata": {},
   "outputs": [],
   "source": [
    "# load z-stack if needed\n",
    "# dPath = \"/Volumes/zfSSD/LiImaging/A1R/zf/20201030_CRtbx2ab/\"\n",
    "# viewer.open((dPath+fPath + \".nd2\"))\n",
    "# viewer.layers.remove(viewer.layers[fPath+' [2]']) # remove transmitted detector image\n",
    "# viewer.layers.remove(viewer.layers[fPath+' [3]']) # remove immuno layer\n",
    "# viewer.layers[fPath].colormap = 'magenta'\n",
    "# viewer.layers[fPath].name = 'Mz'\n",
    "# viewer.layers[fPath+' [1]'].colormap = 'green'\n",
    "# viewer.layers[fPath+' [1]'].visible = False\n",
    "# viewer.layers[fPath+' [1]'].name = 'Lz'\n",
    "# viewer.layers.select_next();\n",
    "# print('Loaded!')"
   ]
  },
  {
   "cell_type": "code",
   "execution_count": null,
   "metadata": {},
   "outputs": [],
   "source": []
  },
  {
   "cell_type": "markdown",
   "metadata": {},
   "source": [
    "#### resave curated segmentation after napari-ing around (only doing R_mip)"
   ]
  },
  {
   "cell_type": "code",
   "execution_count": null,
   "metadata": {},
   "outputs": [],
   "source": [
    "baseName = 'R'\n",
    "lname = baseName + '_seg'\n",
    "l = viewer.layers[baseName + '_seg']; l.save(dOut + l.name + '_curated.tiff')\n",
    "print('Done with ' + lname + ' for ' + fPath)"
   ]
  },
  {
   "cell_type": "markdown",
   "metadata": {},
   "source": [
    "### [Go back and run next one &uarr;](#manualCuration)"
   ]
  },
  {
   "cell_type": "code",
   "execution_count": null,
   "metadata": {},
   "outputs": [],
   "source": []
  },
  {
   "cell_type": "code",
   "execution_count": null,
   "metadata": {},
   "outputs": [],
   "source": []
  },
  {
   "cell_type": "code",
   "execution_count": null,
   "metadata": {},
   "outputs": [],
   "source": [
    "# manual merging of labels\n",
    "mergeLabels = [167,168]\n",
    "# lname = 'M_seg'\n",
    "lname = 'L_seg'\n",
    "if viewer.layers[lname].visible == False:\n",
    "    print('Layer not active')\n",
    "else:\n",
    "    tempd = viewer.layers[lname].data\n",
    "    tempd[tempd == mergeLabels[1]]=mergeLabels[0]\n",
    "    viewer.layers[lname].data = tempd\n",
    "    print('Merged in ' + lname)"
   ]
  },
  {
   "cell_type": "code",
   "execution_count": null,
   "metadata": {},
   "outputs": [],
   "source": []
  },
  {
   "cell_type": "code",
   "execution_count": null,
   "metadata": {},
   "outputs": [],
   "source": [
    "# manually delete label\n",
    "selLabel = 49\n",
    "lname = 'L_seg'\n",
    "tempd = viewer.layers[lname].data\n",
    "tempd[tempd == selLabel]=0\n",
    "viewer.layers[lname].data = tempd"
   ]
  },
  {
   "cell_type": "code",
   "execution_count": null,
   "metadata": {},
   "outputs": [],
   "source": []
  },
  {
   "cell_type": "code",
   "execution_count": null,
   "metadata": {},
   "outputs": [],
   "source": []
  },
  {
   "cell_type": "markdown",
   "metadata": {},
   "source": [
    "#### resave curated segmentation after napari-ing around"
   ]
  },
  {
   "cell_type": "code",
   "execution_count": null,
   "metadata": {},
   "outputs": [],
   "source": [
    "baseName = 'R'\n",
    "lname = baseName + '_seg'\n",
    "l = viewer.layers[baseName + '_seg']; l.save(dOut + l.name + '_curated_incomplete.tiff')\n",
    "# l = viewer.layers[baseName + '_seg']; l.save(dOut + l.name + '_curated.tiff')\n",
    "viewer.layers['L_mip'].visible = True\n",
    "viewer.layers['L_seg'].visible = True\n",
    "viewer.layers['M_seg'].contour = 0\n",
    "viewer.layers['M_mip'].visible = False\n",
    "viewer.layers['M_seg'].visible = False\n",
    "print('Done with ' + lname)\n",
    "\n",
    "@viewer.bind_key('Shift-x', overwrite=True)\n",
    "def removeLabel(viewer):\n",
    "#     lname = 'M_seg'mvvvv\n",
    "    lname = 'L_seg'\n",
    "    tempd = viewer.layers[lname].data\n",
    "    tempd[tempd == viewer.layers[lname].selected_label]=0\n",
    "    viewer.layers[lname].data = tempd\n",
    "    print('Cut!')\n",
    "\n",
    "print('removeLabel on L_seg (\"Shift-X\")')\n",
    "\n",
    "@viewer.bind_key('k', overwrite=True)\n",
    "def toggle_sel(viewer):\n",
    "    lname = 'L_seg'\n",
    "    if (viewer.layers[lname].preserve_labels == True):\n",
    "        viewer.layers[lname].preserve_labels = False\n",
    "    elif (viewer.layers[lname].preserve_labels == False):\n",
    "        viewer.layers[lname].preserve_labels = True\n",
    "print('toggle L_seg preserve_labels (\"k\")')\n",
    "\n",
    "@viewer.bind_key('b', overwrite=True)\n",
    "def toggle_sel(viewer):\n",
    "    lname = 'M_mip'\n",
    "    if (viewer.layers[lname].visible == True):\n",
    "        viewer.layers[lname].visible = False\n",
    "    elif (viewer.layers[lname].visible == False):\n",
    "        viewer.layers[lname].visible = True\n",
    "print('toggle L_mip visibility (\"B\")')\n",
    "\n",
    "        \n",
    "@viewer.bind_key('n', overwrite=True)\n",
    "def toggle_sel(viewer):\n",
    "    lname = 'L_mip'\n",
    "    if (viewer.layers[lname].visible == True):\n",
    "        viewer.layers[lname].visible = False\n",
    "    elif (viewer.layers[lname].visible == False):\n",
    "        viewer.layers[lname].visible = True\n",
    "\n",
    "print('toggle L_mip visibility (\"N\")')"
   ]
  },
  {
   "cell_type": "markdown",
   "metadata": {},
   "source": [
    "#### resave curated segmentation after napari-ing around"
   ]
  },
  {
   "cell_type": "code",
   "execution_count": null,
   "metadata": {},
   "outputs": [],
   "source": [
    "baseName = 'L'\n",
    "lname = baseName + '_seg'\n",
    "l = viewer.layers[baseName + '_seg']; l.save(dOut + l.name + '_curated.tiff')\n",
    "print('Done with ' + lname)"
   ]
  },
  {
   "cell_type": "code",
   "execution_count": null,
   "metadata": {},
   "outputs": [],
   "source": [
    "# baseName = 'M'\n",
    "# l = viewer.layers[baseName + '_seg']; l.save(dOut + l.name + '_curated.tiff')"
   ]
  },
  {
   "cell_type": "markdown",
   "metadata": {},
   "source": [
    "### Reload curated segmentations after saving"
   ]
  },
  {
   "cell_type": "code",
   "execution_count": null,
   "metadata": {},
   "outputs": [],
   "source": [
    "# remove all except mips\n",
    "if len(viewer.layers)>2:\n",
    "    for l in viewer.layers[2:]:\n",
    "        viewer.layers.remove(l)"
   ]
  },
  {
   "cell_type": "code",
   "execution_count": null,
   "metadata": {},
   "outputs": [],
   "source": [
    "# viewer.open(dOut + 'M' + \"_seg_curated_incomplete.tiff\", name='M_seg', plugin='builtins');\n",
    "viewer.open(dOut + 'R' + \"_seg_curated.tiff\", name='R_seg', plugin='builtins');\n",
    "viewer.layers['R_seg'].contour = 5\n",
    "\n",
    "print(fPath)\n",
    "nR = len(np.unique(viewer.layers['R_seg'].data))-1\n",
    "print(\"Image has {0} Rods\".format(nR))\n",
    "# nR = len(np.unique(viewer.layers['L_seg'].data))-1\n",
    "# print(\"Image has {0} L cones\".format(nR))"
   ]
  },
  {
   "cell_type": "code",
   "execution_count": null,
   "metadata": {},
   "outputs": [],
   "source": []
  },
  {
   "cell_type": "code",
   "execution_count": null,
   "metadata": {},
   "outputs": [],
   "source": [
    "# remove all layers\n",
    "if len(viewer.layers)>0:\n",
    "    for l in viewer.layers[0:]:\n",
    "        viewer.layers.remove(l)"
   ]
  },
  {
   "cell_type": "markdown",
   "metadata": {},
   "source": [
    "#### "
   ]
  },
  {
   "cell_type": "code",
   "execution_count": null,
   "metadata": {},
   "outputs": [],
   "source": []
  },
  {
   "cell_type": "markdown",
   "metadata": {},
   "source": [
    "***\n",
    "## To Do: Batch export of png with mips and contours of curated segmentation<a id='thumbnails'>∮</a>\n",
    "***\n",
    "[Back to Index](#Index)"
   ]
  },
  {
   "cell_type": "markdown",
   "metadata": {},
   "source": [
    "This could do the trick:\n",
    "```python\n",
    "def blended_img(viewer):\n",
    "    import napari\n",
    "    import numpy as np\n",
    "    \n",
    "    blended = np.zeros(viewer.layers[0].data.shape + (4,))\n",
    "    for layer in viewer.layers:\n",
    "        # normalize data by clims\n",
    "        normalized_data = (layer.data - layer.contrast_limits[0]) / (\n",
    "        layer.contrast_limits[1] - layer.contrast_limits[0]\n",
    "    )\n",
    "        colormapped_data = layer.colormap.map(normalized_data.flatten())\n",
    "        colormapped_data = colormapped_data.reshape(normalized_data.shape + (4,))\n",
    "\n",
    "        blended = blended + colormapped_data\n",
    "    \n",
    "    blended[..., 3] = 1 # set alpha channel to 1\n",
    "\n",
    "    return blended\n",
    "```"
   ]
  },
  {
   "cell_type": "markdown",
   "metadata": {},
   "source": [
    "***\n",
    "## Quantification<a id='quantification'></a>\n",
    "***\n",
    "[Back to Index](#Index)"
   ]
  },
  {
   "cell_type": "markdown",
   "metadata": {},
   "source": [
    "### Compile counts by looping through all files"
   ]
  },
  {
   "cell_type": "code",
   "execution_count": null,
   "metadata": {},
   "outputs": [],
   "source": [
    "def cellCounter(viewer,dAnalysis,gene,fPath,photoLabel):\n",
    "    import os.path\n",
    "    # clear viewer\n",
    "    for l in viewer.layers:\n",
    "        viewer.layers.remove(l)\n",
    "    viewer.layers.select_all()\n",
    "    viewer.layers.remove_selected()\n",
    "    dOut = dAnalysis + gene + '/' + fPath + '/'\n",
    "    # load segmentation\n",
    "    segPath = dOut + photoLabel + \"_seg_curated.tiff\"\n",
    "    if os.path.isfile(segPath):\n",
    "        viewer.open(segPath, name='Seg', plugin='builtins', blending='additive');\n",
    "        nCells = np.unique(viewer.layers['Seg'].data).shape[0]\n",
    "    else:\n",
    "        nCells = float(\"nan\")\n",
    "    print(fPath + ': nR = ' + str(nCells)) \n",
    "#     np.savez(dOut + 'quantificationGFP.npz',\n",
    "#              lcones=lcones,\n",
    "#              lRFP=lRFP,\n",
    "#              lGFP=lGFP,\n",
    "#              lRFPsd=lRFPsd,\n",
    "#              lGFPsd=lGFPsd,\n",
    "#              lRtile=lRtile,\n",
    "#              lGtile=lGtile)\n",
    "#     results = zip(['lcones','lRFP','lGFP','lRFPsd','lGFPsd','lRtile','lGtile'],\n",
    "#                  [lcones,lRFP,lGFP,lRFPsd,lGFPsd,lRtile,lGtile])\n",
    "    \n",
    "    return nCells"
   ]
  },
  {
   "cell_type": "code",
   "execution_count": null,
   "metadata": {},
   "outputs": [],
   "source": [
    "# because it's simple, just going to create csv manually\n",
    "# analysis directory\n",
    "dAnalysis = \"/Users/angueyraaristjm/Documents/LiImaging/Analysis/CRskor1aF0s/xOGaCT/\"\n",
    "\n",
    "gene = 'wt'\n",
    "wt_fPaths = [\n",
    "    \"20211129_5dpf_xOG_aCtdT_wt_L07_002\",\n",
    "    \"20211129_5dpf_xOG_aCtdT_wt_L07_004\",\n",
    "    \"20211129_5dpf_xOG_aCtdT_wt_L09_002\",\n",
    "    \"20211129_5dpf_xOG_aCtdT_wt_L09_004\",\n",
    "         ]\n",
    "for fPath in wt_fPaths:\n",
    "    cellCounter(viewer,dAnalysis,gene,fPath,'R')\n",
    "    \n",
    "    \n",
    "gene = 'skor1a'\n",
    "skor1a_fPaths = [\n",
    "    \"20211129_5dpf_xOG_aCtdT_skor1aF0_L07_002\",\n",
    "    \"20211129_5dpf_xOG_aCtdT_skor1aF0_L07_004\",\n",
    "    \"20211129_5dpf_xOG_aCtdT_skor1aF0_L08_002\", #from fragment analysis: this is wt\n",
    "    \"20211129_5dpf_xOG_aCtdT_skor1aF0_L08_004\", #from fragment analysis: this is wt\n",
    "    \"20211129_5dpf_xOG_aCtdT_skor1aF0_L09_002\",\n",
    "    \"20211129_5dpf_xOG_aCtdT_skor1aF0_L09_004\",\n",
    "    \"20211129_5dpf_xOG_aCtdT_skor1aF0_L10_002\",\n",
    "    \"20211129_5dpf_xOG_aCtdT_skor1aF0_L11_002\",\n",
    "    \"20211129_5dpf_xOG_aCtdT_skor1aF0_L12_002\",\n",
    "    \"20211129_5dpf_xOG_aCtdT_skor1aF0_L12_004\",\n",
    "    \"20211129_5dpf_xOG_aCtdT_skor1aF0_L13_002\",\n",
    "    \"20211129_5dpf_xOG_aCtdT_skor1aF0_L13_004\",\n",
    "    \"20211129_5dpf_xOG_aCtdT_skor1aF0_L14_002\",\n",
    "    \"20211129_5dpf_xOG_aCtdT_skor1aF0_L15_002\",\n",
    "    \"20211129_5dpf_xOG_aCtdT_skor1aF0_L16_002\",\n",
    "    \"20211129_5dpf_xOG_aCtdT_skor1aF0_L17_002\",\n",
    "    \"20211129_5dpf_xOG_aCtdT_skor1aF0_L17_004\",\n",
    "    \"20211129_5dpf_xOG_aCtdT_skor1aF0_L18_002\",\n",
    "    \"20211129_5dpf_xOG_aCtdT_skor1aF0_L18_004\",\n",
    "         ]\n",
    "for fPath in skor1a_fPaths:\n",
    "    cellCounter(viewer,dAnalysis,gene,fPath,'R')\n",
    "        \n"
   ]
  },
  {
   "cell_type": "code",
   "execution_count": null,
   "metadata": {},
   "outputs": [],
   "source": [
    "# viewer = napari.Viewer()"
   ]
  },
  {
   "cell_type": "code",
   "execution_count": null,
   "metadata": {},
   "outputs": [],
   "source": []
  },
  {
   "cell_type": "code",
   "execution_count": null,
   "metadata": {},
   "outputs": [],
   "source": []
  },
  {
   "cell_type": "code",
   "execution_count": null,
   "metadata": {},
   "outputs": [],
   "source": []
  },
  {
   "cell_type": "code",
   "execution_count": null,
   "metadata": {},
   "outputs": [],
   "source": []
  },
  {
   "cell_type": "code",
   "execution_count": null,
   "metadata": {},
   "outputs": [],
   "source": []
  },
  {
   "cell_type": "code",
   "execution_count": null,
   "metadata": {},
   "outputs": [],
   "source": []
  },
  {
   "cell_type": "code",
   "execution_count": null,
   "metadata": {},
   "outputs": [],
   "source": [
    "# divide images into 1000 bins\n",
    "mH, mB = np.histogram(viewer.layers['M_mip'].data.flatten(), bins = 1000)\n",
    "lH, lB = np.histogram(viewer.layers['L_mip'].data.flatten(), bins = 1000)\n",
    "\n",
    "\n",
    "fH, axH = plt.subplots(figsize=(8,8))\n",
    "axH.stairs(lH,lB, fill=True, color = 'm', alpha = 0.5)\n",
    "axH.stairs(mH,mB, fill=True, color = 'g', alpha = 0.5)"
   ]
  },
  {
   "cell_type": "code",
   "execution_count": null,
   "metadata": {},
   "outputs": [],
   "source": [
    "viewer.close()"
   ]
  },
  {
   "cell_type": "code",
   "execution_count": null,
   "metadata": {},
   "outputs": [],
   "source": [
    "viewer"
   ]
  },
  {
   "cell_type": "code",
   "execution_count": null,
   "metadata": {},
   "outputs": [],
   "source": []
  },
  {
   "cell_type": "code",
   "execution_count": null,
   "metadata": {},
   "outputs": [],
   "source": []
  },
  {
   "cell_type": "code",
   "execution_count": null,
   "metadata": {},
   "outputs": [],
   "source": []
  },
  {
   "cell_type": "markdown",
   "metadata": {},
   "source": [
    "```python\n",
    "# change keybind for default actions:\n",
    "@viewer.bind_key('F1', overwrite=True)\n",
    "def eraserMode(viewer):\n",
    "    viewer.layers.selection.active.mode = 'fill'\n",
    "    viewer.layers.selection.active.mode = 'paint'\n",
    "    viewer.layers.selection.active.mode = 'erase'\n",
    "    viewer.layers.selection.active.mode = 'pick'\n",
    "    viewer.layers.selection.active.mode = 'pan_zoom'\n",
    "\n",
    "# napari native functions for other actions\n",
    "\n",
    "@register_label_action(\n",
    "    trans._(\n",
    "        \"Set the currently selected label to the largest used label plus one.\"\n",
    "    ),\n",
    ")\n",
    "def new_label(layer):\n",
    "    \"\"\"Set the currently selected label to the largest used label plus one.\"\"\"\n",
    "    layer.selected_label = layer.data.max() + 1\n",
    "\n",
    "\n",
    "@register_label_action(\n",
    "    trans._(\"Decrease the currently selected label by one.\"),\n",
    ")\n",
    "def decrease_label_id(layer):\n",
    "    layer.selected_label -= 1\n",
    "\n",
    "\n",
    "@register_label_action(\n",
    "    trans._(\"Increase the currently selected label by one.\"),\n",
    ")\n",
    "def increase_label_id(layer):\n",
    "    layer.selected_label += 1\n",
    "\n",
    "```"
   ]
  },
  {
   "cell_type": "code",
   "execution_count": null,
   "metadata": {},
   "outputs": [],
   "source": []
  },
  {
   "cell_type": "code",
   "execution_count": null,
   "metadata": {},
   "outputs": [],
   "source": []
  },
  {
   "cell_type": "code",
   "execution_count": null,
   "metadata": {},
   "outputs": [],
   "source": [
    "viewer.layers['Seg'].data = dat['masks']"
   ]
  },
  {
   "cell_type": "code",
   "execution_count": null,
   "metadata": {},
   "outputs": [],
   "source": [
    "dat = np.load(\"/Users/angueyraaristjm/Documents/LiImaging/A1R/zf_partial/20201009_CRtbx2a/20201009_i04c_L_seg.npy\", allow_pickle=True).item()\n",
    "import cellpose"
   ]
  },
  {
   "cell_type": "code",
   "execution_count": null,
   "metadata": {},
   "outputs": [],
   "source": [
    "# dat['flows'];\n",
    "t = cellpose.plot.mask_rgb(dat['masks'], colors=None)\n",
    "# imgplot = plt.imshow(dat['flow'])\n",
    "# dat"
   ]
  },
  {
   "cell_type": "code",
   "execution_count": null,
   "metadata": {},
   "outputs": [],
   "source": [
    "imgplot = plt.imshow(t)"
   ]
  },
  {
   "cell_type": "markdown",
   "metadata": {
    "tags": []
   },
   "source": [
    "### Example notebook for cellpose [here](https://nbviewer.org/github/MouseLand/cellpose/blob/master/notebooks/run_cellpose.ipynb)\n",
    "```python\n",
    "# RUN CELLPOSE\n",
    "\n",
    "from cellpose import models, io\n",
    "\n",
    "# DEFINE CELLPOSE MODEL\n",
    "# model_type='cyto' or model_type='nuclei'\n",
    "model = models.Cellpose(gpu=False, model_type='cyto')\n",
    "\n",
    "# define CHANNELS to run segementation on\n",
    "# grayscale=0, R=1, G=2, B=3\n",
    "# channels = [cytoplasm, nucleus]\n",
    "# if NUCLEUS channel does not exist, set the second channel to 0\n",
    "# channels = [0,0]\n",
    "# IF ALL YOUR IMAGES ARE THE SAME TYPE, you can give a list with 2 elements\n",
    "# channels = [0,0] # IF YOU HAVE GRAYSCALE\n",
    "# channels = [2,3] # IF YOU HAVE G=cytoplasm and B=nucleus\n",
    "# channels = [2,1] # IF YOU HAVE G=cytoplasm and R=nucleus\n",
    "\n",
    "# or if you have different types of channels in each image\n",
    "channels = [[2,3], [0,0], [0,0]]\n",
    "\n",
    "# if diameter is set to None, the size of the cells is estimated on a per image basis\n",
    "# you can set the average cell `diameter` in pixels yourself (recommended) \n",
    "# diameter can be a list or a single number for all images\n",
    "\n",
    "# you can run all in a list e.g.\n",
    "# >>> imgs = [io.imread(filename) in for filename in files]\n",
    "# >>> masks, flows, styles, diams = model.eval(imgs, diameter=None, channels=channels)\n",
    "# >>> io.masks_flows_to_seg(imgs, masks, flows, diams, files, channels)\n",
    "# >>> io.save_to_png(imgs, masks, flows, files)\n",
    "\n",
    "# or in a loop\n",
    "for chan, filename in zip(channels, files):\n",
    "    img = io.imread(filename)\n",
    "    masks, flows, styles, diams = model.eval(img, diameter=None, channels=chan)\n",
    "\n",
    "    # save results so you can load in gui\n",
    "    io.masks_flows_to_seg(img, masks, flows, diams, filename, chan)\n",
    "\n",
    "    # save results as png\n",
    "    io.save_to_png(img, masks, flows, filename)\n",
    "```\n",
    "\n",
    "> flows[0] is XY flow in RGB  \n",
    "> flows[1] is the cell probability in range 0-255 instead of 0.0 to 1.0  \n",
    "> flows[2] is Z flow in range 0-255 (if it exists, otherwise zeros)  \n",
    "> flows[3] is [dY, dX, cellprob] (or [dZ, dY, dX, cellprob] for 3D)  \n",
    "> flows[4] is pixel destinations (for internal use)"
   ]
  },
  {
   "cell_type": "code",
   "execution_count": null,
   "metadata": {},
   "outputs": [],
   "source": []
  }
 ],
 "metadata": {
  "kernelspec": {
   "display_name": "Python 3 (ipykernel)",
   "language": "python",
   "name": "python3"
  },
  "language_info": {
   "codemirror_mode": {
    "name": "ipython",
    "version": 3
   },
   "file_extension": ".py",
   "mimetype": "text/x-python",
   "name": "python",
   "nbconvert_exporter": "python",
   "pygments_lexer": "ipython3",
   "version": "3.7.4"
  }
 },
 "nbformat": 4,
 "nbformat_minor": 4
}
