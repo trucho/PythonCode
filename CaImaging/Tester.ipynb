{
 "cells": [
  {
   "cell_type": "code",
   "execution_count": 45,
   "metadata": {},
   "outputs": [
    {
     "data": {
      "text/plain": [
       "['FileHandle',\n",
       " 'TIFF',\n",
       " 'TiffFile',\n",
       " 'TiffFileError',\n",
       " 'TiffFrame',\n",
       " 'TiffPage',\n",
       " 'TiffSequence',\n",
       " 'TiffTag',\n",
       " 'TiffWriter',\n",
       " 'Timer',\n",
       " '__all__',\n",
       " '__builtins__',\n",
       " '__cached__',\n",
       " '__doc__',\n",
       " '__file__',\n",
       " '__loader__',\n",
       " '__name__',\n",
       " '__package__',\n",
       " '__path__',\n",
       " '__spec__',\n",
       " '__version__',\n",
       " '_app_show',\n",
       " 'create_output',\n",
       " 'decode_lzw',\n",
       " 'decodelzw',\n",
       " 'format_size',\n",
       " 'imread',\n",
       " 'imsave',\n",
       " 'imshow',\n",
       " 'imwrite',\n",
       " 'lazyattr',\n",
       " 'lsm2bin',\n",
       " 'main',\n",
       " 'memmap',\n",
       " 'natural_sorted',\n",
       " 'pformat',\n",
       " 'product',\n",
       " 'repeat_nd',\n",
       " 'squeeze_axes',\n",
       " 'str2bytes',\n",
       " 'stripnull',\n",
       " 'tifffile',\n",
       " 'transpose_axes',\n",
       " 'xml2dict']"
      ]
     },
     "execution_count": 45,
     "metadata": {},
     "output_type": "execute_result"
    }
   ],
   "source": [
    "from tifffile import TiffFile, imwrite, xml2dict\n",
    "import tifffile\n",
    "dir(tifffile)"
   ]
  },
  {
   "cell_type": "code",
   "execution_count": 8,
   "metadata": {},
   "outputs": [
    {
     "name": "stdout",
     "output_type": "stream",
     "text": [
      "/Users/angueyraaristjm/Documents/LiImaging/TwoPhoton/ChAT_gCaMP6s_example2\n"
     ]
    }
   ],
   "source": [
    "cd '/Users/angueyraaristjm/Documents/LiImaging/TwoPhoton/ChAT_gCaMP6s_example2/'"
   ]
  },
  {
   "cell_type": "code",
   "execution_count": 19,
   "metadata": {},
   "outputs": [
    {
     "ename": "SyntaxError",
     "evalue": "invalid syntax (<ipython-input-19-6955a5a5dd6e>, line 3)",
     "output_type": "error",
     "traceback": [
      "\u001b[0;36m  File \u001b[0;32m\"<ipython-input-19-6955a5a5dd6e>\"\u001b[0;36m, line \u001b[0;32m3\u001b[0m\n\u001b[0;31m    print tif.pages[0].tags.values()\u001b[0m\n\u001b[0m            ^\u001b[0m\n\u001b[0;31mSyntaxError\u001b[0m\u001b[0;31m:\u001b[0m invalid syntax\n"
     ]
    }
   ],
   "source": [
    "tif = TiffFile('20190520_L03_04Bars_Original'+'.tif')\n",
    "tag = tif.pages[0].tags['XResolution']\n",
    "print tif.pages[0].tags.values()"
   ]
  },
  {
   "cell_type": "code",
   "execution_count": 24,
   "metadata": {},
   "outputs": [
    {
     "data": {
      "text/plain": [
       "dict_keys(['NewSubfileType', 'ImageWidth', 'ImageLength', 'BitsPerSample', 'Compression', 'PhotometricInterpretation', 'ImageDescription', 'StripOffsets', 'Orientation', 'SamplesPerPixel', 'RowsPerStrip', 'StripByteCounts', 'XResolution', 'YResolution', 'PlanarConfiguration', 'ResolutionUnit', 'PageNumber'])"
      ]
     },
     "execution_count": 24,
     "metadata": {},
     "output_type": "execute_result"
    }
   ],
   "source": [
    "(tif.pages[0].tags.keys())"
   ]
  },
  {
   "cell_type": "code",
   "execution_count": 41,
   "metadata": {},
   "outputs": [
    {
     "data": {
      "text/plain": [
       "<RESUNIT.CENTIMETER: 3>"
      ]
     },
     "execution_count": 41,
     "metadata": {},
     "output_type": "execute_result"
    }
   ],
   "source": [
    "tif.pages[0].tags['ResolutionUnit'].value"
   ]
  },
  {
   "cell_type": "code",
   "execution_count": null,
   "metadata": {},
   "outputs": [],
   "source": [
    "imwrite('temp.tif', data, compress=6, metadata={'axes': 'TZCYX'})"
   ]
  }
 ],
 "metadata": {
  "kernelspec": {
   "display_name": "Python 3 (ipykernel)",
   "language": "python",
   "name": "python3"
  },
  "language_info": {
   "codemirror_mode": {
    "name": "ipython",
    "version": 3
   },
   "file_extension": ".py",
   "mimetype": "text/x-python",
   "name": "python",
   "nbconvert_exporter": "python",
   "pygments_lexer": "ipython3",
   "version": "3.9.7"
  }
 },
 "nbformat": 4,
 "nbformat_minor": 4
}
