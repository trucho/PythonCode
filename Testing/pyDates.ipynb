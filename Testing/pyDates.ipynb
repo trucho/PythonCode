{
 "cells": [
  {
   "cell_type": "code",
   "execution_count": 3,
   "metadata": {
    "slideshow": {
     "slide_type": "-"
    }
   },
   "outputs": [
    {
     "name": "stdout",
     "output_type": "stream",
     "text": [
      "-September\n",
      "\t- September 00th - 05th\n",
      "\t\t- Monday 00th\n",
      "\t\t- Tuesday 00th\n",
      "\t\t- Wednesday 01st\n",
      "\t\t- Thursday 02nd\n",
      "\t\t- Friday 03rd\n",
      "\t\t- Saturday 04th\n",
      "\t\t- Sunday 05th\n",
      "\t- September 06th - 12th\n",
      "\t\t- Monday 06th\n",
      "\t\t- Tuesday 07th\n",
      "\t\t- Wednesday 08th\n",
      "\t\t- Thursday 09th\n",
      "\t\t- Friday 10th\n",
      "\t\t- Saturday 11th\n",
      "\t\t- Sunday 12th\n",
      "\t- September 13th - 19th\n",
      "\t\t- Monday 13th\n",
      "\t\t- Tuesday 14th\n",
      "\t\t- Wednesday 15th\n",
      "\t\t- Thursday 16th\n",
      "\t\t- Friday 17th\n",
      "\t\t- Saturday 18th\n",
      "\t\t- Sunday 19th\n",
      "\t- September 20th - 26th\n",
      "\t\t- Monday 20th\n",
      "\t\t- Tuesday 21th\n",
      "\t\t- Wednesday 22th\n",
      "\t\t- Thursday 23th\n",
      "\t\t- Friday 24th\n",
      "\t\t- Saturday 25th\n",
      "\t\t- Sunday 26th\n",
      "\t- September 27th - 00th\n",
      "\t\t- Monday 27th\n",
      "\t\t- Tuesday 28th\n",
      "\t\t- Wednesday 29th\n",
      "\t\t- Thursday 30th\n",
      "\t\t- Friday 00th\n",
      "\t\t- Saturday 00th\n",
      "\t\t- Sunday 00th\n"
     ]
    }
   ],
   "source": [
    "import calendar\n",
    "st_week=['Monday', 'Tuesday', 'Wednesday', 'Thursday', 'Friday', 'Saturday', 'Sunday']\n",
    "st_months=['January','February','March','April','May','June','July','August','September','October','November','December']\n",
    "def dprint(dnumber):\n",
    "    if dnumber==1:\n",
    "        ith = 'st'\n",
    "    elif dnumber==2:\n",
    "        ith = 'nd'\n",
    "    elif dnumber==3:\n",
    "        ith = 'rd'\n",
    "    else:\n",
    "        ith='th'\n",
    "    d='{:02g}'.format(dnumber) + ith\n",
    "    return d\n",
    "\n",
    "monthi=9\n",
    "month=st_months[monthi-1]\n",
    "calmonth=calendar.monthcalendar(2021,monthi)\n",
    "print ('-' + month)\n",
    "for i in range(len(calmonth)):\n",
    "    print ('\\t- '+ month + ' ' + dprint(calmonth[i][0]) + ' - ' + dprint(calmonth[i][6]))\n",
    "    for d in range(len(st_week)):\n",
    "        print ('\\t\\t- ' + st_week[d] + ' ' + dprint(calmonth[i][d]))\n"
   ]
  },
  {
   "cell_type": "code",
   "execution_count": null,
   "metadata": {},
   "outputs": [],
   "source": []
  },
  {
   "cell_type": "code",
   "execution_count": null,
   "metadata": {},
   "outputs": [],
   "source": []
  }
 ],
 "metadata": {
  "celltoolbar": "Slideshow",
  "kernelspec": {
   "display_name": "Python 3",
   "language": "python",
   "name": "python3"
  },
  "language_info": {
   "codemirror_mode": {
    "name": "ipython",
    "version": 3
   },
   "file_extension": ".py",
   "mimetype": "text/x-python",
   "name": "python",
   "nbconvert_exporter": "python",
   "pygments_lexer": "ipython3",
   "version": "3.7.4"
  }
 },
 "nbformat": 4,
 "nbformat_minor": 4
}
