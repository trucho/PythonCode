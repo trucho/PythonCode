{
 "cells": [
  {
   "cell_type": "code",
   "execution_count": 3,
   "metadata": {
    "slideshow": {
     "slide_type": "-"
    }
   },
   "outputs": [
    {
     "name": "stdout",
     "output_type": "stream",
     "text": [
      "-July\n",
      "\t- July 00th - 03rd\n",
      "\t\t- Monday 00th\n",
      "\t\t- Tuesday 00th\n",
      "\t\t- Wednesday 00th\n",
      "\t\t- Thursday 00th\n",
      "\t\t- Friday 01st\n",
      "\t\t- Saturday 02nd\n",
      "\t\t- Sunday 03rd\n",
      "\t- July 04th - 10th\n",
      "\t\t- Monday 04th\n",
      "\t\t- Tuesday 05th\n",
      "\t\t- Wednesday 06th\n",
      "\t\t- Thursday 07th\n",
      "\t\t- Friday 08th\n",
      "\t\t- Saturday 09th\n",
      "\t\t- Sunday 10th\n",
      "\t- July 11th - 17th\n",
      "\t\t- Monday 11th\n",
      "\t\t- Tuesday 12th\n",
      "\t\t- Wednesday 13th\n",
      "\t\t- Thursday 14th\n",
      "\t\t- Friday 15th\n",
      "\t\t- Saturday 16th\n",
      "\t\t- Sunday 17th\n",
      "\t- July 18th - 24th\n",
      "\t\t- Monday 18th\n",
      "\t\t- Tuesday 19th\n",
      "\t\t- Wednesday 20th\n",
      "\t\t- Thursday 21th\n",
      "\t\t- Friday 22th\n",
      "\t\t- Saturday 23th\n",
      "\t\t- Sunday 24th\n",
      "\t- July 25th - 31th\n",
      "\t\t- Monday 25th\n",
      "\t\t- Tuesday 26th\n",
      "\t\t- Wednesday 27th\n",
      "\t\t- Thursday 28th\n",
      "\t\t- Friday 29th\n",
      "\t\t- Saturday 30th\n",
      "\t\t- Sunday 31th\n"
     ]
    }
   ],
   "source": [
    "import calendar\n",
    "st_week=['Monday', 'Tuesday', 'Wednesday', 'Thursday', 'Friday', 'Saturday', 'Sunday']\n",
    "st_months=['January','February','March','April','May','June','July','August','September','October','November','December']\n",
    "def dprint(dnumber):\n",
    "    if dnumber==1:\n",
    "        ith = 'st'\n",
    "    elif dnumber==2:\n",
    "        ith = 'nd'\n",
    "    elif dnumber==3:\n",
    "        ith = 'rd'\n",
    "    else:\n",
    "        ith='th'\n",
    "    d='{:02g}'.format(dnumber) + ith\n",
    "    return d\n",
    "\n",
    "monthi=7\n",
    "month=st_months[monthi-1]\n",
    "calmonth=calendar.monthcalendar(2022,monthi)\n",
    "print ('-' + month)\n",
    "for i in range(len(calmonth)):\n",
    "    print ('\\t- '+ month + ' ' + dprint(calmonth[i][0]) + ' - ' + dprint(calmonth[i][6]))\n",
    "    for d in range(len(st_week)):\n",
    "        print ('\\t\\t- ' + st_week[d] + ' ' + dprint(calmonth[i][d]))\n"
   ]
  },
  {
   "cell_type": "code",
   "execution_count": null,
   "metadata": {},
   "outputs": [],
   "source": []
  },
  {
   "cell_type": "code",
   "execution_count": null,
   "metadata": {},
   "outputs": [],
   "source": []
  }
 ],
 "metadata": {
  "celltoolbar": "Slideshow",
  "kernelspec": {
   "display_name": "Python 3 (ipykernel)",
   "language": "python",
   "name": "python3"
  },
  "language_info": {
   "codemirror_mode": {
    "name": "ipython",
    "version": 3
   },
   "file_extension": ".py",
   "mimetype": "text/x-python",
   "name": "python",
   "nbconvert_exporter": "python",
   "pygments_lexer": "ipython3",
   "version": "3.9.7"
  }
 },
 "nbformat": 4,
 "nbformat_minor": 4
}
