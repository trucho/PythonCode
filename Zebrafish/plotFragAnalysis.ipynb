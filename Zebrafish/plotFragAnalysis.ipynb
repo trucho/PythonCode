{
 "cells": [
  {
   "cell_type": "markdown",
   "metadata": {},
   "source": [
    "# Plots for fragment analysis data exported with fragman in R studio"
   ]
  },
  {
   "cell_type": "code",
   "execution_count": 1,
   "metadata": {},
   "outputs": [],
   "source": [
    "# External libraries\n",
    "import numpy as np\n",
    "import pandas as pd\n",
    "import math\n",
    "import IPython\n",
    "import matplotlib\n",
    "import matplotlib.pyplot as plt\n",
    "import matplotlib.font_manager as font_manager\n",
    "import importlib\n",
    "import svgutils\n",
    "from svgutils.compose import *\n",
    "import os\n",
    "\n",
    "plt.style.use('dark_background')"
   ]
  },
  {
   "cell_type": "code",
   "execution_count": 30,
   "metadata": {},
   "outputs": [
    {
     "name": "stdout",
     "output_type": "stream",
     "text": [
      "defs ready!\n"
     ]
    }
   ],
   "source": [
    "def formatPeaks(figH, axH, plotname):\n",
    "    font_path = '/System/Library/Fonts/Avenir.ttc'\n",
    "    fontTicks = font_manager.FontProperties(fname=font_path, size=6)\n",
    "    fontLabels = font_manager.FontProperties(fname=font_path, size=9)\n",
    "    fontTitle = font_manager.FontProperties(fname=font_path, size=9)\n",
    "    \n",
    "    axH.set_xlabel('size (bp)', fontproperties=fontLabels)\n",
    "    axH.set_ylabel('fluo (au)', fontproperties=fontLabels)\n",
    "\n",
    "    axH.set_title(plotname, fontproperties=fontTitle)\n",
    "    axH.spines['top'].set_visible(False)\n",
    "    axH.spines['right'].set_visible(False)\n",
    "    axH.yaxis.set_label_coords(-.14,.5)\n",
    "    for label in (axH.get_xticklabels() + axH.get_yticklabels()):\n",
    "        label.set_fontproperties(fontTicks)\n",
    "    \n",
    "def plotABIcsv(dirPath, fileName, gene):\n",
    "    fH, axH = plt.subplots(figsize=[4,2])\n",
    "    fH.subplots_adjust(left=0.16, bottom=0.2, wspace=0.1)\n",
    "\n",
    "    lim1, lim2 = getLims(gene)\n",
    "    ilim1 = np.searchsorted(gdf['size'],lim1)\n",
    "    ilim2 = np.searchsorted(gdf['size'],lim2)\n",
    "    pH = axH.plot(gdf['size'][ilim1:ilim2],gdf['fluo'][ilim1:ilim2], color='#4669F2', zorder = 1)\n",
    "    formatPeaks(fH, axH,fileName)\n",
    "    return fH, axH\n",
    "    \n",
    "def formatPeaks_withladder(figH, axH1, axH2, plotname):\n",
    "    font_path = '/System/Library/Fonts/Avenir.ttc'\n",
    "    fontTicks = font_manager.FontProperties(fname=font_path, size=14)\n",
    "    fontLabels = font_manager.FontProperties(fname=font_path, size=18)\n",
    "    fontTitle = font_manager.FontProperties(fname=font_path, size=18)\n",
    "    \n",
    "    axH2.set_xlabel('size (bp)', fontproperties=fontLabels)\n",
    "    axH1.set_ylabel('fluo (au)', fontproperties=fontLabels)\n",
    "    axH2.set_ylabel('fluo (au)', fontproperties=fontLabels)\n",
    "\n",
    "    axH1.set_title(plotname, fontproperties=fontTitle)\n",
    "    axH1.get_xaxis().set_visible(False)\n",
    "    axH1.spines['bottom'].set_visible(False)\n",
    "    axH1.spines['top'].set_visible(False)\n",
    "    axH1.spines['right'].set_visible(False)\n",
    "    axH2.spines['top'].set_visible(False)\n",
    "    axH2.spines['right'].set_visible(False)\n",
    "\n",
    "    for label in (axH1.get_xticklabels() + axH1.get_yticklabels()+ axH2.get_xticklabels() + axH2.get_yticklabels()):\n",
    "        label.set_fontproperties(fontTicks)\n",
    "    \n",
    "    figH.align_ylabels()\n",
    "\n",
    "def plotABIcsv_withladder(dirPath, fileName, gene):\n",
    "    fH = plt.figure(constrained_layout=True, figsize=[8,4])\n",
    "    gs = fH.add_gridspec(12, 1)\n",
    "    ax1 = fH.add_subplot(gs[0:3, 0])\n",
    "    ax2 = fH.add_subplot(gs[4:, 0], sharex = ax1)\n",
    "    \n",
    "    lim1, lim2 = getLims(gene)\n",
    "    ilim1 = np.searchsorted(gdf['size'],lim1)\n",
    "    ilim2 = np.searchsorted(gdf['size'],lim2)\n",
    "    pH = ax1.plot(gdf['size'][ilim1:ilim2],gdf['ladder'][ilim1:ilim2], color='#CC2C2A', zorder = 1)\n",
    "    pH = ax2.plot(gdf['size'][ilim1:ilim2],gdf['fluo'][ilim1:ilim2], color='#4669F2', zorder = 1)\n",
    "    formatPeaks(fH, ax1,ax2,fileName)\n",
    "    return fH, [ax1,ax2]\n",
    "\n",
    "def getLims(gene):\n",
    "    if gene == 'eml1': lim1 = 150; lim2 = 300;\n",
    "    elif gene == 'sema7a': lim1 = 250; lim2 = 450;\n",
    "    elif gene == 'gnat2': lim1 = 200; lim2 = 350;\n",
    "    elif gene == 'syt5a': lim1 = 400; lim2 = 550;\n",
    "    elif gene == 'efna1b': lim1 = 400; lim2 = 550;\n",
    "    elif gene == 'tbx2a': lim1 = 350; lim2 = 650;\n",
    "#     elif gene == 'tbx2a': lim1 = 450; lim2 = 600;\n",
    "#     elif gene == 'tbx2b': lim1 = 250; lim2 = 400;\n",
    "    elif gene == 'tbx2b': lim1 = 280; lim2 = 380;\n",
    "#     elif gene == 'ntng2b': lim1 = 100; lim2 = 300;\n",
    "    elif gene == 'foxq2': lim1 = 350; lim2 = 400;\n",
    "    elif gene == 'ntng2b': lim1 = 200; lim2 = 300;\n",
    "    elif gene == 'syt5b': lim1 = 250; lim2 = 400;\n",
    "    elif gene == 'nr2f1b': lim1 = 300; lim2 = 500;\n",
    "    elif gene == 'xbp1': lim1 = 100; lim2 = 350;\n",
    "    elif gene == 'skor1a': lim1 = 250; lim2 = 400;\n",
    "    elif gene == 'empty': lim1 = 100; lim2 = 600;\n",
    "    else: lim1 = 100; lim2 = 600;\n",
    "    return lim1, lim2\n",
    "\n",
    "\n",
    "def plotABIfig(dirPath, fileName, gene):\n",
    "    fH, axH = plt.subplots(figsize=[11,8])\n",
    "    fH.subplots_adjust(left=0.16, bottom=0.2, wspace=0.1)\n",
    "\n",
    "    lim1, lim2 = getLims(gene)\n",
    "    ilim1 = np.searchsorted(gdf['size'],lim1)\n",
    "    ilim2 = np.searchsorted(gdf['size'],lim2)\n",
    "    pH = axH.plot(gdf['size'][ilim1:ilim2],gdf['fluo'][ilim1:ilim2]/100, color='#4669F2', zorder = 1, linewidth=4)\n",
    "#     formatPeaksFig(fH, axH,filename)\n",
    "    formatPeaksFig(fH, axH,'')\n",
    "    return fH, axH\n",
    "\n",
    "def formatPeaksFig(figH, axH, plotname):\n",
    "    font_path = '/System/Library/Fonts/Avenir.ttc'\n",
    "    fontTicks = font_manager.FontProperties(fname=font_path, size=50)\n",
    "    fontLabels = font_manager.FontProperties(fname=font_path, size=50)\n",
    "    fontTitle = font_manager.FontProperties(fname=font_path, size=24)\n",
    "    \n",
    "    axH.set_xlabel('size (bp)', fontproperties=fontLabels)\n",
    "    axH.set_ylabel('x 10$^2$ fluo (au)', fontproperties=fontLabels)\n",
    "    \n",
    "    plt.locator_params(axis='x', nbins=6)\n",
    "    plt.locator_params(axis='y', nbins=2)\n",
    "    axH.set_title(plotname, fontproperties=fontTitle)\n",
    "    axH.spines['top'].set_visible(False)\n",
    "    axH.spines['right'].set_visible(False)\n",
    "    axH.spines['bottom'].set_linewidth(4)\n",
    "    axH.spines['left'].set_linewidth(4)\n",
    "    axH.yaxis.set_label_coords(-.12,.48)\n",
    "    axH.xaxis.set_tick_params(width=3, length=10)\n",
    "    axH.yaxis.set_tick_params(width=3, length=10)\n",
    "    for label in (axH.get_xticklabels() + axH.get_yticklabels()):\n",
    "        label.set_fontproperties(fontTicks)\n",
    "\n",
    "print('defs ready!')"
   ]
  },
  {
   "cell_type": "code",
   "execution_count": 5,
   "metadata": {},
   "outputs": [
    {
     "name": "stdout",
     "output_type": "stream",
     "text": [
      "/Users/angueyraaristjm/Documents/LiMolec/zfGenotyping/20210827_testingPrimers/tbx2bF2s\n"
     ]
    }
   ],
   "source": [
    "dPath = \"/Users/angueyraaristjm/Documents/LiMolec/zfGenotyping/20210827_testingPrimers/tbx2bF2s/\" #directory path\n",
    "%cd $dPath\n",
    "gene = 'tbx2b'"
   ]
  },
  {
   "cell_type": "code",
   "execution_count": 6,
   "metadata": {},
   "outputs": [
    {
     "name": "stdout",
     "output_type": "stream",
     "text": [
      "tbx2bF2_i01_A08.csv tbx2bF2_i04_D08.csv tbx2bF2_i07_G08.csv tbx2bF2_i10_B09.csv\n",
      "\u001b[31mtbx2bF2_i01_A08.fsa\u001b[m\u001b[m \u001b[31mtbx2bF2_i04_D08.fsa\u001b[m\u001b[m \u001b[31mtbx2bF2_i07_G08.fsa\u001b[m\u001b[m \u001b[31mtbx2bF2_i10_B09.fsa\u001b[m\u001b[m\n",
      "tbx2bF2_i01_A08.svg tbx2bF2_i04_D08.svg tbx2bF2_i07_G08.svg tbx2bF2_i10_B09.svg\n",
      "tbx2bF2_i02_B08.csv tbx2bF2_i05_E08.csv tbx2bF2_i08_H08.csv tbx2bF2_i11_C09.csv\n",
      "\u001b[31mtbx2bF2_i02_B08.fsa\u001b[m\u001b[m \u001b[31mtbx2bF2_i05_E08.fsa\u001b[m\u001b[m \u001b[31mtbx2bF2_i08_H08.fsa\u001b[m\u001b[m \u001b[31mtbx2bF2_i11_C09.fsa\u001b[m\u001b[m\n",
      "tbx2bF2_i02_B08.svg tbx2bF2_i05_E08.svg tbx2bF2_i08_H08.svg tbx2bF2_i11_C09.svg\n",
      "tbx2bF2_i03_C08.csv tbx2bF2_i06_F08.csv tbx2bF2_i09_A09.csv tbx2bF2_i12_D09.csv\n",
      "\u001b[31mtbx2bF2_i03_C08.fsa\u001b[m\u001b[m \u001b[31mtbx2bF2_i06_F08.fsa\u001b[m\u001b[m \u001b[31mtbx2bF2_i09_A09.fsa\u001b[m\u001b[m \u001b[31mtbx2bF2_i12_D09.fsa\u001b[m\u001b[m\n",
      "tbx2bF2_i03_C08.svg tbx2bF2_i06_F08.svg tbx2bF2_i09_A09.svg tbx2bF2_i12_D09.svg\n"
     ]
    }
   ],
   "source": [
    "!ls"
   ]
  },
  {
   "cell_type": "code",
   "execution_count": 31,
   "metadata": {},
   "outputs": [
    {
     "data": {
      "image/png": "[encoded data removed]",
      "text/plain": [
       "<Figure size 792x576 with 1 Axes>"
      ]
     },
     "metadata": {},
     "output_type": "display_data"
    }
   ],
   "source": [
    "# fPath = \"sema7a.wt01_H06\" #file path\n",
    "# fPath = \"sema7a.05_E06\" #file path\n",
    "# fPath = \"sema7a.06_F06\" #file path\n",
    "\n",
    "fPath = \"tbx2bF2_i01_A08\" #file path\n",
    "gdf = pd.read_csv(dPath + fPath + '.csv')\n",
    "fH, axH= plotABIfig(dPath, fPath, gene) # For panel in paper figure\n",
    "# fH, axH= plotABIcsv(dPath, fPath, gene) # miniplot for markdown summary file\n",
    "# fH.savefig(\"./{0}.svg\".format(fPath[:-4]), transparent=True, format=\"svg\")\n",
    "# fH.savefig(\"/Users/angueyraaristjm/Documents/LiImaging/zfExports/20201113_CRtbx2b/fragmentAnalysis/{0}.svg\".format(fPath), transparent=False, format=\"svg\")\n",
    "# fH, [ax1, ax2] = plotABIcsv_withladder(dPath, fPath[:-8], gene)"
   ]
  },
  {
   "cell_type": "code",
   "execution_count": 33,
   "metadata": {},
   "outputs": [
    {
     "data": {
      "text/plain": [
       "3095    400.319381\n",
       "Name: size, dtype: float64"
      ]
     },
     "execution_count": 33,
     "metadata": {},
     "output_type": "execute_result"
    }
   ],
   "source": [
    "gdf\n",
    "fMax = np.max(gdf['fluo'][(gdf['size']>400)&(gdf['size']<450)])\n",
    "gdf['size'][gdf['fluo']==fMax]"
   ]
  },
  {
   "cell_type": "markdown",
   "metadata": {},
   "source": [
    "#### Loop through folder and save all plots"
   ]
  },
  {
   "cell_type": "code",
   "execution_count": null,
   "metadata": {},
   "outputs": [],
   "source": [
    "dPath = \"/Users/angueyraaristjm/Documents/LiMolec/zfGenotyping/20210827_testingPrimers/tbx2bF2s/\" #directory path\n",
    "%cd $dPath\n",
    "gene = 'tbx2b'\n",
    "\n",
    "fcsvs = !ls *.csv;\n",
    "for file in fcsvs:\n",
    "    fPath = file[:-4] #file path\n",
    "    gdf = pd.read_csv(dPath + fPath + '.csv')\n",
    "    fH, axH= plotABIcsv(dPath, fPath, gene)\n",
    "    fH.savefig(\"./{0}.svg\".format(fPath), transparent=False, format=\"svg\")\n",
    "    #     fH.savefig(\"./{0}.svg\".format(fPath[:-4]), transparent=True, format=\"svg\")"
   ]
  },
  {
   "cell_type": "code",
   "execution_count": null,
   "metadata": {},
   "outputs": [],
   "source": []
  },
  {
   "cell_type": "code",
   "execution_count": null,
   "metadata": {},
   "outputs": [],
   "source": [
    "#pyplot version (Sep_2019)\n",
    "plotname = ''\n",
    "fH, ax = plt.subplots()\n",
    "pH1 = plt.plot(gdf['size'],gdf['fluo'])\n",
    "pH2 = plt.plot(gdf['size'],gdf['ladder'])\n",
    "plt.xlim(150,300)\n",
    "# plt.ylim(0,1000)\n",
    "plt.tight_layout()"
   ]
  },
  {
   "cell_type": "code",
   "execution_count": null,
   "metadata": {},
   "outputs": [],
   "source": [
    "# # Sparkline plots\n",
    "# genename = 'syt5b'\n",
    "# n,h = plotBars(genename)\n",
    "# fH, ax = plt.subplots(figsize=[2.25,.25])\n",
    "# ax.axhline(y = np.mean(h), color = 'white', linewidth = .2, alpha = 1, solid_capstyle='butt', zorder = 0)\n",
    "# pH = ax.bar(n, h, width=.8, bottom=None, align='center', data=None, color=pC['plt'], zorder = 1)\n",
    "# ax.text(.90, 1, genename,horizontalalignment='left',verticalalignment='top',transform=ax.transAxes, fontsize=7, zorder = 0)\n",
    "# ax.text(.97, 0.2, (np.around(np.mean(h),decimals=0)),horizontalalignment='left',verticalalignment='top',transform=ax.transAxes, fontsize=6, zorder = 0)\n",
    "# ax.set_axis_off()\n",
    "# plt.savefig(\"./resources/{0}.svg\".format(genename), transparent=True, format=\"svg\")"
   ]
  }
 ],
 "metadata": {
  "kernelspec": {
   "display_name": "Python 3",
   "language": "python",
   "name": "python3"
  },
  "language_info": {
   "codemirror_mode": {
    "name": "ipython",
    "version": 3
   },
   "file_extension": ".py",
   "mimetype": "text/x-python",
   "name": "python",
   "nbconvert_exporter": "python",
   "pygments_lexer": "ipython3",
   "version": "3.7.4"
  }
 },
 "nbformat": 4,
 "nbformat_minor": 4
}
