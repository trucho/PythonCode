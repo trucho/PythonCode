{
 "cells": [
  {
   "cell_type": "code",
   "execution_count": 9,
   "id": "b4657507-07cb-42f5-94c9-6f17b8e6162a",
   "metadata": {},
   "outputs": [
    {
     "data": {
      "text/plain": [
       "'hello world2'"
      ]
     },
     "execution_count": 9,
     "metadata": {},
     "output_type": "execute_result"
    }
   ],
   "source": [
    "a = 2\n",
    "b = 4\n",
    "\n",
    "c = 'hello '\n",
    "d = 'world'\n",
    "c + d + str(a)"
   ]
  },
  {
   "cell_type": "code",
   "execution_count": null,
   "id": "4f2e700a-fae1-4d6b-b38a-018460a49c69",
   "metadata": {},
   "outputs": [],
   "source": []
  },
  {
   "cell_type": "code",
   "execution_count": null,
   "id": "b361c6b4-d5f6-4abd-a2a5-7cef9be28a94",
   "metadata": {},
   "outputs": [],
   "source": []
  },
  {
   "cell_type": "code",
   "execution_count": null,
   "id": "30213834-0a8c-4c21-b109-a432ab1cfa3f",
   "metadata": {},
   "outputs": [],
   "source": []
  },
  {
   "cell_type": "code",
   "execution_count": null,
   "id": "1efaea8e-f48a-4493-87a6-410b62fa123a",
   "metadata": {},
   "outputs": [],
   "source": []
  },
  {
   "cell_type": "code",
   "execution_count": null,
   "id": "ec93cc9b-77ef-49b4-9536-d06094b633c1",
   "metadata": {},
   "outputs": [],
   "source": []
  },
  {
   "cell_type": "code",
   "execution_count": null,
   "id": "cc25242d-7e98-4e61-b2b5-be3776c274a1",
   "metadata": {},
   "outputs": [],
   "source": []
  },
  {
   "cell_type": "code",
   "execution_count": null,
   "id": "183e2dba-409d-4d93-a25a-ac4d6f28c01f",
   "metadata": {},
   "outputs": [],
   "source": []
  },
  {
   "cell_type": "code",
   "execution_count": null,
   "id": "b2affd9e-8cd4-4fe8-917f-81191c01f123",
   "metadata": {},
   "outputs": [],
   "source": []
  }
 ],
 "metadata": {
  "kernelspec": {
   "display_name": "Python 3 (ipykernel)",
   "language": "python",
   "name": "python3"
  },
  "language_info": {
   "codemirror_mode": {
    "name": "ipython",
    "version": 3
   },
   "file_extension": ".py",
   "mimetype": "text/x-python",
   "name": "python",
   "nbconvert_exporter": "python",
   "pygments_lexer": "ipython3",
   "version": "3.9.7"
  }
 },
 "nbformat": 4,
 "nbformat_minor": 5
}
